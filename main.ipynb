{
 "cells": [
  {
   "cell_type": "markdown",
   "id": "fcdcb3d0-62af-41df-9fad-fcb84f5af016",
   "metadata": {},
   "source": [
    "# Drone Trajectory Planner\n",
    "\n",
    "In this project, we will develop the drone trajectory planner. This notebook serves as the main file for the project, where we will refer to the instructions and demonstrate our code.\n",
    "\n",
    "Please follow week by week instructions, which includes writing the code in the `src/` folder."
   ]
  },
  {
   "cell_type": "code",
   "execution_count": 16,
   "id": "83a63ad4-c249-484a-99e2-d9724aa5d41e",
   "metadata": {},
   "outputs": [
    {
     "name": "stdout",
     "output_type": "stream",
     "text": [
      "The autoreload extension is already loaded. To reload it, use:\n",
      "  %reload_ext autoreload\n"
     ]
    }
   ],
   "source": [
    "# Import all the files and libraries required for the project\n",
    "%load_ext autoreload\n",
    "%autoreload 2\n",
    "import copy\n",
    "    \n",
    "import numpy as np\n",
    "\n",
    "from src.camera_utils import compute_image_footprint_on_surface, compute_ground_sampling_distance, project_world_point_to_image,reproject_image_point_to_world\n",
    "from src.data_model import Camera, DatasetSpec\n",
    "from src.plan_computation import compute_distance_between_images, compute_speed_during_photo_capture, generate_photo_plan_on_grid, compute_distance_between_images_with_angle\n",
    "from src.visualization import plot_photo_plan"
   ]
  },
  {
   "cell_type": "markdown",
   "id": "44eb7f16-9094-4bc8-8ce7-065991ea0b78",
   "metadata": {},
   "source": [
    "# Week 1: Introduction\n",
    "\n",
    "No code contribution expected this week"
   ]
  },
  {
   "cell_type": "markdown",
   "id": "0c08643e-1e37-4614-bc8f-b5636127b345",
   "metadata": {},
   "source": [
    "# Week 2: Camera System Modeling and Operations\n",
    "\n",
    "We plan to\n",
    "- Model the simple pinhole camera system\n",
    "- Write utility functions to\n",
    "    - project a 3D world point to an image\n",
    "    - Compute image footprint on a surface\n",
    "    - Compute the Ground Sampling Distance"
   ]
  },
  {
   "cell_type": "markdown",
   "id": "c65c8b8f-6f33-4cd4-8c3a-74acbdbd2c7d",
   "metadata": {},
   "source": [
    "## Model the camera parameters\n",
    "\n",
    "We want to model the following camera parameters in Python:\n",
    "- focal length along x axis (in pixels)\n",
    "- focal length along y axis (in pixels)\n",
    "- optical center of the image along the x axis (in pixels)\n",
    "- optical center of the image along the y axis (in pixels)\n",
    "- Size of the sensor along the x axis (in mm)\n",
    "- Size of the sensor along the y axis (in mm)\n",
    "- Number of pixels in the image along the x axis\n",
    "- Number of pixels in the image along the y axis\n",
    "\n",
    "I recommend to use `dataclasses` ([Python documentation](https://docs.python.org/3/library/dataclasses.html), [Blog](https://www.dataquest.io/blog/how-to-use-python-data-classes/) to model these parameters.\n",
    "\n",
    "$\\color{red}{\\text{TODO: }}$ Implement `Camera` in `src/data_model.py`"
   ]
  },
  {
   "cell_type": "code",
   "execution_count": 17,
   "id": "51f75a3f-b1b1-4087-b9ea-6d5b245ab0fc",
   "metadata": {},
   "outputs": [],
   "source": [
    "# Define the parameters for Skydio VT300L - Wide camera\n",
    "# Ref: https://support.skydio.com/hc/en-us/articles/20866347470491-Skydio-X10-camera-and-metadata-overview\n",
    "fx = 4938.56\n",
    "fy = 4936.49\n",
    "cx = 4095.5\n",
    "cy = 3071.5\n",
    "sensor_size_x_mm = 13.107 # single pixel size * number of pixels in X dimension\n",
    "sensor_size_y_mm = 9.830 # single pixel size * number of pixels in Y dimension\n",
    "image_size_x = 8192\n",
    "image_size_y = 6144\n",
    "\n",
    "camera_x10 = Camera(fx, fy, cx, cy, sensor_size_x_mm, sensor_size_y_mm, image_size_x, image_size_y)"
   ]
  },
  {
   "cell_type": "code",
   "execution_count": 18,
   "id": "d0c3834b-6ae4-49b2-8a4f-9a50a08c2cb7",
   "metadata": {},
   "outputs": [
    {
     "name": "stdout",
     "output_type": "stream",
     "text": [
      "X10 camera model: Camera(fx=4938.56, fy=4936.49, cx=4095.5, cy=3071.5, sensor_size_x_mm=13.107, sensor_size_y_mm=9.83, image_size_x=8192, image_size_y=6144)\n"
     ]
    }
   ],
   "source": [
    "print(f\"X10 camera model: {camera_x10}\")"
   ]
  },
  {
   "cell_type": "markdown",
   "id": "1f1db4d3-824e-49b9-af3a-dbeb3323625a",
   "metadata": {},
   "source": [
    "## Project 3D world points into the image\n",
    "\n",
    "\n",
    "![Camera Projection](assets/image_projection.png)\n",
    "Reference: [Robert Collins CSE483](https://www.cse.psu.edu/~rtc12/CSE486/lecture12.pdf)\n",
    "\n",
    "\n",
    "Equations to implement:\n",
    "$$ x = f_x \\frac{X}{Z} $$\n",
    "$$ y = f_y \\frac{Y}{Z} $$\n",
    "$$ u = x + c_x $$\n",
    "$$ v = y + c_y $$\n",
    "\n",
    "$\\color{red}{\\text{TODO: }}$ Implement function `project_world_point_to_image` in `src/camera_utils.py`"
   ]
  },
  {
   "cell_type": "code",
   "execution_count": 19,
   "id": "4a3bd4c0-188b-4f95-98c9-95bb351e2d59",
   "metadata": {},
   "outputs": [
    {
     "name": "stdout",
     "output_type": "stream",
     "text": [
      "[ 25. -30.  50.] projected to [6564.78     109.60588]\n"
     ]
    }
   ],
   "source": [
    "point_3d = np.array([25, -30, 50], dtype=np.float32)\n",
    "expected_uv = np.array([6564.80, 109.60], dtype=np.float32)\n",
    "uv = project_world_point_to_image(camera_x10, point_3d)\n",
    "\n",
    "print(f\"{point_3d} projected to {uv}\")\n",
    "\n",
    "assert np.allclose(uv, expected_uv, atol=1e-2)"
   ]
  },
  {
   "cell_type": "markdown",
   "id": "cf58acce-ca40-492d-9281-791c05c92776",
   "metadata": {},
   "source": [
    "## Compute Image Footprint on the surface\n",
    "\n",
    "We have written code to *project* a 3D point into the image. The reverse operation is reprojection, where we take $(x, y)$ and compute the $(X, Y)$ for a given value of $Z$. Note that while going from 3D to 2D, the depth becomes ambiguous so we need the to specify the $Z$.\n",
    "\n",
    "An image's footprint is the area on the surface which is captured by the image. We can take the two corners of the image and reproject them at a given distance to obtain the width and length of the image.\n",
    "\n",
    "$\\color{red}{\\text{TODO: }}$ Implement function `compute_image_footprint_on_surface` in `src/camera_utils.py`"
   ]
  },
  {
   "cell_type": "code",
   "execution_count": 20,
   "id": "9d3e87ae-2123-4362-bf6e-279e6afb360c",
   "metadata": {},
   "outputs": [
    {
     "name": "stdout",
     "output_type": "stream",
     "text": [
      "Footprint at 100m = [165.87831 124.4609 ]\n"
     ]
    }
   ],
   "source": [
    "footprint_at_100m = compute_image_footprint_on_surface(camera_x10, 100)\n",
    "expected_footprint_at_100m = np.array([165.88, 124.46], dtype=np.float32)\n",
    "\n",
    "print(f\"Footprint at 100m = {footprint_at_100m}\")\n",
    "\n",
    "assert np.allclose(footprint_at_100m, expected_footprint_at_100m, atol=1e-2)\n"
   ]
  },
  {
   "cell_type": "code",
   "execution_count": 21,
   "id": "bf7af93f-e95b-40e2-b607-39020015381b",
   "metadata": {},
   "outputs": [
    {
     "name": "stdout",
     "output_type": "stream",
     "text": [
      "Footprint at 200m = [331.75662 248.9218 ]\n"
     ]
    }
   ],
   "source": [
    "footprint_at_200m = compute_image_footprint_on_surface(camera_x10, 200)\n",
    "expected_footprint_at_200m = expected_footprint_at_100m * 2\n",
    "\n",
    "print(f\"Footprint at 200m = {footprint_at_200m}\")\n",
    "\n",
    "assert np.allclose(footprint_at_200m, expected_footprint_at_200m, atol=1e-2)"
   ]
  },
  {
   "cell_type": "markdown",
   "id": "84486ad6-a4c5-4e5a-ba40-ad125ced7d3d",
   "metadata": {},
   "source": [
    "## Ground Sampling Distance\n",
    "\n",
    "Ground sampling distance is the length of the ground (in m) captured by a single pixel. We have the image footpring (the dimensions of ground captured by the whole sensor, and the number of pixels along the horizontal and vertical dimension. Can we get GSD from these two quantities?"
   ]
  },
  {
   "cell_type": "code",
   "execution_count": 22,
   "id": "f21aa3d1-08be-4bce-8554-ec834ad000bf",
   "metadata": {},
   "outputs": [
    {
     "name": "stdout",
     "output_type": "stream",
     "text": [
      "GSD at 100m: 0.02025306255867084\n"
     ]
    }
   ],
   "source": [
    "gsd_at_100m = compute_ground_sampling_distance(camera_x10, 100)\n",
    "expected_gsd_at_100m = 0.0202\n",
    "\n",
    "print(f\"GSD at 100m: {gsd_at_100m}\")\n",
    "\n",
    "assert np.allclose(gsd_at_100m, expected_gsd_at_100m, atol=1e-4)"
   ]
  },
  {
   "cell_type": "markdown",
   "id": "47477599-e78b-46d4-9cac-725bcbb5e6eb",
   "metadata": {},
   "source": [
    "## Bonus: Reprojection from 2D to 3D\n",
    "\n",
    "If we have a 2d pixel location of a point along with the camera model, can we go back to 3D?\n",
    "Do we need any additional information.\n",
    "\n",
    "\n",
    "$\\color{red}{\\text{TODO: }}$ Implement function `reproject_image_point_to_world` in `src/camera_utils.py` and demonstrate it by running it in the notebook. Confirm that your reprojection + projection function are consistent."
   ]
  },
  {
   "cell_type": "code",
   "execution_count": 23,
   "id": "a5e99e17",
   "metadata": {},
   "outputs": [
    {
     "name": "stdout",
     "output_type": "stream",
     "text": [
      "Projected 2D point: [6564.78     109.60588]\n",
      "Reprojected 3D point: [ 24.999998 -30.000002  50.      ]\n",
      "Reprojection is consistent: True\n"
     ]
    }
   ],
   "source": [
    "point_3d = np.array([25, -30, 50], dtype=np.float32)\n",
    "projected_point_2d = project_world_point_to_image(camera_x10, point_3d)\n",
    "print(\"Projected 2D point:\", projected_point_2d)\n",
    "\n",
    "# Reproject the 2D point back to 3D\n",
    "reprojected_point_3d = reproject_image_point_to_world(camera_x10,projected_point_2d, 50.0)\n",
    "print(\"Reprojected 3D point:\", reprojected_point_3d)\n",
    "\n",
    "# Check consistency\n",
    "is_consistent = np.allclose(point_3d, reprojected_point_3d, atol=1e-5)\n",
    "print(\"Reprojection is consistent:\", is_consistent)\n"
   ]
  },
  {
   "cell_type": "markdown",
   "id": "59349449-f7ed-4e2f-aa80-17a2fabf51f1",
   "metadata": {},
   "source": [
    "# Week 3: Model the user requirements\n",
    "\n",
    "For this week, we will model the dataset specifications.\n",
    "\n",
    "- Overlap: the ratio (in 0 to 1) of scene shared between two consecutive images.\n",
    "- Sidelap: the ratio (in 0 to 1) of scene shared between two images in adjacent rows.\n",
    "- Height: the height of the scan above the ground (in meters).\n",
    "- Scan_dimension_x: the horizontal size of the rectangle to be scanned\n",
    "- Scan_dimension_y: the vertical size of the rectangle to be scanned\n",
    "- exposure_time_ms: the exposure time for each image (in milliseconds).\n",
    "\n",
    "\n",
    "$\\color{red}{\\text{TODO: }}$ Implement `DatasetSpec` in `src/data_model.py`\n"
   ]
  },
  {
   "cell_type": "code",
   "execution_count": 24,
   "id": "38206e65-458d-4d0d-b3fc-7e45039c0b64",
   "metadata": {},
   "outputs": [
    {
     "name": "stdout",
     "output_type": "stream",
     "text": [
      "Nominal specs: DatasetSpec(overlap=0.7, sidelap=0.7, height=30.48, scan_dimension_x=150,scan_dimension_y=150,exposure_time_ms=2,camera_angle=0 \n"
     ]
    }
   ],
   "source": [
    "# Model the nomimal dataset spec\n",
    "\n",
    "overlap = 0.7\n",
    "sidelap = 0.7\n",
    "height = 30.48 # 100 ft\n",
    "scan_dimension_x = 150\n",
    "scan_dimension_y = 150\n",
    "exposure_time_ms = 2 # 1/500 exposure time\n",
    "camera_angle=0 #adding as given in week 4 bonus question\n",
    "\n",
    "dataset_spec = DatasetSpec(overlap, sidelap, height, scan_dimension_x, scan_dimension_y, exposure_time_ms,camera_angle)\n",
    "\n",
    "print(f\"Nominal specs: {dataset_spec}\")"
   ]
  },
  {
   "cell_type": "markdown",
   "id": "135a5201-bcbc-4e57-9201-31d3dbb50005",
   "metadata": {},
   "source": [
    "# Week 4: Compute Distance Between Photos\n",
    "\n",
    "The overlap and sidelap are the ratio of the dimensions shared between two photos. We already know the footprint of a single image at a given distance. Can we convert the ratio into actual distances? And how does the distance on the surface relate to distance travelled by the camera?\n",
    "\n",
    "$\\color{red}{\\text{TODO: }}$ Implement `compute_distance_between_images` in `src/plan_computation.py`\n",
    "\n"
   ]
  },
  {
   "cell_type": "code",
   "execution_count": 25,
   "id": "70b32a91-2577-46ec-bb07-9a0a5fd01243",
   "metadata": {},
   "outputs": [
    {
     "name": "stdout",
     "output_type": "stream",
     "text": [
      "Computed distance for X10 camera with nominal dataset specs: (15.16791343688965, 11.38070526123047)\n"
     ]
    }
   ],
   "source": [
    "computed_distances = compute_distance_between_images(camera_x10, dataset_spec)\n",
    "expected_distances = np.array([15.17, 11.38], dtype=np.float32)\n",
    "\n",
    "print(f\"Computed distance for X10 camera with nominal dataset specs: {computed_distances}\")\n",
    "\n",
    "assert np.allclose(computed_distances, expected_distances, atol=1e-2)"
   ]
  },
  {
   "cell_type": "markdown",
   "id": "5474e7ac-28bb-4ab3-ad8d-cb5398d5696b",
   "metadata": {},
   "source": [
    "$\\color{red}{\\text{TODO: }}$ define more specifications/camera parameters and check the computed distances. Does that align with your expections\n"
   ]
  },
  {
   "cell_type": "code",
   "execution_count": 26,
   "id": "f7f9334a-6ee1-4aa4-8770-d0f48b36f18b",
   "metadata": {},
   "outputs": [
    {
     "name": "stdout",
     "output_type": "stream",
     "text": [
      "Computed distance: (15.16791343688965, 11.38070526123047)\n"
     ]
    }
   ],
   "source": [
    "camera_ = copy.copy(camera_x10)\n",
    "dataset_spec_ = copy.copy(dataset_spec)\n",
    "\n",
    "computed_distances_ = compute_distance_between_images(camera_, dataset_spec_)\n",
    "print(f\"Computed distance: {computed_distances_}\")"
   ]
  },
  {
   "cell_type": "markdown",
   "id": "cea6d39a-89af-42bc-bb63-2d22380dec1f",
   "metadata": {},
   "source": [
    "## Bonus: Non-Nadir photos\n",
    "\n",
    "We have solved for the distance assuming that the camera is facing straight down to the ground. This is called [Nadir scanning](https://support.esri.com/en-us/gis-dictionary/nadir). However, in practise we might want a custom gimbal angle.\n",
    "\n",
    "Your bonus task is to make the distance computation general. Introduce the `camera_angle` parameter in the dataset specification, and work out how to adapt your computation. Feel free to reach out to Ayush to discuss ideas and assumptions!"
   ]
  },
  {
   "cell_type": "markdown",
   "id": "1065c966",
   "metadata": {},
   "source": [
    "$\\color{red}{\\text{Added: }}$ compute_distance_between_images_with_angle in src/plan_computation.py and compute_image_footprint_on_surface_with_angle in src/camera_utils.py\n",
    "\n",
    "And updated dataset_spec model by adding camera_angle\n"
   ]
  },
  {
   "cell_type": "code",
   "execution_count": 27,
   "id": "fde6b0c5",
   "metadata": {},
   "outputs": [
    {
     "name": "stdout",
     "output_type": "stream",
     "text": [
      "Computed distance: (15.16791343688965, 11.38070526123047)\n"
     ]
    }
   ],
   "source": [
    "camera_ = copy.copy(camera_x10)\n",
    "dataset_spec_ = copy.copy(dataset_spec)\n",
    "\n",
    "computed_distances_ = compute_distance_between_images(camera_, dataset_spec_)\n",
    "print(f\"Computed distance: {computed_distances_}\")"
   ]
  },
  {
   "cell_type": "markdown",
   "id": "8dfc13a5-d13d-4930-a47b-2851e5458ceb",
   "metadata": {},
   "source": [
    "# Week 5: Compute Maximum Speed For Blur Free Photos\n",
    "\n",
    "To restrict motion blur due to camera movement to tolerable limits, we need to restrict the speed such that the image contents move less than 1px away. \n",
    "\n",
    "How much does 1px of movement translate to movement of the scene on the ground? It is the ground sampling distance!\n",
    "From previous week, we know that this is the maximum movement the camera can have. \n",
    "We have the distance now. To get speed we need to divide it with time. Do we have time already in our data models?\n",
    "\n",
    "$\\color{red}{\\text{TODO: }}$ Implement `compute_speed_during_photo_capture` in `src/plan_computation.py`."
   ]
  },
  {
   "cell_type": "code",
   "execution_count": 28,
   "id": "1292957c-d66f-4ac9-bb6f-1dc783d1a5aa",
   "metadata": {},
   "outputs": [
    {
     "name": "stdout",
     "output_type": "stream",
     "text": [
      "Computed speed during photo captures: 3.09\n"
     ]
    }
   ],
   "source": [
    "computed_speed = compute_speed_during_photo_capture(camera_x10, dataset_spec, allowed_movement_px=1)\n",
    "expected_speed = 3.09\n",
    "\n",
    "print(f\"Computed speed during photo captures: {computed_speed:.2f}\")\n",
    "\n",
    "assert np.allclose(computed_speed, expected_speed, atol=1e-2)"
   ]
  },
  {
   "cell_type": "markdown",
   "id": "b7fe63d9-c416-4bbf-b0ce-8c678de681de",
   "metadata": {},
   "source": [
    "$\\color{red}{\\text{TODO: }}$ define more specifications/camera parameters and check the computed distances. Does that align with your expections\n"
   ]
  },
  {
   "cell_type": "code",
   "execution_count": 29,
   "id": "85212946-83d0-475c-9740-e04d10a1ec32",
   "metadata": {},
   "outputs": [
    {
     "name": "stdout",
     "output_type": "stream",
     "text": [
      "Computed distance: 3.09\n"
     ]
    }
   ],
   "source": [
    "camera_ = copy.copy(camera_x10)\n",
    "dataset_spec_ = copy.copy(dataset_spec)\n",
    "\n",
    "computed_speed_ = compute_speed_during_photo_capture(camera_, dataset_spec_)\n",
    "print(f\"Computed distance: {computed_speed_:.2f}\")"
   ]
  },
  {
   "cell_type": "markdown",
   "id": "26d7075d-f520-43bd-8b8b-b36e9c6a6bc2",
   "metadata": {},
   "source": [
    "# Week 6: Generate Full Flight Plans  \n",
    "\n",
    "We now have all the tools to generate the full flight plan.\n",
    "\n",
    "Steps for this week:\n",
    "1. Define the `Waypoint` data model. What attributes should the data model have?\n",
    "   1. For Nadir scans, just the position of the camera is enough as we will always look drown to the ground.\n",
    "   2. For general case (bonus), we also need to define where the drone will look at@\n",
    "3. Implement the function `generate_photo_plan_on_grid` to generate the full plan.\n",
    "   1. Compute the maximum distance between two images, horizontally and vertically.\n",
    "   2. Layer the images such that we cover the whole scan area. Note that you need to take care when the scan dimension is not a multiple of distance between images. Example: to cover 45m length with 10m between images, we would need 4.5 images. Not possible. 4 images would not satisfy the overlap, so we should go with 5. How should we arrange 5 images in the given 45m.\n",
    "   3. Assign the speed to each waypoint.\n",
    "\n",
    "$\\color{red}{\\text{TODO: }}$ Implement:\n",
    "- `Waypoint` in `src/data_model.py`\n",
    "- `generate_photo_plan_on_grid` in `src/plan_computation.py`."
   ]
  },
  {
   "cell_type": "code",
   "execution_count": 32,
   "id": "7f1e5c3e-9974-4f50-9413-1b9c5b523051",
   "metadata": {},
   "outputs": [
    {
     "name": "stdout",
     "output_type": "stream",
     "text": [
      "Computed plan with 140 waypoints\n"
     ]
    }
   ],
   "source": [
    "computed_plan = generate_photo_plan_on_grid(camera_x10, dataset_spec) \n",
    "\n",
    "print(f\"Computed plan with {len(computed_plan)} waypoints\")"
   ]
  },
  {
   "cell_type": "code",
   "execution_count": 33,
   "id": "71f3bf15-c584-44da-a789-c821acb3f9a6",
   "metadata": {},
   "outputs": [
    {
     "name": "stdout",
     "output_type": "stream",
     "text": [
      "Idx 0: Waypoint(x=0.0, y=0.0, z=30.48, camera_angle=0, look_at=None, speed=3.0865668862437206, timestamp=None)\n",
      "Idx 1: Waypoint(x=15.16791343688965, y=0.0, z=30.48, camera_angle=0, look_at=None, speed=3.0865668862437206, timestamp=None)\n",
      "Idx 2: Waypoint(x=30.3358268737793, y=0.0, z=30.48, camera_angle=0, look_at=None, speed=3.0865668862437206, timestamp=None)\n",
      "Idx 3: Waypoint(x=45.50374031066895, y=0.0, z=30.48, camera_angle=0, look_at=None, speed=3.0865668862437206, timestamp=None)\n",
      "Idx 4: Waypoint(x=60.6716537475586, y=0.0, z=30.48, camera_angle=0, look_at=None, speed=3.0865668862437206, timestamp=None)\n",
      "Idx 5: Waypoint(x=75.83956718444826, y=0.0, z=30.48, camera_angle=0, look_at=None, speed=3.0865668862437206, timestamp=None)\n",
      "Idx 6: Waypoint(x=91.0074806213379, y=0.0, z=30.48, camera_angle=0, look_at=None, speed=3.0865668862437206, timestamp=None)\n",
      "Idx 7: Waypoint(x=106.17539405822755, y=0.0, z=30.48, camera_angle=0, look_at=None, speed=3.0865668862437206, timestamp=None)\n",
      "Idx 8: Waypoint(x=121.3433074951172, y=0.0, z=30.48, camera_angle=0, look_at=None, speed=3.0865668862437206, timestamp=None)\n",
      "Idx 9: Waypoint(x=136.51122093200686, y=0.0, z=30.48, camera_angle=0, look_at=None, speed=3.0865668862437206, timestamp=None)\n",
      "Idx 10: Waypoint(x=0.0, y=11.38070526123047, z=30.48, camera_angle=0, look_at=None, speed=3.0865668862437206, timestamp=None)\n",
      "Idx 11: Waypoint(x=15.16791343688965, y=11.38070526123047, z=30.48, camera_angle=0, look_at=None, speed=3.0865668862437206, timestamp=None)\n",
      "Idx 12: Waypoint(x=30.3358268737793, y=11.38070526123047, z=30.48, camera_angle=0, look_at=None, speed=3.0865668862437206, timestamp=None)\n",
      "Idx 13: Waypoint(x=45.50374031066895, y=11.38070526123047, z=30.48, camera_angle=0, look_at=None, speed=3.0865668862437206, timestamp=None)\n",
      "Idx 14: Waypoint(x=60.6716537475586, y=11.38070526123047, z=30.48, camera_angle=0, look_at=None, speed=3.0865668862437206, timestamp=None)\n",
      "Idx 15: Waypoint(x=75.83956718444826, y=11.38070526123047, z=30.48, camera_angle=0, look_at=None, speed=3.0865668862437206, timestamp=None)\n",
      "Idx 16: Waypoint(x=91.0074806213379, y=11.38070526123047, z=30.48, camera_angle=0, look_at=None, speed=3.0865668862437206, timestamp=None)\n",
      "Idx 17: Waypoint(x=106.17539405822755, y=11.38070526123047, z=30.48, camera_angle=0, look_at=None, speed=3.0865668862437206, timestamp=None)\n",
      "Idx 18: Waypoint(x=121.3433074951172, y=11.38070526123047, z=30.48, camera_angle=0, look_at=None, speed=3.0865668862437206, timestamp=None)\n",
      "Idx 19: Waypoint(x=136.51122093200686, y=11.38070526123047, z=30.48, camera_angle=0, look_at=None, speed=3.0865668862437206, timestamp=None)\n",
      "...\n"
     ]
    }
   ],
   "source": [
    "MAX_NUM_WAYPOINTS_TO_PRINT = 20\n",
    "\n",
    "for idx, waypoint in enumerate(computed_plan[:20]):\n",
    "    print(f\"Idx {idx}: {waypoint}\")\n",
    "if len(computed_plan) >= MAX_NUM_WAYPOINTS_TO_PRINT:\n",
    "    print(\"...\")"
   ]
  },
  {
   "cell_type": "markdown",
   "id": "5544587f-fff7-406a-be65-ad99c7217e51",
   "metadata": {},
   "source": [
    "## Bonus: Time computation \n",
    "\n",
    "if you have some time, you can implement a time computation function. We can make the drone fly as fast as possible between photos, but make sure it can decelerate back to the required speed at the photos. Please use the following data: \n",
    "- Max drone speed: 16m/s.\n",
    "- Max acceleration: 3.5 m/s^2.\n",
    "\n",
    "Hint: you might need to use a trapezoidal speed profile"
   ]
  },
  {
   "cell_type": "code",
   "execution_count": 34,
   "id": "322f6cea",
   "metadata": {},
   "outputs": [
    {
     "name": "stdout",
     "output_type": "stream",
     "text": [
      "Time to travel 100 meters: 10.82 seconds\n"
     ]
    }
   ],
   "source": [
    "import math\n",
    "\n",
    "# Constants\n",
    "MAX_SPEED = 16.0  # m/s\n",
    "MAX_ACCELERATION = 3.5  # m/s^2\n",
    "\n",
    "# Function to compute the time between two waypoints\n",
    "def compute_time_between_waypoints(distance: float) -> float:\n",
    "    # Distance the drone travels during acceleration and deceleration\n",
    "    acceleration_distance = (MAX_SPEED ** 2) / (2 * MAX_ACCELERATION)\n",
    "    \n",
    "    if distance <= 2 * acceleration_distance:\n",
    "        # If the distance is smaller than twice the acceleration distance,\n",
    "        # the drone will not reach the max speed and only accelerate/decelerate.\n",
    "        # Use kinematic equation: t = sqrt(2d/a)\n",
    "        time_to_accelerate = math.sqrt(2 * distance / MAX_ACCELERATION)\n",
    "        return 2 * time_to_accelerate  # Time to accelerate and decelerate\n",
    "\n",
    "    # If the distance is large enough to reach max speed, we have three phases:\n",
    "    # 1. Acceleration\n",
    "    # 2. Constant speed\n",
    "    # 3. Deceleration\n",
    "    # Time to accelerate to max speed\n",
    "    time_to_accelerate = MAX_SPEED / MAX_ACCELERATION\n",
    "\n",
    "    # Distance covered during acceleration\n",
    "    distance_at_max_speed = distance - 2 * acceleration_distance\n",
    "\n",
    "    # Time spent at max speed\n",
    "    time_at_max_speed = distance_at_max_speed / MAX_SPEED\n",
    "\n",
    "    # Time spent decelerating (same as acceleration time)\n",
    "    time_to_decelerate = MAX_SPEED / MAX_ACCELERATION\n",
    "\n",
    "    # Total time\n",
    "    total_time = time_to_accelerate + time_at_max_speed + time_to_decelerate\n",
    "    return total_time\n",
    "\n",
    "# Test function: calculate the time for a distance\n",
    "distance = 100  # Example distance between waypoints in meters\n",
    "time = compute_time_between_waypoints(distance)\n",
    "print(f\"Time to travel {distance} meters: {time:.2f} seconds\")"
   ]
  },
  {
   "cell_type": "markdown",
   "id": "1a326c0e-86ff-443d-98ee-7a4fae0bfe81",
   "metadata": {},
   "source": [
    "# Week 7: Visualize Flight Plans\n",
    "\n",
    "This week, we will use a third party plotting framework called [Plotly](https://plotly.com/python/) to visualize our plans. Please follow this [tutorial](https://www.kaggle.com/code/kanncaa1/plotly-tutorial-for-beginners) to gain some basic experience with Plotly, and then come up with your own visualization function. You are free to choose to come up with your own visualization, and use something other than Plotly.\n",
    "\n",
    "$\\color{red}{\\text{TODO: }}$ Implement `plot_photo_plan` in `src/visualization.py`"
   ]
  },
  {
   "cell_type": "code",
   "execution_count": 36,
   "id": "3996504a-28fc-48f1-8094-94d9a6bd58f9",
   "metadata": {},
   "outputs": [
    {
     "data": {
      "application/vnd.plotly.v1+json": {
       "config": {
        "plotlyServerURL": "https://plot.ly"
       },
       "data": [
        {
         "line": {
          "color": "blue",
          "width": 2
         },
         "marker": {
          "color": "blue",
          "opacity": 0.8,
          "size": 6
         },
         "mode": "markers+lines",
         "name": "Flight Path",
         "type": "scatter",
         "x": [
          0,
          15.16791343688965,
          30.3358268737793,
          45.50374031066895,
          60.6716537475586,
          75.83956718444826,
          91.0074806213379,
          106.17539405822755,
          121.3433074951172,
          136.51122093200686,
          0,
          15.16791343688965,
          30.3358268737793,
          45.50374031066895,
          60.6716537475586,
          75.83956718444826,
          91.0074806213379,
          106.17539405822755,
          121.3433074951172,
          136.51122093200686,
          0,
          15.16791343688965,
          30.3358268737793,
          45.50374031066895,
          60.6716537475586,
          75.83956718444826,
          91.0074806213379,
          106.17539405822755,
          121.3433074951172,
          136.51122093200686,
          0,
          15.16791343688965,
          30.3358268737793,
          45.50374031066895,
          60.6716537475586,
          75.83956718444826,
          91.0074806213379,
          106.17539405822755,
          121.3433074951172,
          136.51122093200686,
          0,
          15.16791343688965,
          30.3358268737793,
          45.50374031066895,
          60.6716537475586,
          75.83956718444826,
          91.0074806213379,
          106.17539405822755,
          121.3433074951172,
          136.51122093200686,
          0,
          15.16791343688965,
          30.3358268737793,
          45.50374031066895,
          60.6716537475586,
          75.83956718444826,
          91.0074806213379,
          106.17539405822755,
          121.3433074951172,
          136.51122093200686,
          0,
          15.16791343688965,
          30.3358268737793,
          45.50374031066895,
          60.6716537475586,
          75.83956718444826,
          91.0074806213379,
          106.17539405822755,
          121.3433074951172,
          136.51122093200686,
          0,
          15.16791343688965,
          30.3358268737793,
          45.50374031066895,
          60.6716537475586,
          75.83956718444826,
          91.0074806213379,
          106.17539405822755,
          121.3433074951172,
          136.51122093200686,
          0,
          15.16791343688965,
          30.3358268737793,
          45.50374031066895,
          60.6716537475586,
          75.83956718444826,
          91.0074806213379,
          106.17539405822755,
          121.3433074951172,
          136.51122093200686,
          0,
          15.16791343688965,
          30.3358268737793,
          45.50374031066895,
          60.6716537475586,
          75.83956718444826,
          91.0074806213379,
          106.17539405822755,
          121.3433074951172,
          136.51122093200686,
          0,
          15.16791343688965,
          30.3358268737793,
          45.50374031066895,
          60.6716537475586,
          75.83956718444826,
          91.0074806213379,
          106.17539405822755,
          121.3433074951172,
          136.51122093200686,
          0,
          15.16791343688965,
          30.3358268737793,
          45.50374031066895,
          60.6716537475586,
          75.83956718444826,
          91.0074806213379,
          106.17539405822755,
          121.3433074951172,
          136.51122093200686,
          0,
          15.16791343688965,
          30.3358268737793,
          45.50374031066895,
          60.6716537475586,
          75.83956718444826,
          91.0074806213379,
          106.17539405822755,
          121.3433074951172,
          136.51122093200686,
          0,
          15.16791343688965,
          30.3358268737793,
          45.50374031066895,
          60.6716537475586,
          75.83956718444826,
          91.0074806213379,
          106.17539405822755,
          121.3433074951172,
          136.51122093200686
         ],
         "y": [
          0,
          0,
          0,
          0,
          0,
          0,
          0,
          0,
          0,
          0,
          11.38070526123047,
          11.38070526123047,
          11.38070526123047,
          11.38070526123047,
          11.38070526123047,
          11.38070526123047,
          11.38070526123047,
          11.38070526123047,
          11.38070526123047,
          11.38070526123047,
          22.76141052246094,
          22.76141052246094,
          22.76141052246094,
          22.76141052246094,
          22.76141052246094,
          22.76141052246094,
          22.76141052246094,
          22.76141052246094,
          22.76141052246094,
          22.76141052246094,
          34.14211578369141,
          34.14211578369141,
          34.14211578369141,
          34.14211578369141,
          34.14211578369141,
          34.14211578369141,
          34.14211578369141,
          34.14211578369141,
          34.14211578369141,
          34.14211578369141,
          45.52282104492188,
          45.52282104492188,
          45.52282104492188,
          45.52282104492188,
          45.52282104492188,
          45.52282104492188,
          45.52282104492188,
          45.52282104492188,
          45.52282104492188,
          45.52282104492188,
          56.90352630615236,
          56.90352630615236,
          56.90352630615236,
          56.90352630615236,
          56.90352630615236,
          56.90352630615236,
          56.90352630615236,
          56.90352630615236,
          56.90352630615236,
          56.90352630615236,
          68.28423156738282,
          68.28423156738282,
          68.28423156738282,
          68.28423156738282,
          68.28423156738282,
          68.28423156738282,
          68.28423156738282,
          68.28423156738282,
          68.28423156738282,
          68.28423156738282,
          79.66493682861329,
          79.66493682861329,
          79.66493682861329,
          79.66493682861329,
          79.66493682861329,
          79.66493682861329,
          79.66493682861329,
          79.66493682861329,
          79.66493682861329,
          79.66493682861329,
          91.04564208984377,
          91.04564208984377,
          91.04564208984377,
          91.04564208984377,
          91.04564208984377,
          91.04564208984377,
          91.04564208984377,
          91.04564208984377,
          91.04564208984377,
          91.04564208984377,
          102.42634735107424,
          102.42634735107424,
          102.42634735107424,
          102.42634735107424,
          102.42634735107424,
          102.42634735107424,
          102.42634735107424,
          102.42634735107424,
          102.42634735107424,
          102.42634735107424,
          113.80705261230472,
          113.80705261230472,
          113.80705261230472,
          113.80705261230472,
          113.80705261230472,
          113.80705261230472,
          113.80705261230472,
          113.80705261230472,
          113.80705261230472,
          113.80705261230472,
          125.18775787353518,
          125.18775787353518,
          125.18775787353518,
          125.18775787353518,
          125.18775787353518,
          125.18775787353518,
          125.18775787353518,
          125.18775787353518,
          125.18775787353518,
          125.18775787353518,
          136.56846313476564,
          136.56846313476564,
          136.56846313476564,
          136.56846313476564,
          136.56846313476564,
          136.56846313476564,
          136.56846313476564,
          136.56846313476564,
          136.56846313476564,
          136.56846313476564,
          147.9491683959961,
          147.9491683959961,
          147.9491683959961,
          147.9491683959961,
          147.9491683959961,
          147.9491683959961,
          147.9491683959961,
          147.9491683959961,
          147.9491683959961,
          147.9491683959961
         ]
        }
       ],
       "layout": {
        "annotations": [
         {
          "arrowcolor": "black",
          "arrowhead": 2,
          "ax": 0,
          "ay": -10,
          "font": {
           "color": "black",
           "size": 12
          },
          "showarrow": true,
          "text": "1",
          "x": 0,
          "y": 0
         },
         {
          "arrowcolor": "black",
          "arrowhead": 2,
          "ax": 0,
          "ay": -10,
          "font": {
           "color": "black",
           "size": 12
          },
          "showarrow": true,
          "text": "2",
          "x": 15.16791343688965,
          "y": 0
         },
         {
          "arrowcolor": "black",
          "arrowhead": 2,
          "ax": 0,
          "ay": -10,
          "font": {
           "color": "black",
           "size": 12
          },
          "showarrow": true,
          "text": "3",
          "x": 30.3358268737793,
          "y": 0
         },
         {
          "arrowcolor": "black",
          "arrowhead": 2,
          "ax": 0,
          "ay": -10,
          "font": {
           "color": "black",
           "size": 12
          },
          "showarrow": true,
          "text": "4",
          "x": 45.50374031066895,
          "y": 0
         },
         {
          "arrowcolor": "black",
          "arrowhead": 2,
          "ax": 0,
          "ay": -10,
          "font": {
           "color": "black",
           "size": 12
          },
          "showarrow": true,
          "text": "5",
          "x": 60.6716537475586,
          "y": 0
         },
         {
          "arrowcolor": "black",
          "arrowhead": 2,
          "ax": 0,
          "ay": -10,
          "font": {
           "color": "black",
           "size": 12
          },
          "showarrow": true,
          "text": "6",
          "x": 75.83956718444826,
          "y": 0
         },
         {
          "arrowcolor": "black",
          "arrowhead": 2,
          "ax": 0,
          "ay": -10,
          "font": {
           "color": "black",
           "size": 12
          },
          "showarrow": true,
          "text": "7",
          "x": 91.0074806213379,
          "y": 0
         },
         {
          "arrowcolor": "black",
          "arrowhead": 2,
          "ax": 0,
          "ay": -10,
          "font": {
           "color": "black",
           "size": 12
          },
          "showarrow": true,
          "text": "8",
          "x": 106.17539405822755,
          "y": 0
         },
         {
          "arrowcolor": "black",
          "arrowhead": 2,
          "ax": 0,
          "ay": -10,
          "font": {
           "color": "black",
           "size": 12
          },
          "showarrow": true,
          "text": "9",
          "x": 121.3433074951172,
          "y": 0
         },
         {
          "arrowcolor": "black",
          "arrowhead": 2,
          "ax": 0,
          "ay": -10,
          "font": {
           "color": "black",
           "size": 12
          },
          "showarrow": true,
          "text": "10",
          "x": 136.51122093200686,
          "y": 0
         },
         {
          "arrowcolor": "black",
          "arrowhead": 2,
          "ax": 0,
          "ay": -10,
          "font": {
           "color": "black",
           "size": 12
          },
          "showarrow": true,
          "text": "11",
          "x": 0,
          "y": 11.38070526123047
         },
         {
          "arrowcolor": "black",
          "arrowhead": 2,
          "ax": 0,
          "ay": -10,
          "font": {
           "color": "black",
           "size": 12
          },
          "showarrow": true,
          "text": "12",
          "x": 15.16791343688965,
          "y": 11.38070526123047
         },
         {
          "arrowcolor": "black",
          "arrowhead": 2,
          "ax": 0,
          "ay": -10,
          "font": {
           "color": "black",
           "size": 12
          },
          "showarrow": true,
          "text": "13",
          "x": 30.3358268737793,
          "y": 11.38070526123047
         },
         {
          "arrowcolor": "black",
          "arrowhead": 2,
          "ax": 0,
          "ay": -10,
          "font": {
           "color": "black",
           "size": 12
          },
          "showarrow": true,
          "text": "14",
          "x": 45.50374031066895,
          "y": 11.38070526123047
         },
         {
          "arrowcolor": "black",
          "arrowhead": 2,
          "ax": 0,
          "ay": -10,
          "font": {
           "color": "black",
           "size": 12
          },
          "showarrow": true,
          "text": "15",
          "x": 60.6716537475586,
          "y": 11.38070526123047
         },
         {
          "arrowcolor": "black",
          "arrowhead": 2,
          "ax": 0,
          "ay": -10,
          "font": {
           "color": "black",
           "size": 12
          },
          "showarrow": true,
          "text": "16",
          "x": 75.83956718444826,
          "y": 11.38070526123047
         },
         {
          "arrowcolor": "black",
          "arrowhead": 2,
          "ax": 0,
          "ay": -10,
          "font": {
           "color": "black",
           "size": 12
          },
          "showarrow": true,
          "text": "17",
          "x": 91.0074806213379,
          "y": 11.38070526123047
         },
         {
          "arrowcolor": "black",
          "arrowhead": 2,
          "ax": 0,
          "ay": -10,
          "font": {
           "color": "black",
           "size": 12
          },
          "showarrow": true,
          "text": "18",
          "x": 106.17539405822755,
          "y": 11.38070526123047
         },
         {
          "arrowcolor": "black",
          "arrowhead": 2,
          "ax": 0,
          "ay": -10,
          "font": {
           "color": "black",
           "size": 12
          },
          "showarrow": true,
          "text": "19",
          "x": 121.3433074951172,
          "y": 11.38070526123047
         },
         {
          "arrowcolor": "black",
          "arrowhead": 2,
          "ax": 0,
          "ay": -10,
          "font": {
           "color": "black",
           "size": 12
          },
          "showarrow": true,
          "text": "20",
          "x": 136.51122093200686,
          "y": 11.38070526123047
         },
         {
          "arrowcolor": "black",
          "arrowhead": 2,
          "ax": 0,
          "ay": -10,
          "font": {
           "color": "black",
           "size": 12
          },
          "showarrow": true,
          "text": "21",
          "x": 0,
          "y": 22.76141052246094
         },
         {
          "arrowcolor": "black",
          "arrowhead": 2,
          "ax": 0,
          "ay": -10,
          "font": {
           "color": "black",
           "size": 12
          },
          "showarrow": true,
          "text": "22",
          "x": 15.16791343688965,
          "y": 22.76141052246094
         },
         {
          "arrowcolor": "black",
          "arrowhead": 2,
          "ax": 0,
          "ay": -10,
          "font": {
           "color": "black",
           "size": 12
          },
          "showarrow": true,
          "text": "23",
          "x": 30.3358268737793,
          "y": 22.76141052246094
         },
         {
          "arrowcolor": "black",
          "arrowhead": 2,
          "ax": 0,
          "ay": -10,
          "font": {
           "color": "black",
           "size": 12
          },
          "showarrow": true,
          "text": "24",
          "x": 45.50374031066895,
          "y": 22.76141052246094
         },
         {
          "arrowcolor": "black",
          "arrowhead": 2,
          "ax": 0,
          "ay": -10,
          "font": {
           "color": "black",
           "size": 12
          },
          "showarrow": true,
          "text": "25",
          "x": 60.6716537475586,
          "y": 22.76141052246094
         },
         {
          "arrowcolor": "black",
          "arrowhead": 2,
          "ax": 0,
          "ay": -10,
          "font": {
           "color": "black",
           "size": 12
          },
          "showarrow": true,
          "text": "26",
          "x": 75.83956718444826,
          "y": 22.76141052246094
         },
         {
          "arrowcolor": "black",
          "arrowhead": 2,
          "ax": 0,
          "ay": -10,
          "font": {
           "color": "black",
           "size": 12
          },
          "showarrow": true,
          "text": "27",
          "x": 91.0074806213379,
          "y": 22.76141052246094
         },
         {
          "arrowcolor": "black",
          "arrowhead": 2,
          "ax": 0,
          "ay": -10,
          "font": {
           "color": "black",
           "size": 12
          },
          "showarrow": true,
          "text": "28",
          "x": 106.17539405822755,
          "y": 22.76141052246094
         },
         {
          "arrowcolor": "black",
          "arrowhead": 2,
          "ax": 0,
          "ay": -10,
          "font": {
           "color": "black",
           "size": 12
          },
          "showarrow": true,
          "text": "29",
          "x": 121.3433074951172,
          "y": 22.76141052246094
         },
         {
          "arrowcolor": "black",
          "arrowhead": 2,
          "ax": 0,
          "ay": -10,
          "font": {
           "color": "black",
           "size": 12
          },
          "showarrow": true,
          "text": "30",
          "x": 136.51122093200686,
          "y": 22.76141052246094
         },
         {
          "arrowcolor": "black",
          "arrowhead": 2,
          "ax": 0,
          "ay": -10,
          "font": {
           "color": "black",
           "size": 12
          },
          "showarrow": true,
          "text": "31",
          "x": 0,
          "y": 34.14211578369141
         },
         {
          "arrowcolor": "black",
          "arrowhead": 2,
          "ax": 0,
          "ay": -10,
          "font": {
           "color": "black",
           "size": 12
          },
          "showarrow": true,
          "text": "32",
          "x": 15.16791343688965,
          "y": 34.14211578369141
         },
         {
          "arrowcolor": "black",
          "arrowhead": 2,
          "ax": 0,
          "ay": -10,
          "font": {
           "color": "black",
           "size": 12
          },
          "showarrow": true,
          "text": "33",
          "x": 30.3358268737793,
          "y": 34.14211578369141
         },
         {
          "arrowcolor": "black",
          "arrowhead": 2,
          "ax": 0,
          "ay": -10,
          "font": {
           "color": "black",
           "size": 12
          },
          "showarrow": true,
          "text": "34",
          "x": 45.50374031066895,
          "y": 34.14211578369141
         },
         {
          "arrowcolor": "black",
          "arrowhead": 2,
          "ax": 0,
          "ay": -10,
          "font": {
           "color": "black",
           "size": 12
          },
          "showarrow": true,
          "text": "35",
          "x": 60.6716537475586,
          "y": 34.14211578369141
         },
         {
          "arrowcolor": "black",
          "arrowhead": 2,
          "ax": 0,
          "ay": -10,
          "font": {
           "color": "black",
           "size": 12
          },
          "showarrow": true,
          "text": "36",
          "x": 75.83956718444826,
          "y": 34.14211578369141
         },
         {
          "arrowcolor": "black",
          "arrowhead": 2,
          "ax": 0,
          "ay": -10,
          "font": {
           "color": "black",
           "size": 12
          },
          "showarrow": true,
          "text": "37",
          "x": 91.0074806213379,
          "y": 34.14211578369141
         },
         {
          "arrowcolor": "black",
          "arrowhead": 2,
          "ax": 0,
          "ay": -10,
          "font": {
           "color": "black",
           "size": 12
          },
          "showarrow": true,
          "text": "38",
          "x": 106.17539405822755,
          "y": 34.14211578369141
         },
         {
          "arrowcolor": "black",
          "arrowhead": 2,
          "ax": 0,
          "ay": -10,
          "font": {
           "color": "black",
           "size": 12
          },
          "showarrow": true,
          "text": "39",
          "x": 121.3433074951172,
          "y": 34.14211578369141
         },
         {
          "arrowcolor": "black",
          "arrowhead": 2,
          "ax": 0,
          "ay": -10,
          "font": {
           "color": "black",
           "size": 12
          },
          "showarrow": true,
          "text": "40",
          "x": 136.51122093200686,
          "y": 34.14211578369141
         },
         {
          "arrowcolor": "black",
          "arrowhead": 2,
          "ax": 0,
          "ay": -10,
          "font": {
           "color": "black",
           "size": 12
          },
          "showarrow": true,
          "text": "41",
          "x": 0,
          "y": 45.52282104492188
         },
         {
          "arrowcolor": "black",
          "arrowhead": 2,
          "ax": 0,
          "ay": -10,
          "font": {
           "color": "black",
           "size": 12
          },
          "showarrow": true,
          "text": "42",
          "x": 15.16791343688965,
          "y": 45.52282104492188
         },
         {
          "arrowcolor": "black",
          "arrowhead": 2,
          "ax": 0,
          "ay": -10,
          "font": {
           "color": "black",
           "size": 12
          },
          "showarrow": true,
          "text": "43",
          "x": 30.3358268737793,
          "y": 45.52282104492188
         },
         {
          "arrowcolor": "black",
          "arrowhead": 2,
          "ax": 0,
          "ay": -10,
          "font": {
           "color": "black",
           "size": 12
          },
          "showarrow": true,
          "text": "44",
          "x": 45.50374031066895,
          "y": 45.52282104492188
         },
         {
          "arrowcolor": "black",
          "arrowhead": 2,
          "ax": 0,
          "ay": -10,
          "font": {
           "color": "black",
           "size": 12
          },
          "showarrow": true,
          "text": "45",
          "x": 60.6716537475586,
          "y": 45.52282104492188
         },
         {
          "arrowcolor": "black",
          "arrowhead": 2,
          "ax": 0,
          "ay": -10,
          "font": {
           "color": "black",
           "size": 12
          },
          "showarrow": true,
          "text": "46",
          "x": 75.83956718444826,
          "y": 45.52282104492188
         },
         {
          "arrowcolor": "black",
          "arrowhead": 2,
          "ax": 0,
          "ay": -10,
          "font": {
           "color": "black",
           "size": 12
          },
          "showarrow": true,
          "text": "47",
          "x": 91.0074806213379,
          "y": 45.52282104492188
         },
         {
          "arrowcolor": "black",
          "arrowhead": 2,
          "ax": 0,
          "ay": -10,
          "font": {
           "color": "black",
           "size": 12
          },
          "showarrow": true,
          "text": "48",
          "x": 106.17539405822755,
          "y": 45.52282104492188
         },
         {
          "arrowcolor": "black",
          "arrowhead": 2,
          "ax": 0,
          "ay": -10,
          "font": {
           "color": "black",
           "size": 12
          },
          "showarrow": true,
          "text": "49",
          "x": 121.3433074951172,
          "y": 45.52282104492188
         },
         {
          "arrowcolor": "black",
          "arrowhead": 2,
          "ax": 0,
          "ay": -10,
          "font": {
           "color": "black",
           "size": 12
          },
          "showarrow": true,
          "text": "50",
          "x": 136.51122093200686,
          "y": 45.52282104492188
         },
         {
          "arrowcolor": "black",
          "arrowhead": 2,
          "ax": 0,
          "ay": -10,
          "font": {
           "color": "black",
           "size": 12
          },
          "showarrow": true,
          "text": "51",
          "x": 0,
          "y": 56.90352630615236
         },
         {
          "arrowcolor": "black",
          "arrowhead": 2,
          "ax": 0,
          "ay": -10,
          "font": {
           "color": "black",
           "size": 12
          },
          "showarrow": true,
          "text": "52",
          "x": 15.16791343688965,
          "y": 56.90352630615236
         },
         {
          "arrowcolor": "black",
          "arrowhead": 2,
          "ax": 0,
          "ay": -10,
          "font": {
           "color": "black",
           "size": 12
          },
          "showarrow": true,
          "text": "53",
          "x": 30.3358268737793,
          "y": 56.90352630615236
         },
         {
          "arrowcolor": "black",
          "arrowhead": 2,
          "ax": 0,
          "ay": -10,
          "font": {
           "color": "black",
           "size": 12
          },
          "showarrow": true,
          "text": "54",
          "x": 45.50374031066895,
          "y": 56.90352630615236
         },
         {
          "arrowcolor": "black",
          "arrowhead": 2,
          "ax": 0,
          "ay": -10,
          "font": {
           "color": "black",
           "size": 12
          },
          "showarrow": true,
          "text": "55",
          "x": 60.6716537475586,
          "y": 56.90352630615236
         },
         {
          "arrowcolor": "black",
          "arrowhead": 2,
          "ax": 0,
          "ay": -10,
          "font": {
           "color": "black",
           "size": 12
          },
          "showarrow": true,
          "text": "56",
          "x": 75.83956718444826,
          "y": 56.90352630615236
         },
         {
          "arrowcolor": "black",
          "arrowhead": 2,
          "ax": 0,
          "ay": -10,
          "font": {
           "color": "black",
           "size": 12
          },
          "showarrow": true,
          "text": "57",
          "x": 91.0074806213379,
          "y": 56.90352630615236
         },
         {
          "arrowcolor": "black",
          "arrowhead": 2,
          "ax": 0,
          "ay": -10,
          "font": {
           "color": "black",
           "size": 12
          },
          "showarrow": true,
          "text": "58",
          "x": 106.17539405822755,
          "y": 56.90352630615236
         },
         {
          "arrowcolor": "black",
          "arrowhead": 2,
          "ax": 0,
          "ay": -10,
          "font": {
           "color": "black",
           "size": 12
          },
          "showarrow": true,
          "text": "59",
          "x": 121.3433074951172,
          "y": 56.90352630615236
         },
         {
          "arrowcolor": "black",
          "arrowhead": 2,
          "ax": 0,
          "ay": -10,
          "font": {
           "color": "black",
           "size": 12
          },
          "showarrow": true,
          "text": "60",
          "x": 136.51122093200686,
          "y": 56.90352630615236
         },
         {
          "arrowcolor": "black",
          "arrowhead": 2,
          "ax": 0,
          "ay": -10,
          "font": {
           "color": "black",
           "size": 12
          },
          "showarrow": true,
          "text": "61",
          "x": 0,
          "y": 68.28423156738282
         },
         {
          "arrowcolor": "black",
          "arrowhead": 2,
          "ax": 0,
          "ay": -10,
          "font": {
           "color": "black",
           "size": 12
          },
          "showarrow": true,
          "text": "62",
          "x": 15.16791343688965,
          "y": 68.28423156738282
         },
         {
          "arrowcolor": "black",
          "arrowhead": 2,
          "ax": 0,
          "ay": -10,
          "font": {
           "color": "black",
           "size": 12
          },
          "showarrow": true,
          "text": "63",
          "x": 30.3358268737793,
          "y": 68.28423156738282
         },
         {
          "arrowcolor": "black",
          "arrowhead": 2,
          "ax": 0,
          "ay": -10,
          "font": {
           "color": "black",
           "size": 12
          },
          "showarrow": true,
          "text": "64",
          "x": 45.50374031066895,
          "y": 68.28423156738282
         },
         {
          "arrowcolor": "black",
          "arrowhead": 2,
          "ax": 0,
          "ay": -10,
          "font": {
           "color": "black",
           "size": 12
          },
          "showarrow": true,
          "text": "65",
          "x": 60.6716537475586,
          "y": 68.28423156738282
         },
         {
          "arrowcolor": "black",
          "arrowhead": 2,
          "ax": 0,
          "ay": -10,
          "font": {
           "color": "black",
           "size": 12
          },
          "showarrow": true,
          "text": "66",
          "x": 75.83956718444826,
          "y": 68.28423156738282
         },
         {
          "arrowcolor": "black",
          "arrowhead": 2,
          "ax": 0,
          "ay": -10,
          "font": {
           "color": "black",
           "size": 12
          },
          "showarrow": true,
          "text": "67",
          "x": 91.0074806213379,
          "y": 68.28423156738282
         },
         {
          "arrowcolor": "black",
          "arrowhead": 2,
          "ax": 0,
          "ay": -10,
          "font": {
           "color": "black",
           "size": 12
          },
          "showarrow": true,
          "text": "68",
          "x": 106.17539405822755,
          "y": 68.28423156738282
         },
         {
          "arrowcolor": "black",
          "arrowhead": 2,
          "ax": 0,
          "ay": -10,
          "font": {
           "color": "black",
           "size": 12
          },
          "showarrow": true,
          "text": "69",
          "x": 121.3433074951172,
          "y": 68.28423156738282
         },
         {
          "arrowcolor": "black",
          "arrowhead": 2,
          "ax": 0,
          "ay": -10,
          "font": {
           "color": "black",
           "size": 12
          },
          "showarrow": true,
          "text": "70",
          "x": 136.51122093200686,
          "y": 68.28423156738282
         },
         {
          "arrowcolor": "black",
          "arrowhead": 2,
          "ax": 0,
          "ay": -10,
          "font": {
           "color": "black",
           "size": 12
          },
          "showarrow": true,
          "text": "71",
          "x": 0,
          "y": 79.66493682861329
         },
         {
          "arrowcolor": "black",
          "arrowhead": 2,
          "ax": 0,
          "ay": -10,
          "font": {
           "color": "black",
           "size": 12
          },
          "showarrow": true,
          "text": "72",
          "x": 15.16791343688965,
          "y": 79.66493682861329
         },
         {
          "arrowcolor": "black",
          "arrowhead": 2,
          "ax": 0,
          "ay": -10,
          "font": {
           "color": "black",
           "size": 12
          },
          "showarrow": true,
          "text": "73",
          "x": 30.3358268737793,
          "y": 79.66493682861329
         },
         {
          "arrowcolor": "black",
          "arrowhead": 2,
          "ax": 0,
          "ay": -10,
          "font": {
           "color": "black",
           "size": 12
          },
          "showarrow": true,
          "text": "74",
          "x": 45.50374031066895,
          "y": 79.66493682861329
         },
         {
          "arrowcolor": "black",
          "arrowhead": 2,
          "ax": 0,
          "ay": -10,
          "font": {
           "color": "black",
           "size": 12
          },
          "showarrow": true,
          "text": "75",
          "x": 60.6716537475586,
          "y": 79.66493682861329
         },
         {
          "arrowcolor": "black",
          "arrowhead": 2,
          "ax": 0,
          "ay": -10,
          "font": {
           "color": "black",
           "size": 12
          },
          "showarrow": true,
          "text": "76",
          "x": 75.83956718444826,
          "y": 79.66493682861329
         },
         {
          "arrowcolor": "black",
          "arrowhead": 2,
          "ax": 0,
          "ay": -10,
          "font": {
           "color": "black",
           "size": 12
          },
          "showarrow": true,
          "text": "77",
          "x": 91.0074806213379,
          "y": 79.66493682861329
         },
         {
          "arrowcolor": "black",
          "arrowhead": 2,
          "ax": 0,
          "ay": -10,
          "font": {
           "color": "black",
           "size": 12
          },
          "showarrow": true,
          "text": "78",
          "x": 106.17539405822755,
          "y": 79.66493682861329
         },
         {
          "arrowcolor": "black",
          "arrowhead": 2,
          "ax": 0,
          "ay": -10,
          "font": {
           "color": "black",
           "size": 12
          },
          "showarrow": true,
          "text": "79",
          "x": 121.3433074951172,
          "y": 79.66493682861329
         },
         {
          "arrowcolor": "black",
          "arrowhead": 2,
          "ax": 0,
          "ay": -10,
          "font": {
           "color": "black",
           "size": 12
          },
          "showarrow": true,
          "text": "80",
          "x": 136.51122093200686,
          "y": 79.66493682861329
         },
         {
          "arrowcolor": "black",
          "arrowhead": 2,
          "ax": 0,
          "ay": -10,
          "font": {
           "color": "black",
           "size": 12
          },
          "showarrow": true,
          "text": "81",
          "x": 0,
          "y": 91.04564208984377
         },
         {
          "arrowcolor": "black",
          "arrowhead": 2,
          "ax": 0,
          "ay": -10,
          "font": {
           "color": "black",
           "size": 12
          },
          "showarrow": true,
          "text": "82",
          "x": 15.16791343688965,
          "y": 91.04564208984377
         },
         {
          "arrowcolor": "black",
          "arrowhead": 2,
          "ax": 0,
          "ay": -10,
          "font": {
           "color": "black",
           "size": 12
          },
          "showarrow": true,
          "text": "83",
          "x": 30.3358268737793,
          "y": 91.04564208984377
         },
         {
          "arrowcolor": "black",
          "arrowhead": 2,
          "ax": 0,
          "ay": -10,
          "font": {
           "color": "black",
           "size": 12
          },
          "showarrow": true,
          "text": "84",
          "x": 45.50374031066895,
          "y": 91.04564208984377
         },
         {
          "arrowcolor": "black",
          "arrowhead": 2,
          "ax": 0,
          "ay": -10,
          "font": {
           "color": "black",
           "size": 12
          },
          "showarrow": true,
          "text": "85",
          "x": 60.6716537475586,
          "y": 91.04564208984377
         },
         {
          "arrowcolor": "black",
          "arrowhead": 2,
          "ax": 0,
          "ay": -10,
          "font": {
           "color": "black",
           "size": 12
          },
          "showarrow": true,
          "text": "86",
          "x": 75.83956718444826,
          "y": 91.04564208984377
         },
         {
          "arrowcolor": "black",
          "arrowhead": 2,
          "ax": 0,
          "ay": -10,
          "font": {
           "color": "black",
           "size": 12
          },
          "showarrow": true,
          "text": "87",
          "x": 91.0074806213379,
          "y": 91.04564208984377
         },
         {
          "arrowcolor": "black",
          "arrowhead": 2,
          "ax": 0,
          "ay": -10,
          "font": {
           "color": "black",
           "size": 12
          },
          "showarrow": true,
          "text": "88",
          "x": 106.17539405822755,
          "y": 91.04564208984377
         },
         {
          "arrowcolor": "black",
          "arrowhead": 2,
          "ax": 0,
          "ay": -10,
          "font": {
           "color": "black",
           "size": 12
          },
          "showarrow": true,
          "text": "89",
          "x": 121.3433074951172,
          "y": 91.04564208984377
         },
         {
          "arrowcolor": "black",
          "arrowhead": 2,
          "ax": 0,
          "ay": -10,
          "font": {
           "color": "black",
           "size": 12
          },
          "showarrow": true,
          "text": "90",
          "x": 136.51122093200686,
          "y": 91.04564208984377
         },
         {
          "arrowcolor": "black",
          "arrowhead": 2,
          "ax": 0,
          "ay": -10,
          "font": {
           "color": "black",
           "size": 12
          },
          "showarrow": true,
          "text": "91",
          "x": 0,
          "y": 102.42634735107424
         },
         {
          "arrowcolor": "black",
          "arrowhead": 2,
          "ax": 0,
          "ay": -10,
          "font": {
           "color": "black",
           "size": 12
          },
          "showarrow": true,
          "text": "92",
          "x": 15.16791343688965,
          "y": 102.42634735107424
         },
         {
          "arrowcolor": "black",
          "arrowhead": 2,
          "ax": 0,
          "ay": -10,
          "font": {
           "color": "black",
           "size": 12
          },
          "showarrow": true,
          "text": "93",
          "x": 30.3358268737793,
          "y": 102.42634735107424
         },
         {
          "arrowcolor": "black",
          "arrowhead": 2,
          "ax": 0,
          "ay": -10,
          "font": {
           "color": "black",
           "size": 12
          },
          "showarrow": true,
          "text": "94",
          "x": 45.50374031066895,
          "y": 102.42634735107424
         },
         {
          "arrowcolor": "black",
          "arrowhead": 2,
          "ax": 0,
          "ay": -10,
          "font": {
           "color": "black",
           "size": 12
          },
          "showarrow": true,
          "text": "95",
          "x": 60.6716537475586,
          "y": 102.42634735107424
         },
         {
          "arrowcolor": "black",
          "arrowhead": 2,
          "ax": 0,
          "ay": -10,
          "font": {
           "color": "black",
           "size": 12
          },
          "showarrow": true,
          "text": "96",
          "x": 75.83956718444826,
          "y": 102.42634735107424
         },
         {
          "arrowcolor": "black",
          "arrowhead": 2,
          "ax": 0,
          "ay": -10,
          "font": {
           "color": "black",
           "size": 12
          },
          "showarrow": true,
          "text": "97",
          "x": 91.0074806213379,
          "y": 102.42634735107424
         },
         {
          "arrowcolor": "black",
          "arrowhead": 2,
          "ax": 0,
          "ay": -10,
          "font": {
           "color": "black",
           "size": 12
          },
          "showarrow": true,
          "text": "98",
          "x": 106.17539405822755,
          "y": 102.42634735107424
         },
         {
          "arrowcolor": "black",
          "arrowhead": 2,
          "ax": 0,
          "ay": -10,
          "font": {
           "color": "black",
           "size": 12
          },
          "showarrow": true,
          "text": "99",
          "x": 121.3433074951172,
          "y": 102.42634735107424
         },
         {
          "arrowcolor": "black",
          "arrowhead": 2,
          "ax": 0,
          "ay": -10,
          "font": {
           "color": "black",
           "size": 12
          },
          "showarrow": true,
          "text": "100",
          "x": 136.51122093200686,
          "y": 102.42634735107424
         },
         {
          "arrowcolor": "black",
          "arrowhead": 2,
          "ax": 0,
          "ay": -10,
          "font": {
           "color": "black",
           "size": 12
          },
          "showarrow": true,
          "text": "101",
          "x": 0,
          "y": 113.80705261230472
         },
         {
          "arrowcolor": "black",
          "arrowhead": 2,
          "ax": 0,
          "ay": -10,
          "font": {
           "color": "black",
           "size": 12
          },
          "showarrow": true,
          "text": "102",
          "x": 15.16791343688965,
          "y": 113.80705261230472
         },
         {
          "arrowcolor": "black",
          "arrowhead": 2,
          "ax": 0,
          "ay": -10,
          "font": {
           "color": "black",
           "size": 12
          },
          "showarrow": true,
          "text": "103",
          "x": 30.3358268737793,
          "y": 113.80705261230472
         },
         {
          "arrowcolor": "black",
          "arrowhead": 2,
          "ax": 0,
          "ay": -10,
          "font": {
           "color": "black",
           "size": 12
          },
          "showarrow": true,
          "text": "104",
          "x": 45.50374031066895,
          "y": 113.80705261230472
         },
         {
          "arrowcolor": "black",
          "arrowhead": 2,
          "ax": 0,
          "ay": -10,
          "font": {
           "color": "black",
           "size": 12
          },
          "showarrow": true,
          "text": "105",
          "x": 60.6716537475586,
          "y": 113.80705261230472
         },
         {
          "arrowcolor": "black",
          "arrowhead": 2,
          "ax": 0,
          "ay": -10,
          "font": {
           "color": "black",
           "size": 12
          },
          "showarrow": true,
          "text": "106",
          "x": 75.83956718444826,
          "y": 113.80705261230472
         },
         {
          "arrowcolor": "black",
          "arrowhead": 2,
          "ax": 0,
          "ay": -10,
          "font": {
           "color": "black",
           "size": 12
          },
          "showarrow": true,
          "text": "107",
          "x": 91.0074806213379,
          "y": 113.80705261230472
         },
         {
          "arrowcolor": "black",
          "arrowhead": 2,
          "ax": 0,
          "ay": -10,
          "font": {
           "color": "black",
           "size": 12
          },
          "showarrow": true,
          "text": "108",
          "x": 106.17539405822755,
          "y": 113.80705261230472
         },
         {
          "arrowcolor": "black",
          "arrowhead": 2,
          "ax": 0,
          "ay": -10,
          "font": {
           "color": "black",
           "size": 12
          },
          "showarrow": true,
          "text": "109",
          "x": 121.3433074951172,
          "y": 113.80705261230472
         },
         {
          "arrowcolor": "black",
          "arrowhead": 2,
          "ax": 0,
          "ay": -10,
          "font": {
           "color": "black",
           "size": 12
          },
          "showarrow": true,
          "text": "110",
          "x": 136.51122093200686,
          "y": 113.80705261230472
         },
         {
          "arrowcolor": "black",
          "arrowhead": 2,
          "ax": 0,
          "ay": -10,
          "font": {
           "color": "black",
           "size": 12
          },
          "showarrow": true,
          "text": "111",
          "x": 0,
          "y": 125.18775787353518
         },
         {
          "arrowcolor": "black",
          "arrowhead": 2,
          "ax": 0,
          "ay": -10,
          "font": {
           "color": "black",
           "size": 12
          },
          "showarrow": true,
          "text": "112",
          "x": 15.16791343688965,
          "y": 125.18775787353518
         },
         {
          "arrowcolor": "black",
          "arrowhead": 2,
          "ax": 0,
          "ay": -10,
          "font": {
           "color": "black",
           "size": 12
          },
          "showarrow": true,
          "text": "113",
          "x": 30.3358268737793,
          "y": 125.18775787353518
         },
         {
          "arrowcolor": "black",
          "arrowhead": 2,
          "ax": 0,
          "ay": -10,
          "font": {
           "color": "black",
           "size": 12
          },
          "showarrow": true,
          "text": "114",
          "x": 45.50374031066895,
          "y": 125.18775787353518
         },
         {
          "arrowcolor": "black",
          "arrowhead": 2,
          "ax": 0,
          "ay": -10,
          "font": {
           "color": "black",
           "size": 12
          },
          "showarrow": true,
          "text": "115",
          "x": 60.6716537475586,
          "y": 125.18775787353518
         },
         {
          "arrowcolor": "black",
          "arrowhead": 2,
          "ax": 0,
          "ay": -10,
          "font": {
           "color": "black",
           "size": 12
          },
          "showarrow": true,
          "text": "116",
          "x": 75.83956718444826,
          "y": 125.18775787353518
         },
         {
          "arrowcolor": "black",
          "arrowhead": 2,
          "ax": 0,
          "ay": -10,
          "font": {
           "color": "black",
           "size": 12
          },
          "showarrow": true,
          "text": "117",
          "x": 91.0074806213379,
          "y": 125.18775787353518
         },
         {
          "arrowcolor": "black",
          "arrowhead": 2,
          "ax": 0,
          "ay": -10,
          "font": {
           "color": "black",
           "size": 12
          },
          "showarrow": true,
          "text": "118",
          "x": 106.17539405822755,
          "y": 125.18775787353518
         },
         {
          "arrowcolor": "black",
          "arrowhead": 2,
          "ax": 0,
          "ay": -10,
          "font": {
           "color": "black",
           "size": 12
          },
          "showarrow": true,
          "text": "119",
          "x": 121.3433074951172,
          "y": 125.18775787353518
         },
         {
          "arrowcolor": "black",
          "arrowhead": 2,
          "ax": 0,
          "ay": -10,
          "font": {
           "color": "black",
           "size": 12
          },
          "showarrow": true,
          "text": "120",
          "x": 136.51122093200686,
          "y": 125.18775787353518
         },
         {
          "arrowcolor": "black",
          "arrowhead": 2,
          "ax": 0,
          "ay": -10,
          "font": {
           "color": "black",
           "size": 12
          },
          "showarrow": true,
          "text": "121",
          "x": 0,
          "y": 136.56846313476564
         },
         {
          "arrowcolor": "black",
          "arrowhead": 2,
          "ax": 0,
          "ay": -10,
          "font": {
           "color": "black",
           "size": 12
          },
          "showarrow": true,
          "text": "122",
          "x": 15.16791343688965,
          "y": 136.56846313476564
         },
         {
          "arrowcolor": "black",
          "arrowhead": 2,
          "ax": 0,
          "ay": -10,
          "font": {
           "color": "black",
           "size": 12
          },
          "showarrow": true,
          "text": "123",
          "x": 30.3358268737793,
          "y": 136.56846313476564
         },
         {
          "arrowcolor": "black",
          "arrowhead": 2,
          "ax": 0,
          "ay": -10,
          "font": {
           "color": "black",
           "size": 12
          },
          "showarrow": true,
          "text": "124",
          "x": 45.50374031066895,
          "y": 136.56846313476564
         },
         {
          "arrowcolor": "black",
          "arrowhead": 2,
          "ax": 0,
          "ay": -10,
          "font": {
           "color": "black",
           "size": 12
          },
          "showarrow": true,
          "text": "125",
          "x": 60.6716537475586,
          "y": 136.56846313476564
         },
         {
          "arrowcolor": "black",
          "arrowhead": 2,
          "ax": 0,
          "ay": -10,
          "font": {
           "color": "black",
           "size": 12
          },
          "showarrow": true,
          "text": "126",
          "x": 75.83956718444826,
          "y": 136.56846313476564
         },
         {
          "arrowcolor": "black",
          "arrowhead": 2,
          "ax": 0,
          "ay": -10,
          "font": {
           "color": "black",
           "size": 12
          },
          "showarrow": true,
          "text": "127",
          "x": 91.0074806213379,
          "y": 136.56846313476564
         },
         {
          "arrowcolor": "black",
          "arrowhead": 2,
          "ax": 0,
          "ay": -10,
          "font": {
           "color": "black",
           "size": 12
          },
          "showarrow": true,
          "text": "128",
          "x": 106.17539405822755,
          "y": 136.56846313476564
         },
         {
          "arrowcolor": "black",
          "arrowhead": 2,
          "ax": 0,
          "ay": -10,
          "font": {
           "color": "black",
           "size": 12
          },
          "showarrow": true,
          "text": "129",
          "x": 121.3433074951172,
          "y": 136.56846313476564
         },
         {
          "arrowcolor": "black",
          "arrowhead": 2,
          "ax": 0,
          "ay": -10,
          "font": {
           "color": "black",
           "size": 12
          },
          "showarrow": true,
          "text": "130",
          "x": 136.51122093200686,
          "y": 136.56846313476564
         },
         {
          "arrowcolor": "black",
          "arrowhead": 2,
          "ax": 0,
          "ay": -10,
          "font": {
           "color": "black",
           "size": 12
          },
          "showarrow": true,
          "text": "131",
          "x": 0,
          "y": 147.9491683959961
         },
         {
          "arrowcolor": "black",
          "arrowhead": 2,
          "ax": 0,
          "ay": -10,
          "font": {
           "color": "black",
           "size": 12
          },
          "showarrow": true,
          "text": "132",
          "x": 15.16791343688965,
          "y": 147.9491683959961
         },
         {
          "arrowcolor": "black",
          "arrowhead": 2,
          "ax": 0,
          "ay": -10,
          "font": {
           "color": "black",
           "size": 12
          },
          "showarrow": true,
          "text": "133",
          "x": 30.3358268737793,
          "y": 147.9491683959961
         },
         {
          "arrowcolor": "black",
          "arrowhead": 2,
          "ax": 0,
          "ay": -10,
          "font": {
           "color": "black",
           "size": 12
          },
          "showarrow": true,
          "text": "134",
          "x": 45.50374031066895,
          "y": 147.9491683959961
         },
         {
          "arrowcolor": "black",
          "arrowhead": 2,
          "ax": 0,
          "ay": -10,
          "font": {
           "color": "black",
           "size": 12
          },
          "showarrow": true,
          "text": "135",
          "x": 60.6716537475586,
          "y": 147.9491683959961
         },
         {
          "arrowcolor": "black",
          "arrowhead": 2,
          "ax": 0,
          "ay": -10,
          "font": {
           "color": "black",
           "size": 12
          },
          "showarrow": true,
          "text": "136",
          "x": 75.83956718444826,
          "y": 147.9491683959961
         },
         {
          "arrowcolor": "black",
          "arrowhead": 2,
          "ax": 0,
          "ay": -10,
          "font": {
           "color": "black",
           "size": 12
          },
          "showarrow": true,
          "text": "137",
          "x": 91.0074806213379,
          "y": 147.9491683959961
         },
         {
          "arrowcolor": "black",
          "arrowhead": 2,
          "ax": 0,
          "ay": -10,
          "font": {
           "color": "black",
           "size": 12
          },
          "showarrow": true,
          "text": "138",
          "x": 106.17539405822755,
          "y": 147.9491683959961
         },
         {
          "arrowcolor": "black",
          "arrowhead": 2,
          "ax": 0,
          "ay": -10,
          "font": {
           "color": "black",
           "size": 12
          },
          "showarrow": true,
          "text": "139",
          "x": 121.3433074951172,
          "y": 147.9491683959961
         },
         {
          "arrowcolor": "black",
          "arrowhead": 2,
          "ax": 0,
          "ay": -10,
          "font": {
           "color": "black",
           "size": 12
          },
          "showarrow": true,
          "text": "140",
          "x": 136.51122093200686,
          "y": 147.9491683959961
         }
        ],
        "height": 800,
        "margin": {
         "b": 0,
         "l": 0,
         "r": 0,
         "t": 50
        },
        "showlegend": false,
        "template": {
         "data": {
          "bar": [
           {
            "error_x": {
             "color": "#2a3f5f"
            },
            "error_y": {
             "color": "#2a3f5f"
            },
            "marker": {
             "line": {
              "color": "#E5ECF6",
              "width": 0.5
             },
             "pattern": {
              "fillmode": "overlay",
              "size": 10,
              "solidity": 0.2
             }
            },
            "type": "bar"
           }
          ],
          "barpolar": [
           {
            "marker": {
             "line": {
              "color": "#E5ECF6",
              "width": 0.5
             },
             "pattern": {
              "fillmode": "overlay",
              "size": 10,
              "solidity": 0.2
             }
            },
            "type": "barpolar"
           }
          ],
          "carpet": [
           {
            "aaxis": {
             "endlinecolor": "#2a3f5f",
             "gridcolor": "white",
             "linecolor": "white",
             "minorgridcolor": "white",
             "startlinecolor": "#2a3f5f"
            },
            "baxis": {
             "endlinecolor": "#2a3f5f",
             "gridcolor": "white",
             "linecolor": "white",
             "minorgridcolor": "white",
             "startlinecolor": "#2a3f5f"
            },
            "type": "carpet"
           }
          ],
          "choropleth": [
           {
            "colorbar": {
             "outlinewidth": 0,
             "ticks": ""
            },
            "type": "choropleth"
           }
          ],
          "contour": [
           {
            "colorbar": {
             "outlinewidth": 0,
             "ticks": ""
            },
            "colorscale": [
             [
              0,
              "#0d0887"
             ],
             [
              0.1111111111111111,
              "#46039f"
             ],
             [
              0.2222222222222222,
              "#7201a8"
             ],
             [
              0.3333333333333333,
              "#9c179e"
             ],
             [
              0.4444444444444444,
              "#bd3786"
             ],
             [
              0.5555555555555556,
              "#d8576b"
             ],
             [
              0.6666666666666666,
              "#ed7953"
             ],
             [
              0.7777777777777778,
              "#fb9f3a"
             ],
             [
              0.8888888888888888,
              "#fdca26"
             ],
             [
              1,
              "#f0f921"
             ]
            ],
            "type": "contour"
           }
          ],
          "contourcarpet": [
           {
            "colorbar": {
             "outlinewidth": 0,
             "ticks": ""
            },
            "type": "contourcarpet"
           }
          ],
          "heatmap": [
           {
            "colorbar": {
             "outlinewidth": 0,
             "ticks": ""
            },
            "colorscale": [
             [
              0,
              "#0d0887"
             ],
             [
              0.1111111111111111,
              "#46039f"
             ],
             [
              0.2222222222222222,
              "#7201a8"
             ],
             [
              0.3333333333333333,
              "#9c179e"
             ],
             [
              0.4444444444444444,
              "#bd3786"
             ],
             [
              0.5555555555555556,
              "#d8576b"
             ],
             [
              0.6666666666666666,
              "#ed7953"
             ],
             [
              0.7777777777777778,
              "#fb9f3a"
             ],
             [
              0.8888888888888888,
              "#fdca26"
             ],
             [
              1,
              "#f0f921"
             ]
            ],
            "type": "heatmap"
           }
          ],
          "heatmapgl": [
           {
            "colorbar": {
             "outlinewidth": 0,
             "ticks": ""
            },
            "colorscale": [
             [
              0,
              "#0d0887"
             ],
             [
              0.1111111111111111,
              "#46039f"
             ],
             [
              0.2222222222222222,
              "#7201a8"
             ],
             [
              0.3333333333333333,
              "#9c179e"
             ],
             [
              0.4444444444444444,
              "#bd3786"
             ],
             [
              0.5555555555555556,
              "#d8576b"
             ],
             [
              0.6666666666666666,
              "#ed7953"
             ],
             [
              0.7777777777777778,
              "#fb9f3a"
             ],
             [
              0.8888888888888888,
              "#fdca26"
             ],
             [
              1,
              "#f0f921"
             ]
            ],
            "type": "heatmapgl"
           }
          ],
          "histogram": [
           {
            "marker": {
             "pattern": {
              "fillmode": "overlay",
              "size": 10,
              "solidity": 0.2
             }
            },
            "type": "histogram"
           }
          ],
          "histogram2d": [
           {
            "colorbar": {
             "outlinewidth": 0,
             "ticks": ""
            },
            "colorscale": [
             [
              0,
              "#0d0887"
             ],
             [
              0.1111111111111111,
              "#46039f"
             ],
             [
              0.2222222222222222,
              "#7201a8"
             ],
             [
              0.3333333333333333,
              "#9c179e"
             ],
             [
              0.4444444444444444,
              "#bd3786"
             ],
             [
              0.5555555555555556,
              "#d8576b"
             ],
             [
              0.6666666666666666,
              "#ed7953"
             ],
             [
              0.7777777777777778,
              "#fb9f3a"
             ],
             [
              0.8888888888888888,
              "#fdca26"
             ],
             [
              1,
              "#f0f921"
             ]
            ],
            "type": "histogram2d"
           }
          ],
          "histogram2dcontour": [
           {
            "colorbar": {
             "outlinewidth": 0,
             "ticks": ""
            },
            "colorscale": [
             [
              0,
              "#0d0887"
             ],
             [
              0.1111111111111111,
              "#46039f"
             ],
             [
              0.2222222222222222,
              "#7201a8"
             ],
             [
              0.3333333333333333,
              "#9c179e"
             ],
             [
              0.4444444444444444,
              "#bd3786"
             ],
             [
              0.5555555555555556,
              "#d8576b"
             ],
             [
              0.6666666666666666,
              "#ed7953"
             ],
             [
              0.7777777777777778,
              "#fb9f3a"
             ],
             [
              0.8888888888888888,
              "#fdca26"
             ],
             [
              1,
              "#f0f921"
             ]
            ],
            "type": "histogram2dcontour"
           }
          ],
          "mesh3d": [
           {
            "colorbar": {
             "outlinewidth": 0,
             "ticks": ""
            },
            "type": "mesh3d"
           }
          ],
          "parcoords": [
           {
            "line": {
             "colorbar": {
              "outlinewidth": 0,
              "ticks": ""
             }
            },
            "type": "parcoords"
           }
          ],
          "pie": [
           {
            "automargin": true,
            "type": "pie"
           }
          ],
          "scatter": [
           {
            "fillpattern": {
             "fillmode": "overlay",
             "size": 10,
             "solidity": 0.2
            },
            "type": "scatter"
           }
          ],
          "scatter3d": [
           {
            "line": {
             "colorbar": {
              "outlinewidth": 0,
              "ticks": ""
             }
            },
            "marker": {
             "colorbar": {
              "outlinewidth": 0,
              "ticks": ""
             }
            },
            "type": "scatter3d"
           }
          ],
          "scattercarpet": [
           {
            "marker": {
             "colorbar": {
              "outlinewidth": 0,
              "ticks": ""
             }
            },
            "type": "scattercarpet"
           }
          ],
          "scattergeo": [
           {
            "marker": {
             "colorbar": {
              "outlinewidth": 0,
              "ticks": ""
             }
            },
            "type": "scattergeo"
           }
          ],
          "scattergl": [
           {
            "marker": {
             "colorbar": {
              "outlinewidth": 0,
              "ticks": ""
             }
            },
            "type": "scattergl"
           }
          ],
          "scattermapbox": [
           {
            "marker": {
             "colorbar": {
              "outlinewidth": 0,
              "ticks": ""
             }
            },
            "type": "scattermapbox"
           }
          ],
          "scatterpolar": [
           {
            "marker": {
             "colorbar": {
              "outlinewidth": 0,
              "ticks": ""
             }
            },
            "type": "scatterpolar"
           }
          ],
          "scatterpolargl": [
           {
            "marker": {
             "colorbar": {
              "outlinewidth": 0,
              "ticks": ""
             }
            },
            "type": "scatterpolargl"
           }
          ],
          "scatterternary": [
           {
            "marker": {
             "colorbar": {
              "outlinewidth": 0,
              "ticks": ""
             }
            },
            "type": "scatterternary"
           }
          ],
          "surface": [
           {
            "colorbar": {
             "outlinewidth": 0,
             "ticks": ""
            },
            "colorscale": [
             [
              0,
              "#0d0887"
             ],
             [
              0.1111111111111111,
              "#46039f"
             ],
             [
              0.2222222222222222,
              "#7201a8"
             ],
             [
              0.3333333333333333,
              "#9c179e"
             ],
             [
              0.4444444444444444,
              "#bd3786"
             ],
             [
              0.5555555555555556,
              "#d8576b"
             ],
             [
              0.6666666666666666,
              "#ed7953"
             ],
             [
              0.7777777777777778,
              "#fb9f3a"
             ],
             [
              0.8888888888888888,
              "#fdca26"
             ],
             [
              1,
              "#f0f921"
             ]
            ],
            "type": "surface"
           }
          ],
          "table": [
           {
            "cells": {
             "fill": {
              "color": "#EBF0F8"
             },
             "line": {
              "color": "white"
             }
            },
            "header": {
             "fill": {
              "color": "#C8D4E3"
             },
             "line": {
              "color": "white"
             }
            },
            "type": "table"
           }
          ]
         },
         "layout": {
          "annotationdefaults": {
           "arrowcolor": "#2a3f5f",
           "arrowhead": 0,
           "arrowwidth": 1
          },
          "autotypenumbers": "strict",
          "coloraxis": {
           "colorbar": {
            "outlinewidth": 0,
            "ticks": ""
           }
          },
          "colorscale": {
           "diverging": [
            [
             0,
             "#8e0152"
            ],
            [
             0.1,
             "#c51b7d"
            ],
            [
             0.2,
             "#de77ae"
            ],
            [
             0.3,
             "#f1b6da"
            ],
            [
             0.4,
             "#fde0ef"
            ],
            [
             0.5,
             "#f7f7f7"
            ],
            [
             0.6,
             "#e6f5d0"
            ],
            [
             0.7,
             "#b8e186"
            ],
            [
             0.8,
             "#7fbc41"
            ],
            [
             0.9,
             "#4d9221"
            ],
            [
             1,
             "#276419"
            ]
           ],
           "sequential": [
            [
             0,
             "#0d0887"
            ],
            [
             0.1111111111111111,
             "#46039f"
            ],
            [
             0.2222222222222222,
             "#7201a8"
            ],
            [
             0.3333333333333333,
             "#9c179e"
            ],
            [
             0.4444444444444444,
             "#bd3786"
            ],
            [
             0.5555555555555556,
             "#d8576b"
            ],
            [
             0.6666666666666666,
             "#ed7953"
            ],
            [
             0.7777777777777778,
             "#fb9f3a"
            ],
            [
             0.8888888888888888,
             "#fdca26"
            ],
            [
             1,
             "#f0f921"
            ]
           ],
           "sequentialminus": [
            [
             0,
             "#0d0887"
            ],
            [
             0.1111111111111111,
             "#46039f"
            ],
            [
             0.2222222222222222,
             "#7201a8"
            ],
            [
             0.3333333333333333,
             "#9c179e"
            ],
            [
             0.4444444444444444,
             "#bd3786"
            ],
            [
             0.5555555555555556,
             "#d8576b"
            ],
            [
             0.6666666666666666,
             "#ed7953"
            ],
            [
             0.7777777777777778,
             "#fb9f3a"
            ],
            [
             0.8888888888888888,
             "#fdca26"
            ],
            [
             1,
             "#f0f921"
            ]
           ]
          },
          "colorway": [
           "#636efa",
           "#EF553B",
           "#00cc96",
           "#ab63fa",
           "#FFA15A",
           "#19d3f3",
           "#FF6692",
           "#B6E880",
           "#FF97FF",
           "#FECB52"
          ],
          "font": {
           "color": "#2a3f5f"
          },
          "geo": {
           "bgcolor": "white",
           "lakecolor": "white",
           "landcolor": "#E5ECF6",
           "showlakes": true,
           "showland": true,
           "subunitcolor": "white"
          },
          "hoverlabel": {
           "align": "left"
          },
          "hovermode": "closest",
          "mapbox": {
           "style": "light"
          },
          "paper_bgcolor": "white",
          "plot_bgcolor": "#E5ECF6",
          "polar": {
           "angularaxis": {
            "gridcolor": "white",
            "linecolor": "white",
            "ticks": ""
           },
           "bgcolor": "#E5ECF6",
           "radialaxis": {
            "gridcolor": "white",
            "linecolor": "white",
            "ticks": ""
           }
          },
          "scene": {
           "xaxis": {
            "backgroundcolor": "#E5ECF6",
            "gridcolor": "white",
            "gridwidth": 2,
            "linecolor": "white",
            "showbackground": true,
            "ticks": "",
            "zerolinecolor": "white"
           },
           "yaxis": {
            "backgroundcolor": "#E5ECF6",
            "gridcolor": "white",
            "gridwidth": 2,
            "linecolor": "white",
            "showbackground": true,
            "ticks": "",
            "zerolinecolor": "white"
           },
           "zaxis": {
            "backgroundcolor": "#E5ECF6",
            "gridcolor": "white",
            "gridwidth": 2,
            "linecolor": "white",
            "showbackground": true,
            "ticks": "",
            "zerolinecolor": "white"
           }
          },
          "shapedefaults": {
           "line": {
            "color": "#2a3f5f"
           }
          },
          "ternary": {
           "aaxis": {
            "gridcolor": "white",
            "linecolor": "white",
            "ticks": ""
           },
           "baxis": {
            "gridcolor": "white",
            "linecolor": "white",
            "ticks": ""
           },
           "bgcolor": "#E5ECF6",
           "caxis": {
            "gridcolor": "white",
            "linecolor": "white",
            "ticks": ""
           }
          },
          "title": {
           "x": 0.05
          },
          "xaxis": {
           "automargin": true,
           "gridcolor": "white",
           "linecolor": "white",
           "ticks": "",
           "title": {
            "standoff": 15
           },
           "zerolinecolor": "white",
           "zerolinewidth": 2
          },
          "yaxis": {
           "automargin": true,
           "gridcolor": "white",
           "linecolor": "white",
           "ticks": "",
           "title": {
            "standoff": 15
           },
           "zerolinecolor": "white",
           "zerolinewidth": 2
          }
         }
        },
        "title": {
         "text": "2D Flight Plan"
        },
        "xaxis": {
         "title": {
          "text": "X (meters)"
         }
        },
        "yaxis": {
         "title": {
          "text": "Y (meters)"
         }
        }
       }
      }
     },
     "metadata": {},
     "output_type": "display_data"
    },
    {
     "data": {
      "application/vnd.plotly.v1+json": {
       "config": {
        "plotlyServerURL": "https://plot.ly"
       },
       "data": [
        {
         "line": {
          "color": "blue",
          "width": 2
         },
         "marker": {
          "color": "blue",
          "opacity": 0.8,
          "size": 6
         },
         "mode": "markers+lines",
         "name": "Flight Path",
         "type": "scatter",
         "x": [
          0,
          15.16791343688965,
          30.3358268737793,
          45.50374031066895,
          60.6716537475586,
          75.83956718444826,
          91.0074806213379,
          106.17539405822755,
          121.3433074951172,
          136.51122093200686,
          0,
          15.16791343688965,
          30.3358268737793,
          45.50374031066895,
          60.6716537475586,
          75.83956718444826,
          91.0074806213379,
          106.17539405822755,
          121.3433074951172,
          136.51122093200686,
          0,
          15.16791343688965,
          30.3358268737793,
          45.50374031066895,
          60.6716537475586,
          75.83956718444826,
          91.0074806213379,
          106.17539405822755,
          121.3433074951172,
          136.51122093200686,
          0,
          15.16791343688965,
          30.3358268737793,
          45.50374031066895,
          60.6716537475586,
          75.83956718444826,
          91.0074806213379,
          106.17539405822755,
          121.3433074951172,
          136.51122093200686,
          0,
          15.16791343688965,
          30.3358268737793,
          45.50374031066895,
          60.6716537475586,
          75.83956718444826,
          91.0074806213379,
          106.17539405822755,
          121.3433074951172,
          136.51122093200686,
          0,
          15.16791343688965,
          30.3358268737793,
          45.50374031066895,
          60.6716537475586,
          75.83956718444826,
          91.0074806213379,
          106.17539405822755,
          121.3433074951172,
          136.51122093200686,
          0,
          15.16791343688965,
          30.3358268737793,
          45.50374031066895,
          60.6716537475586,
          75.83956718444826,
          91.0074806213379,
          106.17539405822755,
          121.3433074951172,
          136.51122093200686,
          0,
          15.16791343688965,
          30.3358268737793,
          45.50374031066895,
          60.6716537475586,
          75.83956718444826,
          91.0074806213379,
          106.17539405822755,
          121.3433074951172,
          136.51122093200686,
          0,
          15.16791343688965,
          30.3358268737793,
          45.50374031066895,
          60.6716537475586,
          75.83956718444826,
          91.0074806213379,
          106.17539405822755,
          121.3433074951172,
          136.51122093200686,
          0,
          15.16791343688965,
          30.3358268737793,
          45.50374031066895,
          60.6716537475586,
          75.83956718444826,
          91.0074806213379,
          106.17539405822755,
          121.3433074951172,
          136.51122093200686,
          0,
          15.16791343688965,
          30.3358268737793,
          45.50374031066895,
          60.6716537475586,
          75.83956718444826,
          91.0074806213379,
          106.17539405822755,
          121.3433074951172,
          136.51122093200686,
          0,
          15.16791343688965,
          30.3358268737793,
          45.50374031066895,
          60.6716537475586,
          75.83956718444826,
          91.0074806213379,
          106.17539405822755,
          121.3433074951172,
          136.51122093200686,
          0,
          15.16791343688965,
          30.3358268737793,
          45.50374031066895,
          60.6716537475586,
          75.83956718444826,
          91.0074806213379,
          106.17539405822755,
          121.3433074951172,
          136.51122093200686,
          0,
          15.16791343688965,
          30.3358268737793,
          45.50374031066895,
          60.6716537475586,
          75.83956718444826,
          91.0074806213379,
          106.17539405822755,
          121.3433074951172,
          136.51122093200686
         ],
         "y": [
          0,
          0,
          0,
          0,
          0,
          0,
          0,
          0,
          0,
          0,
          11.38070526123047,
          11.38070526123047,
          11.38070526123047,
          11.38070526123047,
          11.38070526123047,
          11.38070526123047,
          11.38070526123047,
          11.38070526123047,
          11.38070526123047,
          11.38070526123047,
          22.76141052246094,
          22.76141052246094,
          22.76141052246094,
          22.76141052246094,
          22.76141052246094,
          22.76141052246094,
          22.76141052246094,
          22.76141052246094,
          22.76141052246094,
          22.76141052246094,
          34.14211578369141,
          34.14211578369141,
          34.14211578369141,
          34.14211578369141,
          34.14211578369141,
          34.14211578369141,
          34.14211578369141,
          34.14211578369141,
          34.14211578369141,
          34.14211578369141,
          45.52282104492188,
          45.52282104492188,
          45.52282104492188,
          45.52282104492188,
          45.52282104492188,
          45.52282104492188,
          45.52282104492188,
          45.52282104492188,
          45.52282104492188,
          45.52282104492188,
          56.90352630615236,
          56.90352630615236,
          56.90352630615236,
          56.90352630615236,
          56.90352630615236,
          56.90352630615236,
          56.90352630615236,
          56.90352630615236,
          56.90352630615236,
          56.90352630615236,
          68.28423156738282,
          68.28423156738282,
          68.28423156738282,
          68.28423156738282,
          68.28423156738282,
          68.28423156738282,
          68.28423156738282,
          68.28423156738282,
          68.28423156738282,
          68.28423156738282,
          79.66493682861329,
          79.66493682861329,
          79.66493682861329,
          79.66493682861329,
          79.66493682861329,
          79.66493682861329,
          79.66493682861329,
          79.66493682861329,
          79.66493682861329,
          79.66493682861329,
          91.04564208984377,
          91.04564208984377,
          91.04564208984377,
          91.04564208984377,
          91.04564208984377,
          91.04564208984377,
          91.04564208984377,
          91.04564208984377,
          91.04564208984377,
          91.04564208984377,
          102.42634735107424,
          102.42634735107424,
          102.42634735107424,
          102.42634735107424,
          102.42634735107424,
          102.42634735107424,
          102.42634735107424,
          102.42634735107424,
          102.42634735107424,
          102.42634735107424,
          113.80705261230472,
          113.80705261230472,
          113.80705261230472,
          113.80705261230472,
          113.80705261230472,
          113.80705261230472,
          113.80705261230472,
          113.80705261230472,
          113.80705261230472,
          113.80705261230472,
          125.18775787353518,
          125.18775787353518,
          125.18775787353518,
          125.18775787353518,
          125.18775787353518,
          125.18775787353518,
          125.18775787353518,
          125.18775787353518,
          125.18775787353518,
          125.18775787353518,
          136.56846313476564,
          136.56846313476564,
          136.56846313476564,
          136.56846313476564,
          136.56846313476564,
          136.56846313476564,
          136.56846313476564,
          136.56846313476564,
          136.56846313476564,
          136.56846313476564,
          147.9491683959961,
          147.9491683959961,
          147.9491683959961,
          147.9491683959961,
          147.9491683959961,
          147.9491683959961,
          147.9491683959961,
          147.9491683959961,
          147.9491683959961,
          147.9491683959961
         ]
        }
       ],
       "layout": {
        "annotations": [
         {
          "arrowcolor": "black",
          "arrowhead": 2,
          "ax": 0,
          "ay": -10,
          "font": {
           "color": "black",
           "size": 12
          },
          "showarrow": true,
          "text": "1",
          "x": 0,
          "y": 0
         },
         {
          "arrowcolor": "black",
          "arrowhead": 2,
          "ax": 0,
          "ay": -10,
          "font": {
           "color": "black",
           "size": 12
          },
          "showarrow": true,
          "text": "2",
          "x": 15.16791343688965,
          "y": 0
         },
         {
          "arrowcolor": "black",
          "arrowhead": 2,
          "ax": 0,
          "ay": -10,
          "font": {
           "color": "black",
           "size": 12
          },
          "showarrow": true,
          "text": "3",
          "x": 30.3358268737793,
          "y": 0
         },
         {
          "arrowcolor": "black",
          "arrowhead": 2,
          "ax": 0,
          "ay": -10,
          "font": {
           "color": "black",
           "size": 12
          },
          "showarrow": true,
          "text": "4",
          "x": 45.50374031066895,
          "y": 0
         },
         {
          "arrowcolor": "black",
          "arrowhead": 2,
          "ax": 0,
          "ay": -10,
          "font": {
           "color": "black",
           "size": 12
          },
          "showarrow": true,
          "text": "5",
          "x": 60.6716537475586,
          "y": 0
         },
         {
          "arrowcolor": "black",
          "arrowhead": 2,
          "ax": 0,
          "ay": -10,
          "font": {
           "color": "black",
           "size": 12
          },
          "showarrow": true,
          "text": "6",
          "x": 75.83956718444826,
          "y": 0
         },
         {
          "arrowcolor": "black",
          "arrowhead": 2,
          "ax": 0,
          "ay": -10,
          "font": {
           "color": "black",
           "size": 12
          },
          "showarrow": true,
          "text": "7",
          "x": 91.0074806213379,
          "y": 0
         },
         {
          "arrowcolor": "black",
          "arrowhead": 2,
          "ax": 0,
          "ay": -10,
          "font": {
           "color": "black",
           "size": 12
          },
          "showarrow": true,
          "text": "8",
          "x": 106.17539405822755,
          "y": 0
         },
         {
          "arrowcolor": "black",
          "arrowhead": 2,
          "ax": 0,
          "ay": -10,
          "font": {
           "color": "black",
           "size": 12
          },
          "showarrow": true,
          "text": "9",
          "x": 121.3433074951172,
          "y": 0
         },
         {
          "arrowcolor": "black",
          "arrowhead": 2,
          "ax": 0,
          "ay": -10,
          "font": {
           "color": "black",
           "size": 12
          },
          "showarrow": true,
          "text": "10",
          "x": 136.51122093200686,
          "y": 0
         },
         {
          "arrowcolor": "black",
          "arrowhead": 2,
          "ax": 0,
          "ay": -10,
          "font": {
           "color": "black",
           "size": 12
          },
          "showarrow": true,
          "text": "11",
          "x": 0,
          "y": 11.38070526123047
         },
         {
          "arrowcolor": "black",
          "arrowhead": 2,
          "ax": 0,
          "ay": -10,
          "font": {
           "color": "black",
           "size": 12
          },
          "showarrow": true,
          "text": "12",
          "x": 15.16791343688965,
          "y": 11.38070526123047
         },
         {
          "arrowcolor": "black",
          "arrowhead": 2,
          "ax": 0,
          "ay": -10,
          "font": {
           "color": "black",
           "size": 12
          },
          "showarrow": true,
          "text": "13",
          "x": 30.3358268737793,
          "y": 11.38070526123047
         },
         {
          "arrowcolor": "black",
          "arrowhead": 2,
          "ax": 0,
          "ay": -10,
          "font": {
           "color": "black",
           "size": 12
          },
          "showarrow": true,
          "text": "14",
          "x": 45.50374031066895,
          "y": 11.38070526123047
         },
         {
          "arrowcolor": "black",
          "arrowhead": 2,
          "ax": 0,
          "ay": -10,
          "font": {
           "color": "black",
           "size": 12
          },
          "showarrow": true,
          "text": "15",
          "x": 60.6716537475586,
          "y": 11.38070526123047
         },
         {
          "arrowcolor": "black",
          "arrowhead": 2,
          "ax": 0,
          "ay": -10,
          "font": {
           "color": "black",
           "size": 12
          },
          "showarrow": true,
          "text": "16",
          "x": 75.83956718444826,
          "y": 11.38070526123047
         },
         {
          "arrowcolor": "black",
          "arrowhead": 2,
          "ax": 0,
          "ay": -10,
          "font": {
           "color": "black",
           "size": 12
          },
          "showarrow": true,
          "text": "17",
          "x": 91.0074806213379,
          "y": 11.38070526123047
         },
         {
          "arrowcolor": "black",
          "arrowhead": 2,
          "ax": 0,
          "ay": -10,
          "font": {
           "color": "black",
           "size": 12
          },
          "showarrow": true,
          "text": "18",
          "x": 106.17539405822755,
          "y": 11.38070526123047
         },
         {
          "arrowcolor": "black",
          "arrowhead": 2,
          "ax": 0,
          "ay": -10,
          "font": {
           "color": "black",
           "size": 12
          },
          "showarrow": true,
          "text": "19",
          "x": 121.3433074951172,
          "y": 11.38070526123047
         },
         {
          "arrowcolor": "black",
          "arrowhead": 2,
          "ax": 0,
          "ay": -10,
          "font": {
           "color": "black",
           "size": 12
          },
          "showarrow": true,
          "text": "20",
          "x": 136.51122093200686,
          "y": 11.38070526123047
         },
         {
          "arrowcolor": "black",
          "arrowhead": 2,
          "ax": 0,
          "ay": -10,
          "font": {
           "color": "black",
           "size": 12
          },
          "showarrow": true,
          "text": "21",
          "x": 0,
          "y": 22.76141052246094
         },
         {
          "arrowcolor": "black",
          "arrowhead": 2,
          "ax": 0,
          "ay": -10,
          "font": {
           "color": "black",
           "size": 12
          },
          "showarrow": true,
          "text": "22",
          "x": 15.16791343688965,
          "y": 22.76141052246094
         },
         {
          "arrowcolor": "black",
          "arrowhead": 2,
          "ax": 0,
          "ay": -10,
          "font": {
           "color": "black",
           "size": 12
          },
          "showarrow": true,
          "text": "23",
          "x": 30.3358268737793,
          "y": 22.76141052246094
         },
         {
          "arrowcolor": "black",
          "arrowhead": 2,
          "ax": 0,
          "ay": -10,
          "font": {
           "color": "black",
           "size": 12
          },
          "showarrow": true,
          "text": "24",
          "x": 45.50374031066895,
          "y": 22.76141052246094
         },
         {
          "arrowcolor": "black",
          "arrowhead": 2,
          "ax": 0,
          "ay": -10,
          "font": {
           "color": "black",
           "size": 12
          },
          "showarrow": true,
          "text": "25",
          "x": 60.6716537475586,
          "y": 22.76141052246094
         },
         {
          "arrowcolor": "black",
          "arrowhead": 2,
          "ax": 0,
          "ay": -10,
          "font": {
           "color": "black",
           "size": 12
          },
          "showarrow": true,
          "text": "26",
          "x": 75.83956718444826,
          "y": 22.76141052246094
         },
         {
          "arrowcolor": "black",
          "arrowhead": 2,
          "ax": 0,
          "ay": -10,
          "font": {
           "color": "black",
           "size": 12
          },
          "showarrow": true,
          "text": "27",
          "x": 91.0074806213379,
          "y": 22.76141052246094
         },
         {
          "arrowcolor": "black",
          "arrowhead": 2,
          "ax": 0,
          "ay": -10,
          "font": {
           "color": "black",
           "size": 12
          },
          "showarrow": true,
          "text": "28",
          "x": 106.17539405822755,
          "y": 22.76141052246094
         },
         {
          "arrowcolor": "black",
          "arrowhead": 2,
          "ax": 0,
          "ay": -10,
          "font": {
           "color": "black",
           "size": 12
          },
          "showarrow": true,
          "text": "29",
          "x": 121.3433074951172,
          "y": 22.76141052246094
         },
         {
          "arrowcolor": "black",
          "arrowhead": 2,
          "ax": 0,
          "ay": -10,
          "font": {
           "color": "black",
           "size": 12
          },
          "showarrow": true,
          "text": "30",
          "x": 136.51122093200686,
          "y": 22.76141052246094
         },
         {
          "arrowcolor": "black",
          "arrowhead": 2,
          "ax": 0,
          "ay": -10,
          "font": {
           "color": "black",
           "size": 12
          },
          "showarrow": true,
          "text": "31",
          "x": 0,
          "y": 34.14211578369141
         },
         {
          "arrowcolor": "black",
          "arrowhead": 2,
          "ax": 0,
          "ay": -10,
          "font": {
           "color": "black",
           "size": 12
          },
          "showarrow": true,
          "text": "32",
          "x": 15.16791343688965,
          "y": 34.14211578369141
         },
         {
          "arrowcolor": "black",
          "arrowhead": 2,
          "ax": 0,
          "ay": -10,
          "font": {
           "color": "black",
           "size": 12
          },
          "showarrow": true,
          "text": "33",
          "x": 30.3358268737793,
          "y": 34.14211578369141
         },
         {
          "arrowcolor": "black",
          "arrowhead": 2,
          "ax": 0,
          "ay": -10,
          "font": {
           "color": "black",
           "size": 12
          },
          "showarrow": true,
          "text": "34",
          "x": 45.50374031066895,
          "y": 34.14211578369141
         },
         {
          "arrowcolor": "black",
          "arrowhead": 2,
          "ax": 0,
          "ay": -10,
          "font": {
           "color": "black",
           "size": 12
          },
          "showarrow": true,
          "text": "35",
          "x": 60.6716537475586,
          "y": 34.14211578369141
         },
         {
          "arrowcolor": "black",
          "arrowhead": 2,
          "ax": 0,
          "ay": -10,
          "font": {
           "color": "black",
           "size": 12
          },
          "showarrow": true,
          "text": "36",
          "x": 75.83956718444826,
          "y": 34.14211578369141
         },
         {
          "arrowcolor": "black",
          "arrowhead": 2,
          "ax": 0,
          "ay": -10,
          "font": {
           "color": "black",
           "size": 12
          },
          "showarrow": true,
          "text": "37",
          "x": 91.0074806213379,
          "y": 34.14211578369141
         },
         {
          "arrowcolor": "black",
          "arrowhead": 2,
          "ax": 0,
          "ay": -10,
          "font": {
           "color": "black",
           "size": 12
          },
          "showarrow": true,
          "text": "38",
          "x": 106.17539405822755,
          "y": 34.14211578369141
         },
         {
          "arrowcolor": "black",
          "arrowhead": 2,
          "ax": 0,
          "ay": -10,
          "font": {
           "color": "black",
           "size": 12
          },
          "showarrow": true,
          "text": "39",
          "x": 121.3433074951172,
          "y": 34.14211578369141
         },
         {
          "arrowcolor": "black",
          "arrowhead": 2,
          "ax": 0,
          "ay": -10,
          "font": {
           "color": "black",
           "size": 12
          },
          "showarrow": true,
          "text": "40",
          "x": 136.51122093200686,
          "y": 34.14211578369141
         },
         {
          "arrowcolor": "black",
          "arrowhead": 2,
          "ax": 0,
          "ay": -10,
          "font": {
           "color": "black",
           "size": 12
          },
          "showarrow": true,
          "text": "41",
          "x": 0,
          "y": 45.52282104492188
         },
         {
          "arrowcolor": "black",
          "arrowhead": 2,
          "ax": 0,
          "ay": -10,
          "font": {
           "color": "black",
           "size": 12
          },
          "showarrow": true,
          "text": "42",
          "x": 15.16791343688965,
          "y": 45.52282104492188
         },
         {
          "arrowcolor": "black",
          "arrowhead": 2,
          "ax": 0,
          "ay": -10,
          "font": {
           "color": "black",
           "size": 12
          },
          "showarrow": true,
          "text": "43",
          "x": 30.3358268737793,
          "y": 45.52282104492188
         },
         {
          "arrowcolor": "black",
          "arrowhead": 2,
          "ax": 0,
          "ay": -10,
          "font": {
           "color": "black",
           "size": 12
          },
          "showarrow": true,
          "text": "44",
          "x": 45.50374031066895,
          "y": 45.52282104492188
         },
         {
          "arrowcolor": "black",
          "arrowhead": 2,
          "ax": 0,
          "ay": -10,
          "font": {
           "color": "black",
           "size": 12
          },
          "showarrow": true,
          "text": "45",
          "x": 60.6716537475586,
          "y": 45.52282104492188
         },
         {
          "arrowcolor": "black",
          "arrowhead": 2,
          "ax": 0,
          "ay": -10,
          "font": {
           "color": "black",
           "size": 12
          },
          "showarrow": true,
          "text": "46",
          "x": 75.83956718444826,
          "y": 45.52282104492188
         },
         {
          "arrowcolor": "black",
          "arrowhead": 2,
          "ax": 0,
          "ay": -10,
          "font": {
           "color": "black",
           "size": 12
          },
          "showarrow": true,
          "text": "47",
          "x": 91.0074806213379,
          "y": 45.52282104492188
         },
         {
          "arrowcolor": "black",
          "arrowhead": 2,
          "ax": 0,
          "ay": -10,
          "font": {
           "color": "black",
           "size": 12
          },
          "showarrow": true,
          "text": "48",
          "x": 106.17539405822755,
          "y": 45.52282104492188
         },
         {
          "arrowcolor": "black",
          "arrowhead": 2,
          "ax": 0,
          "ay": -10,
          "font": {
           "color": "black",
           "size": 12
          },
          "showarrow": true,
          "text": "49",
          "x": 121.3433074951172,
          "y": 45.52282104492188
         },
         {
          "arrowcolor": "black",
          "arrowhead": 2,
          "ax": 0,
          "ay": -10,
          "font": {
           "color": "black",
           "size": 12
          },
          "showarrow": true,
          "text": "50",
          "x": 136.51122093200686,
          "y": 45.52282104492188
         },
         {
          "arrowcolor": "black",
          "arrowhead": 2,
          "ax": 0,
          "ay": -10,
          "font": {
           "color": "black",
           "size": 12
          },
          "showarrow": true,
          "text": "51",
          "x": 0,
          "y": 56.90352630615236
         },
         {
          "arrowcolor": "black",
          "arrowhead": 2,
          "ax": 0,
          "ay": -10,
          "font": {
           "color": "black",
           "size": 12
          },
          "showarrow": true,
          "text": "52",
          "x": 15.16791343688965,
          "y": 56.90352630615236
         },
         {
          "arrowcolor": "black",
          "arrowhead": 2,
          "ax": 0,
          "ay": -10,
          "font": {
           "color": "black",
           "size": 12
          },
          "showarrow": true,
          "text": "53",
          "x": 30.3358268737793,
          "y": 56.90352630615236
         },
         {
          "arrowcolor": "black",
          "arrowhead": 2,
          "ax": 0,
          "ay": -10,
          "font": {
           "color": "black",
           "size": 12
          },
          "showarrow": true,
          "text": "54",
          "x": 45.50374031066895,
          "y": 56.90352630615236
         },
         {
          "arrowcolor": "black",
          "arrowhead": 2,
          "ax": 0,
          "ay": -10,
          "font": {
           "color": "black",
           "size": 12
          },
          "showarrow": true,
          "text": "55",
          "x": 60.6716537475586,
          "y": 56.90352630615236
         },
         {
          "arrowcolor": "black",
          "arrowhead": 2,
          "ax": 0,
          "ay": -10,
          "font": {
           "color": "black",
           "size": 12
          },
          "showarrow": true,
          "text": "56",
          "x": 75.83956718444826,
          "y": 56.90352630615236
         },
         {
          "arrowcolor": "black",
          "arrowhead": 2,
          "ax": 0,
          "ay": -10,
          "font": {
           "color": "black",
           "size": 12
          },
          "showarrow": true,
          "text": "57",
          "x": 91.0074806213379,
          "y": 56.90352630615236
         },
         {
          "arrowcolor": "black",
          "arrowhead": 2,
          "ax": 0,
          "ay": -10,
          "font": {
           "color": "black",
           "size": 12
          },
          "showarrow": true,
          "text": "58",
          "x": 106.17539405822755,
          "y": 56.90352630615236
         },
         {
          "arrowcolor": "black",
          "arrowhead": 2,
          "ax": 0,
          "ay": -10,
          "font": {
           "color": "black",
           "size": 12
          },
          "showarrow": true,
          "text": "59",
          "x": 121.3433074951172,
          "y": 56.90352630615236
         },
         {
          "arrowcolor": "black",
          "arrowhead": 2,
          "ax": 0,
          "ay": -10,
          "font": {
           "color": "black",
           "size": 12
          },
          "showarrow": true,
          "text": "60",
          "x": 136.51122093200686,
          "y": 56.90352630615236
         },
         {
          "arrowcolor": "black",
          "arrowhead": 2,
          "ax": 0,
          "ay": -10,
          "font": {
           "color": "black",
           "size": 12
          },
          "showarrow": true,
          "text": "61",
          "x": 0,
          "y": 68.28423156738282
         },
         {
          "arrowcolor": "black",
          "arrowhead": 2,
          "ax": 0,
          "ay": -10,
          "font": {
           "color": "black",
           "size": 12
          },
          "showarrow": true,
          "text": "62",
          "x": 15.16791343688965,
          "y": 68.28423156738282
         },
         {
          "arrowcolor": "black",
          "arrowhead": 2,
          "ax": 0,
          "ay": -10,
          "font": {
           "color": "black",
           "size": 12
          },
          "showarrow": true,
          "text": "63",
          "x": 30.3358268737793,
          "y": 68.28423156738282
         },
         {
          "arrowcolor": "black",
          "arrowhead": 2,
          "ax": 0,
          "ay": -10,
          "font": {
           "color": "black",
           "size": 12
          },
          "showarrow": true,
          "text": "64",
          "x": 45.50374031066895,
          "y": 68.28423156738282
         },
         {
          "arrowcolor": "black",
          "arrowhead": 2,
          "ax": 0,
          "ay": -10,
          "font": {
           "color": "black",
           "size": 12
          },
          "showarrow": true,
          "text": "65",
          "x": 60.6716537475586,
          "y": 68.28423156738282
         },
         {
          "arrowcolor": "black",
          "arrowhead": 2,
          "ax": 0,
          "ay": -10,
          "font": {
           "color": "black",
           "size": 12
          },
          "showarrow": true,
          "text": "66",
          "x": 75.83956718444826,
          "y": 68.28423156738282
         },
         {
          "arrowcolor": "black",
          "arrowhead": 2,
          "ax": 0,
          "ay": -10,
          "font": {
           "color": "black",
           "size": 12
          },
          "showarrow": true,
          "text": "67",
          "x": 91.0074806213379,
          "y": 68.28423156738282
         },
         {
          "arrowcolor": "black",
          "arrowhead": 2,
          "ax": 0,
          "ay": -10,
          "font": {
           "color": "black",
           "size": 12
          },
          "showarrow": true,
          "text": "68",
          "x": 106.17539405822755,
          "y": 68.28423156738282
         },
         {
          "arrowcolor": "black",
          "arrowhead": 2,
          "ax": 0,
          "ay": -10,
          "font": {
           "color": "black",
           "size": 12
          },
          "showarrow": true,
          "text": "69",
          "x": 121.3433074951172,
          "y": 68.28423156738282
         },
         {
          "arrowcolor": "black",
          "arrowhead": 2,
          "ax": 0,
          "ay": -10,
          "font": {
           "color": "black",
           "size": 12
          },
          "showarrow": true,
          "text": "70",
          "x": 136.51122093200686,
          "y": 68.28423156738282
         },
         {
          "arrowcolor": "black",
          "arrowhead": 2,
          "ax": 0,
          "ay": -10,
          "font": {
           "color": "black",
           "size": 12
          },
          "showarrow": true,
          "text": "71",
          "x": 0,
          "y": 79.66493682861329
         },
         {
          "arrowcolor": "black",
          "arrowhead": 2,
          "ax": 0,
          "ay": -10,
          "font": {
           "color": "black",
           "size": 12
          },
          "showarrow": true,
          "text": "72",
          "x": 15.16791343688965,
          "y": 79.66493682861329
         },
         {
          "arrowcolor": "black",
          "arrowhead": 2,
          "ax": 0,
          "ay": -10,
          "font": {
           "color": "black",
           "size": 12
          },
          "showarrow": true,
          "text": "73",
          "x": 30.3358268737793,
          "y": 79.66493682861329
         },
         {
          "arrowcolor": "black",
          "arrowhead": 2,
          "ax": 0,
          "ay": -10,
          "font": {
           "color": "black",
           "size": 12
          },
          "showarrow": true,
          "text": "74",
          "x": 45.50374031066895,
          "y": 79.66493682861329
         },
         {
          "arrowcolor": "black",
          "arrowhead": 2,
          "ax": 0,
          "ay": -10,
          "font": {
           "color": "black",
           "size": 12
          },
          "showarrow": true,
          "text": "75",
          "x": 60.6716537475586,
          "y": 79.66493682861329
         },
         {
          "arrowcolor": "black",
          "arrowhead": 2,
          "ax": 0,
          "ay": -10,
          "font": {
           "color": "black",
           "size": 12
          },
          "showarrow": true,
          "text": "76",
          "x": 75.83956718444826,
          "y": 79.66493682861329
         },
         {
          "arrowcolor": "black",
          "arrowhead": 2,
          "ax": 0,
          "ay": -10,
          "font": {
           "color": "black",
           "size": 12
          },
          "showarrow": true,
          "text": "77",
          "x": 91.0074806213379,
          "y": 79.66493682861329
         },
         {
          "arrowcolor": "black",
          "arrowhead": 2,
          "ax": 0,
          "ay": -10,
          "font": {
           "color": "black",
           "size": 12
          },
          "showarrow": true,
          "text": "78",
          "x": 106.17539405822755,
          "y": 79.66493682861329
         },
         {
          "arrowcolor": "black",
          "arrowhead": 2,
          "ax": 0,
          "ay": -10,
          "font": {
           "color": "black",
           "size": 12
          },
          "showarrow": true,
          "text": "79",
          "x": 121.3433074951172,
          "y": 79.66493682861329
         },
         {
          "arrowcolor": "black",
          "arrowhead": 2,
          "ax": 0,
          "ay": -10,
          "font": {
           "color": "black",
           "size": 12
          },
          "showarrow": true,
          "text": "80",
          "x": 136.51122093200686,
          "y": 79.66493682861329
         },
         {
          "arrowcolor": "black",
          "arrowhead": 2,
          "ax": 0,
          "ay": -10,
          "font": {
           "color": "black",
           "size": 12
          },
          "showarrow": true,
          "text": "81",
          "x": 0,
          "y": 91.04564208984377
         },
         {
          "arrowcolor": "black",
          "arrowhead": 2,
          "ax": 0,
          "ay": -10,
          "font": {
           "color": "black",
           "size": 12
          },
          "showarrow": true,
          "text": "82",
          "x": 15.16791343688965,
          "y": 91.04564208984377
         },
         {
          "arrowcolor": "black",
          "arrowhead": 2,
          "ax": 0,
          "ay": -10,
          "font": {
           "color": "black",
           "size": 12
          },
          "showarrow": true,
          "text": "83",
          "x": 30.3358268737793,
          "y": 91.04564208984377
         },
         {
          "arrowcolor": "black",
          "arrowhead": 2,
          "ax": 0,
          "ay": -10,
          "font": {
           "color": "black",
           "size": 12
          },
          "showarrow": true,
          "text": "84",
          "x": 45.50374031066895,
          "y": 91.04564208984377
         },
         {
          "arrowcolor": "black",
          "arrowhead": 2,
          "ax": 0,
          "ay": -10,
          "font": {
           "color": "black",
           "size": 12
          },
          "showarrow": true,
          "text": "85",
          "x": 60.6716537475586,
          "y": 91.04564208984377
         },
         {
          "arrowcolor": "black",
          "arrowhead": 2,
          "ax": 0,
          "ay": -10,
          "font": {
           "color": "black",
           "size": 12
          },
          "showarrow": true,
          "text": "86",
          "x": 75.83956718444826,
          "y": 91.04564208984377
         },
         {
          "arrowcolor": "black",
          "arrowhead": 2,
          "ax": 0,
          "ay": -10,
          "font": {
           "color": "black",
           "size": 12
          },
          "showarrow": true,
          "text": "87",
          "x": 91.0074806213379,
          "y": 91.04564208984377
         },
         {
          "arrowcolor": "black",
          "arrowhead": 2,
          "ax": 0,
          "ay": -10,
          "font": {
           "color": "black",
           "size": 12
          },
          "showarrow": true,
          "text": "88",
          "x": 106.17539405822755,
          "y": 91.04564208984377
         },
         {
          "arrowcolor": "black",
          "arrowhead": 2,
          "ax": 0,
          "ay": -10,
          "font": {
           "color": "black",
           "size": 12
          },
          "showarrow": true,
          "text": "89",
          "x": 121.3433074951172,
          "y": 91.04564208984377
         },
         {
          "arrowcolor": "black",
          "arrowhead": 2,
          "ax": 0,
          "ay": -10,
          "font": {
           "color": "black",
           "size": 12
          },
          "showarrow": true,
          "text": "90",
          "x": 136.51122093200686,
          "y": 91.04564208984377
         },
         {
          "arrowcolor": "black",
          "arrowhead": 2,
          "ax": 0,
          "ay": -10,
          "font": {
           "color": "black",
           "size": 12
          },
          "showarrow": true,
          "text": "91",
          "x": 0,
          "y": 102.42634735107424
         },
         {
          "arrowcolor": "black",
          "arrowhead": 2,
          "ax": 0,
          "ay": -10,
          "font": {
           "color": "black",
           "size": 12
          },
          "showarrow": true,
          "text": "92",
          "x": 15.16791343688965,
          "y": 102.42634735107424
         },
         {
          "arrowcolor": "black",
          "arrowhead": 2,
          "ax": 0,
          "ay": -10,
          "font": {
           "color": "black",
           "size": 12
          },
          "showarrow": true,
          "text": "93",
          "x": 30.3358268737793,
          "y": 102.42634735107424
         },
         {
          "arrowcolor": "black",
          "arrowhead": 2,
          "ax": 0,
          "ay": -10,
          "font": {
           "color": "black",
           "size": 12
          },
          "showarrow": true,
          "text": "94",
          "x": 45.50374031066895,
          "y": 102.42634735107424
         },
         {
          "arrowcolor": "black",
          "arrowhead": 2,
          "ax": 0,
          "ay": -10,
          "font": {
           "color": "black",
           "size": 12
          },
          "showarrow": true,
          "text": "95",
          "x": 60.6716537475586,
          "y": 102.42634735107424
         },
         {
          "arrowcolor": "black",
          "arrowhead": 2,
          "ax": 0,
          "ay": -10,
          "font": {
           "color": "black",
           "size": 12
          },
          "showarrow": true,
          "text": "96",
          "x": 75.83956718444826,
          "y": 102.42634735107424
         },
         {
          "arrowcolor": "black",
          "arrowhead": 2,
          "ax": 0,
          "ay": -10,
          "font": {
           "color": "black",
           "size": 12
          },
          "showarrow": true,
          "text": "97",
          "x": 91.0074806213379,
          "y": 102.42634735107424
         },
         {
          "arrowcolor": "black",
          "arrowhead": 2,
          "ax": 0,
          "ay": -10,
          "font": {
           "color": "black",
           "size": 12
          },
          "showarrow": true,
          "text": "98",
          "x": 106.17539405822755,
          "y": 102.42634735107424
         },
         {
          "arrowcolor": "black",
          "arrowhead": 2,
          "ax": 0,
          "ay": -10,
          "font": {
           "color": "black",
           "size": 12
          },
          "showarrow": true,
          "text": "99",
          "x": 121.3433074951172,
          "y": 102.42634735107424
         },
         {
          "arrowcolor": "black",
          "arrowhead": 2,
          "ax": 0,
          "ay": -10,
          "font": {
           "color": "black",
           "size": 12
          },
          "showarrow": true,
          "text": "100",
          "x": 136.51122093200686,
          "y": 102.42634735107424
         },
         {
          "arrowcolor": "black",
          "arrowhead": 2,
          "ax": 0,
          "ay": -10,
          "font": {
           "color": "black",
           "size": 12
          },
          "showarrow": true,
          "text": "101",
          "x": 0,
          "y": 113.80705261230472
         },
         {
          "arrowcolor": "black",
          "arrowhead": 2,
          "ax": 0,
          "ay": -10,
          "font": {
           "color": "black",
           "size": 12
          },
          "showarrow": true,
          "text": "102",
          "x": 15.16791343688965,
          "y": 113.80705261230472
         },
         {
          "arrowcolor": "black",
          "arrowhead": 2,
          "ax": 0,
          "ay": -10,
          "font": {
           "color": "black",
           "size": 12
          },
          "showarrow": true,
          "text": "103",
          "x": 30.3358268737793,
          "y": 113.80705261230472
         },
         {
          "arrowcolor": "black",
          "arrowhead": 2,
          "ax": 0,
          "ay": -10,
          "font": {
           "color": "black",
           "size": 12
          },
          "showarrow": true,
          "text": "104",
          "x": 45.50374031066895,
          "y": 113.80705261230472
         },
         {
          "arrowcolor": "black",
          "arrowhead": 2,
          "ax": 0,
          "ay": -10,
          "font": {
           "color": "black",
           "size": 12
          },
          "showarrow": true,
          "text": "105",
          "x": 60.6716537475586,
          "y": 113.80705261230472
         },
         {
          "arrowcolor": "black",
          "arrowhead": 2,
          "ax": 0,
          "ay": -10,
          "font": {
           "color": "black",
           "size": 12
          },
          "showarrow": true,
          "text": "106",
          "x": 75.83956718444826,
          "y": 113.80705261230472
         },
         {
          "arrowcolor": "black",
          "arrowhead": 2,
          "ax": 0,
          "ay": -10,
          "font": {
           "color": "black",
           "size": 12
          },
          "showarrow": true,
          "text": "107",
          "x": 91.0074806213379,
          "y": 113.80705261230472
         },
         {
          "arrowcolor": "black",
          "arrowhead": 2,
          "ax": 0,
          "ay": -10,
          "font": {
           "color": "black",
           "size": 12
          },
          "showarrow": true,
          "text": "108",
          "x": 106.17539405822755,
          "y": 113.80705261230472
         },
         {
          "arrowcolor": "black",
          "arrowhead": 2,
          "ax": 0,
          "ay": -10,
          "font": {
           "color": "black",
           "size": 12
          },
          "showarrow": true,
          "text": "109",
          "x": 121.3433074951172,
          "y": 113.80705261230472
         },
         {
          "arrowcolor": "black",
          "arrowhead": 2,
          "ax": 0,
          "ay": -10,
          "font": {
           "color": "black",
           "size": 12
          },
          "showarrow": true,
          "text": "110",
          "x": 136.51122093200686,
          "y": 113.80705261230472
         },
         {
          "arrowcolor": "black",
          "arrowhead": 2,
          "ax": 0,
          "ay": -10,
          "font": {
           "color": "black",
           "size": 12
          },
          "showarrow": true,
          "text": "111",
          "x": 0,
          "y": 125.18775787353518
         },
         {
          "arrowcolor": "black",
          "arrowhead": 2,
          "ax": 0,
          "ay": -10,
          "font": {
           "color": "black",
           "size": 12
          },
          "showarrow": true,
          "text": "112",
          "x": 15.16791343688965,
          "y": 125.18775787353518
         },
         {
          "arrowcolor": "black",
          "arrowhead": 2,
          "ax": 0,
          "ay": -10,
          "font": {
           "color": "black",
           "size": 12
          },
          "showarrow": true,
          "text": "113",
          "x": 30.3358268737793,
          "y": 125.18775787353518
         },
         {
          "arrowcolor": "black",
          "arrowhead": 2,
          "ax": 0,
          "ay": -10,
          "font": {
           "color": "black",
           "size": 12
          },
          "showarrow": true,
          "text": "114",
          "x": 45.50374031066895,
          "y": 125.18775787353518
         },
         {
          "arrowcolor": "black",
          "arrowhead": 2,
          "ax": 0,
          "ay": -10,
          "font": {
           "color": "black",
           "size": 12
          },
          "showarrow": true,
          "text": "115",
          "x": 60.6716537475586,
          "y": 125.18775787353518
         },
         {
          "arrowcolor": "black",
          "arrowhead": 2,
          "ax": 0,
          "ay": -10,
          "font": {
           "color": "black",
           "size": 12
          },
          "showarrow": true,
          "text": "116",
          "x": 75.83956718444826,
          "y": 125.18775787353518
         },
         {
          "arrowcolor": "black",
          "arrowhead": 2,
          "ax": 0,
          "ay": -10,
          "font": {
           "color": "black",
           "size": 12
          },
          "showarrow": true,
          "text": "117",
          "x": 91.0074806213379,
          "y": 125.18775787353518
         },
         {
          "arrowcolor": "black",
          "arrowhead": 2,
          "ax": 0,
          "ay": -10,
          "font": {
           "color": "black",
           "size": 12
          },
          "showarrow": true,
          "text": "118",
          "x": 106.17539405822755,
          "y": 125.18775787353518
         },
         {
          "arrowcolor": "black",
          "arrowhead": 2,
          "ax": 0,
          "ay": -10,
          "font": {
           "color": "black",
           "size": 12
          },
          "showarrow": true,
          "text": "119",
          "x": 121.3433074951172,
          "y": 125.18775787353518
         },
         {
          "arrowcolor": "black",
          "arrowhead": 2,
          "ax": 0,
          "ay": -10,
          "font": {
           "color": "black",
           "size": 12
          },
          "showarrow": true,
          "text": "120",
          "x": 136.51122093200686,
          "y": 125.18775787353518
         },
         {
          "arrowcolor": "black",
          "arrowhead": 2,
          "ax": 0,
          "ay": -10,
          "font": {
           "color": "black",
           "size": 12
          },
          "showarrow": true,
          "text": "121",
          "x": 0,
          "y": 136.56846313476564
         },
         {
          "arrowcolor": "black",
          "arrowhead": 2,
          "ax": 0,
          "ay": -10,
          "font": {
           "color": "black",
           "size": 12
          },
          "showarrow": true,
          "text": "122",
          "x": 15.16791343688965,
          "y": 136.56846313476564
         },
         {
          "arrowcolor": "black",
          "arrowhead": 2,
          "ax": 0,
          "ay": -10,
          "font": {
           "color": "black",
           "size": 12
          },
          "showarrow": true,
          "text": "123",
          "x": 30.3358268737793,
          "y": 136.56846313476564
         },
         {
          "arrowcolor": "black",
          "arrowhead": 2,
          "ax": 0,
          "ay": -10,
          "font": {
           "color": "black",
           "size": 12
          },
          "showarrow": true,
          "text": "124",
          "x": 45.50374031066895,
          "y": 136.56846313476564
         },
         {
          "arrowcolor": "black",
          "arrowhead": 2,
          "ax": 0,
          "ay": -10,
          "font": {
           "color": "black",
           "size": 12
          },
          "showarrow": true,
          "text": "125",
          "x": 60.6716537475586,
          "y": 136.56846313476564
         },
         {
          "arrowcolor": "black",
          "arrowhead": 2,
          "ax": 0,
          "ay": -10,
          "font": {
           "color": "black",
           "size": 12
          },
          "showarrow": true,
          "text": "126",
          "x": 75.83956718444826,
          "y": 136.56846313476564
         },
         {
          "arrowcolor": "black",
          "arrowhead": 2,
          "ax": 0,
          "ay": -10,
          "font": {
           "color": "black",
           "size": 12
          },
          "showarrow": true,
          "text": "127",
          "x": 91.0074806213379,
          "y": 136.56846313476564
         },
         {
          "arrowcolor": "black",
          "arrowhead": 2,
          "ax": 0,
          "ay": -10,
          "font": {
           "color": "black",
           "size": 12
          },
          "showarrow": true,
          "text": "128",
          "x": 106.17539405822755,
          "y": 136.56846313476564
         },
         {
          "arrowcolor": "black",
          "arrowhead": 2,
          "ax": 0,
          "ay": -10,
          "font": {
           "color": "black",
           "size": 12
          },
          "showarrow": true,
          "text": "129",
          "x": 121.3433074951172,
          "y": 136.56846313476564
         },
         {
          "arrowcolor": "black",
          "arrowhead": 2,
          "ax": 0,
          "ay": -10,
          "font": {
           "color": "black",
           "size": 12
          },
          "showarrow": true,
          "text": "130",
          "x": 136.51122093200686,
          "y": 136.56846313476564
         },
         {
          "arrowcolor": "black",
          "arrowhead": 2,
          "ax": 0,
          "ay": -10,
          "font": {
           "color": "black",
           "size": 12
          },
          "showarrow": true,
          "text": "131",
          "x": 0,
          "y": 147.9491683959961
         },
         {
          "arrowcolor": "black",
          "arrowhead": 2,
          "ax": 0,
          "ay": -10,
          "font": {
           "color": "black",
           "size": 12
          },
          "showarrow": true,
          "text": "132",
          "x": 15.16791343688965,
          "y": 147.9491683959961
         },
         {
          "arrowcolor": "black",
          "arrowhead": 2,
          "ax": 0,
          "ay": -10,
          "font": {
           "color": "black",
           "size": 12
          },
          "showarrow": true,
          "text": "133",
          "x": 30.3358268737793,
          "y": 147.9491683959961
         },
         {
          "arrowcolor": "black",
          "arrowhead": 2,
          "ax": 0,
          "ay": -10,
          "font": {
           "color": "black",
           "size": 12
          },
          "showarrow": true,
          "text": "134",
          "x": 45.50374031066895,
          "y": 147.9491683959961
         },
         {
          "arrowcolor": "black",
          "arrowhead": 2,
          "ax": 0,
          "ay": -10,
          "font": {
           "color": "black",
           "size": 12
          },
          "showarrow": true,
          "text": "135",
          "x": 60.6716537475586,
          "y": 147.9491683959961
         },
         {
          "arrowcolor": "black",
          "arrowhead": 2,
          "ax": 0,
          "ay": -10,
          "font": {
           "color": "black",
           "size": 12
          },
          "showarrow": true,
          "text": "136",
          "x": 75.83956718444826,
          "y": 147.9491683959961
         },
         {
          "arrowcolor": "black",
          "arrowhead": 2,
          "ax": 0,
          "ay": -10,
          "font": {
           "color": "black",
           "size": 12
          },
          "showarrow": true,
          "text": "137",
          "x": 91.0074806213379,
          "y": 147.9491683959961
         },
         {
          "arrowcolor": "black",
          "arrowhead": 2,
          "ax": 0,
          "ay": -10,
          "font": {
           "color": "black",
           "size": 12
          },
          "showarrow": true,
          "text": "138",
          "x": 106.17539405822755,
          "y": 147.9491683959961
         },
         {
          "arrowcolor": "black",
          "arrowhead": 2,
          "ax": 0,
          "ay": -10,
          "font": {
           "color": "black",
           "size": 12
          },
          "showarrow": true,
          "text": "139",
          "x": 121.3433074951172,
          "y": 147.9491683959961
         },
         {
          "arrowcolor": "black",
          "arrowhead": 2,
          "ax": 0,
          "ay": -10,
          "font": {
           "color": "black",
           "size": 12
          },
          "showarrow": true,
          "text": "140",
          "x": 136.51122093200686,
          "y": 147.9491683959961
         }
        ],
        "height": 800,
        "margin": {
         "b": 0,
         "l": 0,
         "r": 0,
         "t": 50
        },
        "showlegend": false,
        "template": {
         "data": {
          "bar": [
           {
            "error_x": {
             "color": "#2a3f5f"
            },
            "error_y": {
             "color": "#2a3f5f"
            },
            "marker": {
             "line": {
              "color": "#E5ECF6",
              "width": 0.5
             },
             "pattern": {
              "fillmode": "overlay",
              "size": 10,
              "solidity": 0.2
             }
            },
            "type": "bar"
           }
          ],
          "barpolar": [
           {
            "marker": {
             "line": {
              "color": "#E5ECF6",
              "width": 0.5
             },
             "pattern": {
              "fillmode": "overlay",
              "size": 10,
              "solidity": 0.2
             }
            },
            "type": "barpolar"
           }
          ],
          "carpet": [
           {
            "aaxis": {
             "endlinecolor": "#2a3f5f",
             "gridcolor": "white",
             "linecolor": "white",
             "minorgridcolor": "white",
             "startlinecolor": "#2a3f5f"
            },
            "baxis": {
             "endlinecolor": "#2a3f5f",
             "gridcolor": "white",
             "linecolor": "white",
             "minorgridcolor": "white",
             "startlinecolor": "#2a3f5f"
            },
            "type": "carpet"
           }
          ],
          "choropleth": [
           {
            "colorbar": {
             "outlinewidth": 0,
             "ticks": ""
            },
            "type": "choropleth"
           }
          ],
          "contour": [
           {
            "colorbar": {
             "outlinewidth": 0,
             "ticks": ""
            },
            "colorscale": [
             [
              0,
              "#0d0887"
             ],
             [
              0.1111111111111111,
              "#46039f"
             ],
             [
              0.2222222222222222,
              "#7201a8"
             ],
             [
              0.3333333333333333,
              "#9c179e"
             ],
             [
              0.4444444444444444,
              "#bd3786"
             ],
             [
              0.5555555555555556,
              "#d8576b"
             ],
             [
              0.6666666666666666,
              "#ed7953"
             ],
             [
              0.7777777777777778,
              "#fb9f3a"
             ],
             [
              0.8888888888888888,
              "#fdca26"
             ],
             [
              1,
              "#f0f921"
             ]
            ],
            "type": "contour"
           }
          ],
          "contourcarpet": [
           {
            "colorbar": {
             "outlinewidth": 0,
             "ticks": ""
            },
            "type": "contourcarpet"
           }
          ],
          "heatmap": [
           {
            "colorbar": {
             "outlinewidth": 0,
             "ticks": ""
            },
            "colorscale": [
             [
              0,
              "#0d0887"
             ],
             [
              0.1111111111111111,
              "#46039f"
             ],
             [
              0.2222222222222222,
              "#7201a8"
             ],
             [
              0.3333333333333333,
              "#9c179e"
             ],
             [
              0.4444444444444444,
              "#bd3786"
             ],
             [
              0.5555555555555556,
              "#d8576b"
             ],
             [
              0.6666666666666666,
              "#ed7953"
             ],
             [
              0.7777777777777778,
              "#fb9f3a"
             ],
             [
              0.8888888888888888,
              "#fdca26"
             ],
             [
              1,
              "#f0f921"
             ]
            ],
            "type": "heatmap"
           }
          ],
          "heatmapgl": [
           {
            "colorbar": {
             "outlinewidth": 0,
             "ticks": ""
            },
            "colorscale": [
             [
              0,
              "#0d0887"
             ],
             [
              0.1111111111111111,
              "#46039f"
             ],
             [
              0.2222222222222222,
              "#7201a8"
             ],
             [
              0.3333333333333333,
              "#9c179e"
             ],
             [
              0.4444444444444444,
              "#bd3786"
             ],
             [
              0.5555555555555556,
              "#d8576b"
             ],
             [
              0.6666666666666666,
              "#ed7953"
             ],
             [
              0.7777777777777778,
              "#fb9f3a"
             ],
             [
              0.8888888888888888,
              "#fdca26"
             ],
             [
              1,
              "#f0f921"
             ]
            ],
            "type": "heatmapgl"
           }
          ],
          "histogram": [
           {
            "marker": {
             "pattern": {
              "fillmode": "overlay",
              "size": 10,
              "solidity": 0.2
             }
            },
            "type": "histogram"
           }
          ],
          "histogram2d": [
           {
            "colorbar": {
             "outlinewidth": 0,
             "ticks": ""
            },
            "colorscale": [
             [
              0,
              "#0d0887"
             ],
             [
              0.1111111111111111,
              "#46039f"
             ],
             [
              0.2222222222222222,
              "#7201a8"
             ],
             [
              0.3333333333333333,
              "#9c179e"
             ],
             [
              0.4444444444444444,
              "#bd3786"
             ],
             [
              0.5555555555555556,
              "#d8576b"
             ],
             [
              0.6666666666666666,
              "#ed7953"
             ],
             [
              0.7777777777777778,
              "#fb9f3a"
             ],
             [
              0.8888888888888888,
              "#fdca26"
             ],
             [
              1,
              "#f0f921"
             ]
            ],
            "type": "histogram2d"
           }
          ],
          "histogram2dcontour": [
           {
            "colorbar": {
             "outlinewidth": 0,
             "ticks": ""
            },
            "colorscale": [
             [
              0,
              "#0d0887"
             ],
             [
              0.1111111111111111,
              "#46039f"
             ],
             [
              0.2222222222222222,
              "#7201a8"
             ],
             [
              0.3333333333333333,
              "#9c179e"
             ],
             [
              0.4444444444444444,
              "#bd3786"
             ],
             [
              0.5555555555555556,
              "#d8576b"
             ],
             [
              0.6666666666666666,
              "#ed7953"
             ],
             [
              0.7777777777777778,
              "#fb9f3a"
             ],
             [
              0.8888888888888888,
              "#fdca26"
             ],
             [
              1,
              "#f0f921"
             ]
            ],
            "type": "histogram2dcontour"
           }
          ],
          "mesh3d": [
           {
            "colorbar": {
             "outlinewidth": 0,
             "ticks": ""
            },
            "type": "mesh3d"
           }
          ],
          "parcoords": [
           {
            "line": {
             "colorbar": {
              "outlinewidth": 0,
              "ticks": ""
             }
            },
            "type": "parcoords"
           }
          ],
          "pie": [
           {
            "automargin": true,
            "type": "pie"
           }
          ],
          "scatter": [
           {
            "fillpattern": {
             "fillmode": "overlay",
             "size": 10,
             "solidity": 0.2
            },
            "type": "scatter"
           }
          ],
          "scatter3d": [
           {
            "line": {
             "colorbar": {
              "outlinewidth": 0,
              "ticks": ""
             }
            },
            "marker": {
             "colorbar": {
              "outlinewidth": 0,
              "ticks": ""
             }
            },
            "type": "scatter3d"
           }
          ],
          "scattercarpet": [
           {
            "marker": {
             "colorbar": {
              "outlinewidth": 0,
              "ticks": ""
             }
            },
            "type": "scattercarpet"
           }
          ],
          "scattergeo": [
           {
            "marker": {
             "colorbar": {
              "outlinewidth": 0,
              "ticks": ""
             }
            },
            "type": "scattergeo"
           }
          ],
          "scattergl": [
           {
            "marker": {
             "colorbar": {
              "outlinewidth": 0,
              "ticks": ""
             }
            },
            "type": "scattergl"
           }
          ],
          "scattermapbox": [
           {
            "marker": {
             "colorbar": {
              "outlinewidth": 0,
              "ticks": ""
             }
            },
            "type": "scattermapbox"
           }
          ],
          "scatterpolar": [
           {
            "marker": {
             "colorbar": {
              "outlinewidth": 0,
              "ticks": ""
             }
            },
            "type": "scatterpolar"
           }
          ],
          "scatterpolargl": [
           {
            "marker": {
             "colorbar": {
              "outlinewidth": 0,
              "ticks": ""
             }
            },
            "type": "scatterpolargl"
           }
          ],
          "scatterternary": [
           {
            "marker": {
             "colorbar": {
              "outlinewidth": 0,
              "ticks": ""
             }
            },
            "type": "scatterternary"
           }
          ],
          "surface": [
           {
            "colorbar": {
             "outlinewidth": 0,
             "ticks": ""
            },
            "colorscale": [
             [
              0,
              "#0d0887"
             ],
             [
              0.1111111111111111,
              "#46039f"
             ],
             [
              0.2222222222222222,
              "#7201a8"
             ],
             [
              0.3333333333333333,
              "#9c179e"
             ],
             [
              0.4444444444444444,
              "#bd3786"
             ],
             [
              0.5555555555555556,
              "#d8576b"
             ],
             [
              0.6666666666666666,
              "#ed7953"
             ],
             [
              0.7777777777777778,
              "#fb9f3a"
             ],
             [
              0.8888888888888888,
              "#fdca26"
             ],
             [
              1,
              "#f0f921"
             ]
            ],
            "type": "surface"
           }
          ],
          "table": [
           {
            "cells": {
             "fill": {
              "color": "#EBF0F8"
             },
             "line": {
              "color": "white"
             }
            },
            "header": {
             "fill": {
              "color": "#C8D4E3"
             },
             "line": {
              "color": "white"
             }
            },
            "type": "table"
           }
          ]
         },
         "layout": {
          "annotationdefaults": {
           "arrowcolor": "#2a3f5f",
           "arrowhead": 0,
           "arrowwidth": 1
          },
          "autotypenumbers": "strict",
          "coloraxis": {
           "colorbar": {
            "outlinewidth": 0,
            "ticks": ""
           }
          },
          "colorscale": {
           "diverging": [
            [
             0,
             "#8e0152"
            ],
            [
             0.1,
             "#c51b7d"
            ],
            [
             0.2,
             "#de77ae"
            ],
            [
             0.3,
             "#f1b6da"
            ],
            [
             0.4,
             "#fde0ef"
            ],
            [
             0.5,
             "#f7f7f7"
            ],
            [
             0.6,
             "#e6f5d0"
            ],
            [
             0.7,
             "#b8e186"
            ],
            [
             0.8,
             "#7fbc41"
            ],
            [
             0.9,
             "#4d9221"
            ],
            [
             1,
             "#276419"
            ]
           ],
           "sequential": [
            [
             0,
             "#0d0887"
            ],
            [
             0.1111111111111111,
             "#46039f"
            ],
            [
             0.2222222222222222,
             "#7201a8"
            ],
            [
             0.3333333333333333,
             "#9c179e"
            ],
            [
             0.4444444444444444,
             "#bd3786"
            ],
            [
             0.5555555555555556,
             "#d8576b"
            ],
            [
             0.6666666666666666,
             "#ed7953"
            ],
            [
             0.7777777777777778,
             "#fb9f3a"
            ],
            [
             0.8888888888888888,
             "#fdca26"
            ],
            [
             1,
             "#f0f921"
            ]
           ],
           "sequentialminus": [
            [
             0,
             "#0d0887"
            ],
            [
             0.1111111111111111,
             "#46039f"
            ],
            [
             0.2222222222222222,
             "#7201a8"
            ],
            [
             0.3333333333333333,
             "#9c179e"
            ],
            [
             0.4444444444444444,
             "#bd3786"
            ],
            [
             0.5555555555555556,
             "#d8576b"
            ],
            [
             0.6666666666666666,
             "#ed7953"
            ],
            [
             0.7777777777777778,
             "#fb9f3a"
            ],
            [
             0.8888888888888888,
             "#fdca26"
            ],
            [
             1,
             "#f0f921"
            ]
           ]
          },
          "colorway": [
           "#636efa",
           "#EF553B",
           "#00cc96",
           "#ab63fa",
           "#FFA15A",
           "#19d3f3",
           "#FF6692",
           "#B6E880",
           "#FF97FF",
           "#FECB52"
          ],
          "font": {
           "color": "#2a3f5f"
          },
          "geo": {
           "bgcolor": "white",
           "lakecolor": "white",
           "landcolor": "#E5ECF6",
           "showlakes": true,
           "showland": true,
           "subunitcolor": "white"
          },
          "hoverlabel": {
           "align": "left"
          },
          "hovermode": "closest",
          "mapbox": {
           "style": "light"
          },
          "paper_bgcolor": "white",
          "plot_bgcolor": "#E5ECF6",
          "polar": {
           "angularaxis": {
            "gridcolor": "white",
            "linecolor": "white",
            "ticks": ""
           },
           "bgcolor": "#E5ECF6",
           "radialaxis": {
            "gridcolor": "white",
            "linecolor": "white",
            "ticks": ""
           }
          },
          "scene": {
           "xaxis": {
            "backgroundcolor": "#E5ECF6",
            "gridcolor": "white",
            "gridwidth": 2,
            "linecolor": "white",
            "showbackground": true,
            "ticks": "",
            "zerolinecolor": "white"
           },
           "yaxis": {
            "backgroundcolor": "#E5ECF6",
            "gridcolor": "white",
            "gridwidth": 2,
            "linecolor": "white",
            "showbackground": true,
            "ticks": "",
            "zerolinecolor": "white"
           },
           "zaxis": {
            "backgroundcolor": "#E5ECF6",
            "gridcolor": "white",
            "gridwidth": 2,
            "linecolor": "white",
            "showbackground": true,
            "ticks": "",
            "zerolinecolor": "white"
           }
          },
          "shapedefaults": {
           "line": {
            "color": "#2a3f5f"
           }
          },
          "ternary": {
           "aaxis": {
            "gridcolor": "white",
            "linecolor": "white",
            "ticks": ""
           },
           "baxis": {
            "gridcolor": "white",
            "linecolor": "white",
            "ticks": ""
           },
           "bgcolor": "#E5ECF6",
           "caxis": {
            "gridcolor": "white",
            "linecolor": "white",
            "ticks": ""
           }
          },
          "title": {
           "x": 0.05
          },
          "xaxis": {
           "automargin": true,
           "gridcolor": "white",
           "linecolor": "white",
           "ticks": "",
           "title": {
            "standoff": 15
           },
           "zerolinecolor": "white",
           "zerolinewidth": 2
          },
          "yaxis": {
           "automargin": true,
           "gridcolor": "white",
           "linecolor": "white",
           "ticks": "",
           "title": {
            "standoff": 15
           },
           "zerolinecolor": "white",
           "zerolinewidth": 2
          }
         }
        },
        "title": {
         "text": "2D Flight Plan"
        },
        "xaxis": {
         "title": {
          "text": "X (meters)"
         }
        },
        "yaxis": {
         "title": {
          "text": "Y (meters)"
         }
        }
       }
      }
     },
     "metadata": {},
     "output_type": "display_data"
    }
   ],
   "source": [
    "fig = plot_photo_plan(computed_plan)\n",
    "fig.show()"
   ]
  },
  {
   "cell_type": "markdown",
   "id": "74ff5833-f107-4332-974c-b9294e02a1da",
   "metadata": {},
   "source": [
    "$\\color{red}{\\text{TODO: }}$ Compute the following ablations (and any other you can think of)\n",
    "\n",
    "1. Change overlap and confirm it affects the consecutive images\n",
    "2. Change sidelap and confirm it does not affect the consecutive images\n",
    "3. Change the height of the scan and document the affect on scan plans\n",
    "4. Change exposure time"
   ]
  },
  {
   "cell_type": "code",
   "execution_count": 49,
   "id": "7dbe090a-b696-4800-8373-6f4b3be02a87",
   "metadata": {},
   "outputs": [
    {
     "name": "stdout",
     "output_type": "stream",
     "text": [
      "Camera(fx=4938.56, fy=4936.49, cx=4095.5, cy=3071.5, sensor_size_x_mm=13.107, sensor_size_y_mm=9.83, image_size_x=8192, image_size_y=6144) DatasetSpec(overlap=0.7, sidelap=0.7, height=30.48, scan_dimension_x=150,scan_dimension_y=150,exposure_time_ms=1000,camera_angle=0 \n"
     ]
    },
    {
     "data": {
      "application/vnd.plotly.v1+json": {
       "config": {
        "plotlyServerURL": "https://plot.ly"
       },
       "data": [
        {
         "line": {
          "color": "blue",
          "width": 2
         },
         "marker": {
          "color": "blue",
          "opacity": 0.8,
          "size": 6
         },
         "mode": "markers+lines",
         "name": "Flight Path",
         "type": "scatter",
         "x": [
          0,
          15.16791343688965,
          30.3358268737793,
          45.50374031066895,
          60.6716537475586,
          75.83956718444826,
          91.0074806213379,
          106.17539405822755,
          121.3433074951172,
          136.51122093200686,
          0,
          15.16791343688965,
          30.3358268737793,
          45.50374031066895,
          60.6716537475586,
          75.83956718444826,
          91.0074806213379,
          106.17539405822755,
          121.3433074951172,
          136.51122093200686,
          0,
          15.16791343688965,
          30.3358268737793,
          45.50374031066895,
          60.6716537475586,
          75.83956718444826,
          91.0074806213379,
          106.17539405822755,
          121.3433074951172,
          136.51122093200686,
          0,
          15.16791343688965,
          30.3358268737793,
          45.50374031066895,
          60.6716537475586,
          75.83956718444826,
          91.0074806213379,
          106.17539405822755,
          121.3433074951172,
          136.51122093200686,
          0,
          15.16791343688965,
          30.3358268737793,
          45.50374031066895,
          60.6716537475586,
          75.83956718444826,
          91.0074806213379,
          106.17539405822755,
          121.3433074951172,
          136.51122093200686,
          0,
          15.16791343688965,
          30.3358268737793,
          45.50374031066895,
          60.6716537475586,
          75.83956718444826,
          91.0074806213379,
          106.17539405822755,
          121.3433074951172,
          136.51122093200686,
          0,
          15.16791343688965,
          30.3358268737793,
          45.50374031066895,
          60.6716537475586,
          75.83956718444826,
          91.0074806213379,
          106.17539405822755,
          121.3433074951172,
          136.51122093200686,
          0,
          15.16791343688965,
          30.3358268737793,
          45.50374031066895,
          60.6716537475586,
          75.83956718444826,
          91.0074806213379,
          106.17539405822755,
          121.3433074951172,
          136.51122093200686,
          0,
          15.16791343688965,
          30.3358268737793,
          45.50374031066895,
          60.6716537475586,
          75.83956718444826,
          91.0074806213379,
          106.17539405822755,
          121.3433074951172,
          136.51122093200686,
          0,
          15.16791343688965,
          30.3358268737793,
          45.50374031066895,
          60.6716537475586,
          75.83956718444826,
          91.0074806213379,
          106.17539405822755,
          121.3433074951172,
          136.51122093200686,
          0,
          15.16791343688965,
          30.3358268737793,
          45.50374031066895,
          60.6716537475586,
          75.83956718444826,
          91.0074806213379,
          106.17539405822755,
          121.3433074951172,
          136.51122093200686,
          0,
          15.16791343688965,
          30.3358268737793,
          45.50374031066895,
          60.6716537475586,
          75.83956718444826,
          91.0074806213379,
          106.17539405822755,
          121.3433074951172,
          136.51122093200686,
          0,
          15.16791343688965,
          30.3358268737793,
          45.50374031066895,
          60.6716537475586,
          75.83956718444826,
          91.0074806213379,
          106.17539405822755,
          121.3433074951172,
          136.51122093200686,
          0,
          15.16791343688965,
          30.3358268737793,
          45.50374031066895,
          60.6716537475586,
          75.83956718444826,
          91.0074806213379,
          106.17539405822755,
          121.3433074951172,
          136.51122093200686
         ],
         "y": [
          0,
          0,
          0,
          0,
          0,
          0,
          0,
          0,
          0,
          0,
          11.38070526123047,
          11.38070526123047,
          11.38070526123047,
          11.38070526123047,
          11.38070526123047,
          11.38070526123047,
          11.38070526123047,
          11.38070526123047,
          11.38070526123047,
          11.38070526123047,
          22.76141052246094,
          22.76141052246094,
          22.76141052246094,
          22.76141052246094,
          22.76141052246094,
          22.76141052246094,
          22.76141052246094,
          22.76141052246094,
          22.76141052246094,
          22.76141052246094,
          34.14211578369141,
          34.14211578369141,
          34.14211578369141,
          34.14211578369141,
          34.14211578369141,
          34.14211578369141,
          34.14211578369141,
          34.14211578369141,
          34.14211578369141,
          34.14211578369141,
          45.52282104492188,
          45.52282104492188,
          45.52282104492188,
          45.52282104492188,
          45.52282104492188,
          45.52282104492188,
          45.52282104492188,
          45.52282104492188,
          45.52282104492188,
          45.52282104492188,
          56.90352630615236,
          56.90352630615236,
          56.90352630615236,
          56.90352630615236,
          56.90352630615236,
          56.90352630615236,
          56.90352630615236,
          56.90352630615236,
          56.90352630615236,
          56.90352630615236,
          68.28423156738282,
          68.28423156738282,
          68.28423156738282,
          68.28423156738282,
          68.28423156738282,
          68.28423156738282,
          68.28423156738282,
          68.28423156738282,
          68.28423156738282,
          68.28423156738282,
          79.66493682861329,
          79.66493682861329,
          79.66493682861329,
          79.66493682861329,
          79.66493682861329,
          79.66493682861329,
          79.66493682861329,
          79.66493682861329,
          79.66493682861329,
          79.66493682861329,
          91.04564208984377,
          91.04564208984377,
          91.04564208984377,
          91.04564208984377,
          91.04564208984377,
          91.04564208984377,
          91.04564208984377,
          91.04564208984377,
          91.04564208984377,
          91.04564208984377,
          102.42634735107424,
          102.42634735107424,
          102.42634735107424,
          102.42634735107424,
          102.42634735107424,
          102.42634735107424,
          102.42634735107424,
          102.42634735107424,
          102.42634735107424,
          102.42634735107424,
          113.80705261230472,
          113.80705261230472,
          113.80705261230472,
          113.80705261230472,
          113.80705261230472,
          113.80705261230472,
          113.80705261230472,
          113.80705261230472,
          113.80705261230472,
          113.80705261230472,
          125.18775787353518,
          125.18775787353518,
          125.18775787353518,
          125.18775787353518,
          125.18775787353518,
          125.18775787353518,
          125.18775787353518,
          125.18775787353518,
          125.18775787353518,
          125.18775787353518,
          136.56846313476564,
          136.56846313476564,
          136.56846313476564,
          136.56846313476564,
          136.56846313476564,
          136.56846313476564,
          136.56846313476564,
          136.56846313476564,
          136.56846313476564,
          136.56846313476564,
          147.9491683959961,
          147.9491683959961,
          147.9491683959961,
          147.9491683959961,
          147.9491683959961,
          147.9491683959961,
          147.9491683959961,
          147.9491683959961,
          147.9491683959961,
          147.9491683959961
         ]
        }
       ],
       "layout": {
        "annotations": [
         {
          "arrowcolor": "black",
          "arrowhead": 2,
          "ax": 0,
          "ay": -10,
          "font": {
           "color": "black",
           "size": 12
          },
          "showarrow": true,
          "text": "1",
          "x": 0,
          "y": 0
         },
         {
          "arrowcolor": "black",
          "arrowhead": 2,
          "ax": 0,
          "ay": -10,
          "font": {
           "color": "black",
           "size": 12
          },
          "showarrow": true,
          "text": "2",
          "x": 15.16791343688965,
          "y": 0
         },
         {
          "arrowcolor": "black",
          "arrowhead": 2,
          "ax": 0,
          "ay": -10,
          "font": {
           "color": "black",
           "size": 12
          },
          "showarrow": true,
          "text": "3",
          "x": 30.3358268737793,
          "y": 0
         },
         {
          "arrowcolor": "black",
          "arrowhead": 2,
          "ax": 0,
          "ay": -10,
          "font": {
           "color": "black",
           "size": 12
          },
          "showarrow": true,
          "text": "4",
          "x": 45.50374031066895,
          "y": 0
         },
         {
          "arrowcolor": "black",
          "arrowhead": 2,
          "ax": 0,
          "ay": -10,
          "font": {
           "color": "black",
           "size": 12
          },
          "showarrow": true,
          "text": "5",
          "x": 60.6716537475586,
          "y": 0
         },
         {
          "arrowcolor": "black",
          "arrowhead": 2,
          "ax": 0,
          "ay": -10,
          "font": {
           "color": "black",
           "size": 12
          },
          "showarrow": true,
          "text": "6",
          "x": 75.83956718444826,
          "y": 0
         },
         {
          "arrowcolor": "black",
          "arrowhead": 2,
          "ax": 0,
          "ay": -10,
          "font": {
           "color": "black",
           "size": 12
          },
          "showarrow": true,
          "text": "7",
          "x": 91.0074806213379,
          "y": 0
         },
         {
          "arrowcolor": "black",
          "arrowhead": 2,
          "ax": 0,
          "ay": -10,
          "font": {
           "color": "black",
           "size": 12
          },
          "showarrow": true,
          "text": "8",
          "x": 106.17539405822755,
          "y": 0
         },
         {
          "arrowcolor": "black",
          "arrowhead": 2,
          "ax": 0,
          "ay": -10,
          "font": {
           "color": "black",
           "size": 12
          },
          "showarrow": true,
          "text": "9",
          "x": 121.3433074951172,
          "y": 0
         },
         {
          "arrowcolor": "black",
          "arrowhead": 2,
          "ax": 0,
          "ay": -10,
          "font": {
           "color": "black",
           "size": 12
          },
          "showarrow": true,
          "text": "10",
          "x": 136.51122093200686,
          "y": 0
         },
         {
          "arrowcolor": "black",
          "arrowhead": 2,
          "ax": 0,
          "ay": -10,
          "font": {
           "color": "black",
           "size": 12
          },
          "showarrow": true,
          "text": "11",
          "x": 0,
          "y": 11.38070526123047
         },
         {
          "arrowcolor": "black",
          "arrowhead": 2,
          "ax": 0,
          "ay": -10,
          "font": {
           "color": "black",
           "size": 12
          },
          "showarrow": true,
          "text": "12",
          "x": 15.16791343688965,
          "y": 11.38070526123047
         },
         {
          "arrowcolor": "black",
          "arrowhead": 2,
          "ax": 0,
          "ay": -10,
          "font": {
           "color": "black",
           "size": 12
          },
          "showarrow": true,
          "text": "13",
          "x": 30.3358268737793,
          "y": 11.38070526123047
         },
         {
          "arrowcolor": "black",
          "arrowhead": 2,
          "ax": 0,
          "ay": -10,
          "font": {
           "color": "black",
           "size": 12
          },
          "showarrow": true,
          "text": "14",
          "x": 45.50374031066895,
          "y": 11.38070526123047
         },
         {
          "arrowcolor": "black",
          "arrowhead": 2,
          "ax": 0,
          "ay": -10,
          "font": {
           "color": "black",
           "size": 12
          },
          "showarrow": true,
          "text": "15",
          "x": 60.6716537475586,
          "y": 11.38070526123047
         },
         {
          "arrowcolor": "black",
          "arrowhead": 2,
          "ax": 0,
          "ay": -10,
          "font": {
           "color": "black",
           "size": 12
          },
          "showarrow": true,
          "text": "16",
          "x": 75.83956718444826,
          "y": 11.38070526123047
         },
         {
          "arrowcolor": "black",
          "arrowhead": 2,
          "ax": 0,
          "ay": -10,
          "font": {
           "color": "black",
           "size": 12
          },
          "showarrow": true,
          "text": "17",
          "x": 91.0074806213379,
          "y": 11.38070526123047
         },
         {
          "arrowcolor": "black",
          "arrowhead": 2,
          "ax": 0,
          "ay": -10,
          "font": {
           "color": "black",
           "size": 12
          },
          "showarrow": true,
          "text": "18",
          "x": 106.17539405822755,
          "y": 11.38070526123047
         },
         {
          "arrowcolor": "black",
          "arrowhead": 2,
          "ax": 0,
          "ay": -10,
          "font": {
           "color": "black",
           "size": 12
          },
          "showarrow": true,
          "text": "19",
          "x": 121.3433074951172,
          "y": 11.38070526123047
         },
         {
          "arrowcolor": "black",
          "arrowhead": 2,
          "ax": 0,
          "ay": -10,
          "font": {
           "color": "black",
           "size": 12
          },
          "showarrow": true,
          "text": "20",
          "x": 136.51122093200686,
          "y": 11.38070526123047
         },
         {
          "arrowcolor": "black",
          "arrowhead": 2,
          "ax": 0,
          "ay": -10,
          "font": {
           "color": "black",
           "size": 12
          },
          "showarrow": true,
          "text": "21",
          "x": 0,
          "y": 22.76141052246094
         },
         {
          "arrowcolor": "black",
          "arrowhead": 2,
          "ax": 0,
          "ay": -10,
          "font": {
           "color": "black",
           "size": 12
          },
          "showarrow": true,
          "text": "22",
          "x": 15.16791343688965,
          "y": 22.76141052246094
         },
         {
          "arrowcolor": "black",
          "arrowhead": 2,
          "ax": 0,
          "ay": -10,
          "font": {
           "color": "black",
           "size": 12
          },
          "showarrow": true,
          "text": "23",
          "x": 30.3358268737793,
          "y": 22.76141052246094
         },
         {
          "arrowcolor": "black",
          "arrowhead": 2,
          "ax": 0,
          "ay": -10,
          "font": {
           "color": "black",
           "size": 12
          },
          "showarrow": true,
          "text": "24",
          "x": 45.50374031066895,
          "y": 22.76141052246094
         },
         {
          "arrowcolor": "black",
          "arrowhead": 2,
          "ax": 0,
          "ay": -10,
          "font": {
           "color": "black",
           "size": 12
          },
          "showarrow": true,
          "text": "25",
          "x": 60.6716537475586,
          "y": 22.76141052246094
         },
         {
          "arrowcolor": "black",
          "arrowhead": 2,
          "ax": 0,
          "ay": -10,
          "font": {
           "color": "black",
           "size": 12
          },
          "showarrow": true,
          "text": "26",
          "x": 75.83956718444826,
          "y": 22.76141052246094
         },
         {
          "arrowcolor": "black",
          "arrowhead": 2,
          "ax": 0,
          "ay": -10,
          "font": {
           "color": "black",
           "size": 12
          },
          "showarrow": true,
          "text": "27",
          "x": 91.0074806213379,
          "y": 22.76141052246094
         },
         {
          "arrowcolor": "black",
          "arrowhead": 2,
          "ax": 0,
          "ay": -10,
          "font": {
           "color": "black",
           "size": 12
          },
          "showarrow": true,
          "text": "28",
          "x": 106.17539405822755,
          "y": 22.76141052246094
         },
         {
          "arrowcolor": "black",
          "arrowhead": 2,
          "ax": 0,
          "ay": -10,
          "font": {
           "color": "black",
           "size": 12
          },
          "showarrow": true,
          "text": "29",
          "x": 121.3433074951172,
          "y": 22.76141052246094
         },
         {
          "arrowcolor": "black",
          "arrowhead": 2,
          "ax": 0,
          "ay": -10,
          "font": {
           "color": "black",
           "size": 12
          },
          "showarrow": true,
          "text": "30",
          "x": 136.51122093200686,
          "y": 22.76141052246094
         },
         {
          "arrowcolor": "black",
          "arrowhead": 2,
          "ax": 0,
          "ay": -10,
          "font": {
           "color": "black",
           "size": 12
          },
          "showarrow": true,
          "text": "31",
          "x": 0,
          "y": 34.14211578369141
         },
         {
          "arrowcolor": "black",
          "arrowhead": 2,
          "ax": 0,
          "ay": -10,
          "font": {
           "color": "black",
           "size": 12
          },
          "showarrow": true,
          "text": "32",
          "x": 15.16791343688965,
          "y": 34.14211578369141
         },
         {
          "arrowcolor": "black",
          "arrowhead": 2,
          "ax": 0,
          "ay": -10,
          "font": {
           "color": "black",
           "size": 12
          },
          "showarrow": true,
          "text": "33",
          "x": 30.3358268737793,
          "y": 34.14211578369141
         },
         {
          "arrowcolor": "black",
          "arrowhead": 2,
          "ax": 0,
          "ay": -10,
          "font": {
           "color": "black",
           "size": 12
          },
          "showarrow": true,
          "text": "34",
          "x": 45.50374031066895,
          "y": 34.14211578369141
         },
         {
          "arrowcolor": "black",
          "arrowhead": 2,
          "ax": 0,
          "ay": -10,
          "font": {
           "color": "black",
           "size": 12
          },
          "showarrow": true,
          "text": "35",
          "x": 60.6716537475586,
          "y": 34.14211578369141
         },
         {
          "arrowcolor": "black",
          "arrowhead": 2,
          "ax": 0,
          "ay": -10,
          "font": {
           "color": "black",
           "size": 12
          },
          "showarrow": true,
          "text": "36",
          "x": 75.83956718444826,
          "y": 34.14211578369141
         },
         {
          "arrowcolor": "black",
          "arrowhead": 2,
          "ax": 0,
          "ay": -10,
          "font": {
           "color": "black",
           "size": 12
          },
          "showarrow": true,
          "text": "37",
          "x": 91.0074806213379,
          "y": 34.14211578369141
         },
         {
          "arrowcolor": "black",
          "arrowhead": 2,
          "ax": 0,
          "ay": -10,
          "font": {
           "color": "black",
           "size": 12
          },
          "showarrow": true,
          "text": "38",
          "x": 106.17539405822755,
          "y": 34.14211578369141
         },
         {
          "arrowcolor": "black",
          "arrowhead": 2,
          "ax": 0,
          "ay": -10,
          "font": {
           "color": "black",
           "size": 12
          },
          "showarrow": true,
          "text": "39",
          "x": 121.3433074951172,
          "y": 34.14211578369141
         },
         {
          "arrowcolor": "black",
          "arrowhead": 2,
          "ax": 0,
          "ay": -10,
          "font": {
           "color": "black",
           "size": 12
          },
          "showarrow": true,
          "text": "40",
          "x": 136.51122093200686,
          "y": 34.14211578369141
         },
         {
          "arrowcolor": "black",
          "arrowhead": 2,
          "ax": 0,
          "ay": -10,
          "font": {
           "color": "black",
           "size": 12
          },
          "showarrow": true,
          "text": "41",
          "x": 0,
          "y": 45.52282104492188
         },
         {
          "arrowcolor": "black",
          "arrowhead": 2,
          "ax": 0,
          "ay": -10,
          "font": {
           "color": "black",
           "size": 12
          },
          "showarrow": true,
          "text": "42",
          "x": 15.16791343688965,
          "y": 45.52282104492188
         },
         {
          "arrowcolor": "black",
          "arrowhead": 2,
          "ax": 0,
          "ay": -10,
          "font": {
           "color": "black",
           "size": 12
          },
          "showarrow": true,
          "text": "43",
          "x": 30.3358268737793,
          "y": 45.52282104492188
         },
         {
          "arrowcolor": "black",
          "arrowhead": 2,
          "ax": 0,
          "ay": -10,
          "font": {
           "color": "black",
           "size": 12
          },
          "showarrow": true,
          "text": "44",
          "x": 45.50374031066895,
          "y": 45.52282104492188
         },
         {
          "arrowcolor": "black",
          "arrowhead": 2,
          "ax": 0,
          "ay": -10,
          "font": {
           "color": "black",
           "size": 12
          },
          "showarrow": true,
          "text": "45",
          "x": 60.6716537475586,
          "y": 45.52282104492188
         },
         {
          "arrowcolor": "black",
          "arrowhead": 2,
          "ax": 0,
          "ay": -10,
          "font": {
           "color": "black",
           "size": 12
          },
          "showarrow": true,
          "text": "46",
          "x": 75.83956718444826,
          "y": 45.52282104492188
         },
         {
          "arrowcolor": "black",
          "arrowhead": 2,
          "ax": 0,
          "ay": -10,
          "font": {
           "color": "black",
           "size": 12
          },
          "showarrow": true,
          "text": "47",
          "x": 91.0074806213379,
          "y": 45.52282104492188
         },
         {
          "arrowcolor": "black",
          "arrowhead": 2,
          "ax": 0,
          "ay": -10,
          "font": {
           "color": "black",
           "size": 12
          },
          "showarrow": true,
          "text": "48",
          "x": 106.17539405822755,
          "y": 45.52282104492188
         },
         {
          "arrowcolor": "black",
          "arrowhead": 2,
          "ax": 0,
          "ay": -10,
          "font": {
           "color": "black",
           "size": 12
          },
          "showarrow": true,
          "text": "49",
          "x": 121.3433074951172,
          "y": 45.52282104492188
         },
         {
          "arrowcolor": "black",
          "arrowhead": 2,
          "ax": 0,
          "ay": -10,
          "font": {
           "color": "black",
           "size": 12
          },
          "showarrow": true,
          "text": "50",
          "x": 136.51122093200686,
          "y": 45.52282104492188
         },
         {
          "arrowcolor": "black",
          "arrowhead": 2,
          "ax": 0,
          "ay": -10,
          "font": {
           "color": "black",
           "size": 12
          },
          "showarrow": true,
          "text": "51",
          "x": 0,
          "y": 56.90352630615236
         },
         {
          "arrowcolor": "black",
          "arrowhead": 2,
          "ax": 0,
          "ay": -10,
          "font": {
           "color": "black",
           "size": 12
          },
          "showarrow": true,
          "text": "52",
          "x": 15.16791343688965,
          "y": 56.90352630615236
         },
         {
          "arrowcolor": "black",
          "arrowhead": 2,
          "ax": 0,
          "ay": -10,
          "font": {
           "color": "black",
           "size": 12
          },
          "showarrow": true,
          "text": "53",
          "x": 30.3358268737793,
          "y": 56.90352630615236
         },
         {
          "arrowcolor": "black",
          "arrowhead": 2,
          "ax": 0,
          "ay": -10,
          "font": {
           "color": "black",
           "size": 12
          },
          "showarrow": true,
          "text": "54",
          "x": 45.50374031066895,
          "y": 56.90352630615236
         },
         {
          "arrowcolor": "black",
          "arrowhead": 2,
          "ax": 0,
          "ay": -10,
          "font": {
           "color": "black",
           "size": 12
          },
          "showarrow": true,
          "text": "55",
          "x": 60.6716537475586,
          "y": 56.90352630615236
         },
         {
          "arrowcolor": "black",
          "arrowhead": 2,
          "ax": 0,
          "ay": -10,
          "font": {
           "color": "black",
           "size": 12
          },
          "showarrow": true,
          "text": "56",
          "x": 75.83956718444826,
          "y": 56.90352630615236
         },
         {
          "arrowcolor": "black",
          "arrowhead": 2,
          "ax": 0,
          "ay": -10,
          "font": {
           "color": "black",
           "size": 12
          },
          "showarrow": true,
          "text": "57",
          "x": 91.0074806213379,
          "y": 56.90352630615236
         },
         {
          "arrowcolor": "black",
          "arrowhead": 2,
          "ax": 0,
          "ay": -10,
          "font": {
           "color": "black",
           "size": 12
          },
          "showarrow": true,
          "text": "58",
          "x": 106.17539405822755,
          "y": 56.90352630615236
         },
         {
          "arrowcolor": "black",
          "arrowhead": 2,
          "ax": 0,
          "ay": -10,
          "font": {
           "color": "black",
           "size": 12
          },
          "showarrow": true,
          "text": "59",
          "x": 121.3433074951172,
          "y": 56.90352630615236
         },
         {
          "arrowcolor": "black",
          "arrowhead": 2,
          "ax": 0,
          "ay": -10,
          "font": {
           "color": "black",
           "size": 12
          },
          "showarrow": true,
          "text": "60",
          "x": 136.51122093200686,
          "y": 56.90352630615236
         },
         {
          "arrowcolor": "black",
          "arrowhead": 2,
          "ax": 0,
          "ay": -10,
          "font": {
           "color": "black",
           "size": 12
          },
          "showarrow": true,
          "text": "61",
          "x": 0,
          "y": 68.28423156738282
         },
         {
          "arrowcolor": "black",
          "arrowhead": 2,
          "ax": 0,
          "ay": -10,
          "font": {
           "color": "black",
           "size": 12
          },
          "showarrow": true,
          "text": "62",
          "x": 15.16791343688965,
          "y": 68.28423156738282
         },
         {
          "arrowcolor": "black",
          "arrowhead": 2,
          "ax": 0,
          "ay": -10,
          "font": {
           "color": "black",
           "size": 12
          },
          "showarrow": true,
          "text": "63",
          "x": 30.3358268737793,
          "y": 68.28423156738282
         },
         {
          "arrowcolor": "black",
          "arrowhead": 2,
          "ax": 0,
          "ay": -10,
          "font": {
           "color": "black",
           "size": 12
          },
          "showarrow": true,
          "text": "64",
          "x": 45.50374031066895,
          "y": 68.28423156738282
         },
         {
          "arrowcolor": "black",
          "arrowhead": 2,
          "ax": 0,
          "ay": -10,
          "font": {
           "color": "black",
           "size": 12
          },
          "showarrow": true,
          "text": "65",
          "x": 60.6716537475586,
          "y": 68.28423156738282
         },
         {
          "arrowcolor": "black",
          "arrowhead": 2,
          "ax": 0,
          "ay": -10,
          "font": {
           "color": "black",
           "size": 12
          },
          "showarrow": true,
          "text": "66",
          "x": 75.83956718444826,
          "y": 68.28423156738282
         },
         {
          "arrowcolor": "black",
          "arrowhead": 2,
          "ax": 0,
          "ay": -10,
          "font": {
           "color": "black",
           "size": 12
          },
          "showarrow": true,
          "text": "67",
          "x": 91.0074806213379,
          "y": 68.28423156738282
         },
         {
          "arrowcolor": "black",
          "arrowhead": 2,
          "ax": 0,
          "ay": -10,
          "font": {
           "color": "black",
           "size": 12
          },
          "showarrow": true,
          "text": "68",
          "x": 106.17539405822755,
          "y": 68.28423156738282
         },
         {
          "arrowcolor": "black",
          "arrowhead": 2,
          "ax": 0,
          "ay": -10,
          "font": {
           "color": "black",
           "size": 12
          },
          "showarrow": true,
          "text": "69",
          "x": 121.3433074951172,
          "y": 68.28423156738282
         },
         {
          "arrowcolor": "black",
          "arrowhead": 2,
          "ax": 0,
          "ay": -10,
          "font": {
           "color": "black",
           "size": 12
          },
          "showarrow": true,
          "text": "70",
          "x": 136.51122093200686,
          "y": 68.28423156738282
         },
         {
          "arrowcolor": "black",
          "arrowhead": 2,
          "ax": 0,
          "ay": -10,
          "font": {
           "color": "black",
           "size": 12
          },
          "showarrow": true,
          "text": "71",
          "x": 0,
          "y": 79.66493682861329
         },
         {
          "arrowcolor": "black",
          "arrowhead": 2,
          "ax": 0,
          "ay": -10,
          "font": {
           "color": "black",
           "size": 12
          },
          "showarrow": true,
          "text": "72",
          "x": 15.16791343688965,
          "y": 79.66493682861329
         },
         {
          "arrowcolor": "black",
          "arrowhead": 2,
          "ax": 0,
          "ay": -10,
          "font": {
           "color": "black",
           "size": 12
          },
          "showarrow": true,
          "text": "73",
          "x": 30.3358268737793,
          "y": 79.66493682861329
         },
         {
          "arrowcolor": "black",
          "arrowhead": 2,
          "ax": 0,
          "ay": -10,
          "font": {
           "color": "black",
           "size": 12
          },
          "showarrow": true,
          "text": "74",
          "x": 45.50374031066895,
          "y": 79.66493682861329
         },
         {
          "arrowcolor": "black",
          "arrowhead": 2,
          "ax": 0,
          "ay": -10,
          "font": {
           "color": "black",
           "size": 12
          },
          "showarrow": true,
          "text": "75",
          "x": 60.6716537475586,
          "y": 79.66493682861329
         },
         {
          "arrowcolor": "black",
          "arrowhead": 2,
          "ax": 0,
          "ay": -10,
          "font": {
           "color": "black",
           "size": 12
          },
          "showarrow": true,
          "text": "76",
          "x": 75.83956718444826,
          "y": 79.66493682861329
         },
         {
          "arrowcolor": "black",
          "arrowhead": 2,
          "ax": 0,
          "ay": -10,
          "font": {
           "color": "black",
           "size": 12
          },
          "showarrow": true,
          "text": "77",
          "x": 91.0074806213379,
          "y": 79.66493682861329
         },
         {
          "arrowcolor": "black",
          "arrowhead": 2,
          "ax": 0,
          "ay": -10,
          "font": {
           "color": "black",
           "size": 12
          },
          "showarrow": true,
          "text": "78",
          "x": 106.17539405822755,
          "y": 79.66493682861329
         },
         {
          "arrowcolor": "black",
          "arrowhead": 2,
          "ax": 0,
          "ay": -10,
          "font": {
           "color": "black",
           "size": 12
          },
          "showarrow": true,
          "text": "79",
          "x": 121.3433074951172,
          "y": 79.66493682861329
         },
         {
          "arrowcolor": "black",
          "arrowhead": 2,
          "ax": 0,
          "ay": -10,
          "font": {
           "color": "black",
           "size": 12
          },
          "showarrow": true,
          "text": "80",
          "x": 136.51122093200686,
          "y": 79.66493682861329
         },
         {
          "arrowcolor": "black",
          "arrowhead": 2,
          "ax": 0,
          "ay": -10,
          "font": {
           "color": "black",
           "size": 12
          },
          "showarrow": true,
          "text": "81",
          "x": 0,
          "y": 91.04564208984377
         },
         {
          "arrowcolor": "black",
          "arrowhead": 2,
          "ax": 0,
          "ay": -10,
          "font": {
           "color": "black",
           "size": 12
          },
          "showarrow": true,
          "text": "82",
          "x": 15.16791343688965,
          "y": 91.04564208984377
         },
         {
          "arrowcolor": "black",
          "arrowhead": 2,
          "ax": 0,
          "ay": -10,
          "font": {
           "color": "black",
           "size": 12
          },
          "showarrow": true,
          "text": "83",
          "x": 30.3358268737793,
          "y": 91.04564208984377
         },
         {
          "arrowcolor": "black",
          "arrowhead": 2,
          "ax": 0,
          "ay": -10,
          "font": {
           "color": "black",
           "size": 12
          },
          "showarrow": true,
          "text": "84",
          "x": 45.50374031066895,
          "y": 91.04564208984377
         },
         {
          "arrowcolor": "black",
          "arrowhead": 2,
          "ax": 0,
          "ay": -10,
          "font": {
           "color": "black",
           "size": 12
          },
          "showarrow": true,
          "text": "85",
          "x": 60.6716537475586,
          "y": 91.04564208984377
         },
         {
          "arrowcolor": "black",
          "arrowhead": 2,
          "ax": 0,
          "ay": -10,
          "font": {
           "color": "black",
           "size": 12
          },
          "showarrow": true,
          "text": "86",
          "x": 75.83956718444826,
          "y": 91.04564208984377
         },
         {
          "arrowcolor": "black",
          "arrowhead": 2,
          "ax": 0,
          "ay": -10,
          "font": {
           "color": "black",
           "size": 12
          },
          "showarrow": true,
          "text": "87",
          "x": 91.0074806213379,
          "y": 91.04564208984377
         },
         {
          "arrowcolor": "black",
          "arrowhead": 2,
          "ax": 0,
          "ay": -10,
          "font": {
           "color": "black",
           "size": 12
          },
          "showarrow": true,
          "text": "88",
          "x": 106.17539405822755,
          "y": 91.04564208984377
         },
         {
          "arrowcolor": "black",
          "arrowhead": 2,
          "ax": 0,
          "ay": -10,
          "font": {
           "color": "black",
           "size": 12
          },
          "showarrow": true,
          "text": "89",
          "x": 121.3433074951172,
          "y": 91.04564208984377
         },
         {
          "arrowcolor": "black",
          "arrowhead": 2,
          "ax": 0,
          "ay": -10,
          "font": {
           "color": "black",
           "size": 12
          },
          "showarrow": true,
          "text": "90",
          "x": 136.51122093200686,
          "y": 91.04564208984377
         },
         {
          "arrowcolor": "black",
          "arrowhead": 2,
          "ax": 0,
          "ay": -10,
          "font": {
           "color": "black",
           "size": 12
          },
          "showarrow": true,
          "text": "91",
          "x": 0,
          "y": 102.42634735107424
         },
         {
          "arrowcolor": "black",
          "arrowhead": 2,
          "ax": 0,
          "ay": -10,
          "font": {
           "color": "black",
           "size": 12
          },
          "showarrow": true,
          "text": "92",
          "x": 15.16791343688965,
          "y": 102.42634735107424
         },
         {
          "arrowcolor": "black",
          "arrowhead": 2,
          "ax": 0,
          "ay": -10,
          "font": {
           "color": "black",
           "size": 12
          },
          "showarrow": true,
          "text": "93",
          "x": 30.3358268737793,
          "y": 102.42634735107424
         },
         {
          "arrowcolor": "black",
          "arrowhead": 2,
          "ax": 0,
          "ay": -10,
          "font": {
           "color": "black",
           "size": 12
          },
          "showarrow": true,
          "text": "94",
          "x": 45.50374031066895,
          "y": 102.42634735107424
         },
         {
          "arrowcolor": "black",
          "arrowhead": 2,
          "ax": 0,
          "ay": -10,
          "font": {
           "color": "black",
           "size": 12
          },
          "showarrow": true,
          "text": "95",
          "x": 60.6716537475586,
          "y": 102.42634735107424
         },
         {
          "arrowcolor": "black",
          "arrowhead": 2,
          "ax": 0,
          "ay": -10,
          "font": {
           "color": "black",
           "size": 12
          },
          "showarrow": true,
          "text": "96",
          "x": 75.83956718444826,
          "y": 102.42634735107424
         },
         {
          "arrowcolor": "black",
          "arrowhead": 2,
          "ax": 0,
          "ay": -10,
          "font": {
           "color": "black",
           "size": 12
          },
          "showarrow": true,
          "text": "97",
          "x": 91.0074806213379,
          "y": 102.42634735107424
         },
         {
          "arrowcolor": "black",
          "arrowhead": 2,
          "ax": 0,
          "ay": -10,
          "font": {
           "color": "black",
           "size": 12
          },
          "showarrow": true,
          "text": "98",
          "x": 106.17539405822755,
          "y": 102.42634735107424
         },
         {
          "arrowcolor": "black",
          "arrowhead": 2,
          "ax": 0,
          "ay": -10,
          "font": {
           "color": "black",
           "size": 12
          },
          "showarrow": true,
          "text": "99",
          "x": 121.3433074951172,
          "y": 102.42634735107424
         },
         {
          "arrowcolor": "black",
          "arrowhead": 2,
          "ax": 0,
          "ay": -10,
          "font": {
           "color": "black",
           "size": 12
          },
          "showarrow": true,
          "text": "100",
          "x": 136.51122093200686,
          "y": 102.42634735107424
         },
         {
          "arrowcolor": "black",
          "arrowhead": 2,
          "ax": 0,
          "ay": -10,
          "font": {
           "color": "black",
           "size": 12
          },
          "showarrow": true,
          "text": "101",
          "x": 0,
          "y": 113.80705261230472
         },
         {
          "arrowcolor": "black",
          "arrowhead": 2,
          "ax": 0,
          "ay": -10,
          "font": {
           "color": "black",
           "size": 12
          },
          "showarrow": true,
          "text": "102",
          "x": 15.16791343688965,
          "y": 113.80705261230472
         },
         {
          "arrowcolor": "black",
          "arrowhead": 2,
          "ax": 0,
          "ay": -10,
          "font": {
           "color": "black",
           "size": 12
          },
          "showarrow": true,
          "text": "103",
          "x": 30.3358268737793,
          "y": 113.80705261230472
         },
         {
          "arrowcolor": "black",
          "arrowhead": 2,
          "ax": 0,
          "ay": -10,
          "font": {
           "color": "black",
           "size": 12
          },
          "showarrow": true,
          "text": "104",
          "x": 45.50374031066895,
          "y": 113.80705261230472
         },
         {
          "arrowcolor": "black",
          "arrowhead": 2,
          "ax": 0,
          "ay": -10,
          "font": {
           "color": "black",
           "size": 12
          },
          "showarrow": true,
          "text": "105",
          "x": 60.6716537475586,
          "y": 113.80705261230472
         },
         {
          "arrowcolor": "black",
          "arrowhead": 2,
          "ax": 0,
          "ay": -10,
          "font": {
           "color": "black",
           "size": 12
          },
          "showarrow": true,
          "text": "106",
          "x": 75.83956718444826,
          "y": 113.80705261230472
         },
         {
          "arrowcolor": "black",
          "arrowhead": 2,
          "ax": 0,
          "ay": -10,
          "font": {
           "color": "black",
           "size": 12
          },
          "showarrow": true,
          "text": "107",
          "x": 91.0074806213379,
          "y": 113.80705261230472
         },
         {
          "arrowcolor": "black",
          "arrowhead": 2,
          "ax": 0,
          "ay": -10,
          "font": {
           "color": "black",
           "size": 12
          },
          "showarrow": true,
          "text": "108",
          "x": 106.17539405822755,
          "y": 113.80705261230472
         },
         {
          "arrowcolor": "black",
          "arrowhead": 2,
          "ax": 0,
          "ay": -10,
          "font": {
           "color": "black",
           "size": 12
          },
          "showarrow": true,
          "text": "109",
          "x": 121.3433074951172,
          "y": 113.80705261230472
         },
         {
          "arrowcolor": "black",
          "arrowhead": 2,
          "ax": 0,
          "ay": -10,
          "font": {
           "color": "black",
           "size": 12
          },
          "showarrow": true,
          "text": "110",
          "x": 136.51122093200686,
          "y": 113.80705261230472
         },
         {
          "arrowcolor": "black",
          "arrowhead": 2,
          "ax": 0,
          "ay": -10,
          "font": {
           "color": "black",
           "size": 12
          },
          "showarrow": true,
          "text": "111",
          "x": 0,
          "y": 125.18775787353518
         },
         {
          "arrowcolor": "black",
          "arrowhead": 2,
          "ax": 0,
          "ay": -10,
          "font": {
           "color": "black",
           "size": 12
          },
          "showarrow": true,
          "text": "112",
          "x": 15.16791343688965,
          "y": 125.18775787353518
         },
         {
          "arrowcolor": "black",
          "arrowhead": 2,
          "ax": 0,
          "ay": -10,
          "font": {
           "color": "black",
           "size": 12
          },
          "showarrow": true,
          "text": "113",
          "x": 30.3358268737793,
          "y": 125.18775787353518
         },
         {
          "arrowcolor": "black",
          "arrowhead": 2,
          "ax": 0,
          "ay": -10,
          "font": {
           "color": "black",
           "size": 12
          },
          "showarrow": true,
          "text": "114",
          "x": 45.50374031066895,
          "y": 125.18775787353518
         },
         {
          "arrowcolor": "black",
          "arrowhead": 2,
          "ax": 0,
          "ay": -10,
          "font": {
           "color": "black",
           "size": 12
          },
          "showarrow": true,
          "text": "115",
          "x": 60.6716537475586,
          "y": 125.18775787353518
         },
         {
          "arrowcolor": "black",
          "arrowhead": 2,
          "ax": 0,
          "ay": -10,
          "font": {
           "color": "black",
           "size": 12
          },
          "showarrow": true,
          "text": "116",
          "x": 75.83956718444826,
          "y": 125.18775787353518
         },
         {
          "arrowcolor": "black",
          "arrowhead": 2,
          "ax": 0,
          "ay": -10,
          "font": {
           "color": "black",
           "size": 12
          },
          "showarrow": true,
          "text": "117",
          "x": 91.0074806213379,
          "y": 125.18775787353518
         },
         {
          "arrowcolor": "black",
          "arrowhead": 2,
          "ax": 0,
          "ay": -10,
          "font": {
           "color": "black",
           "size": 12
          },
          "showarrow": true,
          "text": "118",
          "x": 106.17539405822755,
          "y": 125.18775787353518
         },
         {
          "arrowcolor": "black",
          "arrowhead": 2,
          "ax": 0,
          "ay": -10,
          "font": {
           "color": "black",
           "size": 12
          },
          "showarrow": true,
          "text": "119",
          "x": 121.3433074951172,
          "y": 125.18775787353518
         },
         {
          "arrowcolor": "black",
          "arrowhead": 2,
          "ax": 0,
          "ay": -10,
          "font": {
           "color": "black",
           "size": 12
          },
          "showarrow": true,
          "text": "120",
          "x": 136.51122093200686,
          "y": 125.18775787353518
         },
         {
          "arrowcolor": "black",
          "arrowhead": 2,
          "ax": 0,
          "ay": -10,
          "font": {
           "color": "black",
           "size": 12
          },
          "showarrow": true,
          "text": "121",
          "x": 0,
          "y": 136.56846313476564
         },
         {
          "arrowcolor": "black",
          "arrowhead": 2,
          "ax": 0,
          "ay": -10,
          "font": {
           "color": "black",
           "size": 12
          },
          "showarrow": true,
          "text": "122",
          "x": 15.16791343688965,
          "y": 136.56846313476564
         },
         {
          "arrowcolor": "black",
          "arrowhead": 2,
          "ax": 0,
          "ay": -10,
          "font": {
           "color": "black",
           "size": 12
          },
          "showarrow": true,
          "text": "123",
          "x": 30.3358268737793,
          "y": 136.56846313476564
         },
         {
          "arrowcolor": "black",
          "arrowhead": 2,
          "ax": 0,
          "ay": -10,
          "font": {
           "color": "black",
           "size": 12
          },
          "showarrow": true,
          "text": "124",
          "x": 45.50374031066895,
          "y": 136.56846313476564
         },
         {
          "arrowcolor": "black",
          "arrowhead": 2,
          "ax": 0,
          "ay": -10,
          "font": {
           "color": "black",
           "size": 12
          },
          "showarrow": true,
          "text": "125",
          "x": 60.6716537475586,
          "y": 136.56846313476564
         },
         {
          "arrowcolor": "black",
          "arrowhead": 2,
          "ax": 0,
          "ay": -10,
          "font": {
           "color": "black",
           "size": 12
          },
          "showarrow": true,
          "text": "126",
          "x": 75.83956718444826,
          "y": 136.56846313476564
         },
         {
          "arrowcolor": "black",
          "arrowhead": 2,
          "ax": 0,
          "ay": -10,
          "font": {
           "color": "black",
           "size": 12
          },
          "showarrow": true,
          "text": "127",
          "x": 91.0074806213379,
          "y": 136.56846313476564
         },
         {
          "arrowcolor": "black",
          "arrowhead": 2,
          "ax": 0,
          "ay": -10,
          "font": {
           "color": "black",
           "size": 12
          },
          "showarrow": true,
          "text": "128",
          "x": 106.17539405822755,
          "y": 136.56846313476564
         },
         {
          "arrowcolor": "black",
          "arrowhead": 2,
          "ax": 0,
          "ay": -10,
          "font": {
           "color": "black",
           "size": 12
          },
          "showarrow": true,
          "text": "129",
          "x": 121.3433074951172,
          "y": 136.56846313476564
         },
         {
          "arrowcolor": "black",
          "arrowhead": 2,
          "ax": 0,
          "ay": -10,
          "font": {
           "color": "black",
           "size": 12
          },
          "showarrow": true,
          "text": "130",
          "x": 136.51122093200686,
          "y": 136.56846313476564
         },
         {
          "arrowcolor": "black",
          "arrowhead": 2,
          "ax": 0,
          "ay": -10,
          "font": {
           "color": "black",
           "size": 12
          },
          "showarrow": true,
          "text": "131",
          "x": 0,
          "y": 147.9491683959961
         },
         {
          "arrowcolor": "black",
          "arrowhead": 2,
          "ax": 0,
          "ay": -10,
          "font": {
           "color": "black",
           "size": 12
          },
          "showarrow": true,
          "text": "132",
          "x": 15.16791343688965,
          "y": 147.9491683959961
         },
         {
          "arrowcolor": "black",
          "arrowhead": 2,
          "ax": 0,
          "ay": -10,
          "font": {
           "color": "black",
           "size": 12
          },
          "showarrow": true,
          "text": "133",
          "x": 30.3358268737793,
          "y": 147.9491683959961
         },
         {
          "arrowcolor": "black",
          "arrowhead": 2,
          "ax": 0,
          "ay": -10,
          "font": {
           "color": "black",
           "size": 12
          },
          "showarrow": true,
          "text": "134",
          "x": 45.50374031066895,
          "y": 147.9491683959961
         },
         {
          "arrowcolor": "black",
          "arrowhead": 2,
          "ax": 0,
          "ay": -10,
          "font": {
           "color": "black",
           "size": 12
          },
          "showarrow": true,
          "text": "135",
          "x": 60.6716537475586,
          "y": 147.9491683959961
         },
         {
          "arrowcolor": "black",
          "arrowhead": 2,
          "ax": 0,
          "ay": -10,
          "font": {
           "color": "black",
           "size": 12
          },
          "showarrow": true,
          "text": "136",
          "x": 75.83956718444826,
          "y": 147.9491683959961
         },
         {
          "arrowcolor": "black",
          "arrowhead": 2,
          "ax": 0,
          "ay": -10,
          "font": {
           "color": "black",
           "size": 12
          },
          "showarrow": true,
          "text": "137",
          "x": 91.0074806213379,
          "y": 147.9491683959961
         },
         {
          "arrowcolor": "black",
          "arrowhead": 2,
          "ax": 0,
          "ay": -10,
          "font": {
           "color": "black",
           "size": 12
          },
          "showarrow": true,
          "text": "138",
          "x": 106.17539405822755,
          "y": 147.9491683959961
         },
         {
          "arrowcolor": "black",
          "arrowhead": 2,
          "ax": 0,
          "ay": -10,
          "font": {
           "color": "black",
           "size": 12
          },
          "showarrow": true,
          "text": "139",
          "x": 121.3433074951172,
          "y": 147.9491683959961
         },
         {
          "arrowcolor": "black",
          "arrowhead": 2,
          "ax": 0,
          "ay": -10,
          "font": {
           "color": "black",
           "size": 12
          },
          "showarrow": true,
          "text": "140",
          "x": 136.51122093200686,
          "y": 147.9491683959961
         }
        ],
        "height": 800,
        "margin": {
         "b": 0,
         "l": 0,
         "r": 0,
         "t": 50
        },
        "showlegend": false,
        "template": {
         "data": {
          "bar": [
           {
            "error_x": {
             "color": "#2a3f5f"
            },
            "error_y": {
             "color": "#2a3f5f"
            },
            "marker": {
             "line": {
              "color": "#E5ECF6",
              "width": 0.5
             },
             "pattern": {
              "fillmode": "overlay",
              "size": 10,
              "solidity": 0.2
             }
            },
            "type": "bar"
           }
          ],
          "barpolar": [
           {
            "marker": {
             "line": {
              "color": "#E5ECF6",
              "width": 0.5
             },
             "pattern": {
              "fillmode": "overlay",
              "size": 10,
              "solidity": 0.2
             }
            },
            "type": "barpolar"
           }
          ],
          "carpet": [
           {
            "aaxis": {
             "endlinecolor": "#2a3f5f",
             "gridcolor": "white",
             "linecolor": "white",
             "minorgridcolor": "white",
             "startlinecolor": "#2a3f5f"
            },
            "baxis": {
             "endlinecolor": "#2a3f5f",
             "gridcolor": "white",
             "linecolor": "white",
             "minorgridcolor": "white",
             "startlinecolor": "#2a3f5f"
            },
            "type": "carpet"
           }
          ],
          "choropleth": [
           {
            "colorbar": {
             "outlinewidth": 0,
             "ticks": ""
            },
            "type": "choropleth"
           }
          ],
          "contour": [
           {
            "colorbar": {
             "outlinewidth": 0,
             "ticks": ""
            },
            "colorscale": [
             [
              0,
              "#0d0887"
             ],
             [
              0.1111111111111111,
              "#46039f"
             ],
             [
              0.2222222222222222,
              "#7201a8"
             ],
             [
              0.3333333333333333,
              "#9c179e"
             ],
             [
              0.4444444444444444,
              "#bd3786"
             ],
             [
              0.5555555555555556,
              "#d8576b"
             ],
             [
              0.6666666666666666,
              "#ed7953"
             ],
             [
              0.7777777777777778,
              "#fb9f3a"
             ],
             [
              0.8888888888888888,
              "#fdca26"
             ],
             [
              1,
              "#f0f921"
             ]
            ],
            "type": "contour"
           }
          ],
          "contourcarpet": [
           {
            "colorbar": {
             "outlinewidth": 0,
             "ticks": ""
            },
            "type": "contourcarpet"
           }
          ],
          "heatmap": [
           {
            "colorbar": {
             "outlinewidth": 0,
             "ticks": ""
            },
            "colorscale": [
             [
              0,
              "#0d0887"
             ],
             [
              0.1111111111111111,
              "#46039f"
             ],
             [
              0.2222222222222222,
              "#7201a8"
             ],
             [
              0.3333333333333333,
              "#9c179e"
             ],
             [
              0.4444444444444444,
              "#bd3786"
             ],
             [
              0.5555555555555556,
              "#d8576b"
             ],
             [
              0.6666666666666666,
              "#ed7953"
             ],
             [
              0.7777777777777778,
              "#fb9f3a"
             ],
             [
              0.8888888888888888,
              "#fdca26"
             ],
             [
              1,
              "#f0f921"
             ]
            ],
            "type": "heatmap"
           }
          ],
          "heatmapgl": [
           {
            "colorbar": {
             "outlinewidth": 0,
             "ticks": ""
            },
            "colorscale": [
             [
              0,
              "#0d0887"
             ],
             [
              0.1111111111111111,
              "#46039f"
             ],
             [
              0.2222222222222222,
              "#7201a8"
             ],
             [
              0.3333333333333333,
              "#9c179e"
             ],
             [
              0.4444444444444444,
              "#bd3786"
             ],
             [
              0.5555555555555556,
              "#d8576b"
             ],
             [
              0.6666666666666666,
              "#ed7953"
             ],
             [
              0.7777777777777778,
              "#fb9f3a"
             ],
             [
              0.8888888888888888,
              "#fdca26"
             ],
             [
              1,
              "#f0f921"
             ]
            ],
            "type": "heatmapgl"
           }
          ],
          "histogram": [
           {
            "marker": {
             "pattern": {
              "fillmode": "overlay",
              "size": 10,
              "solidity": 0.2
             }
            },
            "type": "histogram"
           }
          ],
          "histogram2d": [
           {
            "colorbar": {
             "outlinewidth": 0,
             "ticks": ""
            },
            "colorscale": [
             [
              0,
              "#0d0887"
             ],
             [
              0.1111111111111111,
              "#46039f"
             ],
             [
              0.2222222222222222,
              "#7201a8"
             ],
             [
              0.3333333333333333,
              "#9c179e"
             ],
             [
              0.4444444444444444,
              "#bd3786"
             ],
             [
              0.5555555555555556,
              "#d8576b"
             ],
             [
              0.6666666666666666,
              "#ed7953"
             ],
             [
              0.7777777777777778,
              "#fb9f3a"
             ],
             [
              0.8888888888888888,
              "#fdca26"
             ],
             [
              1,
              "#f0f921"
             ]
            ],
            "type": "histogram2d"
           }
          ],
          "histogram2dcontour": [
           {
            "colorbar": {
             "outlinewidth": 0,
             "ticks": ""
            },
            "colorscale": [
             [
              0,
              "#0d0887"
             ],
             [
              0.1111111111111111,
              "#46039f"
             ],
             [
              0.2222222222222222,
              "#7201a8"
             ],
             [
              0.3333333333333333,
              "#9c179e"
             ],
             [
              0.4444444444444444,
              "#bd3786"
             ],
             [
              0.5555555555555556,
              "#d8576b"
             ],
             [
              0.6666666666666666,
              "#ed7953"
             ],
             [
              0.7777777777777778,
              "#fb9f3a"
             ],
             [
              0.8888888888888888,
              "#fdca26"
             ],
             [
              1,
              "#f0f921"
             ]
            ],
            "type": "histogram2dcontour"
           }
          ],
          "mesh3d": [
           {
            "colorbar": {
             "outlinewidth": 0,
             "ticks": ""
            },
            "type": "mesh3d"
           }
          ],
          "parcoords": [
           {
            "line": {
             "colorbar": {
              "outlinewidth": 0,
              "ticks": ""
             }
            },
            "type": "parcoords"
           }
          ],
          "pie": [
           {
            "automargin": true,
            "type": "pie"
           }
          ],
          "scatter": [
           {
            "fillpattern": {
             "fillmode": "overlay",
             "size": 10,
             "solidity": 0.2
            },
            "type": "scatter"
           }
          ],
          "scatter3d": [
           {
            "line": {
             "colorbar": {
              "outlinewidth": 0,
              "ticks": ""
             }
            },
            "marker": {
             "colorbar": {
              "outlinewidth": 0,
              "ticks": ""
             }
            },
            "type": "scatter3d"
           }
          ],
          "scattercarpet": [
           {
            "marker": {
             "colorbar": {
              "outlinewidth": 0,
              "ticks": ""
             }
            },
            "type": "scattercarpet"
           }
          ],
          "scattergeo": [
           {
            "marker": {
             "colorbar": {
              "outlinewidth": 0,
              "ticks": ""
             }
            },
            "type": "scattergeo"
           }
          ],
          "scattergl": [
           {
            "marker": {
             "colorbar": {
              "outlinewidth": 0,
              "ticks": ""
             }
            },
            "type": "scattergl"
           }
          ],
          "scattermapbox": [
           {
            "marker": {
             "colorbar": {
              "outlinewidth": 0,
              "ticks": ""
             }
            },
            "type": "scattermapbox"
           }
          ],
          "scatterpolar": [
           {
            "marker": {
             "colorbar": {
              "outlinewidth": 0,
              "ticks": ""
             }
            },
            "type": "scatterpolar"
           }
          ],
          "scatterpolargl": [
           {
            "marker": {
             "colorbar": {
              "outlinewidth": 0,
              "ticks": ""
             }
            },
            "type": "scatterpolargl"
           }
          ],
          "scatterternary": [
           {
            "marker": {
             "colorbar": {
              "outlinewidth": 0,
              "ticks": ""
             }
            },
            "type": "scatterternary"
           }
          ],
          "surface": [
           {
            "colorbar": {
             "outlinewidth": 0,
             "ticks": ""
            },
            "colorscale": [
             [
              0,
              "#0d0887"
             ],
             [
              0.1111111111111111,
              "#46039f"
             ],
             [
              0.2222222222222222,
              "#7201a8"
             ],
             [
              0.3333333333333333,
              "#9c179e"
             ],
             [
              0.4444444444444444,
              "#bd3786"
             ],
             [
              0.5555555555555556,
              "#d8576b"
             ],
             [
              0.6666666666666666,
              "#ed7953"
             ],
             [
              0.7777777777777778,
              "#fb9f3a"
             ],
             [
              0.8888888888888888,
              "#fdca26"
             ],
             [
              1,
              "#f0f921"
             ]
            ],
            "type": "surface"
           }
          ],
          "table": [
           {
            "cells": {
             "fill": {
              "color": "#EBF0F8"
             },
             "line": {
              "color": "white"
             }
            },
            "header": {
             "fill": {
              "color": "#C8D4E3"
             },
             "line": {
              "color": "white"
             }
            },
            "type": "table"
           }
          ]
         },
         "layout": {
          "annotationdefaults": {
           "arrowcolor": "#2a3f5f",
           "arrowhead": 0,
           "arrowwidth": 1
          },
          "autotypenumbers": "strict",
          "coloraxis": {
           "colorbar": {
            "outlinewidth": 0,
            "ticks": ""
           }
          },
          "colorscale": {
           "diverging": [
            [
             0,
             "#8e0152"
            ],
            [
             0.1,
             "#c51b7d"
            ],
            [
             0.2,
             "#de77ae"
            ],
            [
             0.3,
             "#f1b6da"
            ],
            [
             0.4,
             "#fde0ef"
            ],
            [
             0.5,
             "#f7f7f7"
            ],
            [
             0.6,
             "#e6f5d0"
            ],
            [
             0.7,
             "#b8e186"
            ],
            [
             0.8,
             "#7fbc41"
            ],
            [
             0.9,
             "#4d9221"
            ],
            [
             1,
             "#276419"
            ]
           ],
           "sequential": [
            [
             0,
             "#0d0887"
            ],
            [
             0.1111111111111111,
             "#46039f"
            ],
            [
             0.2222222222222222,
             "#7201a8"
            ],
            [
             0.3333333333333333,
             "#9c179e"
            ],
            [
             0.4444444444444444,
             "#bd3786"
            ],
            [
             0.5555555555555556,
             "#d8576b"
            ],
            [
             0.6666666666666666,
             "#ed7953"
            ],
            [
             0.7777777777777778,
             "#fb9f3a"
            ],
            [
             0.8888888888888888,
             "#fdca26"
            ],
            [
             1,
             "#f0f921"
            ]
           ],
           "sequentialminus": [
            [
             0,
             "#0d0887"
            ],
            [
             0.1111111111111111,
             "#46039f"
            ],
            [
             0.2222222222222222,
             "#7201a8"
            ],
            [
             0.3333333333333333,
             "#9c179e"
            ],
            [
             0.4444444444444444,
             "#bd3786"
            ],
            [
             0.5555555555555556,
             "#d8576b"
            ],
            [
             0.6666666666666666,
             "#ed7953"
            ],
            [
             0.7777777777777778,
             "#fb9f3a"
            ],
            [
             0.8888888888888888,
             "#fdca26"
            ],
            [
             1,
             "#f0f921"
            ]
           ]
          },
          "colorway": [
           "#636efa",
           "#EF553B",
           "#00cc96",
           "#ab63fa",
           "#FFA15A",
           "#19d3f3",
           "#FF6692",
           "#B6E880",
           "#FF97FF",
           "#FECB52"
          ],
          "font": {
           "color": "#2a3f5f"
          },
          "geo": {
           "bgcolor": "white",
           "lakecolor": "white",
           "landcolor": "#E5ECF6",
           "showlakes": true,
           "showland": true,
           "subunitcolor": "white"
          },
          "hoverlabel": {
           "align": "left"
          },
          "hovermode": "closest",
          "mapbox": {
           "style": "light"
          },
          "paper_bgcolor": "white",
          "plot_bgcolor": "#E5ECF6",
          "polar": {
           "angularaxis": {
            "gridcolor": "white",
            "linecolor": "white",
            "ticks": ""
           },
           "bgcolor": "#E5ECF6",
           "radialaxis": {
            "gridcolor": "white",
            "linecolor": "white",
            "ticks": ""
           }
          },
          "scene": {
           "xaxis": {
            "backgroundcolor": "#E5ECF6",
            "gridcolor": "white",
            "gridwidth": 2,
            "linecolor": "white",
            "showbackground": true,
            "ticks": "",
            "zerolinecolor": "white"
           },
           "yaxis": {
            "backgroundcolor": "#E5ECF6",
            "gridcolor": "white",
            "gridwidth": 2,
            "linecolor": "white",
            "showbackground": true,
            "ticks": "",
            "zerolinecolor": "white"
           },
           "zaxis": {
            "backgroundcolor": "#E5ECF6",
            "gridcolor": "white",
            "gridwidth": 2,
            "linecolor": "white",
            "showbackground": true,
            "ticks": "",
            "zerolinecolor": "white"
           }
          },
          "shapedefaults": {
           "line": {
            "color": "#2a3f5f"
           }
          },
          "ternary": {
           "aaxis": {
            "gridcolor": "white",
            "linecolor": "white",
            "ticks": ""
           },
           "baxis": {
            "gridcolor": "white",
            "linecolor": "white",
            "ticks": ""
           },
           "bgcolor": "#E5ECF6",
           "caxis": {
            "gridcolor": "white",
            "linecolor": "white",
            "ticks": ""
           }
          },
          "title": {
           "x": 0.05
          },
          "xaxis": {
           "automargin": true,
           "gridcolor": "white",
           "linecolor": "white",
           "ticks": "",
           "title": {
            "standoff": 15
           },
           "zerolinecolor": "white",
           "zerolinewidth": 2
          },
          "yaxis": {
           "automargin": true,
           "gridcolor": "white",
           "linecolor": "white",
           "ticks": "",
           "title": {
            "standoff": 15
           },
           "zerolinecolor": "white",
           "zerolinewidth": 2
          }
         }
        },
        "title": {
         "text": "2D Flight Plan"
        },
        "xaxis": {
         "title": {
          "text": "X (meters)"
         }
        },
        "yaxis": {
         "title": {
          "text": "Y (meters)"
         }
        }
       }
      }
     },
     "metadata": {},
     "output_type": "display_data"
    }
   ],
   "source": [
    "camera_ = copy.deepcopy(camera_x10)\n",
    "dataset_spec_ = copy.deepcopy(dataset_spec)\n",
    "\n",
    "dataset_spec_.exposure_time_ms = 1000\n",
    "\n",
    "print(camera_, dataset_spec_)\n",
    "\n",
    "fig = plot_photo_plan(generate_photo_plan_on_grid(camera_, dataset_spec_))\n",
    "fig.show()"
   ]
  },
  {
   "cell_type": "code",
   "execution_count": 48,
   "id": "e55616e2",
   "metadata": {},
   "outputs": [
    {
     "name": "stdout",
     "output_type": "stream",
     "text": [
      "Camera(fx=4938.56, fy=4936.49, cx=4095.5, cy=3071.5, sensor_size_x_mm=13.107, sensor_size_y_mm=9.83, image_size_x=8192, image_size_y=6144) DatasetSpec(overlap=0.6, sidelap=0.7, height=30.48, scan_dimension_x=150,scan_dimension_y=150,exposure_time_ms=2,camera_angle=0 \n"
     ]
    },
    {
     "data": {
      "application/vnd.plotly.v1+json": {
       "config": {
        "plotlyServerURL": "https://plot.ly"
       },
       "data": [
        {
         "line": {
          "color": "blue",
          "width": 2
         },
         "marker": {
          "color": "blue",
          "opacity": 0.8,
          "size": 6
         },
         "mode": "markers+lines",
         "name": "Flight Path",
         "type": "scatter",
         "x": [
          0,
          20.22388458251953,
          40.44776916503906,
          60.671653747558594,
          80.89553833007812,
          101.11942291259766,
          121.34330749511719,
          141.56719207763672,
          0,
          20.22388458251953,
          40.44776916503906,
          60.671653747558594,
          80.89553833007812,
          101.11942291259766,
          121.34330749511719,
          141.56719207763672,
          0,
          20.22388458251953,
          40.44776916503906,
          60.671653747558594,
          80.89553833007812,
          101.11942291259766,
          121.34330749511719,
          141.56719207763672,
          0,
          20.22388458251953,
          40.44776916503906,
          60.671653747558594,
          80.89553833007812,
          101.11942291259766,
          121.34330749511719,
          141.56719207763672,
          0,
          20.22388458251953,
          40.44776916503906,
          60.671653747558594,
          80.89553833007812,
          101.11942291259766,
          121.34330749511719,
          141.56719207763672,
          0,
          20.22388458251953,
          40.44776916503906,
          60.671653747558594,
          80.89553833007812,
          101.11942291259766,
          121.34330749511719,
          141.56719207763672,
          0,
          20.22388458251953,
          40.44776916503906,
          60.671653747558594,
          80.89553833007812,
          101.11942291259766,
          121.34330749511719,
          141.56719207763672,
          0,
          20.22388458251953,
          40.44776916503906,
          60.671653747558594,
          80.89553833007812,
          101.11942291259766,
          121.34330749511719,
          141.56719207763672,
          0,
          20.22388458251953,
          40.44776916503906,
          60.671653747558594,
          80.89553833007812,
          101.11942291259766,
          121.34330749511719,
          141.56719207763672,
          0,
          20.22388458251953,
          40.44776916503906,
          60.671653747558594,
          80.89553833007812,
          101.11942291259766,
          121.34330749511719,
          141.56719207763672,
          0,
          20.22388458251953,
          40.44776916503906,
          60.671653747558594,
          80.89553833007812,
          101.11942291259766,
          121.34330749511719,
          141.56719207763672,
          0,
          20.22388458251953,
          40.44776916503906,
          60.671653747558594,
          80.89553833007812,
          101.11942291259766,
          121.34330749511719,
          141.56719207763672,
          0,
          20.22388458251953,
          40.44776916503906,
          60.671653747558594,
          80.89553833007812,
          101.11942291259766,
          121.34330749511719,
          141.56719207763672,
          0,
          20.22388458251953,
          40.44776916503906,
          60.671653747558594,
          80.89553833007812,
          101.11942291259766,
          121.34330749511719,
          141.56719207763672
         ],
         "y": [
          0,
          0,
          0,
          0,
          0,
          0,
          0,
          0,
          11.38070526123047,
          11.38070526123047,
          11.38070526123047,
          11.38070526123047,
          11.38070526123047,
          11.38070526123047,
          11.38070526123047,
          11.38070526123047,
          22.76141052246094,
          22.76141052246094,
          22.76141052246094,
          22.76141052246094,
          22.76141052246094,
          22.76141052246094,
          22.76141052246094,
          22.76141052246094,
          34.14211578369141,
          34.14211578369141,
          34.14211578369141,
          34.14211578369141,
          34.14211578369141,
          34.14211578369141,
          34.14211578369141,
          34.14211578369141,
          45.52282104492188,
          45.52282104492188,
          45.52282104492188,
          45.52282104492188,
          45.52282104492188,
          45.52282104492188,
          45.52282104492188,
          45.52282104492188,
          56.90352630615236,
          56.90352630615236,
          56.90352630615236,
          56.90352630615236,
          56.90352630615236,
          56.90352630615236,
          56.90352630615236,
          56.90352630615236,
          68.28423156738282,
          68.28423156738282,
          68.28423156738282,
          68.28423156738282,
          68.28423156738282,
          68.28423156738282,
          68.28423156738282,
          68.28423156738282,
          79.66493682861329,
          79.66493682861329,
          79.66493682861329,
          79.66493682861329,
          79.66493682861329,
          79.66493682861329,
          79.66493682861329,
          79.66493682861329,
          91.04564208984377,
          91.04564208984377,
          91.04564208984377,
          91.04564208984377,
          91.04564208984377,
          91.04564208984377,
          91.04564208984377,
          91.04564208984377,
          102.42634735107424,
          102.42634735107424,
          102.42634735107424,
          102.42634735107424,
          102.42634735107424,
          102.42634735107424,
          102.42634735107424,
          102.42634735107424,
          113.80705261230472,
          113.80705261230472,
          113.80705261230472,
          113.80705261230472,
          113.80705261230472,
          113.80705261230472,
          113.80705261230472,
          113.80705261230472,
          125.18775787353518,
          125.18775787353518,
          125.18775787353518,
          125.18775787353518,
          125.18775787353518,
          125.18775787353518,
          125.18775787353518,
          125.18775787353518,
          136.56846313476564,
          136.56846313476564,
          136.56846313476564,
          136.56846313476564,
          136.56846313476564,
          136.56846313476564,
          136.56846313476564,
          136.56846313476564,
          147.9491683959961,
          147.9491683959961,
          147.9491683959961,
          147.9491683959961,
          147.9491683959961,
          147.9491683959961,
          147.9491683959961,
          147.9491683959961
         ]
        }
       ],
       "layout": {
        "annotations": [
         {
          "arrowcolor": "black",
          "arrowhead": 2,
          "ax": 0,
          "ay": -10,
          "font": {
           "color": "black",
           "size": 12
          },
          "showarrow": true,
          "text": "1",
          "x": 0,
          "y": 0
         },
         {
          "arrowcolor": "black",
          "arrowhead": 2,
          "ax": 0,
          "ay": -10,
          "font": {
           "color": "black",
           "size": 12
          },
          "showarrow": true,
          "text": "2",
          "x": 20.22388458251953,
          "y": 0
         },
         {
          "arrowcolor": "black",
          "arrowhead": 2,
          "ax": 0,
          "ay": -10,
          "font": {
           "color": "black",
           "size": 12
          },
          "showarrow": true,
          "text": "3",
          "x": 40.44776916503906,
          "y": 0
         },
         {
          "arrowcolor": "black",
          "arrowhead": 2,
          "ax": 0,
          "ay": -10,
          "font": {
           "color": "black",
           "size": 12
          },
          "showarrow": true,
          "text": "4",
          "x": 60.671653747558594,
          "y": 0
         },
         {
          "arrowcolor": "black",
          "arrowhead": 2,
          "ax": 0,
          "ay": -10,
          "font": {
           "color": "black",
           "size": 12
          },
          "showarrow": true,
          "text": "5",
          "x": 80.89553833007812,
          "y": 0
         },
         {
          "arrowcolor": "black",
          "arrowhead": 2,
          "ax": 0,
          "ay": -10,
          "font": {
           "color": "black",
           "size": 12
          },
          "showarrow": true,
          "text": "6",
          "x": 101.11942291259766,
          "y": 0
         },
         {
          "arrowcolor": "black",
          "arrowhead": 2,
          "ax": 0,
          "ay": -10,
          "font": {
           "color": "black",
           "size": 12
          },
          "showarrow": true,
          "text": "7",
          "x": 121.34330749511719,
          "y": 0
         },
         {
          "arrowcolor": "black",
          "arrowhead": 2,
          "ax": 0,
          "ay": -10,
          "font": {
           "color": "black",
           "size": 12
          },
          "showarrow": true,
          "text": "8",
          "x": 141.56719207763672,
          "y": 0
         },
         {
          "arrowcolor": "black",
          "arrowhead": 2,
          "ax": 0,
          "ay": -10,
          "font": {
           "color": "black",
           "size": 12
          },
          "showarrow": true,
          "text": "9",
          "x": 0,
          "y": 11.38070526123047
         },
         {
          "arrowcolor": "black",
          "arrowhead": 2,
          "ax": 0,
          "ay": -10,
          "font": {
           "color": "black",
           "size": 12
          },
          "showarrow": true,
          "text": "10",
          "x": 20.22388458251953,
          "y": 11.38070526123047
         },
         {
          "arrowcolor": "black",
          "arrowhead": 2,
          "ax": 0,
          "ay": -10,
          "font": {
           "color": "black",
           "size": 12
          },
          "showarrow": true,
          "text": "11",
          "x": 40.44776916503906,
          "y": 11.38070526123047
         },
         {
          "arrowcolor": "black",
          "arrowhead": 2,
          "ax": 0,
          "ay": -10,
          "font": {
           "color": "black",
           "size": 12
          },
          "showarrow": true,
          "text": "12",
          "x": 60.671653747558594,
          "y": 11.38070526123047
         },
         {
          "arrowcolor": "black",
          "arrowhead": 2,
          "ax": 0,
          "ay": -10,
          "font": {
           "color": "black",
           "size": 12
          },
          "showarrow": true,
          "text": "13",
          "x": 80.89553833007812,
          "y": 11.38070526123047
         },
         {
          "arrowcolor": "black",
          "arrowhead": 2,
          "ax": 0,
          "ay": -10,
          "font": {
           "color": "black",
           "size": 12
          },
          "showarrow": true,
          "text": "14",
          "x": 101.11942291259766,
          "y": 11.38070526123047
         },
         {
          "arrowcolor": "black",
          "arrowhead": 2,
          "ax": 0,
          "ay": -10,
          "font": {
           "color": "black",
           "size": 12
          },
          "showarrow": true,
          "text": "15",
          "x": 121.34330749511719,
          "y": 11.38070526123047
         },
         {
          "arrowcolor": "black",
          "arrowhead": 2,
          "ax": 0,
          "ay": -10,
          "font": {
           "color": "black",
           "size": 12
          },
          "showarrow": true,
          "text": "16",
          "x": 141.56719207763672,
          "y": 11.38070526123047
         },
         {
          "arrowcolor": "black",
          "arrowhead": 2,
          "ax": 0,
          "ay": -10,
          "font": {
           "color": "black",
           "size": 12
          },
          "showarrow": true,
          "text": "17",
          "x": 0,
          "y": 22.76141052246094
         },
         {
          "arrowcolor": "black",
          "arrowhead": 2,
          "ax": 0,
          "ay": -10,
          "font": {
           "color": "black",
           "size": 12
          },
          "showarrow": true,
          "text": "18",
          "x": 20.22388458251953,
          "y": 22.76141052246094
         },
         {
          "arrowcolor": "black",
          "arrowhead": 2,
          "ax": 0,
          "ay": -10,
          "font": {
           "color": "black",
           "size": 12
          },
          "showarrow": true,
          "text": "19",
          "x": 40.44776916503906,
          "y": 22.76141052246094
         },
         {
          "arrowcolor": "black",
          "arrowhead": 2,
          "ax": 0,
          "ay": -10,
          "font": {
           "color": "black",
           "size": 12
          },
          "showarrow": true,
          "text": "20",
          "x": 60.671653747558594,
          "y": 22.76141052246094
         },
         {
          "arrowcolor": "black",
          "arrowhead": 2,
          "ax": 0,
          "ay": -10,
          "font": {
           "color": "black",
           "size": 12
          },
          "showarrow": true,
          "text": "21",
          "x": 80.89553833007812,
          "y": 22.76141052246094
         },
         {
          "arrowcolor": "black",
          "arrowhead": 2,
          "ax": 0,
          "ay": -10,
          "font": {
           "color": "black",
           "size": 12
          },
          "showarrow": true,
          "text": "22",
          "x": 101.11942291259766,
          "y": 22.76141052246094
         },
         {
          "arrowcolor": "black",
          "arrowhead": 2,
          "ax": 0,
          "ay": -10,
          "font": {
           "color": "black",
           "size": 12
          },
          "showarrow": true,
          "text": "23",
          "x": 121.34330749511719,
          "y": 22.76141052246094
         },
         {
          "arrowcolor": "black",
          "arrowhead": 2,
          "ax": 0,
          "ay": -10,
          "font": {
           "color": "black",
           "size": 12
          },
          "showarrow": true,
          "text": "24",
          "x": 141.56719207763672,
          "y": 22.76141052246094
         },
         {
          "arrowcolor": "black",
          "arrowhead": 2,
          "ax": 0,
          "ay": -10,
          "font": {
           "color": "black",
           "size": 12
          },
          "showarrow": true,
          "text": "25",
          "x": 0,
          "y": 34.14211578369141
         },
         {
          "arrowcolor": "black",
          "arrowhead": 2,
          "ax": 0,
          "ay": -10,
          "font": {
           "color": "black",
           "size": 12
          },
          "showarrow": true,
          "text": "26",
          "x": 20.22388458251953,
          "y": 34.14211578369141
         },
         {
          "arrowcolor": "black",
          "arrowhead": 2,
          "ax": 0,
          "ay": -10,
          "font": {
           "color": "black",
           "size": 12
          },
          "showarrow": true,
          "text": "27",
          "x": 40.44776916503906,
          "y": 34.14211578369141
         },
         {
          "arrowcolor": "black",
          "arrowhead": 2,
          "ax": 0,
          "ay": -10,
          "font": {
           "color": "black",
           "size": 12
          },
          "showarrow": true,
          "text": "28",
          "x": 60.671653747558594,
          "y": 34.14211578369141
         },
         {
          "arrowcolor": "black",
          "arrowhead": 2,
          "ax": 0,
          "ay": -10,
          "font": {
           "color": "black",
           "size": 12
          },
          "showarrow": true,
          "text": "29",
          "x": 80.89553833007812,
          "y": 34.14211578369141
         },
         {
          "arrowcolor": "black",
          "arrowhead": 2,
          "ax": 0,
          "ay": -10,
          "font": {
           "color": "black",
           "size": 12
          },
          "showarrow": true,
          "text": "30",
          "x": 101.11942291259766,
          "y": 34.14211578369141
         },
         {
          "arrowcolor": "black",
          "arrowhead": 2,
          "ax": 0,
          "ay": -10,
          "font": {
           "color": "black",
           "size": 12
          },
          "showarrow": true,
          "text": "31",
          "x": 121.34330749511719,
          "y": 34.14211578369141
         },
         {
          "arrowcolor": "black",
          "arrowhead": 2,
          "ax": 0,
          "ay": -10,
          "font": {
           "color": "black",
           "size": 12
          },
          "showarrow": true,
          "text": "32",
          "x": 141.56719207763672,
          "y": 34.14211578369141
         },
         {
          "arrowcolor": "black",
          "arrowhead": 2,
          "ax": 0,
          "ay": -10,
          "font": {
           "color": "black",
           "size": 12
          },
          "showarrow": true,
          "text": "33",
          "x": 0,
          "y": 45.52282104492188
         },
         {
          "arrowcolor": "black",
          "arrowhead": 2,
          "ax": 0,
          "ay": -10,
          "font": {
           "color": "black",
           "size": 12
          },
          "showarrow": true,
          "text": "34",
          "x": 20.22388458251953,
          "y": 45.52282104492188
         },
         {
          "arrowcolor": "black",
          "arrowhead": 2,
          "ax": 0,
          "ay": -10,
          "font": {
           "color": "black",
           "size": 12
          },
          "showarrow": true,
          "text": "35",
          "x": 40.44776916503906,
          "y": 45.52282104492188
         },
         {
          "arrowcolor": "black",
          "arrowhead": 2,
          "ax": 0,
          "ay": -10,
          "font": {
           "color": "black",
           "size": 12
          },
          "showarrow": true,
          "text": "36",
          "x": 60.671653747558594,
          "y": 45.52282104492188
         },
         {
          "arrowcolor": "black",
          "arrowhead": 2,
          "ax": 0,
          "ay": -10,
          "font": {
           "color": "black",
           "size": 12
          },
          "showarrow": true,
          "text": "37",
          "x": 80.89553833007812,
          "y": 45.52282104492188
         },
         {
          "arrowcolor": "black",
          "arrowhead": 2,
          "ax": 0,
          "ay": -10,
          "font": {
           "color": "black",
           "size": 12
          },
          "showarrow": true,
          "text": "38",
          "x": 101.11942291259766,
          "y": 45.52282104492188
         },
         {
          "arrowcolor": "black",
          "arrowhead": 2,
          "ax": 0,
          "ay": -10,
          "font": {
           "color": "black",
           "size": 12
          },
          "showarrow": true,
          "text": "39",
          "x": 121.34330749511719,
          "y": 45.52282104492188
         },
         {
          "arrowcolor": "black",
          "arrowhead": 2,
          "ax": 0,
          "ay": -10,
          "font": {
           "color": "black",
           "size": 12
          },
          "showarrow": true,
          "text": "40",
          "x": 141.56719207763672,
          "y": 45.52282104492188
         },
         {
          "arrowcolor": "black",
          "arrowhead": 2,
          "ax": 0,
          "ay": -10,
          "font": {
           "color": "black",
           "size": 12
          },
          "showarrow": true,
          "text": "41",
          "x": 0,
          "y": 56.90352630615236
         },
         {
          "arrowcolor": "black",
          "arrowhead": 2,
          "ax": 0,
          "ay": -10,
          "font": {
           "color": "black",
           "size": 12
          },
          "showarrow": true,
          "text": "42",
          "x": 20.22388458251953,
          "y": 56.90352630615236
         },
         {
          "arrowcolor": "black",
          "arrowhead": 2,
          "ax": 0,
          "ay": -10,
          "font": {
           "color": "black",
           "size": 12
          },
          "showarrow": true,
          "text": "43",
          "x": 40.44776916503906,
          "y": 56.90352630615236
         },
         {
          "arrowcolor": "black",
          "arrowhead": 2,
          "ax": 0,
          "ay": -10,
          "font": {
           "color": "black",
           "size": 12
          },
          "showarrow": true,
          "text": "44",
          "x": 60.671653747558594,
          "y": 56.90352630615236
         },
         {
          "arrowcolor": "black",
          "arrowhead": 2,
          "ax": 0,
          "ay": -10,
          "font": {
           "color": "black",
           "size": 12
          },
          "showarrow": true,
          "text": "45",
          "x": 80.89553833007812,
          "y": 56.90352630615236
         },
         {
          "arrowcolor": "black",
          "arrowhead": 2,
          "ax": 0,
          "ay": -10,
          "font": {
           "color": "black",
           "size": 12
          },
          "showarrow": true,
          "text": "46",
          "x": 101.11942291259766,
          "y": 56.90352630615236
         },
         {
          "arrowcolor": "black",
          "arrowhead": 2,
          "ax": 0,
          "ay": -10,
          "font": {
           "color": "black",
           "size": 12
          },
          "showarrow": true,
          "text": "47",
          "x": 121.34330749511719,
          "y": 56.90352630615236
         },
         {
          "arrowcolor": "black",
          "arrowhead": 2,
          "ax": 0,
          "ay": -10,
          "font": {
           "color": "black",
           "size": 12
          },
          "showarrow": true,
          "text": "48",
          "x": 141.56719207763672,
          "y": 56.90352630615236
         },
         {
          "arrowcolor": "black",
          "arrowhead": 2,
          "ax": 0,
          "ay": -10,
          "font": {
           "color": "black",
           "size": 12
          },
          "showarrow": true,
          "text": "49",
          "x": 0,
          "y": 68.28423156738282
         },
         {
          "arrowcolor": "black",
          "arrowhead": 2,
          "ax": 0,
          "ay": -10,
          "font": {
           "color": "black",
           "size": 12
          },
          "showarrow": true,
          "text": "50",
          "x": 20.22388458251953,
          "y": 68.28423156738282
         },
         {
          "arrowcolor": "black",
          "arrowhead": 2,
          "ax": 0,
          "ay": -10,
          "font": {
           "color": "black",
           "size": 12
          },
          "showarrow": true,
          "text": "51",
          "x": 40.44776916503906,
          "y": 68.28423156738282
         },
         {
          "arrowcolor": "black",
          "arrowhead": 2,
          "ax": 0,
          "ay": -10,
          "font": {
           "color": "black",
           "size": 12
          },
          "showarrow": true,
          "text": "52",
          "x": 60.671653747558594,
          "y": 68.28423156738282
         },
         {
          "arrowcolor": "black",
          "arrowhead": 2,
          "ax": 0,
          "ay": -10,
          "font": {
           "color": "black",
           "size": 12
          },
          "showarrow": true,
          "text": "53",
          "x": 80.89553833007812,
          "y": 68.28423156738282
         },
         {
          "arrowcolor": "black",
          "arrowhead": 2,
          "ax": 0,
          "ay": -10,
          "font": {
           "color": "black",
           "size": 12
          },
          "showarrow": true,
          "text": "54",
          "x": 101.11942291259766,
          "y": 68.28423156738282
         },
         {
          "arrowcolor": "black",
          "arrowhead": 2,
          "ax": 0,
          "ay": -10,
          "font": {
           "color": "black",
           "size": 12
          },
          "showarrow": true,
          "text": "55",
          "x": 121.34330749511719,
          "y": 68.28423156738282
         },
         {
          "arrowcolor": "black",
          "arrowhead": 2,
          "ax": 0,
          "ay": -10,
          "font": {
           "color": "black",
           "size": 12
          },
          "showarrow": true,
          "text": "56",
          "x": 141.56719207763672,
          "y": 68.28423156738282
         },
         {
          "arrowcolor": "black",
          "arrowhead": 2,
          "ax": 0,
          "ay": -10,
          "font": {
           "color": "black",
           "size": 12
          },
          "showarrow": true,
          "text": "57",
          "x": 0,
          "y": 79.66493682861329
         },
         {
          "arrowcolor": "black",
          "arrowhead": 2,
          "ax": 0,
          "ay": -10,
          "font": {
           "color": "black",
           "size": 12
          },
          "showarrow": true,
          "text": "58",
          "x": 20.22388458251953,
          "y": 79.66493682861329
         },
         {
          "arrowcolor": "black",
          "arrowhead": 2,
          "ax": 0,
          "ay": -10,
          "font": {
           "color": "black",
           "size": 12
          },
          "showarrow": true,
          "text": "59",
          "x": 40.44776916503906,
          "y": 79.66493682861329
         },
         {
          "arrowcolor": "black",
          "arrowhead": 2,
          "ax": 0,
          "ay": -10,
          "font": {
           "color": "black",
           "size": 12
          },
          "showarrow": true,
          "text": "60",
          "x": 60.671653747558594,
          "y": 79.66493682861329
         },
         {
          "arrowcolor": "black",
          "arrowhead": 2,
          "ax": 0,
          "ay": -10,
          "font": {
           "color": "black",
           "size": 12
          },
          "showarrow": true,
          "text": "61",
          "x": 80.89553833007812,
          "y": 79.66493682861329
         },
         {
          "arrowcolor": "black",
          "arrowhead": 2,
          "ax": 0,
          "ay": -10,
          "font": {
           "color": "black",
           "size": 12
          },
          "showarrow": true,
          "text": "62",
          "x": 101.11942291259766,
          "y": 79.66493682861329
         },
         {
          "arrowcolor": "black",
          "arrowhead": 2,
          "ax": 0,
          "ay": -10,
          "font": {
           "color": "black",
           "size": 12
          },
          "showarrow": true,
          "text": "63",
          "x": 121.34330749511719,
          "y": 79.66493682861329
         },
         {
          "arrowcolor": "black",
          "arrowhead": 2,
          "ax": 0,
          "ay": -10,
          "font": {
           "color": "black",
           "size": 12
          },
          "showarrow": true,
          "text": "64",
          "x": 141.56719207763672,
          "y": 79.66493682861329
         },
         {
          "arrowcolor": "black",
          "arrowhead": 2,
          "ax": 0,
          "ay": -10,
          "font": {
           "color": "black",
           "size": 12
          },
          "showarrow": true,
          "text": "65",
          "x": 0,
          "y": 91.04564208984377
         },
         {
          "arrowcolor": "black",
          "arrowhead": 2,
          "ax": 0,
          "ay": -10,
          "font": {
           "color": "black",
           "size": 12
          },
          "showarrow": true,
          "text": "66",
          "x": 20.22388458251953,
          "y": 91.04564208984377
         },
         {
          "arrowcolor": "black",
          "arrowhead": 2,
          "ax": 0,
          "ay": -10,
          "font": {
           "color": "black",
           "size": 12
          },
          "showarrow": true,
          "text": "67",
          "x": 40.44776916503906,
          "y": 91.04564208984377
         },
         {
          "arrowcolor": "black",
          "arrowhead": 2,
          "ax": 0,
          "ay": -10,
          "font": {
           "color": "black",
           "size": 12
          },
          "showarrow": true,
          "text": "68",
          "x": 60.671653747558594,
          "y": 91.04564208984377
         },
         {
          "arrowcolor": "black",
          "arrowhead": 2,
          "ax": 0,
          "ay": -10,
          "font": {
           "color": "black",
           "size": 12
          },
          "showarrow": true,
          "text": "69",
          "x": 80.89553833007812,
          "y": 91.04564208984377
         },
         {
          "arrowcolor": "black",
          "arrowhead": 2,
          "ax": 0,
          "ay": -10,
          "font": {
           "color": "black",
           "size": 12
          },
          "showarrow": true,
          "text": "70",
          "x": 101.11942291259766,
          "y": 91.04564208984377
         },
         {
          "arrowcolor": "black",
          "arrowhead": 2,
          "ax": 0,
          "ay": -10,
          "font": {
           "color": "black",
           "size": 12
          },
          "showarrow": true,
          "text": "71",
          "x": 121.34330749511719,
          "y": 91.04564208984377
         },
         {
          "arrowcolor": "black",
          "arrowhead": 2,
          "ax": 0,
          "ay": -10,
          "font": {
           "color": "black",
           "size": 12
          },
          "showarrow": true,
          "text": "72",
          "x": 141.56719207763672,
          "y": 91.04564208984377
         },
         {
          "arrowcolor": "black",
          "arrowhead": 2,
          "ax": 0,
          "ay": -10,
          "font": {
           "color": "black",
           "size": 12
          },
          "showarrow": true,
          "text": "73",
          "x": 0,
          "y": 102.42634735107424
         },
         {
          "arrowcolor": "black",
          "arrowhead": 2,
          "ax": 0,
          "ay": -10,
          "font": {
           "color": "black",
           "size": 12
          },
          "showarrow": true,
          "text": "74",
          "x": 20.22388458251953,
          "y": 102.42634735107424
         },
         {
          "arrowcolor": "black",
          "arrowhead": 2,
          "ax": 0,
          "ay": -10,
          "font": {
           "color": "black",
           "size": 12
          },
          "showarrow": true,
          "text": "75",
          "x": 40.44776916503906,
          "y": 102.42634735107424
         },
         {
          "arrowcolor": "black",
          "arrowhead": 2,
          "ax": 0,
          "ay": -10,
          "font": {
           "color": "black",
           "size": 12
          },
          "showarrow": true,
          "text": "76",
          "x": 60.671653747558594,
          "y": 102.42634735107424
         },
         {
          "arrowcolor": "black",
          "arrowhead": 2,
          "ax": 0,
          "ay": -10,
          "font": {
           "color": "black",
           "size": 12
          },
          "showarrow": true,
          "text": "77",
          "x": 80.89553833007812,
          "y": 102.42634735107424
         },
         {
          "arrowcolor": "black",
          "arrowhead": 2,
          "ax": 0,
          "ay": -10,
          "font": {
           "color": "black",
           "size": 12
          },
          "showarrow": true,
          "text": "78",
          "x": 101.11942291259766,
          "y": 102.42634735107424
         },
         {
          "arrowcolor": "black",
          "arrowhead": 2,
          "ax": 0,
          "ay": -10,
          "font": {
           "color": "black",
           "size": 12
          },
          "showarrow": true,
          "text": "79",
          "x": 121.34330749511719,
          "y": 102.42634735107424
         },
         {
          "arrowcolor": "black",
          "arrowhead": 2,
          "ax": 0,
          "ay": -10,
          "font": {
           "color": "black",
           "size": 12
          },
          "showarrow": true,
          "text": "80",
          "x": 141.56719207763672,
          "y": 102.42634735107424
         },
         {
          "arrowcolor": "black",
          "arrowhead": 2,
          "ax": 0,
          "ay": -10,
          "font": {
           "color": "black",
           "size": 12
          },
          "showarrow": true,
          "text": "81",
          "x": 0,
          "y": 113.80705261230472
         },
         {
          "arrowcolor": "black",
          "arrowhead": 2,
          "ax": 0,
          "ay": -10,
          "font": {
           "color": "black",
           "size": 12
          },
          "showarrow": true,
          "text": "82",
          "x": 20.22388458251953,
          "y": 113.80705261230472
         },
         {
          "arrowcolor": "black",
          "arrowhead": 2,
          "ax": 0,
          "ay": -10,
          "font": {
           "color": "black",
           "size": 12
          },
          "showarrow": true,
          "text": "83",
          "x": 40.44776916503906,
          "y": 113.80705261230472
         },
         {
          "arrowcolor": "black",
          "arrowhead": 2,
          "ax": 0,
          "ay": -10,
          "font": {
           "color": "black",
           "size": 12
          },
          "showarrow": true,
          "text": "84",
          "x": 60.671653747558594,
          "y": 113.80705261230472
         },
         {
          "arrowcolor": "black",
          "arrowhead": 2,
          "ax": 0,
          "ay": -10,
          "font": {
           "color": "black",
           "size": 12
          },
          "showarrow": true,
          "text": "85",
          "x": 80.89553833007812,
          "y": 113.80705261230472
         },
         {
          "arrowcolor": "black",
          "arrowhead": 2,
          "ax": 0,
          "ay": -10,
          "font": {
           "color": "black",
           "size": 12
          },
          "showarrow": true,
          "text": "86",
          "x": 101.11942291259766,
          "y": 113.80705261230472
         },
         {
          "arrowcolor": "black",
          "arrowhead": 2,
          "ax": 0,
          "ay": -10,
          "font": {
           "color": "black",
           "size": 12
          },
          "showarrow": true,
          "text": "87",
          "x": 121.34330749511719,
          "y": 113.80705261230472
         },
         {
          "arrowcolor": "black",
          "arrowhead": 2,
          "ax": 0,
          "ay": -10,
          "font": {
           "color": "black",
           "size": 12
          },
          "showarrow": true,
          "text": "88",
          "x": 141.56719207763672,
          "y": 113.80705261230472
         },
         {
          "arrowcolor": "black",
          "arrowhead": 2,
          "ax": 0,
          "ay": -10,
          "font": {
           "color": "black",
           "size": 12
          },
          "showarrow": true,
          "text": "89",
          "x": 0,
          "y": 125.18775787353518
         },
         {
          "arrowcolor": "black",
          "arrowhead": 2,
          "ax": 0,
          "ay": -10,
          "font": {
           "color": "black",
           "size": 12
          },
          "showarrow": true,
          "text": "90",
          "x": 20.22388458251953,
          "y": 125.18775787353518
         },
         {
          "arrowcolor": "black",
          "arrowhead": 2,
          "ax": 0,
          "ay": -10,
          "font": {
           "color": "black",
           "size": 12
          },
          "showarrow": true,
          "text": "91",
          "x": 40.44776916503906,
          "y": 125.18775787353518
         },
         {
          "arrowcolor": "black",
          "arrowhead": 2,
          "ax": 0,
          "ay": -10,
          "font": {
           "color": "black",
           "size": 12
          },
          "showarrow": true,
          "text": "92",
          "x": 60.671653747558594,
          "y": 125.18775787353518
         },
         {
          "arrowcolor": "black",
          "arrowhead": 2,
          "ax": 0,
          "ay": -10,
          "font": {
           "color": "black",
           "size": 12
          },
          "showarrow": true,
          "text": "93",
          "x": 80.89553833007812,
          "y": 125.18775787353518
         },
         {
          "arrowcolor": "black",
          "arrowhead": 2,
          "ax": 0,
          "ay": -10,
          "font": {
           "color": "black",
           "size": 12
          },
          "showarrow": true,
          "text": "94",
          "x": 101.11942291259766,
          "y": 125.18775787353518
         },
         {
          "arrowcolor": "black",
          "arrowhead": 2,
          "ax": 0,
          "ay": -10,
          "font": {
           "color": "black",
           "size": 12
          },
          "showarrow": true,
          "text": "95",
          "x": 121.34330749511719,
          "y": 125.18775787353518
         },
         {
          "arrowcolor": "black",
          "arrowhead": 2,
          "ax": 0,
          "ay": -10,
          "font": {
           "color": "black",
           "size": 12
          },
          "showarrow": true,
          "text": "96",
          "x": 141.56719207763672,
          "y": 125.18775787353518
         },
         {
          "arrowcolor": "black",
          "arrowhead": 2,
          "ax": 0,
          "ay": -10,
          "font": {
           "color": "black",
           "size": 12
          },
          "showarrow": true,
          "text": "97",
          "x": 0,
          "y": 136.56846313476564
         },
         {
          "arrowcolor": "black",
          "arrowhead": 2,
          "ax": 0,
          "ay": -10,
          "font": {
           "color": "black",
           "size": 12
          },
          "showarrow": true,
          "text": "98",
          "x": 20.22388458251953,
          "y": 136.56846313476564
         },
         {
          "arrowcolor": "black",
          "arrowhead": 2,
          "ax": 0,
          "ay": -10,
          "font": {
           "color": "black",
           "size": 12
          },
          "showarrow": true,
          "text": "99",
          "x": 40.44776916503906,
          "y": 136.56846313476564
         },
         {
          "arrowcolor": "black",
          "arrowhead": 2,
          "ax": 0,
          "ay": -10,
          "font": {
           "color": "black",
           "size": 12
          },
          "showarrow": true,
          "text": "100",
          "x": 60.671653747558594,
          "y": 136.56846313476564
         },
         {
          "arrowcolor": "black",
          "arrowhead": 2,
          "ax": 0,
          "ay": -10,
          "font": {
           "color": "black",
           "size": 12
          },
          "showarrow": true,
          "text": "101",
          "x": 80.89553833007812,
          "y": 136.56846313476564
         },
         {
          "arrowcolor": "black",
          "arrowhead": 2,
          "ax": 0,
          "ay": -10,
          "font": {
           "color": "black",
           "size": 12
          },
          "showarrow": true,
          "text": "102",
          "x": 101.11942291259766,
          "y": 136.56846313476564
         },
         {
          "arrowcolor": "black",
          "arrowhead": 2,
          "ax": 0,
          "ay": -10,
          "font": {
           "color": "black",
           "size": 12
          },
          "showarrow": true,
          "text": "103",
          "x": 121.34330749511719,
          "y": 136.56846313476564
         },
         {
          "arrowcolor": "black",
          "arrowhead": 2,
          "ax": 0,
          "ay": -10,
          "font": {
           "color": "black",
           "size": 12
          },
          "showarrow": true,
          "text": "104",
          "x": 141.56719207763672,
          "y": 136.56846313476564
         },
         {
          "arrowcolor": "black",
          "arrowhead": 2,
          "ax": 0,
          "ay": -10,
          "font": {
           "color": "black",
           "size": 12
          },
          "showarrow": true,
          "text": "105",
          "x": 0,
          "y": 147.9491683959961
         },
         {
          "arrowcolor": "black",
          "arrowhead": 2,
          "ax": 0,
          "ay": -10,
          "font": {
           "color": "black",
           "size": 12
          },
          "showarrow": true,
          "text": "106",
          "x": 20.22388458251953,
          "y": 147.9491683959961
         },
         {
          "arrowcolor": "black",
          "arrowhead": 2,
          "ax": 0,
          "ay": -10,
          "font": {
           "color": "black",
           "size": 12
          },
          "showarrow": true,
          "text": "107",
          "x": 40.44776916503906,
          "y": 147.9491683959961
         },
         {
          "arrowcolor": "black",
          "arrowhead": 2,
          "ax": 0,
          "ay": -10,
          "font": {
           "color": "black",
           "size": 12
          },
          "showarrow": true,
          "text": "108",
          "x": 60.671653747558594,
          "y": 147.9491683959961
         },
         {
          "arrowcolor": "black",
          "arrowhead": 2,
          "ax": 0,
          "ay": -10,
          "font": {
           "color": "black",
           "size": 12
          },
          "showarrow": true,
          "text": "109",
          "x": 80.89553833007812,
          "y": 147.9491683959961
         },
         {
          "arrowcolor": "black",
          "arrowhead": 2,
          "ax": 0,
          "ay": -10,
          "font": {
           "color": "black",
           "size": 12
          },
          "showarrow": true,
          "text": "110",
          "x": 101.11942291259766,
          "y": 147.9491683959961
         },
         {
          "arrowcolor": "black",
          "arrowhead": 2,
          "ax": 0,
          "ay": -10,
          "font": {
           "color": "black",
           "size": 12
          },
          "showarrow": true,
          "text": "111",
          "x": 121.34330749511719,
          "y": 147.9491683959961
         },
         {
          "arrowcolor": "black",
          "arrowhead": 2,
          "ax": 0,
          "ay": -10,
          "font": {
           "color": "black",
           "size": 12
          },
          "showarrow": true,
          "text": "112",
          "x": 141.56719207763672,
          "y": 147.9491683959961
         }
        ],
        "height": 800,
        "margin": {
         "b": 0,
         "l": 0,
         "r": 0,
         "t": 50
        },
        "showlegend": false,
        "template": {
         "data": {
          "bar": [
           {
            "error_x": {
             "color": "#2a3f5f"
            },
            "error_y": {
             "color": "#2a3f5f"
            },
            "marker": {
             "line": {
              "color": "#E5ECF6",
              "width": 0.5
             },
             "pattern": {
              "fillmode": "overlay",
              "size": 10,
              "solidity": 0.2
             }
            },
            "type": "bar"
           }
          ],
          "barpolar": [
           {
            "marker": {
             "line": {
              "color": "#E5ECF6",
              "width": 0.5
             },
             "pattern": {
              "fillmode": "overlay",
              "size": 10,
              "solidity": 0.2
             }
            },
            "type": "barpolar"
           }
          ],
          "carpet": [
           {
            "aaxis": {
             "endlinecolor": "#2a3f5f",
             "gridcolor": "white",
             "linecolor": "white",
             "minorgridcolor": "white",
             "startlinecolor": "#2a3f5f"
            },
            "baxis": {
             "endlinecolor": "#2a3f5f",
             "gridcolor": "white",
             "linecolor": "white",
             "minorgridcolor": "white",
             "startlinecolor": "#2a3f5f"
            },
            "type": "carpet"
           }
          ],
          "choropleth": [
           {
            "colorbar": {
             "outlinewidth": 0,
             "ticks": ""
            },
            "type": "choropleth"
           }
          ],
          "contour": [
           {
            "colorbar": {
             "outlinewidth": 0,
             "ticks": ""
            },
            "colorscale": [
             [
              0,
              "#0d0887"
             ],
             [
              0.1111111111111111,
              "#46039f"
             ],
             [
              0.2222222222222222,
              "#7201a8"
             ],
             [
              0.3333333333333333,
              "#9c179e"
             ],
             [
              0.4444444444444444,
              "#bd3786"
             ],
             [
              0.5555555555555556,
              "#d8576b"
             ],
             [
              0.6666666666666666,
              "#ed7953"
             ],
             [
              0.7777777777777778,
              "#fb9f3a"
             ],
             [
              0.8888888888888888,
              "#fdca26"
             ],
             [
              1,
              "#f0f921"
             ]
            ],
            "type": "contour"
           }
          ],
          "contourcarpet": [
           {
            "colorbar": {
             "outlinewidth": 0,
             "ticks": ""
            },
            "type": "contourcarpet"
           }
          ],
          "heatmap": [
           {
            "colorbar": {
             "outlinewidth": 0,
             "ticks": ""
            },
            "colorscale": [
             [
              0,
              "#0d0887"
             ],
             [
              0.1111111111111111,
              "#46039f"
             ],
             [
              0.2222222222222222,
              "#7201a8"
             ],
             [
              0.3333333333333333,
              "#9c179e"
             ],
             [
              0.4444444444444444,
              "#bd3786"
             ],
             [
              0.5555555555555556,
              "#d8576b"
             ],
             [
              0.6666666666666666,
              "#ed7953"
             ],
             [
              0.7777777777777778,
              "#fb9f3a"
             ],
             [
              0.8888888888888888,
              "#fdca26"
             ],
             [
              1,
              "#f0f921"
             ]
            ],
            "type": "heatmap"
           }
          ],
          "heatmapgl": [
           {
            "colorbar": {
             "outlinewidth": 0,
             "ticks": ""
            },
            "colorscale": [
             [
              0,
              "#0d0887"
             ],
             [
              0.1111111111111111,
              "#46039f"
             ],
             [
              0.2222222222222222,
              "#7201a8"
             ],
             [
              0.3333333333333333,
              "#9c179e"
             ],
             [
              0.4444444444444444,
              "#bd3786"
             ],
             [
              0.5555555555555556,
              "#d8576b"
             ],
             [
              0.6666666666666666,
              "#ed7953"
             ],
             [
              0.7777777777777778,
              "#fb9f3a"
             ],
             [
              0.8888888888888888,
              "#fdca26"
             ],
             [
              1,
              "#f0f921"
             ]
            ],
            "type": "heatmapgl"
           }
          ],
          "histogram": [
           {
            "marker": {
             "pattern": {
              "fillmode": "overlay",
              "size": 10,
              "solidity": 0.2
             }
            },
            "type": "histogram"
           }
          ],
          "histogram2d": [
           {
            "colorbar": {
             "outlinewidth": 0,
             "ticks": ""
            },
            "colorscale": [
             [
              0,
              "#0d0887"
             ],
             [
              0.1111111111111111,
              "#46039f"
             ],
             [
              0.2222222222222222,
              "#7201a8"
             ],
             [
              0.3333333333333333,
              "#9c179e"
             ],
             [
              0.4444444444444444,
              "#bd3786"
             ],
             [
              0.5555555555555556,
              "#d8576b"
             ],
             [
              0.6666666666666666,
              "#ed7953"
             ],
             [
              0.7777777777777778,
              "#fb9f3a"
             ],
             [
              0.8888888888888888,
              "#fdca26"
             ],
             [
              1,
              "#f0f921"
             ]
            ],
            "type": "histogram2d"
           }
          ],
          "histogram2dcontour": [
           {
            "colorbar": {
             "outlinewidth": 0,
             "ticks": ""
            },
            "colorscale": [
             [
              0,
              "#0d0887"
             ],
             [
              0.1111111111111111,
              "#46039f"
             ],
             [
              0.2222222222222222,
              "#7201a8"
             ],
             [
              0.3333333333333333,
              "#9c179e"
             ],
             [
              0.4444444444444444,
              "#bd3786"
             ],
             [
              0.5555555555555556,
              "#d8576b"
             ],
             [
              0.6666666666666666,
              "#ed7953"
             ],
             [
              0.7777777777777778,
              "#fb9f3a"
             ],
             [
              0.8888888888888888,
              "#fdca26"
             ],
             [
              1,
              "#f0f921"
             ]
            ],
            "type": "histogram2dcontour"
           }
          ],
          "mesh3d": [
           {
            "colorbar": {
             "outlinewidth": 0,
             "ticks": ""
            },
            "type": "mesh3d"
           }
          ],
          "parcoords": [
           {
            "line": {
             "colorbar": {
              "outlinewidth": 0,
              "ticks": ""
             }
            },
            "type": "parcoords"
           }
          ],
          "pie": [
           {
            "automargin": true,
            "type": "pie"
           }
          ],
          "scatter": [
           {
            "fillpattern": {
             "fillmode": "overlay",
             "size": 10,
             "solidity": 0.2
            },
            "type": "scatter"
           }
          ],
          "scatter3d": [
           {
            "line": {
             "colorbar": {
              "outlinewidth": 0,
              "ticks": ""
             }
            },
            "marker": {
             "colorbar": {
              "outlinewidth": 0,
              "ticks": ""
             }
            },
            "type": "scatter3d"
           }
          ],
          "scattercarpet": [
           {
            "marker": {
             "colorbar": {
              "outlinewidth": 0,
              "ticks": ""
             }
            },
            "type": "scattercarpet"
           }
          ],
          "scattergeo": [
           {
            "marker": {
             "colorbar": {
              "outlinewidth": 0,
              "ticks": ""
             }
            },
            "type": "scattergeo"
           }
          ],
          "scattergl": [
           {
            "marker": {
             "colorbar": {
              "outlinewidth": 0,
              "ticks": ""
             }
            },
            "type": "scattergl"
           }
          ],
          "scattermapbox": [
           {
            "marker": {
             "colorbar": {
              "outlinewidth": 0,
              "ticks": ""
             }
            },
            "type": "scattermapbox"
           }
          ],
          "scatterpolar": [
           {
            "marker": {
             "colorbar": {
              "outlinewidth": 0,
              "ticks": ""
             }
            },
            "type": "scatterpolar"
           }
          ],
          "scatterpolargl": [
           {
            "marker": {
             "colorbar": {
              "outlinewidth": 0,
              "ticks": ""
             }
            },
            "type": "scatterpolargl"
           }
          ],
          "scatterternary": [
           {
            "marker": {
             "colorbar": {
              "outlinewidth": 0,
              "ticks": ""
             }
            },
            "type": "scatterternary"
           }
          ],
          "surface": [
           {
            "colorbar": {
             "outlinewidth": 0,
             "ticks": ""
            },
            "colorscale": [
             [
              0,
              "#0d0887"
             ],
             [
              0.1111111111111111,
              "#46039f"
             ],
             [
              0.2222222222222222,
              "#7201a8"
             ],
             [
              0.3333333333333333,
              "#9c179e"
             ],
             [
              0.4444444444444444,
              "#bd3786"
             ],
             [
              0.5555555555555556,
              "#d8576b"
             ],
             [
              0.6666666666666666,
              "#ed7953"
             ],
             [
              0.7777777777777778,
              "#fb9f3a"
             ],
             [
              0.8888888888888888,
              "#fdca26"
             ],
             [
              1,
              "#f0f921"
             ]
            ],
            "type": "surface"
           }
          ],
          "table": [
           {
            "cells": {
             "fill": {
              "color": "#EBF0F8"
             },
             "line": {
              "color": "white"
             }
            },
            "header": {
             "fill": {
              "color": "#C8D4E3"
             },
             "line": {
              "color": "white"
             }
            },
            "type": "table"
           }
          ]
         },
         "layout": {
          "annotationdefaults": {
           "arrowcolor": "#2a3f5f",
           "arrowhead": 0,
           "arrowwidth": 1
          },
          "autotypenumbers": "strict",
          "coloraxis": {
           "colorbar": {
            "outlinewidth": 0,
            "ticks": ""
           }
          },
          "colorscale": {
           "diverging": [
            [
             0,
             "#8e0152"
            ],
            [
             0.1,
             "#c51b7d"
            ],
            [
             0.2,
             "#de77ae"
            ],
            [
             0.3,
             "#f1b6da"
            ],
            [
             0.4,
             "#fde0ef"
            ],
            [
             0.5,
             "#f7f7f7"
            ],
            [
             0.6,
             "#e6f5d0"
            ],
            [
             0.7,
             "#b8e186"
            ],
            [
             0.8,
             "#7fbc41"
            ],
            [
             0.9,
             "#4d9221"
            ],
            [
             1,
             "#276419"
            ]
           ],
           "sequential": [
            [
             0,
             "#0d0887"
            ],
            [
             0.1111111111111111,
             "#46039f"
            ],
            [
             0.2222222222222222,
             "#7201a8"
            ],
            [
             0.3333333333333333,
             "#9c179e"
            ],
            [
             0.4444444444444444,
             "#bd3786"
            ],
            [
             0.5555555555555556,
             "#d8576b"
            ],
            [
             0.6666666666666666,
             "#ed7953"
            ],
            [
             0.7777777777777778,
             "#fb9f3a"
            ],
            [
             0.8888888888888888,
             "#fdca26"
            ],
            [
             1,
             "#f0f921"
            ]
           ],
           "sequentialminus": [
            [
             0,
             "#0d0887"
            ],
            [
             0.1111111111111111,
             "#46039f"
            ],
            [
             0.2222222222222222,
             "#7201a8"
            ],
            [
             0.3333333333333333,
             "#9c179e"
            ],
            [
             0.4444444444444444,
             "#bd3786"
            ],
            [
             0.5555555555555556,
             "#d8576b"
            ],
            [
             0.6666666666666666,
             "#ed7953"
            ],
            [
             0.7777777777777778,
             "#fb9f3a"
            ],
            [
             0.8888888888888888,
             "#fdca26"
            ],
            [
             1,
             "#f0f921"
            ]
           ]
          },
          "colorway": [
           "#636efa",
           "#EF553B",
           "#00cc96",
           "#ab63fa",
           "#FFA15A",
           "#19d3f3",
           "#FF6692",
           "#B6E880",
           "#FF97FF",
           "#FECB52"
          ],
          "font": {
           "color": "#2a3f5f"
          },
          "geo": {
           "bgcolor": "white",
           "lakecolor": "white",
           "landcolor": "#E5ECF6",
           "showlakes": true,
           "showland": true,
           "subunitcolor": "white"
          },
          "hoverlabel": {
           "align": "left"
          },
          "hovermode": "closest",
          "mapbox": {
           "style": "light"
          },
          "paper_bgcolor": "white",
          "plot_bgcolor": "#E5ECF6",
          "polar": {
           "angularaxis": {
            "gridcolor": "white",
            "linecolor": "white",
            "ticks": ""
           },
           "bgcolor": "#E5ECF6",
           "radialaxis": {
            "gridcolor": "white",
            "linecolor": "white",
            "ticks": ""
           }
          },
          "scene": {
           "xaxis": {
            "backgroundcolor": "#E5ECF6",
            "gridcolor": "white",
            "gridwidth": 2,
            "linecolor": "white",
            "showbackground": true,
            "ticks": "",
            "zerolinecolor": "white"
           },
           "yaxis": {
            "backgroundcolor": "#E5ECF6",
            "gridcolor": "white",
            "gridwidth": 2,
            "linecolor": "white",
            "showbackground": true,
            "ticks": "",
            "zerolinecolor": "white"
           },
           "zaxis": {
            "backgroundcolor": "#E5ECF6",
            "gridcolor": "white",
            "gridwidth": 2,
            "linecolor": "white",
            "showbackground": true,
            "ticks": "",
            "zerolinecolor": "white"
           }
          },
          "shapedefaults": {
           "line": {
            "color": "#2a3f5f"
           }
          },
          "ternary": {
           "aaxis": {
            "gridcolor": "white",
            "linecolor": "white",
            "ticks": ""
           },
           "baxis": {
            "gridcolor": "white",
            "linecolor": "white",
            "ticks": ""
           },
           "bgcolor": "#E5ECF6",
           "caxis": {
            "gridcolor": "white",
            "linecolor": "white",
            "ticks": ""
           }
          },
          "title": {
           "x": 0.05
          },
          "xaxis": {
           "automargin": true,
           "gridcolor": "white",
           "linecolor": "white",
           "ticks": "",
           "title": {
            "standoff": 15
           },
           "zerolinecolor": "white",
           "zerolinewidth": 2
          },
          "yaxis": {
           "automargin": true,
           "gridcolor": "white",
           "linecolor": "white",
           "ticks": "",
           "title": {
            "standoff": 15
           },
           "zerolinecolor": "white",
           "zerolinewidth": 2
          }
         }
        },
        "title": {
         "text": "2D Flight Plan"
        },
        "xaxis": {
         "title": {
          "text": "X (meters)"
         }
        },
        "yaxis": {
         "title": {
          "text": "Y (meters)"
         }
        }
       }
      }
     },
     "metadata": {},
     "output_type": "display_data"
    }
   ],
   "source": [
    "camera_ = copy.deepcopy(camera_x10)\n",
    "dataset_spec_ = copy.deepcopy(dataset_spec)\n",
    "\n",
    "dataset_spec_.overlap = 0.6\n",
    "\n",
    "print(camera_, dataset_spec_)\n",
    "\n",
    "fig = plot_photo_plan(generate_photo_plan_on_grid(camera_, dataset_spec_))\n",
    "fig.show()"
   ]
  },
  {
   "cell_type": "code",
   "execution_count": 47,
   "id": "070cc371",
   "metadata": {},
   "outputs": [
    {
     "name": "stdout",
     "output_type": "stream",
     "text": [
      "Camera(fx=4938.56, fy=4936.49, cx=4095.5, cy=3071.5, sensor_size_x_mm=13.107, sensor_size_y_mm=9.83, image_size_x=8192, image_size_y=6144) DatasetSpec(overlap=0.7, sidelap=0.9, height=30.48, scan_dimension_x=150,scan_dimension_y=150,exposure_time_ms=2,camera_angle=0 \n"
     ]
    },
    {
     "data": {
      "application/vnd.plotly.v1+json": {
       "config": {
        "plotlyServerURL": "https://plot.ly"
       },
       "data": [
        {
         "line": {
          "color": "blue",
          "width": 2
         },
         "marker": {
          "color": "blue",
          "opacity": 0.8,
          "size": 6
         },
         "mode": "markers+lines",
         "name": "Flight Path",
         "type": "scatter",
         "x": [
          0,
          15.16791343688965,
          30.3358268737793,
          45.50374031066895,
          60.6716537475586,
          75.83956718444826,
          91.0074806213379,
          106.17539405822755,
          121.3433074951172,
          136.51122093200686,
          0,
          15.16791343688965,
          30.3358268737793,
          45.50374031066895,
          60.6716537475586,
          75.83956718444826,
          91.0074806213379,
          106.17539405822755,
          121.3433074951172,
          136.51122093200686,
          0,
          15.16791343688965,
          30.3358268737793,
          45.50374031066895,
          60.6716537475586,
          75.83956718444826,
          91.0074806213379,
          106.17539405822755,
          121.3433074951172,
          136.51122093200686,
          0,
          15.16791343688965,
          30.3358268737793,
          45.50374031066895,
          60.6716537475586,
          75.83956718444826,
          91.0074806213379,
          106.17539405822755,
          121.3433074951172,
          136.51122093200686,
          0,
          15.16791343688965,
          30.3358268737793,
          45.50374031066895,
          60.6716537475586,
          75.83956718444826,
          91.0074806213379,
          106.17539405822755,
          121.3433074951172,
          136.51122093200686,
          0,
          15.16791343688965,
          30.3358268737793,
          45.50374031066895,
          60.6716537475586,
          75.83956718444826,
          91.0074806213379,
          106.17539405822755,
          121.3433074951172,
          136.51122093200686,
          0,
          15.16791343688965,
          30.3358268737793,
          45.50374031066895,
          60.6716537475586,
          75.83956718444826,
          91.0074806213379,
          106.17539405822755,
          121.3433074951172,
          136.51122093200686,
          0,
          15.16791343688965,
          30.3358268737793,
          45.50374031066895,
          60.6716537475586,
          75.83956718444826,
          91.0074806213379,
          106.17539405822755,
          121.3433074951172,
          136.51122093200686,
          0,
          15.16791343688965,
          30.3358268737793,
          45.50374031066895,
          60.6716537475586,
          75.83956718444826,
          91.0074806213379,
          106.17539405822755,
          121.3433074951172,
          136.51122093200686,
          0,
          15.16791343688965,
          30.3358268737793,
          45.50374031066895,
          60.6716537475586,
          75.83956718444826,
          91.0074806213379,
          106.17539405822755,
          121.3433074951172,
          136.51122093200686,
          0,
          15.16791343688965,
          30.3358268737793,
          45.50374031066895,
          60.6716537475586,
          75.83956718444826,
          91.0074806213379,
          106.17539405822755,
          121.3433074951172,
          136.51122093200686,
          0,
          15.16791343688965,
          30.3358268737793,
          45.50374031066895,
          60.6716537475586,
          75.83956718444826,
          91.0074806213379,
          106.17539405822755,
          121.3433074951172,
          136.51122093200686,
          0,
          15.16791343688965,
          30.3358268737793,
          45.50374031066895,
          60.6716537475586,
          75.83956718444826,
          91.0074806213379,
          106.17539405822755,
          121.3433074951172,
          136.51122093200686,
          0,
          15.16791343688965,
          30.3358268737793,
          45.50374031066895,
          60.6716537475586,
          75.83956718444826,
          91.0074806213379,
          106.17539405822755,
          121.3433074951172,
          136.51122093200686,
          0,
          15.16791343688965,
          30.3358268737793,
          45.50374031066895,
          60.6716537475586,
          75.83956718444826,
          91.0074806213379,
          106.17539405822755,
          121.3433074951172,
          136.51122093200686,
          0,
          15.16791343688965,
          30.3358268737793,
          45.50374031066895,
          60.6716537475586,
          75.83956718444826,
          91.0074806213379,
          106.17539405822755,
          121.3433074951172,
          136.51122093200686,
          0,
          15.16791343688965,
          30.3358268737793,
          45.50374031066895,
          60.6716537475586,
          75.83956718444826,
          91.0074806213379,
          106.17539405822755,
          121.3433074951172,
          136.51122093200686,
          0,
          15.16791343688965,
          30.3358268737793,
          45.50374031066895,
          60.6716537475586,
          75.83956718444826,
          91.0074806213379,
          106.17539405822755,
          121.3433074951172,
          136.51122093200686,
          0,
          15.16791343688965,
          30.3358268737793,
          45.50374031066895,
          60.6716537475586,
          75.83956718444826,
          91.0074806213379,
          106.17539405822755,
          121.3433074951172,
          136.51122093200686,
          0,
          15.16791343688965,
          30.3358268737793,
          45.50374031066895,
          60.6716537475586,
          75.83956718444826,
          91.0074806213379,
          106.17539405822755,
          121.3433074951172,
          136.51122093200686,
          0,
          15.16791343688965,
          30.3358268737793,
          45.50374031066895,
          60.6716537475586,
          75.83956718444826,
          91.0074806213379,
          106.17539405822755,
          121.3433074951172,
          136.51122093200686,
          0,
          15.16791343688965,
          30.3358268737793,
          45.50374031066895,
          60.6716537475586,
          75.83956718444826,
          91.0074806213379,
          106.17539405822755,
          121.3433074951172,
          136.51122093200686,
          0,
          15.16791343688965,
          30.3358268737793,
          45.50374031066895,
          60.6716537475586,
          75.83956718444826,
          91.0074806213379,
          106.17539405822755,
          121.3433074951172,
          136.51122093200686,
          0,
          15.16791343688965,
          30.3358268737793,
          45.50374031066895,
          60.6716537475586,
          75.83956718444826,
          91.0074806213379,
          106.17539405822755,
          121.3433074951172,
          136.51122093200686,
          0,
          15.16791343688965,
          30.3358268737793,
          45.50374031066895,
          60.6716537475586,
          75.83956718444826,
          91.0074806213379,
          106.17539405822755,
          121.3433074951172,
          136.51122093200686,
          0,
          15.16791343688965,
          30.3358268737793,
          45.50374031066895,
          60.6716537475586,
          75.83956718444826,
          91.0074806213379,
          106.17539405822755,
          121.3433074951172,
          136.51122093200686,
          0,
          15.16791343688965,
          30.3358268737793,
          45.50374031066895,
          60.6716537475586,
          75.83956718444826,
          91.0074806213379,
          106.17539405822755,
          121.3433074951172,
          136.51122093200686,
          0,
          15.16791343688965,
          30.3358268737793,
          45.50374031066895,
          60.6716537475586,
          75.83956718444826,
          91.0074806213379,
          106.17539405822755,
          121.3433074951172,
          136.51122093200686,
          0,
          15.16791343688965,
          30.3358268737793,
          45.50374031066895,
          60.6716537475586,
          75.83956718444826,
          91.0074806213379,
          106.17539405822755,
          121.3433074951172,
          136.51122093200686,
          0,
          15.16791343688965,
          30.3358268737793,
          45.50374031066895,
          60.6716537475586,
          75.83956718444826,
          91.0074806213379,
          106.17539405822755,
          121.3433074951172,
          136.51122093200686,
          0,
          15.16791343688965,
          30.3358268737793,
          45.50374031066895,
          60.6716537475586,
          75.83956718444826,
          91.0074806213379,
          106.17539405822755,
          121.3433074951172,
          136.51122093200686,
          0,
          15.16791343688965,
          30.3358268737793,
          45.50374031066895,
          60.6716537475586,
          75.83956718444826,
          91.0074806213379,
          106.17539405822755,
          121.3433074951172,
          136.51122093200686,
          0,
          15.16791343688965,
          30.3358268737793,
          45.50374031066895,
          60.6716537475586,
          75.83956718444826,
          91.0074806213379,
          106.17539405822755,
          121.3433074951172,
          136.51122093200686,
          0,
          15.16791343688965,
          30.3358268737793,
          45.50374031066895,
          60.6716537475586,
          75.83956718444826,
          91.0074806213379,
          106.17539405822755,
          121.3433074951172,
          136.51122093200686,
          0,
          15.16791343688965,
          30.3358268737793,
          45.50374031066895,
          60.6716537475586,
          75.83956718444826,
          91.0074806213379,
          106.17539405822755,
          121.3433074951172,
          136.51122093200686,
          0,
          15.16791343688965,
          30.3358268737793,
          45.50374031066895,
          60.6716537475586,
          75.83956718444826,
          91.0074806213379,
          106.17539405822755,
          121.3433074951172,
          136.51122093200686,
          0,
          15.16791343688965,
          30.3358268737793,
          45.50374031066895,
          60.6716537475586,
          75.83956718444826,
          91.0074806213379,
          106.17539405822755,
          121.3433074951172,
          136.51122093200686,
          0,
          15.16791343688965,
          30.3358268737793,
          45.50374031066895,
          60.6716537475586,
          75.83956718444826,
          91.0074806213379,
          106.17539405822755,
          121.3433074951172,
          136.51122093200686,
          0,
          15.16791343688965,
          30.3358268737793,
          45.50374031066895,
          60.6716537475586,
          75.83956718444826,
          91.0074806213379,
          106.17539405822755,
          121.3433074951172,
          136.51122093200686,
          0,
          15.16791343688965,
          30.3358268737793,
          45.50374031066895,
          60.6716537475586,
          75.83956718444826,
          91.0074806213379,
          106.17539405822755,
          121.3433074951172,
          136.51122093200686
         ],
         "y": [
          0,
          0,
          0,
          0,
          0,
          0,
          0,
          0,
          0,
          0,
          3.7935684204101556,
          3.7935684204101556,
          3.7935684204101556,
          3.7935684204101556,
          3.7935684204101556,
          3.7935684204101556,
          3.7935684204101556,
          3.7935684204101556,
          3.7935684204101556,
          3.7935684204101556,
          7.587136840820311,
          7.587136840820311,
          7.587136840820311,
          7.587136840820311,
          7.587136840820311,
          7.587136840820311,
          7.587136840820311,
          7.587136840820311,
          7.587136840820311,
          7.587136840820311,
          11.380705261230467,
          11.380705261230467,
          11.380705261230467,
          11.380705261230467,
          11.380705261230467,
          11.380705261230467,
          11.380705261230467,
          11.380705261230467,
          11.380705261230467,
          11.380705261230467,
          15.174273681640623,
          15.174273681640623,
          15.174273681640623,
          15.174273681640623,
          15.174273681640623,
          15.174273681640623,
          15.174273681640623,
          15.174273681640623,
          15.174273681640623,
          15.174273681640623,
          18.967842102050778,
          18.967842102050778,
          18.967842102050778,
          18.967842102050778,
          18.967842102050778,
          18.967842102050778,
          18.967842102050778,
          18.967842102050778,
          18.967842102050778,
          18.967842102050778,
          22.761410522460935,
          22.761410522460935,
          22.761410522460935,
          22.761410522460935,
          22.761410522460935,
          22.761410522460935,
          22.761410522460935,
          22.761410522460935,
          22.761410522460935,
          22.761410522460935,
          26.554978942871088,
          26.554978942871088,
          26.554978942871088,
          26.554978942871088,
          26.554978942871088,
          26.554978942871088,
          26.554978942871088,
          26.554978942871088,
          26.554978942871088,
          26.554978942871088,
          30.348547363281245,
          30.348547363281245,
          30.348547363281245,
          30.348547363281245,
          30.348547363281245,
          30.348547363281245,
          30.348547363281245,
          30.348547363281245,
          30.348547363281245,
          30.348547363281245,
          34.1421157836914,
          34.1421157836914,
          34.1421157836914,
          34.1421157836914,
          34.1421157836914,
          34.1421157836914,
          34.1421157836914,
          34.1421157836914,
          34.1421157836914,
          34.1421157836914,
          37.935684204101555,
          37.935684204101555,
          37.935684204101555,
          37.935684204101555,
          37.935684204101555,
          37.935684204101555,
          37.935684204101555,
          37.935684204101555,
          37.935684204101555,
          37.935684204101555,
          41.72925262451171,
          41.72925262451171,
          41.72925262451171,
          41.72925262451171,
          41.72925262451171,
          41.72925262451171,
          41.72925262451171,
          41.72925262451171,
          41.72925262451171,
          41.72925262451171,
          45.52282104492187,
          45.52282104492187,
          45.52282104492187,
          45.52282104492187,
          45.52282104492187,
          45.52282104492187,
          45.52282104492187,
          45.52282104492187,
          45.52282104492187,
          45.52282104492187,
          49.31638946533202,
          49.31638946533202,
          49.31638946533202,
          49.31638946533202,
          49.31638946533202,
          49.31638946533202,
          49.31638946533202,
          49.31638946533202,
          49.31638946533202,
          49.31638946533202,
          53.109957885742176,
          53.109957885742176,
          53.109957885742176,
          53.109957885742176,
          53.109957885742176,
          53.109957885742176,
          53.109957885742176,
          53.109957885742176,
          53.109957885742176,
          53.109957885742176,
          56.90352630615234,
          56.90352630615234,
          56.90352630615234,
          56.90352630615234,
          56.90352630615234,
          56.90352630615234,
          56.90352630615234,
          56.90352630615234,
          56.90352630615234,
          56.90352630615234,
          60.69709472656249,
          60.69709472656249,
          60.69709472656249,
          60.69709472656249,
          60.69709472656249,
          60.69709472656249,
          60.69709472656249,
          60.69709472656249,
          60.69709472656249,
          60.69709472656249,
          64.49066314697265,
          64.49066314697265,
          64.49066314697265,
          64.49066314697265,
          64.49066314697265,
          64.49066314697265,
          64.49066314697265,
          64.49066314697265,
          64.49066314697265,
          64.49066314697265,
          68.2842315673828,
          68.2842315673828,
          68.2842315673828,
          68.2842315673828,
          68.2842315673828,
          68.2842315673828,
          68.2842315673828,
          68.2842315673828,
          68.2842315673828,
          68.2842315673828,
          72.07779998779296,
          72.07779998779296,
          72.07779998779296,
          72.07779998779296,
          72.07779998779296,
          72.07779998779296,
          72.07779998779296,
          72.07779998779296,
          72.07779998779296,
          72.07779998779296,
          75.87136840820311,
          75.87136840820311,
          75.87136840820311,
          75.87136840820311,
          75.87136840820311,
          75.87136840820311,
          75.87136840820311,
          75.87136840820311,
          75.87136840820311,
          75.87136840820311,
          79.66493682861326,
          79.66493682861326,
          79.66493682861326,
          79.66493682861326,
          79.66493682861326,
          79.66493682861326,
          79.66493682861326,
          79.66493682861326,
          79.66493682861326,
          79.66493682861326,
          83.45850524902342,
          83.45850524902342,
          83.45850524902342,
          83.45850524902342,
          83.45850524902342,
          83.45850524902342,
          83.45850524902342,
          83.45850524902342,
          83.45850524902342,
          83.45850524902342,
          87.25207366943359,
          87.25207366943359,
          87.25207366943359,
          87.25207366943359,
          87.25207366943359,
          87.25207366943359,
          87.25207366943359,
          87.25207366943359,
          87.25207366943359,
          87.25207366943359,
          91.04564208984374,
          91.04564208984374,
          91.04564208984374,
          91.04564208984374,
          91.04564208984374,
          91.04564208984374,
          91.04564208984374,
          91.04564208984374,
          91.04564208984374,
          91.04564208984374,
          94.83921051025389,
          94.83921051025389,
          94.83921051025389,
          94.83921051025389,
          94.83921051025389,
          94.83921051025389,
          94.83921051025389,
          94.83921051025389,
          94.83921051025389,
          94.83921051025389,
          98.63277893066405,
          98.63277893066405,
          98.63277893066405,
          98.63277893066405,
          98.63277893066405,
          98.63277893066405,
          98.63277893066405,
          98.63277893066405,
          98.63277893066405,
          98.63277893066405,
          102.4263473510742,
          102.4263473510742,
          102.4263473510742,
          102.4263473510742,
          102.4263473510742,
          102.4263473510742,
          102.4263473510742,
          102.4263473510742,
          102.4263473510742,
          102.4263473510742,
          106.21991577148435,
          106.21991577148435,
          106.21991577148435,
          106.21991577148435,
          106.21991577148435,
          106.21991577148435,
          106.21991577148435,
          106.21991577148435,
          106.21991577148435,
          106.21991577148435,
          110.01348419189452,
          110.01348419189452,
          110.01348419189452,
          110.01348419189452,
          110.01348419189452,
          110.01348419189452,
          110.01348419189452,
          110.01348419189452,
          110.01348419189452,
          110.01348419189452,
          113.80705261230467,
          113.80705261230467,
          113.80705261230467,
          113.80705261230467,
          113.80705261230467,
          113.80705261230467,
          113.80705261230467,
          113.80705261230467,
          113.80705261230467,
          113.80705261230467,
          117.60062103271483,
          117.60062103271483,
          117.60062103271483,
          117.60062103271483,
          117.60062103271483,
          117.60062103271483,
          117.60062103271483,
          117.60062103271483,
          117.60062103271483,
          117.60062103271483,
          121.39418945312498,
          121.39418945312498,
          121.39418945312498,
          121.39418945312498,
          121.39418945312498,
          121.39418945312498,
          121.39418945312498,
          121.39418945312498,
          121.39418945312498,
          121.39418945312498,
          125.18775787353513,
          125.18775787353513,
          125.18775787353513,
          125.18775787353513,
          125.18775787353513,
          125.18775787353513,
          125.18775787353513,
          125.18775787353513,
          125.18775787353513,
          125.18775787353513,
          128.9813262939453,
          128.9813262939453,
          128.9813262939453,
          128.9813262939453,
          128.9813262939453,
          128.9813262939453,
          128.9813262939453,
          128.9813262939453,
          128.9813262939453,
          128.9813262939453,
          132.77489471435544,
          132.77489471435544,
          132.77489471435544,
          132.77489471435544,
          132.77489471435544,
          132.77489471435544,
          132.77489471435544,
          132.77489471435544,
          132.77489471435544,
          132.77489471435544,
          136.5684631347656,
          136.5684631347656,
          136.5684631347656,
          136.5684631347656,
          136.5684631347656,
          136.5684631347656,
          136.5684631347656,
          136.5684631347656,
          136.5684631347656,
          136.5684631347656,
          140.36203155517575,
          140.36203155517575,
          140.36203155517575,
          140.36203155517575,
          140.36203155517575,
          140.36203155517575,
          140.36203155517575,
          140.36203155517575,
          140.36203155517575,
          140.36203155517575,
          144.15559997558591,
          144.15559997558591,
          144.15559997558591,
          144.15559997558591,
          144.15559997558591,
          144.15559997558591,
          144.15559997558591,
          144.15559997558591,
          144.15559997558591,
          144.15559997558591,
          147.94916839599608,
          147.94916839599608,
          147.94916839599608,
          147.94916839599608,
          147.94916839599608,
          147.94916839599608,
          147.94916839599608,
          147.94916839599608,
          147.94916839599608,
          147.94916839599608
         ]
        }
       ],
       "layout": {
        "annotations": [
         {
          "arrowcolor": "black",
          "arrowhead": 2,
          "ax": 0,
          "ay": -10,
          "font": {
           "color": "black",
           "size": 12
          },
          "showarrow": true,
          "text": "1",
          "x": 0,
          "y": 0
         },
         {
          "arrowcolor": "black",
          "arrowhead": 2,
          "ax": 0,
          "ay": -10,
          "font": {
           "color": "black",
           "size": 12
          },
          "showarrow": true,
          "text": "2",
          "x": 15.16791343688965,
          "y": 0
         },
         {
          "arrowcolor": "black",
          "arrowhead": 2,
          "ax": 0,
          "ay": -10,
          "font": {
           "color": "black",
           "size": 12
          },
          "showarrow": true,
          "text": "3",
          "x": 30.3358268737793,
          "y": 0
         },
         {
          "arrowcolor": "black",
          "arrowhead": 2,
          "ax": 0,
          "ay": -10,
          "font": {
           "color": "black",
           "size": 12
          },
          "showarrow": true,
          "text": "4",
          "x": 45.50374031066895,
          "y": 0
         },
         {
          "arrowcolor": "black",
          "arrowhead": 2,
          "ax": 0,
          "ay": -10,
          "font": {
           "color": "black",
           "size": 12
          },
          "showarrow": true,
          "text": "5",
          "x": 60.6716537475586,
          "y": 0
         },
         {
          "arrowcolor": "black",
          "arrowhead": 2,
          "ax": 0,
          "ay": -10,
          "font": {
           "color": "black",
           "size": 12
          },
          "showarrow": true,
          "text": "6",
          "x": 75.83956718444826,
          "y": 0
         },
         {
          "arrowcolor": "black",
          "arrowhead": 2,
          "ax": 0,
          "ay": -10,
          "font": {
           "color": "black",
           "size": 12
          },
          "showarrow": true,
          "text": "7",
          "x": 91.0074806213379,
          "y": 0
         },
         {
          "arrowcolor": "black",
          "arrowhead": 2,
          "ax": 0,
          "ay": -10,
          "font": {
           "color": "black",
           "size": 12
          },
          "showarrow": true,
          "text": "8",
          "x": 106.17539405822755,
          "y": 0
         },
         {
          "arrowcolor": "black",
          "arrowhead": 2,
          "ax": 0,
          "ay": -10,
          "font": {
           "color": "black",
           "size": 12
          },
          "showarrow": true,
          "text": "9",
          "x": 121.3433074951172,
          "y": 0
         },
         {
          "arrowcolor": "black",
          "arrowhead": 2,
          "ax": 0,
          "ay": -10,
          "font": {
           "color": "black",
           "size": 12
          },
          "showarrow": true,
          "text": "10",
          "x": 136.51122093200686,
          "y": 0
         },
         {
          "arrowcolor": "black",
          "arrowhead": 2,
          "ax": 0,
          "ay": -10,
          "font": {
           "color": "black",
           "size": 12
          },
          "showarrow": true,
          "text": "11",
          "x": 0,
          "y": 3.7935684204101556
         },
         {
          "arrowcolor": "black",
          "arrowhead": 2,
          "ax": 0,
          "ay": -10,
          "font": {
           "color": "black",
           "size": 12
          },
          "showarrow": true,
          "text": "12",
          "x": 15.16791343688965,
          "y": 3.7935684204101556
         },
         {
          "arrowcolor": "black",
          "arrowhead": 2,
          "ax": 0,
          "ay": -10,
          "font": {
           "color": "black",
           "size": 12
          },
          "showarrow": true,
          "text": "13",
          "x": 30.3358268737793,
          "y": 3.7935684204101556
         },
         {
          "arrowcolor": "black",
          "arrowhead": 2,
          "ax": 0,
          "ay": -10,
          "font": {
           "color": "black",
           "size": 12
          },
          "showarrow": true,
          "text": "14",
          "x": 45.50374031066895,
          "y": 3.7935684204101556
         },
         {
          "arrowcolor": "black",
          "arrowhead": 2,
          "ax": 0,
          "ay": -10,
          "font": {
           "color": "black",
           "size": 12
          },
          "showarrow": true,
          "text": "15",
          "x": 60.6716537475586,
          "y": 3.7935684204101556
         },
         {
          "arrowcolor": "black",
          "arrowhead": 2,
          "ax": 0,
          "ay": -10,
          "font": {
           "color": "black",
           "size": 12
          },
          "showarrow": true,
          "text": "16",
          "x": 75.83956718444826,
          "y": 3.7935684204101556
         },
         {
          "arrowcolor": "black",
          "arrowhead": 2,
          "ax": 0,
          "ay": -10,
          "font": {
           "color": "black",
           "size": 12
          },
          "showarrow": true,
          "text": "17",
          "x": 91.0074806213379,
          "y": 3.7935684204101556
         },
         {
          "arrowcolor": "black",
          "arrowhead": 2,
          "ax": 0,
          "ay": -10,
          "font": {
           "color": "black",
           "size": 12
          },
          "showarrow": true,
          "text": "18",
          "x": 106.17539405822755,
          "y": 3.7935684204101556
         },
         {
          "arrowcolor": "black",
          "arrowhead": 2,
          "ax": 0,
          "ay": -10,
          "font": {
           "color": "black",
           "size": 12
          },
          "showarrow": true,
          "text": "19",
          "x": 121.3433074951172,
          "y": 3.7935684204101556
         },
         {
          "arrowcolor": "black",
          "arrowhead": 2,
          "ax": 0,
          "ay": -10,
          "font": {
           "color": "black",
           "size": 12
          },
          "showarrow": true,
          "text": "20",
          "x": 136.51122093200686,
          "y": 3.7935684204101556
         },
         {
          "arrowcolor": "black",
          "arrowhead": 2,
          "ax": 0,
          "ay": -10,
          "font": {
           "color": "black",
           "size": 12
          },
          "showarrow": true,
          "text": "21",
          "x": 0,
          "y": 7.587136840820311
         },
         {
          "arrowcolor": "black",
          "arrowhead": 2,
          "ax": 0,
          "ay": -10,
          "font": {
           "color": "black",
           "size": 12
          },
          "showarrow": true,
          "text": "22",
          "x": 15.16791343688965,
          "y": 7.587136840820311
         },
         {
          "arrowcolor": "black",
          "arrowhead": 2,
          "ax": 0,
          "ay": -10,
          "font": {
           "color": "black",
           "size": 12
          },
          "showarrow": true,
          "text": "23",
          "x": 30.3358268737793,
          "y": 7.587136840820311
         },
         {
          "arrowcolor": "black",
          "arrowhead": 2,
          "ax": 0,
          "ay": -10,
          "font": {
           "color": "black",
           "size": 12
          },
          "showarrow": true,
          "text": "24",
          "x": 45.50374031066895,
          "y": 7.587136840820311
         },
         {
          "arrowcolor": "black",
          "arrowhead": 2,
          "ax": 0,
          "ay": -10,
          "font": {
           "color": "black",
           "size": 12
          },
          "showarrow": true,
          "text": "25",
          "x": 60.6716537475586,
          "y": 7.587136840820311
         },
         {
          "arrowcolor": "black",
          "arrowhead": 2,
          "ax": 0,
          "ay": -10,
          "font": {
           "color": "black",
           "size": 12
          },
          "showarrow": true,
          "text": "26",
          "x": 75.83956718444826,
          "y": 7.587136840820311
         },
         {
          "arrowcolor": "black",
          "arrowhead": 2,
          "ax": 0,
          "ay": -10,
          "font": {
           "color": "black",
           "size": 12
          },
          "showarrow": true,
          "text": "27",
          "x": 91.0074806213379,
          "y": 7.587136840820311
         },
         {
          "arrowcolor": "black",
          "arrowhead": 2,
          "ax": 0,
          "ay": -10,
          "font": {
           "color": "black",
           "size": 12
          },
          "showarrow": true,
          "text": "28",
          "x": 106.17539405822755,
          "y": 7.587136840820311
         },
         {
          "arrowcolor": "black",
          "arrowhead": 2,
          "ax": 0,
          "ay": -10,
          "font": {
           "color": "black",
           "size": 12
          },
          "showarrow": true,
          "text": "29",
          "x": 121.3433074951172,
          "y": 7.587136840820311
         },
         {
          "arrowcolor": "black",
          "arrowhead": 2,
          "ax": 0,
          "ay": -10,
          "font": {
           "color": "black",
           "size": 12
          },
          "showarrow": true,
          "text": "30",
          "x": 136.51122093200686,
          "y": 7.587136840820311
         },
         {
          "arrowcolor": "black",
          "arrowhead": 2,
          "ax": 0,
          "ay": -10,
          "font": {
           "color": "black",
           "size": 12
          },
          "showarrow": true,
          "text": "31",
          "x": 0,
          "y": 11.380705261230467
         },
         {
          "arrowcolor": "black",
          "arrowhead": 2,
          "ax": 0,
          "ay": -10,
          "font": {
           "color": "black",
           "size": 12
          },
          "showarrow": true,
          "text": "32",
          "x": 15.16791343688965,
          "y": 11.380705261230467
         },
         {
          "arrowcolor": "black",
          "arrowhead": 2,
          "ax": 0,
          "ay": -10,
          "font": {
           "color": "black",
           "size": 12
          },
          "showarrow": true,
          "text": "33",
          "x": 30.3358268737793,
          "y": 11.380705261230467
         },
         {
          "arrowcolor": "black",
          "arrowhead": 2,
          "ax": 0,
          "ay": -10,
          "font": {
           "color": "black",
           "size": 12
          },
          "showarrow": true,
          "text": "34",
          "x": 45.50374031066895,
          "y": 11.380705261230467
         },
         {
          "arrowcolor": "black",
          "arrowhead": 2,
          "ax": 0,
          "ay": -10,
          "font": {
           "color": "black",
           "size": 12
          },
          "showarrow": true,
          "text": "35",
          "x": 60.6716537475586,
          "y": 11.380705261230467
         },
         {
          "arrowcolor": "black",
          "arrowhead": 2,
          "ax": 0,
          "ay": -10,
          "font": {
           "color": "black",
           "size": 12
          },
          "showarrow": true,
          "text": "36",
          "x": 75.83956718444826,
          "y": 11.380705261230467
         },
         {
          "arrowcolor": "black",
          "arrowhead": 2,
          "ax": 0,
          "ay": -10,
          "font": {
           "color": "black",
           "size": 12
          },
          "showarrow": true,
          "text": "37",
          "x": 91.0074806213379,
          "y": 11.380705261230467
         },
         {
          "arrowcolor": "black",
          "arrowhead": 2,
          "ax": 0,
          "ay": -10,
          "font": {
           "color": "black",
           "size": 12
          },
          "showarrow": true,
          "text": "38",
          "x": 106.17539405822755,
          "y": 11.380705261230467
         },
         {
          "arrowcolor": "black",
          "arrowhead": 2,
          "ax": 0,
          "ay": -10,
          "font": {
           "color": "black",
           "size": 12
          },
          "showarrow": true,
          "text": "39",
          "x": 121.3433074951172,
          "y": 11.380705261230467
         },
         {
          "arrowcolor": "black",
          "arrowhead": 2,
          "ax": 0,
          "ay": -10,
          "font": {
           "color": "black",
           "size": 12
          },
          "showarrow": true,
          "text": "40",
          "x": 136.51122093200686,
          "y": 11.380705261230467
         },
         {
          "arrowcolor": "black",
          "arrowhead": 2,
          "ax": 0,
          "ay": -10,
          "font": {
           "color": "black",
           "size": 12
          },
          "showarrow": true,
          "text": "41",
          "x": 0,
          "y": 15.174273681640623
         },
         {
          "arrowcolor": "black",
          "arrowhead": 2,
          "ax": 0,
          "ay": -10,
          "font": {
           "color": "black",
           "size": 12
          },
          "showarrow": true,
          "text": "42",
          "x": 15.16791343688965,
          "y": 15.174273681640623
         },
         {
          "arrowcolor": "black",
          "arrowhead": 2,
          "ax": 0,
          "ay": -10,
          "font": {
           "color": "black",
           "size": 12
          },
          "showarrow": true,
          "text": "43",
          "x": 30.3358268737793,
          "y": 15.174273681640623
         },
         {
          "arrowcolor": "black",
          "arrowhead": 2,
          "ax": 0,
          "ay": -10,
          "font": {
           "color": "black",
           "size": 12
          },
          "showarrow": true,
          "text": "44",
          "x": 45.50374031066895,
          "y": 15.174273681640623
         },
         {
          "arrowcolor": "black",
          "arrowhead": 2,
          "ax": 0,
          "ay": -10,
          "font": {
           "color": "black",
           "size": 12
          },
          "showarrow": true,
          "text": "45",
          "x": 60.6716537475586,
          "y": 15.174273681640623
         },
         {
          "arrowcolor": "black",
          "arrowhead": 2,
          "ax": 0,
          "ay": -10,
          "font": {
           "color": "black",
           "size": 12
          },
          "showarrow": true,
          "text": "46",
          "x": 75.83956718444826,
          "y": 15.174273681640623
         },
         {
          "arrowcolor": "black",
          "arrowhead": 2,
          "ax": 0,
          "ay": -10,
          "font": {
           "color": "black",
           "size": 12
          },
          "showarrow": true,
          "text": "47",
          "x": 91.0074806213379,
          "y": 15.174273681640623
         },
         {
          "arrowcolor": "black",
          "arrowhead": 2,
          "ax": 0,
          "ay": -10,
          "font": {
           "color": "black",
           "size": 12
          },
          "showarrow": true,
          "text": "48",
          "x": 106.17539405822755,
          "y": 15.174273681640623
         },
         {
          "arrowcolor": "black",
          "arrowhead": 2,
          "ax": 0,
          "ay": -10,
          "font": {
           "color": "black",
           "size": 12
          },
          "showarrow": true,
          "text": "49",
          "x": 121.3433074951172,
          "y": 15.174273681640623
         },
         {
          "arrowcolor": "black",
          "arrowhead": 2,
          "ax": 0,
          "ay": -10,
          "font": {
           "color": "black",
           "size": 12
          },
          "showarrow": true,
          "text": "50",
          "x": 136.51122093200686,
          "y": 15.174273681640623
         },
         {
          "arrowcolor": "black",
          "arrowhead": 2,
          "ax": 0,
          "ay": -10,
          "font": {
           "color": "black",
           "size": 12
          },
          "showarrow": true,
          "text": "51",
          "x": 0,
          "y": 18.967842102050778
         },
         {
          "arrowcolor": "black",
          "arrowhead": 2,
          "ax": 0,
          "ay": -10,
          "font": {
           "color": "black",
           "size": 12
          },
          "showarrow": true,
          "text": "52",
          "x": 15.16791343688965,
          "y": 18.967842102050778
         },
         {
          "arrowcolor": "black",
          "arrowhead": 2,
          "ax": 0,
          "ay": -10,
          "font": {
           "color": "black",
           "size": 12
          },
          "showarrow": true,
          "text": "53",
          "x": 30.3358268737793,
          "y": 18.967842102050778
         },
         {
          "arrowcolor": "black",
          "arrowhead": 2,
          "ax": 0,
          "ay": -10,
          "font": {
           "color": "black",
           "size": 12
          },
          "showarrow": true,
          "text": "54",
          "x": 45.50374031066895,
          "y": 18.967842102050778
         },
         {
          "arrowcolor": "black",
          "arrowhead": 2,
          "ax": 0,
          "ay": -10,
          "font": {
           "color": "black",
           "size": 12
          },
          "showarrow": true,
          "text": "55",
          "x": 60.6716537475586,
          "y": 18.967842102050778
         },
         {
          "arrowcolor": "black",
          "arrowhead": 2,
          "ax": 0,
          "ay": -10,
          "font": {
           "color": "black",
           "size": 12
          },
          "showarrow": true,
          "text": "56",
          "x": 75.83956718444826,
          "y": 18.967842102050778
         },
         {
          "arrowcolor": "black",
          "arrowhead": 2,
          "ax": 0,
          "ay": -10,
          "font": {
           "color": "black",
           "size": 12
          },
          "showarrow": true,
          "text": "57",
          "x": 91.0074806213379,
          "y": 18.967842102050778
         },
         {
          "arrowcolor": "black",
          "arrowhead": 2,
          "ax": 0,
          "ay": -10,
          "font": {
           "color": "black",
           "size": 12
          },
          "showarrow": true,
          "text": "58",
          "x": 106.17539405822755,
          "y": 18.967842102050778
         },
         {
          "arrowcolor": "black",
          "arrowhead": 2,
          "ax": 0,
          "ay": -10,
          "font": {
           "color": "black",
           "size": 12
          },
          "showarrow": true,
          "text": "59",
          "x": 121.3433074951172,
          "y": 18.967842102050778
         },
         {
          "arrowcolor": "black",
          "arrowhead": 2,
          "ax": 0,
          "ay": -10,
          "font": {
           "color": "black",
           "size": 12
          },
          "showarrow": true,
          "text": "60",
          "x": 136.51122093200686,
          "y": 18.967842102050778
         },
         {
          "arrowcolor": "black",
          "arrowhead": 2,
          "ax": 0,
          "ay": -10,
          "font": {
           "color": "black",
           "size": 12
          },
          "showarrow": true,
          "text": "61",
          "x": 0,
          "y": 22.761410522460935
         },
         {
          "arrowcolor": "black",
          "arrowhead": 2,
          "ax": 0,
          "ay": -10,
          "font": {
           "color": "black",
           "size": 12
          },
          "showarrow": true,
          "text": "62",
          "x": 15.16791343688965,
          "y": 22.761410522460935
         },
         {
          "arrowcolor": "black",
          "arrowhead": 2,
          "ax": 0,
          "ay": -10,
          "font": {
           "color": "black",
           "size": 12
          },
          "showarrow": true,
          "text": "63",
          "x": 30.3358268737793,
          "y": 22.761410522460935
         },
         {
          "arrowcolor": "black",
          "arrowhead": 2,
          "ax": 0,
          "ay": -10,
          "font": {
           "color": "black",
           "size": 12
          },
          "showarrow": true,
          "text": "64",
          "x": 45.50374031066895,
          "y": 22.761410522460935
         },
         {
          "arrowcolor": "black",
          "arrowhead": 2,
          "ax": 0,
          "ay": -10,
          "font": {
           "color": "black",
           "size": 12
          },
          "showarrow": true,
          "text": "65",
          "x": 60.6716537475586,
          "y": 22.761410522460935
         },
         {
          "arrowcolor": "black",
          "arrowhead": 2,
          "ax": 0,
          "ay": -10,
          "font": {
           "color": "black",
           "size": 12
          },
          "showarrow": true,
          "text": "66",
          "x": 75.83956718444826,
          "y": 22.761410522460935
         },
         {
          "arrowcolor": "black",
          "arrowhead": 2,
          "ax": 0,
          "ay": -10,
          "font": {
           "color": "black",
           "size": 12
          },
          "showarrow": true,
          "text": "67",
          "x": 91.0074806213379,
          "y": 22.761410522460935
         },
         {
          "arrowcolor": "black",
          "arrowhead": 2,
          "ax": 0,
          "ay": -10,
          "font": {
           "color": "black",
           "size": 12
          },
          "showarrow": true,
          "text": "68",
          "x": 106.17539405822755,
          "y": 22.761410522460935
         },
         {
          "arrowcolor": "black",
          "arrowhead": 2,
          "ax": 0,
          "ay": -10,
          "font": {
           "color": "black",
           "size": 12
          },
          "showarrow": true,
          "text": "69",
          "x": 121.3433074951172,
          "y": 22.761410522460935
         },
         {
          "arrowcolor": "black",
          "arrowhead": 2,
          "ax": 0,
          "ay": -10,
          "font": {
           "color": "black",
           "size": 12
          },
          "showarrow": true,
          "text": "70",
          "x": 136.51122093200686,
          "y": 22.761410522460935
         },
         {
          "arrowcolor": "black",
          "arrowhead": 2,
          "ax": 0,
          "ay": -10,
          "font": {
           "color": "black",
           "size": 12
          },
          "showarrow": true,
          "text": "71",
          "x": 0,
          "y": 26.554978942871088
         },
         {
          "arrowcolor": "black",
          "arrowhead": 2,
          "ax": 0,
          "ay": -10,
          "font": {
           "color": "black",
           "size": 12
          },
          "showarrow": true,
          "text": "72",
          "x": 15.16791343688965,
          "y": 26.554978942871088
         },
         {
          "arrowcolor": "black",
          "arrowhead": 2,
          "ax": 0,
          "ay": -10,
          "font": {
           "color": "black",
           "size": 12
          },
          "showarrow": true,
          "text": "73",
          "x": 30.3358268737793,
          "y": 26.554978942871088
         },
         {
          "arrowcolor": "black",
          "arrowhead": 2,
          "ax": 0,
          "ay": -10,
          "font": {
           "color": "black",
           "size": 12
          },
          "showarrow": true,
          "text": "74",
          "x": 45.50374031066895,
          "y": 26.554978942871088
         },
         {
          "arrowcolor": "black",
          "arrowhead": 2,
          "ax": 0,
          "ay": -10,
          "font": {
           "color": "black",
           "size": 12
          },
          "showarrow": true,
          "text": "75",
          "x": 60.6716537475586,
          "y": 26.554978942871088
         },
         {
          "arrowcolor": "black",
          "arrowhead": 2,
          "ax": 0,
          "ay": -10,
          "font": {
           "color": "black",
           "size": 12
          },
          "showarrow": true,
          "text": "76",
          "x": 75.83956718444826,
          "y": 26.554978942871088
         },
         {
          "arrowcolor": "black",
          "arrowhead": 2,
          "ax": 0,
          "ay": -10,
          "font": {
           "color": "black",
           "size": 12
          },
          "showarrow": true,
          "text": "77",
          "x": 91.0074806213379,
          "y": 26.554978942871088
         },
         {
          "arrowcolor": "black",
          "arrowhead": 2,
          "ax": 0,
          "ay": -10,
          "font": {
           "color": "black",
           "size": 12
          },
          "showarrow": true,
          "text": "78",
          "x": 106.17539405822755,
          "y": 26.554978942871088
         },
         {
          "arrowcolor": "black",
          "arrowhead": 2,
          "ax": 0,
          "ay": -10,
          "font": {
           "color": "black",
           "size": 12
          },
          "showarrow": true,
          "text": "79",
          "x": 121.3433074951172,
          "y": 26.554978942871088
         },
         {
          "arrowcolor": "black",
          "arrowhead": 2,
          "ax": 0,
          "ay": -10,
          "font": {
           "color": "black",
           "size": 12
          },
          "showarrow": true,
          "text": "80",
          "x": 136.51122093200686,
          "y": 26.554978942871088
         },
         {
          "arrowcolor": "black",
          "arrowhead": 2,
          "ax": 0,
          "ay": -10,
          "font": {
           "color": "black",
           "size": 12
          },
          "showarrow": true,
          "text": "81",
          "x": 0,
          "y": 30.348547363281245
         },
         {
          "arrowcolor": "black",
          "arrowhead": 2,
          "ax": 0,
          "ay": -10,
          "font": {
           "color": "black",
           "size": 12
          },
          "showarrow": true,
          "text": "82",
          "x": 15.16791343688965,
          "y": 30.348547363281245
         },
         {
          "arrowcolor": "black",
          "arrowhead": 2,
          "ax": 0,
          "ay": -10,
          "font": {
           "color": "black",
           "size": 12
          },
          "showarrow": true,
          "text": "83",
          "x": 30.3358268737793,
          "y": 30.348547363281245
         },
         {
          "arrowcolor": "black",
          "arrowhead": 2,
          "ax": 0,
          "ay": -10,
          "font": {
           "color": "black",
           "size": 12
          },
          "showarrow": true,
          "text": "84",
          "x": 45.50374031066895,
          "y": 30.348547363281245
         },
         {
          "arrowcolor": "black",
          "arrowhead": 2,
          "ax": 0,
          "ay": -10,
          "font": {
           "color": "black",
           "size": 12
          },
          "showarrow": true,
          "text": "85",
          "x": 60.6716537475586,
          "y": 30.348547363281245
         },
         {
          "arrowcolor": "black",
          "arrowhead": 2,
          "ax": 0,
          "ay": -10,
          "font": {
           "color": "black",
           "size": 12
          },
          "showarrow": true,
          "text": "86",
          "x": 75.83956718444826,
          "y": 30.348547363281245
         },
         {
          "arrowcolor": "black",
          "arrowhead": 2,
          "ax": 0,
          "ay": -10,
          "font": {
           "color": "black",
           "size": 12
          },
          "showarrow": true,
          "text": "87",
          "x": 91.0074806213379,
          "y": 30.348547363281245
         },
         {
          "arrowcolor": "black",
          "arrowhead": 2,
          "ax": 0,
          "ay": -10,
          "font": {
           "color": "black",
           "size": 12
          },
          "showarrow": true,
          "text": "88",
          "x": 106.17539405822755,
          "y": 30.348547363281245
         },
         {
          "arrowcolor": "black",
          "arrowhead": 2,
          "ax": 0,
          "ay": -10,
          "font": {
           "color": "black",
           "size": 12
          },
          "showarrow": true,
          "text": "89",
          "x": 121.3433074951172,
          "y": 30.348547363281245
         },
         {
          "arrowcolor": "black",
          "arrowhead": 2,
          "ax": 0,
          "ay": -10,
          "font": {
           "color": "black",
           "size": 12
          },
          "showarrow": true,
          "text": "90",
          "x": 136.51122093200686,
          "y": 30.348547363281245
         },
         {
          "arrowcolor": "black",
          "arrowhead": 2,
          "ax": 0,
          "ay": -10,
          "font": {
           "color": "black",
           "size": 12
          },
          "showarrow": true,
          "text": "91",
          "x": 0,
          "y": 34.1421157836914
         },
         {
          "arrowcolor": "black",
          "arrowhead": 2,
          "ax": 0,
          "ay": -10,
          "font": {
           "color": "black",
           "size": 12
          },
          "showarrow": true,
          "text": "92",
          "x": 15.16791343688965,
          "y": 34.1421157836914
         },
         {
          "arrowcolor": "black",
          "arrowhead": 2,
          "ax": 0,
          "ay": -10,
          "font": {
           "color": "black",
           "size": 12
          },
          "showarrow": true,
          "text": "93",
          "x": 30.3358268737793,
          "y": 34.1421157836914
         },
         {
          "arrowcolor": "black",
          "arrowhead": 2,
          "ax": 0,
          "ay": -10,
          "font": {
           "color": "black",
           "size": 12
          },
          "showarrow": true,
          "text": "94",
          "x": 45.50374031066895,
          "y": 34.1421157836914
         },
         {
          "arrowcolor": "black",
          "arrowhead": 2,
          "ax": 0,
          "ay": -10,
          "font": {
           "color": "black",
           "size": 12
          },
          "showarrow": true,
          "text": "95",
          "x": 60.6716537475586,
          "y": 34.1421157836914
         },
         {
          "arrowcolor": "black",
          "arrowhead": 2,
          "ax": 0,
          "ay": -10,
          "font": {
           "color": "black",
           "size": 12
          },
          "showarrow": true,
          "text": "96",
          "x": 75.83956718444826,
          "y": 34.1421157836914
         },
         {
          "arrowcolor": "black",
          "arrowhead": 2,
          "ax": 0,
          "ay": -10,
          "font": {
           "color": "black",
           "size": 12
          },
          "showarrow": true,
          "text": "97",
          "x": 91.0074806213379,
          "y": 34.1421157836914
         },
         {
          "arrowcolor": "black",
          "arrowhead": 2,
          "ax": 0,
          "ay": -10,
          "font": {
           "color": "black",
           "size": 12
          },
          "showarrow": true,
          "text": "98",
          "x": 106.17539405822755,
          "y": 34.1421157836914
         },
         {
          "arrowcolor": "black",
          "arrowhead": 2,
          "ax": 0,
          "ay": -10,
          "font": {
           "color": "black",
           "size": 12
          },
          "showarrow": true,
          "text": "99",
          "x": 121.3433074951172,
          "y": 34.1421157836914
         },
         {
          "arrowcolor": "black",
          "arrowhead": 2,
          "ax": 0,
          "ay": -10,
          "font": {
           "color": "black",
           "size": 12
          },
          "showarrow": true,
          "text": "100",
          "x": 136.51122093200686,
          "y": 34.1421157836914
         },
         {
          "arrowcolor": "black",
          "arrowhead": 2,
          "ax": 0,
          "ay": -10,
          "font": {
           "color": "black",
           "size": 12
          },
          "showarrow": true,
          "text": "101",
          "x": 0,
          "y": 37.935684204101555
         },
         {
          "arrowcolor": "black",
          "arrowhead": 2,
          "ax": 0,
          "ay": -10,
          "font": {
           "color": "black",
           "size": 12
          },
          "showarrow": true,
          "text": "102",
          "x": 15.16791343688965,
          "y": 37.935684204101555
         },
         {
          "arrowcolor": "black",
          "arrowhead": 2,
          "ax": 0,
          "ay": -10,
          "font": {
           "color": "black",
           "size": 12
          },
          "showarrow": true,
          "text": "103",
          "x": 30.3358268737793,
          "y": 37.935684204101555
         },
         {
          "arrowcolor": "black",
          "arrowhead": 2,
          "ax": 0,
          "ay": -10,
          "font": {
           "color": "black",
           "size": 12
          },
          "showarrow": true,
          "text": "104",
          "x": 45.50374031066895,
          "y": 37.935684204101555
         },
         {
          "arrowcolor": "black",
          "arrowhead": 2,
          "ax": 0,
          "ay": -10,
          "font": {
           "color": "black",
           "size": 12
          },
          "showarrow": true,
          "text": "105",
          "x": 60.6716537475586,
          "y": 37.935684204101555
         },
         {
          "arrowcolor": "black",
          "arrowhead": 2,
          "ax": 0,
          "ay": -10,
          "font": {
           "color": "black",
           "size": 12
          },
          "showarrow": true,
          "text": "106",
          "x": 75.83956718444826,
          "y": 37.935684204101555
         },
         {
          "arrowcolor": "black",
          "arrowhead": 2,
          "ax": 0,
          "ay": -10,
          "font": {
           "color": "black",
           "size": 12
          },
          "showarrow": true,
          "text": "107",
          "x": 91.0074806213379,
          "y": 37.935684204101555
         },
         {
          "arrowcolor": "black",
          "arrowhead": 2,
          "ax": 0,
          "ay": -10,
          "font": {
           "color": "black",
           "size": 12
          },
          "showarrow": true,
          "text": "108",
          "x": 106.17539405822755,
          "y": 37.935684204101555
         },
         {
          "arrowcolor": "black",
          "arrowhead": 2,
          "ax": 0,
          "ay": -10,
          "font": {
           "color": "black",
           "size": 12
          },
          "showarrow": true,
          "text": "109",
          "x": 121.3433074951172,
          "y": 37.935684204101555
         },
         {
          "arrowcolor": "black",
          "arrowhead": 2,
          "ax": 0,
          "ay": -10,
          "font": {
           "color": "black",
           "size": 12
          },
          "showarrow": true,
          "text": "110",
          "x": 136.51122093200686,
          "y": 37.935684204101555
         },
         {
          "arrowcolor": "black",
          "arrowhead": 2,
          "ax": 0,
          "ay": -10,
          "font": {
           "color": "black",
           "size": 12
          },
          "showarrow": true,
          "text": "111",
          "x": 0,
          "y": 41.72925262451171
         },
         {
          "arrowcolor": "black",
          "arrowhead": 2,
          "ax": 0,
          "ay": -10,
          "font": {
           "color": "black",
           "size": 12
          },
          "showarrow": true,
          "text": "112",
          "x": 15.16791343688965,
          "y": 41.72925262451171
         },
         {
          "arrowcolor": "black",
          "arrowhead": 2,
          "ax": 0,
          "ay": -10,
          "font": {
           "color": "black",
           "size": 12
          },
          "showarrow": true,
          "text": "113",
          "x": 30.3358268737793,
          "y": 41.72925262451171
         },
         {
          "arrowcolor": "black",
          "arrowhead": 2,
          "ax": 0,
          "ay": -10,
          "font": {
           "color": "black",
           "size": 12
          },
          "showarrow": true,
          "text": "114",
          "x": 45.50374031066895,
          "y": 41.72925262451171
         },
         {
          "arrowcolor": "black",
          "arrowhead": 2,
          "ax": 0,
          "ay": -10,
          "font": {
           "color": "black",
           "size": 12
          },
          "showarrow": true,
          "text": "115",
          "x": 60.6716537475586,
          "y": 41.72925262451171
         },
         {
          "arrowcolor": "black",
          "arrowhead": 2,
          "ax": 0,
          "ay": -10,
          "font": {
           "color": "black",
           "size": 12
          },
          "showarrow": true,
          "text": "116",
          "x": 75.83956718444826,
          "y": 41.72925262451171
         },
         {
          "arrowcolor": "black",
          "arrowhead": 2,
          "ax": 0,
          "ay": -10,
          "font": {
           "color": "black",
           "size": 12
          },
          "showarrow": true,
          "text": "117",
          "x": 91.0074806213379,
          "y": 41.72925262451171
         },
         {
          "arrowcolor": "black",
          "arrowhead": 2,
          "ax": 0,
          "ay": -10,
          "font": {
           "color": "black",
           "size": 12
          },
          "showarrow": true,
          "text": "118",
          "x": 106.17539405822755,
          "y": 41.72925262451171
         },
         {
          "arrowcolor": "black",
          "arrowhead": 2,
          "ax": 0,
          "ay": -10,
          "font": {
           "color": "black",
           "size": 12
          },
          "showarrow": true,
          "text": "119",
          "x": 121.3433074951172,
          "y": 41.72925262451171
         },
         {
          "arrowcolor": "black",
          "arrowhead": 2,
          "ax": 0,
          "ay": -10,
          "font": {
           "color": "black",
           "size": 12
          },
          "showarrow": true,
          "text": "120",
          "x": 136.51122093200686,
          "y": 41.72925262451171
         },
         {
          "arrowcolor": "black",
          "arrowhead": 2,
          "ax": 0,
          "ay": -10,
          "font": {
           "color": "black",
           "size": 12
          },
          "showarrow": true,
          "text": "121",
          "x": 0,
          "y": 45.52282104492187
         },
         {
          "arrowcolor": "black",
          "arrowhead": 2,
          "ax": 0,
          "ay": -10,
          "font": {
           "color": "black",
           "size": 12
          },
          "showarrow": true,
          "text": "122",
          "x": 15.16791343688965,
          "y": 45.52282104492187
         },
         {
          "arrowcolor": "black",
          "arrowhead": 2,
          "ax": 0,
          "ay": -10,
          "font": {
           "color": "black",
           "size": 12
          },
          "showarrow": true,
          "text": "123",
          "x": 30.3358268737793,
          "y": 45.52282104492187
         },
         {
          "arrowcolor": "black",
          "arrowhead": 2,
          "ax": 0,
          "ay": -10,
          "font": {
           "color": "black",
           "size": 12
          },
          "showarrow": true,
          "text": "124",
          "x": 45.50374031066895,
          "y": 45.52282104492187
         },
         {
          "arrowcolor": "black",
          "arrowhead": 2,
          "ax": 0,
          "ay": -10,
          "font": {
           "color": "black",
           "size": 12
          },
          "showarrow": true,
          "text": "125",
          "x": 60.6716537475586,
          "y": 45.52282104492187
         },
         {
          "arrowcolor": "black",
          "arrowhead": 2,
          "ax": 0,
          "ay": -10,
          "font": {
           "color": "black",
           "size": 12
          },
          "showarrow": true,
          "text": "126",
          "x": 75.83956718444826,
          "y": 45.52282104492187
         },
         {
          "arrowcolor": "black",
          "arrowhead": 2,
          "ax": 0,
          "ay": -10,
          "font": {
           "color": "black",
           "size": 12
          },
          "showarrow": true,
          "text": "127",
          "x": 91.0074806213379,
          "y": 45.52282104492187
         },
         {
          "arrowcolor": "black",
          "arrowhead": 2,
          "ax": 0,
          "ay": -10,
          "font": {
           "color": "black",
           "size": 12
          },
          "showarrow": true,
          "text": "128",
          "x": 106.17539405822755,
          "y": 45.52282104492187
         },
         {
          "arrowcolor": "black",
          "arrowhead": 2,
          "ax": 0,
          "ay": -10,
          "font": {
           "color": "black",
           "size": 12
          },
          "showarrow": true,
          "text": "129",
          "x": 121.3433074951172,
          "y": 45.52282104492187
         },
         {
          "arrowcolor": "black",
          "arrowhead": 2,
          "ax": 0,
          "ay": -10,
          "font": {
           "color": "black",
           "size": 12
          },
          "showarrow": true,
          "text": "130",
          "x": 136.51122093200686,
          "y": 45.52282104492187
         },
         {
          "arrowcolor": "black",
          "arrowhead": 2,
          "ax": 0,
          "ay": -10,
          "font": {
           "color": "black",
           "size": 12
          },
          "showarrow": true,
          "text": "131",
          "x": 0,
          "y": 49.31638946533202
         },
         {
          "arrowcolor": "black",
          "arrowhead": 2,
          "ax": 0,
          "ay": -10,
          "font": {
           "color": "black",
           "size": 12
          },
          "showarrow": true,
          "text": "132",
          "x": 15.16791343688965,
          "y": 49.31638946533202
         },
         {
          "arrowcolor": "black",
          "arrowhead": 2,
          "ax": 0,
          "ay": -10,
          "font": {
           "color": "black",
           "size": 12
          },
          "showarrow": true,
          "text": "133",
          "x": 30.3358268737793,
          "y": 49.31638946533202
         },
         {
          "arrowcolor": "black",
          "arrowhead": 2,
          "ax": 0,
          "ay": -10,
          "font": {
           "color": "black",
           "size": 12
          },
          "showarrow": true,
          "text": "134",
          "x": 45.50374031066895,
          "y": 49.31638946533202
         },
         {
          "arrowcolor": "black",
          "arrowhead": 2,
          "ax": 0,
          "ay": -10,
          "font": {
           "color": "black",
           "size": 12
          },
          "showarrow": true,
          "text": "135",
          "x": 60.6716537475586,
          "y": 49.31638946533202
         },
         {
          "arrowcolor": "black",
          "arrowhead": 2,
          "ax": 0,
          "ay": -10,
          "font": {
           "color": "black",
           "size": 12
          },
          "showarrow": true,
          "text": "136",
          "x": 75.83956718444826,
          "y": 49.31638946533202
         },
         {
          "arrowcolor": "black",
          "arrowhead": 2,
          "ax": 0,
          "ay": -10,
          "font": {
           "color": "black",
           "size": 12
          },
          "showarrow": true,
          "text": "137",
          "x": 91.0074806213379,
          "y": 49.31638946533202
         },
         {
          "arrowcolor": "black",
          "arrowhead": 2,
          "ax": 0,
          "ay": -10,
          "font": {
           "color": "black",
           "size": 12
          },
          "showarrow": true,
          "text": "138",
          "x": 106.17539405822755,
          "y": 49.31638946533202
         },
         {
          "arrowcolor": "black",
          "arrowhead": 2,
          "ax": 0,
          "ay": -10,
          "font": {
           "color": "black",
           "size": 12
          },
          "showarrow": true,
          "text": "139",
          "x": 121.3433074951172,
          "y": 49.31638946533202
         },
         {
          "arrowcolor": "black",
          "arrowhead": 2,
          "ax": 0,
          "ay": -10,
          "font": {
           "color": "black",
           "size": 12
          },
          "showarrow": true,
          "text": "140",
          "x": 136.51122093200686,
          "y": 49.31638946533202
         },
         {
          "arrowcolor": "black",
          "arrowhead": 2,
          "ax": 0,
          "ay": -10,
          "font": {
           "color": "black",
           "size": 12
          },
          "showarrow": true,
          "text": "141",
          "x": 0,
          "y": 53.109957885742176
         },
         {
          "arrowcolor": "black",
          "arrowhead": 2,
          "ax": 0,
          "ay": -10,
          "font": {
           "color": "black",
           "size": 12
          },
          "showarrow": true,
          "text": "142",
          "x": 15.16791343688965,
          "y": 53.109957885742176
         },
         {
          "arrowcolor": "black",
          "arrowhead": 2,
          "ax": 0,
          "ay": -10,
          "font": {
           "color": "black",
           "size": 12
          },
          "showarrow": true,
          "text": "143",
          "x": 30.3358268737793,
          "y": 53.109957885742176
         },
         {
          "arrowcolor": "black",
          "arrowhead": 2,
          "ax": 0,
          "ay": -10,
          "font": {
           "color": "black",
           "size": 12
          },
          "showarrow": true,
          "text": "144",
          "x": 45.50374031066895,
          "y": 53.109957885742176
         },
         {
          "arrowcolor": "black",
          "arrowhead": 2,
          "ax": 0,
          "ay": -10,
          "font": {
           "color": "black",
           "size": 12
          },
          "showarrow": true,
          "text": "145",
          "x": 60.6716537475586,
          "y": 53.109957885742176
         },
         {
          "arrowcolor": "black",
          "arrowhead": 2,
          "ax": 0,
          "ay": -10,
          "font": {
           "color": "black",
           "size": 12
          },
          "showarrow": true,
          "text": "146",
          "x": 75.83956718444826,
          "y": 53.109957885742176
         },
         {
          "arrowcolor": "black",
          "arrowhead": 2,
          "ax": 0,
          "ay": -10,
          "font": {
           "color": "black",
           "size": 12
          },
          "showarrow": true,
          "text": "147",
          "x": 91.0074806213379,
          "y": 53.109957885742176
         },
         {
          "arrowcolor": "black",
          "arrowhead": 2,
          "ax": 0,
          "ay": -10,
          "font": {
           "color": "black",
           "size": 12
          },
          "showarrow": true,
          "text": "148",
          "x": 106.17539405822755,
          "y": 53.109957885742176
         },
         {
          "arrowcolor": "black",
          "arrowhead": 2,
          "ax": 0,
          "ay": -10,
          "font": {
           "color": "black",
           "size": 12
          },
          "showarrow": true,
          "text": "149",
          "x": 121.3433074951172,
          "y": 53.109957885742176
         },
         {
          "arrowcolor": "black",
          "arrowhead": 2,
          "ax": 0,
          "ay": -10,
          "font": {
           "color": "black",
           "size": 12
          },
          "showarrow": true,
          "text": "150",
          "x": 136.51122093200686,
          "y": 53.109957885742176
         },
         {
          "arrowcolor": "black",
          "arrowhead": 2,
          "ax": 0,
          "ay": -10,
          "font": {
           "color": "black",
           "size": 12
          },
          "showarrow": true,
          "text": "151",
          "x": 0,
          "y": 56.90352630615234
         },
         {
          "arrowcolor": "black",
          "arrowhead": 2,
          "ax": 0,
          "ay": -10,
          "font": {
           "color": "black",
           "size": 12
          },
          "showarrow": true,
          "text": "152",
          "x": 15.16791343688965,
          "y": 56.90352630615234
         },
         {
          "arrowcolor": "black",
          "arrowhead": 2,
          "ax": 0,
          "ay": -10,
          "font": {
           "color": "black",
           "size": 12
          },
          "showarrow": true,
          "text": "153",
          "x": 30.3358268737793,
          "y": 56.90352630615234
         },
         {
          "arrowcolor": "black",
          "arrowhead": 2,
          "ax": 0,
          "ay": -10,
          "font": {
           "color": "black",
           "size": 12
          },
          "showarrow": true,
          "text": "154",
          "x": 45.50374031066895,
          "y": 56.90352630615234
         },
         {
          "arrowcolor": "black",
          "arrowhead": 2,
          "ax": 0,
          "ay": -10,
          "font": {
           "color": "black",
           "size": 12
          },
          "showarrow": true,
          "text": "155",
          "x": 60.6716537475586,
          "y": 56.90352630615234
         },
         {
          "arrowcolor": "black",
          "arrowhead": 2,
          "ax": 0,
          "ay": -10,
          "font": {
           "color": "black",
           "size": 12
          },
          "showarrow": true,
          "text": "156",
          "x": 75.83956718444826,
          "y": 56.90352630615234
         },
         {
          "arrowcolor": "black",
          "arrowhead": 2,
          "ax": 0,
          "ay": -10,
          "font": {
           "color": "black",
           "size": 12
          },
          "showarrow": true,
          "text": "157",
          "x": 91.0074806213379,
          "y": 56.90352630615234
         },
         {
          "arrowcolor": "black",
          "arrowhead": 2,
          "ax": 0,
          "ay": -10,
          "font": {
           "color": "black",
           "size": 12
          },
          "showarrow": true,
          "text": "158",
          "x": 106.17539405822755,
          "y": 56.90352630615234
         },
         {
          "arrowcolor": "black",
          "arrowhead": 2,
          "ax": 0,
          "ay": -10,
          "font": {
           "color": "black",
           "size": 12
          },
          "showarrow": true,
          "text": "159",
          "x": 121.3433074951172,
          "y": 56.90352630615234
         },
         {
          "arrowcolor": "black",
          "arrowhead": 2,
          "ax": 0,
          "ay": -10,
          "font": {
           "color": "black",
           "size": 12
          },
          "showarrow": true,
          "text": "160",
          "x": 136.51122093200686,
          "y": 56.90352630615234
         },
         {
          "arrowcolor": "black",
          "arrowhead": 2,
          "ax": 0,
          "ay": -10,
          "font": {
           "color": "black",
           "size": 12
          },
          "showarrow": true,
          "text": "161",
          "x": 0,
          "y": 60.69709472656249
         },
         {
          "arrowcolor": "black",
          "arrowhead": 2,
          "ax": 0,
          "ay": -10,
          "font": {
           "color": "black",
           "size": 12
          },
          "showarrow": true,
          "text": "162",
          "x": 15.16791343688965,
          "y": 60.69709472656249
         },
         {
          "arrowcolor": "black",
          "arrowhead": 2,
          "ax": 0,
          "ay": -10,
          "font": {
           "color": "black",
           "size": 12
          },
          "showarrow": true,
          "text": "163",
          "x": 30.3358268737793,
          "y": 60.69709472656249
         },
         {
          "arrowcolor": "black",
          "arrowhead": 2,
          "ax": 0,
          "ay": -10,
          "font": {
           "color": "black",
           "size": 12
          },
          "showarrow": true,
          "text": "164",
          "x": 45.50374031066895,
          "y": 60.69709472656249
         },
         {
          "arrowcolor": "black",
          "arrowhead": 2,
          "ax": 0,
          "ay": -10,
          "font": {
           "color": "black",
           "size": 12
          },
          "showarrow": true,
          "text": "165",
          "x": 60.6716537475586,
          "y": 60.69709472656249
         },
         {
          "arrowcolor": "black",
          "arrowhead": 2,
          "ax": 0,
          "ay": -10,
          "font": {
           "color": "black",
           "size": 12
          },
          "showarrow": true,
          "text": "166",
          "x": 75.83956718444826,
          "y": 60.69709472656249
         },
         {
          "arrowcolor": "black",
          "arrowhead": 2,
          "ax": 0,
          "ay": -10,
          "font": {
           "color": "black",
           "size": 12
          },
          "showarrow": true,
          "text": "167",
          "x": 91.0074806213379,
          "y": 60.69709472656249
         },
         {
          "arrowcolor": "black",
          "arrowhead": 2,
          "ax": 0,
          "ay": -10,
          "font": {
           "color": "black",
           "size": 12
          },
          "showarrow": true,
          "text": "168",
          "x": 106.17539405822755,
          "y": 60.69709472656249
         },
         {
          "arrowcolor": "black",
          "arrowhead": 2,
          "ax": 0,
          "ay": -10,
          "font": {
           "color": "black",
           "size": 12
          },
          "showarrow": true,
          "text": "169",
          "x": 121.3433074951172,
          "y": 60.69709472656249
         },
         {
          "arrowcolor": "black",
          "arrowhead": 2,
          "ax": 0,
          "ay": -10,
          "font": {
           "color": "black",
           "size": 12
          },
          "showarrow": true,
          "text": "170",
          "x": 136.51122093200686,
          "y": 60.69709472656249
         },
         {
          "arrowcolor": "black",
          "arrowhead": 2,
          "ax": 0,
          "ay": -10,
          "font": {
           "color": "black",
           "size": 12
          },
          "showarrow": true,
          "text": "171",
          "x": 0,
          "y": 64.49066314697265
         },
         {
          "arrowcolor": "black",
          "arrowhead": 2,
          "ax": 0,
          "ay": -10,
          "font": {
           "color": "black",
           "size": 12
          },
          "showarrow": true,
          "text": "172",
          "x": 15.16791343688965,
          "y": 64.49066314697265
         },
         {
          "arrowcolor": "black",
          "arrowhead": 2,
          "ax": 0,
          "ay": -10,
          "font": {
           "color": "black",
           "size": 12
          },
          "showarrow": true,
          "text": "173",
          "x": 30.3358268737793,
          "y": 64.49066314697265
         },
         {
          "arrowcolor": "black",
          "arrowhead": 2,
          "ax": 0,
          "ay": -10,
          "font": {
           "color": "black",
           "size": 12
          },
          "showarrow": true,
          "text": "174",
          "x": 45.50374031066895,
          "y": 64.49066314697265
         },
         {
          "arrowcolor": "black",
          "arrowhead": 2,
          "ax": 0,
          "ay": -10,
          "font": {
           "color": "black",
           "size": 12
          },
          "showarrow": true,
          "text": "175",
          "x": 60.6716537475586,
          "y": 64.49066314697265
         },
         {
          "arrowcolor": "black",
          "arrowhead": 2,
          "ax": 0,
          "ay": -10,
          "font": {
           "color": "black",
           "size": 12
          },
          "showarrow": true,
          "text": "176",
          "x": 75.83956718444826,
          "y": 64.49066314697265
         },
         {
          "arrowcolor": "black",
          "arrowhead": 2,
          "ax": 0,
          "ay": -10,
          "font": {
           "color": "black",
           "size": 12
          },
          "showarrow": true,
          "text": "177",
          "x": 91.0074806213379,
          "y": 64.49066314697265
         },
         {
          "arrowcolor": "black",
          "arrowhead": 2,
          "ax": 0,
          "ay": -10,
          "font": {
           "color": "black",
           "size": 12
          },
          "showarrow": true,
          "text": "178",
          "x": 106.17539405822755,
          "y": 64.49066314697265
         },
         {
          "arrowcolor": "black",
          "arrowhead": 2,
          "ax": 0,
          "ay": -10,
          "font": {
           "color": "black",
           "size": 12
          },
          "showarrow": true,
          "text": "179",
          "x": 121.3433074951172,
          "y": 64.49066314697265
         },
         {
          "arrowcolor": "black",
          "arrowhead": 2,
          "ax": 0,
          "ay": -10,
          "font": {
           "color": "black",
           "size": 12
          },
          "showarrow": true,
          "text": "180",
          "x": 136.51122093200686,
          "y": 64.49066314697265
         },
         {
          "arrowcolor": "black",
          "arrowhead": 2,
          "ax": 0,
          "ay": -10,
          "font": {
           "color": "black",
           "size": 12
          },
          "showarrow": true,
          "text": "181",
          "x": 0,
          "y": 68.2842315673828
         },
         {
          "arrowcolor": "black",
          "arrowhead": 2,
          "ax": 0,
          "ay": -10,
          "font": {
           "color": "black",
           "size": 12
          },
          "showarrow": true,
          "text": "182",
          "x": 15.16791343688965,
          "y": 68.2842315673828
         },
         {
          "arrowcolor": "black",
          "arrowhead": 2,
          "ax": 0,
          "ay": -10,
          "font": {
           "color": "black",
           "size": 12
          },
          "showarrow": true,
          "text": "183",
          "x": 30.3358268737793,
          "y": 68.2842315673828
         },
         {
          "arrowcolor": "black",
          "arrowhead": 2,
          "ax": 0,
          "ay": -10,
          "font": {
           "color": "black",
           "size": 12
          },
          "showarrow": true,
          "text": "184",
          "x": 45.50374031066895,
          "y": 68.2842315673828
         },
         {
          "arrowcolor": "black",
          "arrowhead": 2,
          "ax": 0,
          "ay": -10,
          "font": {
           "color": "black",
           "size": 12
          },
          "showarrow": true,
          "text": "185",
          "x": 60.6716537475586,
          "y": 68.2842315673828
         },
         {
          "arrowcolor": "black",
          "arrowhead": 2,
          "ax": 0,
          "ay": -10,
          "font": {
           "color": "black",
           "size": 12
          },
          "showarrow": true,
          "text": "186",
          "x": 75.83956718444826,
          "y": 68.2842315673828
         },
         {
          "arrowcolor": "black",
          "arrowhead": 2,
          "ax": 0,
          "ay": -10,
          "font": {
           "color": "black",
           "size": 12
          },
          "showarrow": true,
          "text": "187",
          "x": 91.0074806213379,
          "y": 68.2842315673828
         },
         {
          "arrowcolor": "black",
          "arrowhead": 2,
          "ax": 0,
          "ay": -10,
          "font": {
           "color": "black",
           "size": 12
          },
          "showarrow": true,
          "text": "188",
          "x": 106.17539405822755,
          "y": 68.2842315673828
         },
         {
          "arrowcolor": "black",
          "arrowhead": 2,
          "ax": 0,
          "ay": -10,
          "font": {
           "color": "black",
           "size": 12
          },
          "showarrow": true,
          "text": "189",
          "x": 121.3433074951172,
          "y": 68.2842315673828
         },
         {
          "arrowcolor": "black",
          "arrowhead": 2,
          "ax": 0,
          "ay": -10,
          "font": {
           "color": "black",
           "size": 12
          },
          "showarrow": true,
          "text": "190",
          "x": 136.51122093200686,
          "y": 68.2842315673828
         },
         {
          "arrowcolor": "black",
          "arrowhead": 2,
          "ax": 0,
          "ay": -10,
          "font": {
           "color": "black",
           "size": 12
          },
          "showarrow": true,
          "text": "191",
          "x": 0,
          "y": 72.07779998779296
         },
         {
          "arrowcolor": "black",
          "arrowhead": 2,
          "ax": 0,
          "ay": -10,
          "font": {
           "color": "black",
           "size": 12
          },
          "showarrow": true,
          "text": "192",
          "x": 15.16791343688965,
          "y": 72.07779998779296
         },
         {
          "arrowcolor": "black",
          "arrowhead": 2,
          "ax": 0,
          "ay": -10,
          "font": {
           "color": "black",
           "size": 12
          },
          "showarrow": true,
          "text": "193",
          "x": 30.3358268737793,
          "y": 72.07779998779296
         },
         {
          "arrowcolor": "black",
          "arrowhead": 2,
          "ax": 0,
          "ay": -10,
          "font": {
           "color": "black",
           "size": 12
          },
          "showarrow": true,
          "text": "194",
          "x": 45.50374031066895,
          "y": 72.07779998779296
         },
         {
          "arrowcolor": "black",
          "arrowhead": 2,
          "ax": 0,
          "ay": -10,
          "font": {
           "color": "black",
           "size": 12
          },
          "showarrow": true,
          "text": "195",
          "x": 60.6716537475586,
          "y": 72.07779998779296
         },
         {
          "arrowcolor": "black",
          "arrowhead": 2,
          "ax": 0,
          "ay": -10,
          "font": {
           "color": "black",
           "size": 12
          },
          "showarrow": true,
          "text": "196",
          "x": 75.83956718444826,
          "y": 72.07779998779296
         },
         {
          "arrowcolor": "black",
          "arrowhead": 2,
          "ax": 0,
          "ay": -10,
          "font": {
           "color": "black",
           "size": 12
          },
          "showarrow": true,
          "text": "197",
          "x": 91.0074806213379,
          "y": 72.07779998779296
         },
         {
          "arrowcolor": "black",
          "arrowhead": 2,
          "ax": 0,
          "ay": -10,
          "font": {
           "color": "black",
           "size": 12
          },
          "showarrow": true,
          "text": "198",
          "x": 106.17539405822755,
          "y": 72.07779998779296
         },
         {
          "arrowcolor": "black",
          "arrowhead": 2,
          "ax": 0,
          "ay": -10,
          "font": {
           "color": "black",
           "size": 12
          },
          "showarrow": true,
          "text": "199",
          "x": 121.3433074951172,
          "y": 72.07779998779296
         },
         {
          "arrowcolor": "black",
          "arrowhead": 2,
          "ax": 0,
          "ay": -10,
          "font": {
           "color": "black",
           "size": 12
          },
          "showarrow": true,
          "text": "200",
          "x": 136.51122093200686,
          "y": 72.07779998779296
         },
         {
          "arrowcolor": "black",
          "arrowhead": 2,
          "ax": 0,
          "ay": -10,
          "font": {
           "color": "black",
           "size": 12
          },
          "showarrow": true,
          "text": "201",
          "x": 0,
          "y": 75.87136840820311
         },
         {
          "arrowcolor": "black",
          "arrowhead": 2,
          "ax": 0,
          "ay": -10,
          "font": {
           "color": "black",
           "size": 12
          },
          "showarrow": true,
          "text": "202",
          "x": 15.16791343688965,
          "y": 75.87136840820311
         },
         {
          "arrowcolor": "black",
          "arrowhead": 2,
          "ax": 0,
          "ay": -10,
          "font": {
           "color": "black",
           "size": 12
          },
          "showarrow": true,
          "text": "203",
          "x": 30.3358268737793,
          "y": 75.87136840820311
         },
         {
          "arrowcolor": "black",
          "arrowhead": 2,
          "ax": 0,
          "ay": -10,
          "font": {
           "color": "black",
           "size": 12
          },
          "showarrow": true,
          "text": "204",
          "x": 45.50374031066895,
          "y": 75.87136840820311
         },
         {
          "arrowcolor": "black",
          "arrowhead": 2,
          "ax": 0,
          "ay": -10,
          "font": {
           "color": "black",
           "size": 12
          },
          "showarrow": true,
          "text": "205",
          "x": 60.6716537475586,
          "y": 75.87136840820311
         },
         {
          "arrowcolor": "black",
          "arrowhead": 2,
          "ax": 0,
          "ay": -10,
          "font": {
           "color": "black",
           "size": 12
          },
          "showarrow": true,
          "text": "206",
          "x": 75.83956718444826,
          "y": 75.87136840820311
         },
         {
          "arrowcolor": "black",
          "arrowhead": 2,
          "ax": 0,
          "ay": -10,
          "font": {
           "color": "black",
           "size": 12
          },
          "showarrow": true,
          "text": "207",
          "x": 91.0074806213379,
          "y": 75.87136840820311
         },
         {
          "arrowcolor": "black",
          "arrowhead": 2,
          "ax": 0,
          "ay": -10,
          "font": {
           "color": "black",
           "size": 12
          },
          "showarrow": true,
          "text": "208",
          "x": 106.17539405822755,
          "y": 75.87136840820311
         },
         {
          "arrowcolor": "black",
          "arrowhead": 2,
          "ax": 0,
          "ay": -10,
          "font": {
           "color": "black",
           "size": 12
          },
          "showarrow": true,
          "text": "209",
          "x": 121.3433074951172,
          "y": 75.87136840820311
         },
         {
          "arrowcolor": "black",
          "arrowhead": 2,
          "ax": 0,
          "ay": -10,
          "font": {
           "color": "black",
           "size": 12
          },
          "showarrow": true,
          "text": "210",
          "x": 136.51122093200686,
          "y": 75.87136840820311
         },
         {
          "arrowcolor": "black",
          "arrowhead": 2,
          "ax": 0,
          "ay": -10,
          "font": {
           "color": "black",
           "size": 12
          },
          "showarrow": true,
          "text": "211",
          "x": 0,
          "y": 79.66493682861326
         },
         {
          "arrowcolor": "black",
          "arrowhead": 2,
          "ax": 0,
          "ay": -10,
          "font": {
           "color": "black",
           "size": 12
          },
          "showarrow": true,
          "text": "212",
          "x": 15.16791343688965,
          "y": 79.66493682861326
         },
         {
          "arrowcolor": "black",
          "arrowhead": 2,
          "ax": 0,
          "ay": -10,
          "font": {
           "color": "black",
           "size": 12
          },
          "showarrow": true,
          "text": "213",
          "x": 30.3358268737793,
          "y": 79.66493682861326
         },
         {
          "arrowcolor": "black",
          "arrowhead": 2,
          "ax": 0,
          "ay": -10,
          "font": {
           "color": "black",
           "size": 12
          },
          "showarrow": true,
          "text": "214",
          "x": 45.50374031066895,
          "y": 79.66493682861326
         },
         {
          "arrowcolor": "black",
          "arrowhead": 2,
          "ax": 0,
          "ay": -10,
          "font": {
           "color": "black",
           "size": 12
          },
          "showarrow": true,
          "text": "215",
          "x": 60.6716537475586,
          "y": 79.66493682861326
         },
         {
          "arrowcolor": "black",
          "arrowhead": 2,
          "ax": 0,
          "ay": -10,
          "font": {
           "color": "black",
           "size": 12
          },
          "showarrow": true,
          "text": "216",
          "x": 75.83956718444826,
          "y": 79.66493682861326
         },
         {
          "arrowcolor": "black",
          "arrowhead": 2,
          "ax": 0,
          "ay": -10,
          "font": {
           "color": "black",
           "size": 12
          },
          "showarrow": true,
          "text": "217",
          "x": 91.0074806213379,
          "y": 79.66493682861326
         },
         {
          "arrowcolor": "black",
          "arrowhead": 2,
          "ax": 0,
          "ay": -10,
          "font": {
           "color": "black",
           "size": 12
          },
          "showarrow": true,
          "text": "218",
          "x": 106.17539405822755,
          "y": 79.66493682861326
         },
         {
          "arrowcolor": "black",
          "arrowhead": 2,
          "ax": 0,
          "ay": -10,
          "font": {
           "color": "black",
           "size": 12
          },
          "showarrow": true,
          "text": "219",
          "x": 121.3433074951172,
          "y": 79.66493682861326
         },
         {
          "arrowcolor": "black",
          "arrowhead": 2,
          "ax": 0,
          "ay": -10,
          "font": {
           "color": "black",
           "size": 12
          },
          "showarrow": true,
          "text": "220",
          "x": 136.51122093200686,
          "y": 79.66493682861326
         },
         {
          "arrowcolor": "black",
          "arrowhead": 2,
          "ax": 0,
          "ay": -10,
          "font": {
           "color": "black",
           "size": 12
          },
          "showarrow": true,
          "text": "221",
          "x": 0,
          "y": 83.45850524902342
         },
         {
          "arrowcolor": "black",
          "arrowhead": 2,
          "ax": 0,
          "ay": -10,
          "font": {
           "color": "black",
           "size": 12
          },
          "showarrow": true,
          "text": "222",
          "x": 15.16791343688965,
          "y": 83.45850524902342
         },
         {
          "arrowcolor": "black",
          "arrowhead": 2,
          "ax": 0,
          "ay": -10,
          "font": {
           "color": "black",
           "size": 12
          },
          "showarrow": true,
          "text": "223",
          "x": 30.3358268737793,
          "y": 83.45850524902342
         },
         {
          "arrowcolor": "black",
          "arrowhead": 2,
          "ax": 0,
          "ay": -10,
          "font": {
           "color": "black",
           "size": 12
          },
          "showarrow": true,
          "text": "224",
          "x": 45.50374031066895,
          "y": 83.45850524902342
         },
         {
          "arrowcolor": "black",
          "arrowhead": 2,
          "ax": 0,
          "ay": -10,
          "font": {
           "color": "black",
           "size": 12
          },
          "showarrow": true,
          "text": "225",
          "x": 60.6716537475586,
          "y": 83.45850524902342
         },
         {
          "arrowcolor": "black",
          "arrowhead": 2,
          "ax": 0,
          "ay": -10,
          "font": {
           "color": "black",
           "size": 12
          },
          "showarrow": true,
          "text": "226",
          "x": 75.83956718444826,
          "y": 83.45850524902342
         },
         {
          "arrowcolor": "black",
          "arrowhead": 2,
          "ax": 0,
          "ay": -10,
          "font": {
           "color": "black",
           "size": 12
          },
          "showarrow": true,
          "text": "227",
          "x": 91.0074806213379,
          "y": 83.45850524902342
         },
         {
          "arrowcolor": "black",
          "arrowhead": 2,
          "ax": 0,
          "ay": -10,
          "font": {
           "color": "black",
           "size": 12
          },
          "showarrow": true,
          "text": "228",
          "x": 106.17539405822755,
          "y": 83.45850524902342
         },
         {
          "arrowcolor": "black",
          "arrowhead": 2,
          "ax": 0,
          "ay": -10,
          "font": {
           "color": "black",
           "size": 12
          },
          "showarrow": true,
          "text": "229",
          "x": 121.3433074951172,
          "y": 83.45850524902342
         },
         {
          "arrowcolor": "black",
          "arrowhead": 2,
          "ax": 0,
          "ay": -10,
          "font": {
           "color": "black",
           "size": 12
          },
          "showarrow": true,
          "text": "230",
          "x": 136.51122093200686,
          "y": 83.45850524902342
         },
         {
          "arrowcolor": "black",
          "arrowhead": 2,
          "ax": 0,
          "ay": -10,
          "font": {
           "color": "black",
           "size": 12
          },
          "showarrow": true,
          "text": "231",
          "x": 0,
          "y": 87.25207366943359
         },
         {
          "arrowcolor": "black",
          "arrowhead": 2,
          "ax": 0,
          "ay": -10,
          "font": {
           "color": "black",
           "size": 12
          },
          "showarrow": true,
          "text": "232",
          "x": 15.16791343688965,
          "y": 87.25207366943359
         },
         {
          "arrowcolor": "black",
          "arrowhead": 2,
          "ax": 0,
          "ay": -10,
          "font": {
           "color": "black",
           "size": 12
          },
          "showarrow": true,
          "text": "233",
          "x": 30.3358268737793,
          "y": 87.25207366943359
         },
         {
          "arrowcolor": "black",
          "arrowhead": 2,
          "ax": 0,
          "ay": -10,
          "font": {
           "color": "black",
           "size": 12
          },
          "showarrow": true,
          "text": "234",
          "x": 45.50374031066895,
          "y": 87.25207366943359
         },
         {
          "arrowcolor": "black",
          "arrowhead": 2,
          "ax": 0,
          "ay": -10,
          "font": {
           "color": "black",
           "size": 12
          },
          "showarrow": true,
          "text": "235",
          "x": 60.6716537475586,
          "y": 87.25207366943359
         },
         {
          "arrowcolor": "black",
          "arrowhead": 2,
          "ax": 0,
          "ay": -10,
          "font": {
           "color": "black",
           "size": 12
          },
          "showarrow": true,
          "text": "236",
          "x": 75.83956718444826,
          "y": 87.25207366943359
         },
         {
          "arrowcolor": "black",
          "arrowhead": 2,
          "ax": 0,
          "ay": -10,
          "font": {
           "color": "black",
           "size": 12
          },
          "showarrow": true,
          "text": "237",
          "x": 91.0074806213379,
          "y": 87.25207366943359
         },
         {
          "arrowcolor": "black",
          "arrowhead": 2,
          "ax": 0,
          "ay": -10,
          "font": {
           "color": "black",
           "size": 12
          },
          "showarrow": true,
          "text": "238",
          "x": 106.17539405822755,
          "y": 87.25207366943359
         },
         {
          "arrowcolor": "black",
          "arrowhead": 2,
          "ax": 0,
          "ay": -10,
          "font": {
           "color": "black",
           "size": 12
          },
          "showarrow": true,
          "text": "239",
          "x": 121.3433074951172,
          "y": 87.25207366943359
         },
         {
          "arrowcolor": "black",
          "arrowhead": 2,
          "ax": 0,
          "ay": -10,
          "font": {
           "color": "black",
           "size": 12
          },
          "showarrow": true,
          "text": "240",
          "x": 136.51122093200686,
          "y": 87.25207366943359
         },
         {
          "arrowcolor": "black",
          "arrowhead": 2,
          "ax": 0,
          "ay": -10,
          "font": {
           "color": "black",
           "size": 12
          },
          "showarrow": true,
          "text": "241",
          "x": 0,
          "y": 91.04564208984374
         },
         {
          "arrowcolor": "black",
          "arrowhead": 2,
          "ax": 0,
          "ay": -10,
          "font": {
           "color": "black",
           "size": 12
          },
          "showarrow": true,
          "text": "242",
          "x": 15.16791343688965,
          "y": 91.04564208984374
         },
         {
          "arrowcolor": "black",
          "arrowhead": 2,
          "ax": 0,
          "ay": -10,
          "font": {
           "color": "black",
           "size": 12
          },
          "showarrow": true,
          "text": "243",
          "x": 30.3358268737793,
          "y": 91.04564208984374
         },
         {
          "arrowcolor": "black",
          "arrowhead": 2,
          "ax": 0,
          "ay": -10,
          "font": {
           "color": "black",
           "size": 12
          },
          "showarrow": true,
          "text": "244",
          "x": 45.50374031066895,
          "y": 91.04564208984374
         },
         {
          "arrowcolor": "black",
          "arrowhead": 2,
          "ax": 0,
          "ay": -10,
          "font": {
           "color": "black",
           "size": 12
          },
          "showarrow": true,
          "text": "245",
          "x": 60.6716537475586,
          "y": 91.04564208984374
         },
         {
          "arrowcolor": "black",
          "arrowhead": 2,
          "ax": 0,
          "ay": -10,
          "font": {
           "color": "black",
           "size": 12
          },
          "showarrow": true,
          "text": "246",
          "x": 75.83956718444826,
          "y": 91.04564208984374
         },
         {
          "arrowcolor": "black",
          "arrowhead": 2,
          "ax": 0,
          "ay": -10,
          "font": {
           "color": "black",
           "size": 12
          },
          "showarrow": true,
          "text": "247",
          "x": 91.0074806213379,
          "y": 91.04564208984374
         },
         {
          "arrowcolor": "black",
          "arrowhead": 2,
          "ax": 0,
          "ay": -10,
          "font": {
           "color": "black",
           "size": 12
          },
          "showarrow": true,
          "text": "248",
          "x": 106.17539405822755,
          "y": 91.04564208984374
         },
         {
          "arrowcolor": "black",
          "arrowhead": 2,
          "ax": 0,
          "ay": -10,
          "font": {
           "color": "black",
           "size": 12
          },
          "showarrow": true,
          "text": "249",
          "x": 121.3433074951172,
          "y": 91.04564208984374
         },
         {
          "arrowcolor": "black",
          "arrowhead": 2,
          "ax": 0,
          "ay": -10,
          "font": {
           "color": "black",
           "size": 12
          },
          "showarrow": true,
          "text": "250",
          "x": 136.51122093200686,
          "y": 91.04564208984374
         },
         {
          "arrowcolor": "black",
          "arrowhead": 2,
          "ax": 0,
          "ay": -10,
          "font": {
           "color": "black",
           "size": 12
          },
          "showarrow": true,
          "text": "251",
          "x": 0,
          "y": 94.83921051025389
         },
         {
          "arrowcolor": "black",
          "arrowhead": 2,
          "ax": 0,
          "ay": -10,
          "font": {
           "color": "black",
           "size": 12
          },
          "showarrow": true,
          "text": "252",
          "x": 15.16791343688965,
          "y": 94.83921051025389
         },
         {
          "arrowcolor": "black",
          "arrowhead": 2,
          "ax": 0,
          "ay": -10,
          "font": {
           "color": "black",
           "size": 12
          },
          "showarrow": true,
          "text": "253",
          "x": 30.3358268737793,
          "y": 94.83921051025389
         },
         {
          "arrowcolor": "black",
          "arrowhead": 2,
          "ax": 0,
          "ay": -10,
          "font": {
           "color": "black",
           "size": 12
          },
          "showarrow": true,
          "text": "254",
          "x": 45.50374031066895,
          "y": 94.83921051025389
         },
         {
          "arrowcolor": "black",
          "arrowhead": 2,
          "ax": 0,
          "ay": -10,
          "font": {
           "color": "black",
           "size": 12
          },
          "showarrow": true,
          "text": "255",
          "x": 60.6716537475586,
          "y": 94.83921051025389
         },
         {
          "arrowcolor": "black",
          "arrowhead": 2,
          "ax": 0,
          "ay": -10,
          "font": {
           "color": "black",
           "size": 12
          },
          "showarrow": true,
          "text": "256",
          "x": 75.83956718444826,
          "y": 94.83921051025389
         },
         {
          "arrowcolor": "black",
          "arrowhead": 2,
          "ax": 0,
          "ay": -10,
          "font": {
           "color": "black",
           "size": 12
          },
          "showarrow": true,
          "text": "257",
          "x": 91.0074806213379,
          "y": 94.83921051025389
         },
         {
          "arrowcolor": "black",
          "arrowhead": 2,
          "ax": 0,
          "ay": -10,
          "font": {
           "color": "black",
           "size": 12
          },
          "showarrow": true,
          "text": "258",
          "x": 106.17539405822755,
          "y": 94.83921051025389
         },
         {
          "arrowcolor": "black",
          "arrowhead": 2,
          "ax": 0,
          "ay": -10,
          "font": {
           "color": "black",
           "size": 12
          },
          "showarrow": true,
          "text": "259",
          "x": 121.3433074951172,
          "y": 94.83921051025389
         },
         {
          "arrowcolor": "black",
          "arrowhead": 2,
          "ax": 0,
          "ay": -10,
          "font": {
           "color": "black",
           "size": 12
          },
          "showarrow": true,
          "text": "260",
          "x": 136.51122093200686,
          "y": 94.83921051025389
         },
         {
          "arrowcolor": "black",
          "arrowhead": 2,
          "ax": 0,
          "ay": -10,
          "font": {
           "color": "black",
           "size": 12
          },
          "showarrow": true,
          "text": "261",
          "x": 0,
          "y": 98.63277893066405
         },
         {
          "arrowcolor": "black",
          "arrowhead": 2,
          "ax": 0,
          "ay": -10,
          "font": {
           "color": "black",
           "size": 12
          },
          "showarrow": true,
          "text": "262",
          "x": 15.16791343688965,
          "y": 98.63277893066405
         },
         {
          "arrowcolor": "black",
          "arrowhead": 2,
          "ax": 0,
          "ay": -10,
          "font": {
           "color": "black",
           "size": 12
          },
          "showarrow": true,
          "text": "263",
          "x": 30.3358268737793,
          "y": 98.63277893066405
         },
         {
          "arrowcolor": "black",
          "arrowhead": 2,
          "ax": 0,
          "ay": -10,
          "font": {
           "color": "black",
           "size": 12
          },
          "showarrow": true,
          "text": "264",
          "x": 45.50374031066895,
          "y": 98.63277893066405
         },
         {
          "arrowcolor": "black",
          "arrowhead": 2,
          "ax": 0,
          "ay": -10,
          "font": {
           "color": "black",
           "size": 12
          },
          "showarrow": true,
          "text": "265",
          "x": 60.6716537475586,
          "y": 98.63277893066405
         },
         {
          "arrowcolor": "black",
          "arrowhead": 2,
          "ax": 0,
          "ay": -10,
          "font": {
           "color": "black",
           "size": 12
          },
          "showarrow": true,
          "text": "266",
          "x": 75.83956718444826,
          "y": 98.63277893066405
         },
         {
          "arrowcolor": "black",
          "arrowhead": 2,
          "ax": 0,
          "ay": -10,
          "font": {
           "color": "black",
           "size": 12
          },
          "showarrow": true,
          "text": "267",
          "x": 91.0074806213379,
          "y": 98.63277893066405
         },
         {
          "arrowcolor": "black",
          "arrowhead": 2,
          "ax": 0,
          "ay": -10,
          "font": {
           "color": "black",
           "size": 12
          },
          "showarrow": true,
          "text": "268",
          "x": 106.17539405822755,
          "y": 98.63277893066405
         },
         {
          "arrowcolor": "black",
          "arrowhead": 2,
          "ax": 0,
          "ay": -10,
          "font": {
           "color": "black",
           "size": 12
          },
          "showarrow": true,
          "text": "269",
          "x": 121.3433074951172,
          "y": 98.63277893066405
         },
         {
          "arrowcolor": "black",
          "arrowhead": 2,
          "ax": 0,
          "ay": -10,
          "font": {
           "color": "black",
           "size": 12
          },
          "showarrow": true,
          "text": "270",
          "x": 136.51122093200686,
          "y": 98.63277893066405
         },
         {
          "arrowcolor": "black",
          "arrowhead": 2,
          "ax": 0,
          "ay": -10,
          "font": {
           "color": "black",
           "size": 12
          },
          "showarrow": true,
          "text": "271",
          "x": 0,
          "y": 102.4263473510742
         },
         {
          "arrowcolor": "black",
          "arrowhead": 2,
          "ax": 0,
          "ay": -10,
          "font": {
           "color": "black",
           "size": 12
          },
          "showarrow": true,
          "text": "272",
          "x": 15.16791343688965,
          "y": 102.4263473510742
         },
         {
          "arrowcolor": "black",
          "arrowhead": 2,
          "ax": 0,
          "ay": -10,
          "font": {
           "color": "black",
           "size": 12
          },
          "showarrow": true,
          "text": "273",
          "x": 30.3358268737793,
          "y": 102.4263473510742
         },
         {
          "arrowcolor": "black",
          "arrowhead": 2,
          "ax": 0,
          "ay": -10,
          "font": {
           "color": "black",
           "size": 12
          },
          "showarrow": true,
          "text": "274",
          "x": 45.50374031066895,
          "y": 102.4263473510742
         },
         {
          "arrowcolor": "black",
          "arrowhead": 2,
          "ax": 0,
          "ay": -10,
          "font": {
           "color": "black",
           "size": 12
          },
          "showarrow": true,
          "text": "275",
          "x": 60.6716537475586,
          "y": 102.4263473510742
         },
         {
          "arrowcolor": "black",
          "arrowhead": 2,
          "ax": 0,
          "ay": -10,
          "font": {
           "color": "black",
           "size": 12
          },
          "showarrow": true,
          "text": "276",
          "x": 75.83956718444826,
          "y": 102.4263473510742
         },
         {
          "arrowcolor": "black",
          "arrowhead": 2,
          "ax": 0,
          "ay": -10,
          "font": {
           "color": "black",
           "size": 12
          },
          "showarrow": true,
          "text": "277",
          "x": 91.0074806213379,
          "y": 102.4263473510742
         },
         {
          "arrowcolor": "black",
          "arrowhead": 2,
          "ax": 0,
          "ay": -10,
          "font": {
           "color": "black",
           "size": 12
          },
          "showarrow": true,
          "text": "278",
          "x": 106.17539405822755,
          "y": 102.4263473510742
         },
         {
          "arrowcolor": "black",
          "arrowhead": 2,
          "ax": 0,
          "ay": -10,
          "font": {
           "color": "black",
           "size": 12
          },
          "showarrow": true,
          "text": "279",
          "x": 121.3433074951172,
          "y": 102.4263473510742
         },
         {
          "arrowcolor": "black",
          "arrowhead": 2,
          "ax": 0,
          "ay": -10,
          "font": {
           "color": "black",
           "size": 12
          },
          "showarrow": true,
          "text": "280",
          "x": 136.51122093200686,
          "y": 102.4263473510742
         },
         {
          "arrowcolor": "black",
          "arrowhead": 2,
          "ax": 0,
          "ay": -10,
          "font": {
           "color": "black",
           "size": 12
          },
          "showarrow": true,
          "text": "281",
          "x": 0,
          "y": 106.21991577148435
         },
         {
          "arrowcolor": "black",
          "arrowhead": 2,
          "ax": 0,
          "ay": -10,
          "font": {
           "color": "black",
           "size": 12
          },
          "showarrow": true,
          "text": "282",
          "x": 15.16791343688965,
          "y": 106.21991577148435
         },
         {
          "arrowcolor": "black",
          "arrowhead": 2,
          "ax": 0,
          "ay": -10,
          "font": {
           "color": "black",
           "size": 12
          },
          "showarrow": true,
          "text": "283",
          "x": 30.3358268737793,
          "y": 106.21991577148435
         },
         {
          "arrowcolor": "black",
          "arrowhead": 2,
          "ax": 0,
          "ay": -10,
          "font": {
           "color": "black",
           "size": 12
          },
          "showarrow": true,
          "text": "284",
          "x": 45.50374031066895,
          "y": 106.21991577148435
         },
         {
          "arrowcolor": "black",
          "arrowhead": 2,
          "ax": 0,
          "ay": -10,
          "font": {
           "color": "black",
           "size": 12
          },
          "showarrow": true,
          "text": "285",
          "x": 60.6716537475586,
          "y": 106.21991577148435
         },
         {
          "arrowcolor": "black",
          "arrowhead": 2,
          "ax": 0,
          "ay": -10,
          "font": {
           "color": "black",
           "size": 12
          },
          "showarrow": true,
          "text": "286",
          "x": 75.83956718444826,
          "y": 106.21991577148435
         },
         {
          "arrowcolor": "black",
          "arrowhead": 2,
          "ax": 0,
          "ay": -10,
          "font": {
           "color": "black",
           "size": 12
          },
          "showarrow": true,
          "text": "287",
          "x": 91.0074806213379,
          "y": 106.21991577148435
         },
         {
          "arrowcolor": "black",
          "arrowhead": 2,
          "ax": 0,
          "ay": -10,
          "font": {
           "color": "black",
           "size": 12
          },
          "showarrow": true,
          "text": "288",
          "x": 106.17539405822755,
          "y": 106.21991577148435
         },
         {
          "arrowcolor": "black",
          "arrowhead": 2,
          "ax": 0,
          "ay": -10,
          "font": {
           "color": "black",
           "size": 12
          },
          "showarrow": true,
          "text": "289",
          "x": 121.3433074951172,
          "y": 106.21991577148435
         },
         {
          "arrowcolor": "black",
          "arrowhead": 2,
          "ax": 0,
          "ay": -10,
          "font": {
           "color": "black",
           "size": 12
          },
          "showarrow": true,
          "text": "290",
          "x": 136.51122093200686,
          "y": 106.21991577148435
         },
         {
          "arrowcolor": "black",
          "arrowhead": 2,
          "ax": 0,
          "ay": -10,
          "font": {
           "color": "black",
           "size": 12
          },
          "showarrow": true,
          "text": "291",
          "x": 0,
          "y": 110.01348419189452
         },
         {
          "arrowcolor": "black",
          "arrowhead": 2,
          "ax": 0,
          "ay": -10,
          "font": {
           "color": "black",
           "size": 12
          },
          "showarrow": true,
          "text": "292",
          "x": 15.16791343688965,
          "y": 110.01348419189452
         },
         {
          "arrowcolor": "black",
          "arrowhead": 2,
          "ax": 0,
          "ay": -10,
          "font": {
           "color": "black",
           "size": 12
          },
          "showarrow": true,
          "text": "293",
          "x": 30.3358268737793,
          "y": 110.01348419189452
         },
         {
          "arrowcolor": "black",
          "arrowhead": 2,
          "ax": 0,
          "ay": -10,
          "font": {
           "color": "black",
           "size": 12
          },
          "showarrow": true,
          "text": "294",
          "x": 45.50374031066895,
          "y": 110.01348419189452
         },
         {
          "arrowcolor": "black",
          "arrowhead": 2,
          "ax": 0,
          "ay": -10,
          "font": {
           "color": "black",
           "size": 12
          },
          "showarrow": true,
          "text": "295",
          "x": 60.6716537475586,
          "y": 110.01348419189452
         },
         {
          "arrowcolor": "black",
          "arrowhead": 2,
          "ax": 0,
          "ay": -10,
          "font": {
           "color": "black",
           "size": 12
          },
          "showarrow": true,
          "text": "296",
          "x": 75.83956718444826,
          "y": 110.01348419189452
         },
         {
          "arrowcolor": "black",
          "arrowhead": 2,
          "ax": 0,
          "ay": -10,
          "font": {
           "color": "black",
           "size": 12
          },
          "showarrow": true,
          "text": "297",
          "x": 91.0074806213379,
          "y": 110.01348419189452
         },
         {
          "arrowcolor": "black",
          "arrowhead": 2,
          "ax": 0,
          "ay": -10,
          "font": {
           "color": "black",
           "size": 12
          },
          "showarrow": true,
          "text": "298",
          "x": 106.17539405822755,
          "y": 110.01348419189452
         },
         {
          "arrowcolor": "black",
          "arrowhead": 2,
          "ax": 0,
          "ay": -10,
          "font": {
           "color": "black",
           "size": 12
          },
          "showarrow": true,
          "text": "299",
          "x": 121.3433074951172,
          "y": 110.01348419189452
         },
         {
          "arrowcolor": "black",
          "arrowhead": 2,
          "ax": 0,
          "ay": -10,
          "font": {
           "color": "black",
           "size": 12
          },
          "showarrow": true,
          "text": "300",
          "x": 136.51122093200686,
          "y": 110.01348419189452
         },
         {
          "arrowcolor": "black",
          "arrowhead": 2,
          "ax": 0,
          "ay": -10,
          "font": {
           "color": "black",
           "size": 12
          },
          "showarrow": true,
          "text": "301",
          "x": 0,
          "y": 113.80705261230467
         },
         {
          "arrowcolor": "black",
          "arrowhead": 2,
          "ax": 0,
          "ay": -10,
          "font": {
           "color": "black",
           "size": 12
          },
          "showarrow": true,
          "text": "302",
          "x": 15.16791343688965,
          "y": 113.80705261230467
         },
         {
          "arrowcolor": "black",
          "arrowhead": 2,
          "ax": 0,
          "ay": -10,
          "font": {
           "color": "black",
           "size": 12
          },
          "showarrow": true,
          "text": "303",
          "x": 30.3358268737793,
          "y": 113.80705261230467
         },
         {
          "arrowcolor": "black",
          "arrowhead": 2,
          "ax": 0,
          "ay": -10,
          "font": {
           "color": "black",
           "size": 12
          },
          "showarrow": true,
          "text": "304",
          "x": 45.50374031066895,
          "y": 113.80705261230467
         },
         {
          "arrowcolor": "black",
          "arrowhead": 2,
          "ax": 0,
          "ay": -10,
          "font": {
           "color": "black",
           "size": 12
          },
          "showarrow": true,
          "text": "305",
          "x": 60.6716537475586,
          "y": 113.80705261230467
         },
         {
          "arrowcolor": "black",
          "arrowhead": 2,
          "ax": 0,
          "ay": -10,
          "font": {
           "color": "black",
           "size": 12
          },
          "showarrow": true,
          "text": "306",
          "x": 75.83956718444826,
          "y": 113.80705261230467
         },
         {
          "arrowcolor": "black",
          "arrowhead": 2,
          "ax": 0,
          "ay": -10,
          "font": {
           "color": "black",
           "size": 12
          },
          "showarrow": true,
          "text": "307",
          "x": 91.0074806213379,
          "y": 113.80705261230467
         },
         {
          "arrowcolor": "black",
          "arrowhead": 2,
          "ax": 0,
          "ay": -10,
          "font": {
           "color": "black",
           "size": 12
          },
          "showarrow": true,
          "text": "308",
          "x": 106.17539405822755,
          "y": 113.80705261230467
         },
         {
          "arrowcolor": "black",
          "arrowhead": 2,
          "ax": 0,
          "ay": -10,
          "font": {
           "color": "black",
           "size": 12
          },
          "showarrow": true,
          "text": "309",
          "x": 121.3433074951172,
          "y": 113.80705261230467
         },
         {
          "arrowcolor": "black",
          "arrowhead": 2,
          "ax": 0,
          "ay": -10,
          "font": {
           "color": "black",
           "size": 12
          },
          "showarrow": true,
          "text": "310",
          "x": 136.51122093200686,
          "y": 113.80705261230467
         },
         {
          "arrowcolor": "black",
          "arrowhead": 2,
          "ax": 0,
          "ay": -10,
          "font": {
           "color": "black",
           "size": 12
          },
          "showarrow": true,
          "text": "311",
          "x": 0,
          "y": 117.60062103271483
         },
         {
          "arrowcolor": "black",
          "arrowhead": 2,
          "ax": 0,
          "ay": -10,
          "font": {
           "color": "black",
           "size": 12
          },
          "showarrow": true,
          "text": "312",
          "x": 15.16791343688965,
          "y": 117.60062103271483
         },
         {
          "arrowcolor": "black",
          "arrowhead": 2,
          "ax": 0,
          "ay": -10,
          "font": {
           "color": "black",
           "size": 12
          },
          "showarrow": true,
          "text": "313",
          "x": 30.3358268737793,
          "y": 117.60062103271483
         },
         {
          "arrowcolor": "black",
          "arrowhead": 2,
          "ax": 0,
          "ay": -10,
          "font": {
           "color": "black",
           "size": 12
          },
          "showarrow": true,
          "text": "314",
          "x": 45.50374031066895,
          "y": 117.60062103271483
         },
         {
          "arrowcolor": "black",
          "arrowhead": 2,
          "ax": 0,
          "ay": -10,
          "font": {
           "color": "black",
           "size": 12
          },
          "showarrow": true,
          "text": "315",
          "x": 60.6716537475586,
          "y": 117.60062103271483
         },
         {
          "arrowcolor": "black",
          "arrowhead": 2,
          "ax": 0,
          "ay": -10,
          "font": {
           "color": "black",
           "size": 12
          },
          "showarrow": true,
          "text": "316",
          "x": 75.83956718444826,
          "y": 117.60062103271483
         },
         {
          "arrowcolor": "black",
          "arrowhead": 2,
          "ax": 0,
          "ay": -10,
          "font": {
           "color": "black",
           "size": 12
          },
          "showarrow": true,
          "text": "317",
          "x": 91.0074806213379,
          "y": 117.60062103271483
         },
         {
          "arrowcolor": "black",
          "arrowhead": 2,
          "ax": 0,
          "ay": -10,
          "font": {
           "color": "black",
           "size": 12
          },
          "showarrow": true,
          "text": "318",
          "x": 106.17539405822755,
          "y": 117.60062103271483
         },
         {
          "arrowcolor": "black",
          "arrowhead": 2,
          "ax": 0,
          "ay": -10,
          "font": {
           "color": "black",
           "size": 12
          },
          "showarrow": true,
          "text": "319",
          "x": 121.3433074951172,
          "y": 117.60062103271483
         },
         {
          "arrowcolor": "black",
          "arrowhead": 2,
          "ax": 0,
          "ay": -10,
          "font": {
           "color": "black",
           "size": 12
          },
          "showarrow": true,
          "text": "320",
          "x": 136.51122093200686,
          "y": 117.60062103271483
         },
         {
          "arrowcolor": "black",
          "arrowhead": 2,
          "ax": 0,
          "ay": -10,
          "font": {
           "color": "black",
           "size": 12
          },
          "showarrow": true,
          "text": "321",
          "x": 0,
          "y": 121.39418945312498
         },
         {
          "arrowcolor": "black",
          "arrowhead": 2,
          "ax": 0,
          "ay": -10,
          "font": {
           "color": "black",
           "size": 12
          },
          "showarrow": true,
          "text": "322",
          "x": 15.16791343688965,
          "y": 121.39418945312498
         },
         {
          "arrowcolor": "black",
          "arrowhead": 2,
          "ax": 0,
          "ay": -10,
          "font": {
           "color": "black",
           "size": 12
          },
          "showarrow": true,
          "text": "323",
          "x": 30.3358268737793,
          "y": 121.39418945312498
         },
         {
          "arrowcolor": "black",
          "arrowhead": 2,
          "ax": 0,
          "ay": -10,
          "font": {
           "color": "black",
           "size": 12
          },
          "showarrow": true,
          "text": "324",
          "x": 45.50374031066895,
          "y": 121.39418945312498
         },
         {
          "arrowcolor": "black",
          "arrowhead": 2,
          "ax": 0,
          "ay": -10,
          "font": {
           "color": "black",
           "size": 12
          },
          "showarrow": true,
          "text": "325",
          "x": 60.6716537475586,
          "y": 121.39418945312498
         },
         {
          "arrowcolor": "black",
          "arrowhead": 2,
          "ax": 0,
          "ay": -10,
          "font": {
           "color": "black",
           "size": 12
          },
          "showarrow": true,
          "text": "326",
          "x": 75.83956718444826,
          "y": 121.39418945312498
         },
         {
          "arrowcolor": "black",
          "arrowhead": 2,
          "ax": 0,
          "ay": -10,
          "font": {
           "color": "black",
           "size": 12
          },
          "showarrow": true,
          "text": "327",
          "x": 91.0074806213379,
          "y": 121.39418945312498
         },
         {
          "arrowcolor": "black",
          "arrowhead": 2,
          "ax": 0,
          "ay": -10,
          "font": {
           "color": "black",
           "size": 12
          },
          "showarrow": true,
          "text": "328",
          "x": 106.17539405822755,
          "y": 121.39418945312498
         },
         {
          "arrowcolor": "black",
          "arrowhead": 2,
          "ax": 0,
          "ay": -10,
          "font": {
           "color": "black",
           "size": 12
          },
          "showarrow": true,
          "text": "329",
          "x": 121.3433074951172,
          "y": 121.39418945312498
         },
         {
          "arrowcolor": "black",
          "arrowhead": 2,
          "ax": 0,
          "ay": -10,
          "font": {
           "color": "black",
           "size": 12
          },
          "showarrow": true,
          "text": "330",
          "x": 136.51122093200686,
          "y": 121.39418945312498
         },
         {
          "arrowcolor": "black",
          "arrowhead": 2,
          "ax": 0,
          "ay": -10,
          "font": {
           "color": "black",
           "size": 12
          },
          "showarrow": true,
          "text": "331",
          "x": 0,
          "y": 125.18775787353513
         },
         {
          "arrowcolor": "black",
          "arrowhead": 2,
          "ax": 0,
          "ay": -10,
          "font": {
           "color": "black",
           "size": 12
          },
          "showarrow": true,
          "text": "332",
          "x": 15.16791343688965,
          "y": 125.18775787353513
         },
         {
          "arrowcolor": "black",
          "arrowhead": 2,
          "ax": 0,
          "ay": -10,
          "font": {
           "color": "black",
           "size": 12
          },
          "showarrow": true,
          "text": "333",
          "x": 30.3358268737793,
          "y": 125.18775787353513
         },
         {
          "arrowcolor": "black",
          "arrowhead": 2,
          "ax": 0,
          "ay": -10,
          "font": {
           "color": "black",
           "size": 12
          },
          "showarrow": true,
          "text": "334",
          "x": 45.50374031066895,
          "y": 125.18775787353513
         },
         {
          "arrowcolor": "black",
          "arrowhead": 2,
          "ax": 0,
          "ay": -10,
          "font": {
           "color": "black",
           "size": 12
          },
          "showarrow": true,
          "text": "335",
          "x": 60.6716537475586,
          "y": 125.18775787353513
         },
         {
          "arrowcolor": "black",
          "arrowhead": 2,
          "ax": 0,
          "ay": -10,
          "font": {
           "color": "black",
           "size": 12
          },
          "showarrow": true,
          "text": "336",
          "x": 75.83956718444826,
          "y": 125.18775787353513
         },
         {
          "arrowcolor": "black",
          "arrowhead": 2,
          "ax": 0,
          "ay": -10,
          "font": {
           "color": "black",
           "size": 12
          },
          "showarrow": true,
          "text": "337",
          "x": 91.0074806213379,
          "y": 125.18775787353513
         },
         {
          "arrowcolor": "black",
          "arrowhead": 2,
          "ax": 0,
          "ay": -10,
          "font": {
           "color": "black",
           "size": 12
          },
          "showarrow": true,
          "text": "338",
          "x": 106.17539405822755,
          "y": 125.18775787353513
         },
         {
          "arrowcolor": "black",
          "arrowhead": 2,
          "ax": 0,
          "ay": -10,
          "font": {
           "color": "black",
           "size": 12
          },
          "showarrow": true,
          "text": "339",
          "x": 121.3433074951172,
          "y": 125.18775787353513
         },
         {
          "arrowcolor": "black",
          "arrowhead": 2,
          "ax": 0,
          "ay": -10,
          "font": {
           "color": "black",
           "size": 12
          },
          "showarrow": true,
          "text": "340",
          "x": 136.51122093200686,
          "y": 125.18775787353513
         },
         {
          "arrowcolor": "black",
          "arrowhead": 2,
          "ax": 0,
          "ay": -10,
          "font": {
           "color": "black",
           "size": 12
          },
          "showarrow": true,
          "text": "341",
          "x": 0,
          "y": 128.9813262939453
         },
         {
          "arrowcolor": "black",
          "arrowhead": 2,
          "ax": 0,
          "ay": -10,
          "font": {
           "color": "black",
           "size": 12
          },
          "showarrow": true,
          "text": "342",
          "x": 15.16791343688965,
          "y": 128.9813262939453
         },
         {
          "arrowcolor": "black",
          "arrowhead": 2,
          "ax": 0,
          "ay": -10,
          "font": {
           "color": "black",
           "size": 12
          },
          "showarrow": true,
          "text": "343",
          "x": 30.3358268737793,
          "y": 128.9813262939453
         },
         {
          "arrowcolor": "black",
          "arrowhead": 2,
          "ax": 0,
          "ay": -10,
          "font": {
           "color": "black",
           "size": 12
          },
          "showarrow": true,
          "text": "344",
          "x": 45.50374031066895,
          "y": 128.9813262939453
         },
         {
          "arrowcolor": "black",
          "arrowhead": 2,
          "ax": 0,
          "ay": -10,
          "font": {
           "color": "black",
           "size": 12
          },
          "showarrow": true,
          "text": "345",
          "x": 60.6716537475586,
          "y": 128.9813262939453
         },
         {
          "arrowcolor": "black",
          "arrowhead": 2,
          "ax": 0,
          "ay": -10,
          "font": {
           "color": "black",
           "size": 12
          },
          "showarrow": true,
          "text": "346",
          "x": 75.83956718444826,
          "y": 128.9813262939453
         },
         {
          "arrowcolor": "black",
          "arrowhead": 2,
          "ax": 0,
          "ay": -10,
          "font": {
           "color": "black",
           "size": 12
          },
          "showarrow": true,
          "text": "347",
          "x": 91.0074806213379,
          "y": 128.9813262939453
         },
         {
          "arrowcolor": "black",
          "arrowhead": 2,
          "ax": 0,
          "ay": -10,
          "font": {
           "color": "black",
           "size": 12
          },
          "showarrow": true,
          "text": "348",
          "x": 106.17539405822755,
          "y": 128.9813262939453
         },
         {
          "arrowcolor": "black",
          "arrowhead": 2,
          "ax": 0,
          "ay": -10,
          "font": {
           "color": "black",
           "size": 12
          },
          "showarrow": true,
          "text": "349",
          "x": 121.3433074951172,
          "y": 128.9813262939453
         },
         {
          "arrowcolor": "black",
          "arrowhead": 2,
          "ax": 0,
          "ay": -10,
          "font": {
           "color": "black",
           "size": 12
          },
          "showarrow": true,
          "text": "350",
          "x": 136.51122093200686,
          "y": 128.9813262939453
         },
         {
          "arrowcolor": "black",
          "arrowhead": 2,
          "ax": 0,
          "ay": -10,
          "font": {
           "color": "black",
           "size": 12
          },
          "showarrow": true,
          "text": "351",
          "x": 0,
          "y": 132.77489471435544
         },
         {
          "arrowcolor": "black",
          "arrowhead": 2,
          "ax": 0,
          "ay": -10,
          "font": {
           "color": "black",
           "size": 12
          },
          "showarrow": true,
          "text": "352",
          "x": 15.16791343688965,
          "y": 132.77489471435544
         },
         {
          "arrowcolor": "black",
          "arrowhead": 2,
          "ax": 0,
          "ay": -10,
          "font": {
           "color": "black",
           "size": 12
          },
          "showarrow": true,
          "text": "353",
          "x": 30.3358268737793,
          "y": 132.77489471435544
         },
         {
          "arrowcolor": "black",
          "arrowhead": 2,
          "ax": 0,
          "ay": -10,
          "font": {
           "color": "black",
           "size": 12
          },
          "showarrow": true,
          "text": "354",
          "x": 45.50374031066895,
          "y": 132.77489471435544
         },
         {
          "arrowcolor": "black",
          "arrowhead": 2,
          "ax": 0,
          "ay": -10,
          "font": {
           "color": "black",
           "size": 12
          },
          "showarrow": true,
          "text": "355",
          "x": 60.6716537475586,
          "y": 132.77489471435544
         },
         {
          "arrowcolor": "black",
          "arrowhead": 2,
          "ax": 0,
          "ay": -10,
          "font": {
           "color": "black",
           "size": 12
          },
          "showarrow": true,
          "text": "356",
          "x": 75.83956718444826,
          "y": 132.77489471435544
         },
         {
          "arrowcolor": "black",
          "arrowhead": 2,
          "ax": 0,
          "ay": -10,
          "font": {
           "color": "black",
           "size": 12
          },
          "showarrow": true,
          "text": "357",
          "x": 91.0074806213379,
          "y": 132.77489471435544
         },
         {
          "arrowcolor": "black",
          "arrowhead": 2,
          "ax": 0,
          "ay": -10,
          "font": {
           "color": "black",
           "size": 12
          },
          "showarrow": true,
          "text": "358",
          "x": 106.17539405822755,
          "y": 132.77489471435544
         },
         {
          "arrowcolor": "black",
          "arrowhead": 2,
          "ax": 0,
          "ay": -10,
          "font": {
           "color": "black",
           "size": 12
          },
          "showarrow": true,
          "text": "359",
          "x": 121.3433074951172,
          "y": 132.77489471435544
         },
         {
          "arrowcolor": "black",
          "arrowhead": 2,
          "ax": 0,
          "ay": -10,
          "font": {
           "color": "black",
           "size": 12
          },
          "showarrow": true,
          "text": "360",
          "x": 136.51122093200686,
          "y": 132.77489471435544
         },
         {
          "arrowcolor": "black",
          "arrowhead": 2,
          "ax": 0,
          "ay": -10,
          "font": {
           "color": "black",
           "size": 12
          },
          "showarrow": true,
          "text": "361",
          "x": 0,
          "y": 136.5684631347656
         },
         {
          "arrowcolor": "black",
          "arrowhead": 2,
          "ax": 0,
          "ay": -10,
          "font": {
           "color": "black",
           "size": 12
          },
          "showarrow": true,
          "text": "362",
          "x": 15.16791343688965,
          "y": 136.5684631347656
         },
         {
          "arrowcolor": "black",
          "arrowhead": 2,
          "ax": 0,
          "ay": -10,
          "font": {
           "color": "black",
           "size": 12
          },
          "showarrow": true,
          "text": "363",
          "x": 30.3358268737793,
          "y": 136.5684631347656
         },
         {
          "arrowcolor": "black",
          "arrowhead": 2,
          "ax": 0,
          "ay": -10,
          "font": {
           "color": "black",
           "size": 12
          },
          "showarrow": true,
          "text": "364",
          "x": 45.50374031066895,
          "y": 136.5684631347656
         },
         {
          "arrowcolor": "black",
          "arrowhead": 2,
          "ax": 0,
          "ay": -10,
          "font": {
           "color": "black",
           "size": 12
          },
          "showarrow": true,
          "text": "365",
          "x": 60.6716537475586,
          "y": 136.5684631347656
         },
         {
          "arrowcolor": "black",
          "arrowhead": 2,
          "ax": 0,
          "ay": -10,
          "font": {
           "color": "black",
           "size": 12
          },
          "showarrow": true,
          "text": "366",
          "x": 75.83956718444826,
          "y": 136.5684631347656
         },
         {
          "arrowcolor": "black",
          "arrowhead": 2,
          "ax": 0,
          "ay": -10,
          "font": {
           "color": "black",
           "size": 12
          },
          "showarrow": true,
          "text": "367",
          "x": 91.0074806213379,
          "y": 136.5684631347656
         },
         {
          "arrowcolor": "black",
          "arrowhead": 2,
          "ax": 0,
          "ay": -10,
          "font": {
           "color": "black",
           "size": 12
          },
          "showarrow": true,
          "text": "368",
          "x": 106.17539405822755,
          "y": 136.5684631347656
         },
         {
          "arrowcolor": "black",
          "arrowhead": 2,
          "ax": 0,
          "ay": -10,
          "font": {
           "color": "black",
           "size": 12
          },
          "showarrow": true,
          "text": "369",
          "x": 121.3433074951172,
          "y": 136.5684631347656
         },
         {
          "arrowcolor": "black",
          "arrowhead": 2,
          "ax": 0,
          "ay": -10,
          "font": {
           "color": "black",
           "size": 12
          },
          "showarrow": true,
          "text": "370",
          "x": 136.51122093200686,
          "y": 136.5684631347656
         },
         {
          "arrowcolor": "black",
          "arrowhead": 2,
          "ax": 0,
          "ay": -10,
          "font": {
           "color": "black",
           "size": 12
          },
          "showarrow": true,
          "text": "371",
          "x": 0,
          "y": 140.36203155517575
         },
         {
          "arrowcolor": "black",
          "arrowhead": 2,
          "ax": 0,
          "ay": -10,
          "font": {
           "color": "black",
           "size": 12
          },
          "showarrow": true,
          "text": "372",
          "x": 15.16791343688965,
          "y": 140.36203155517575
         },
         {
          "arrowcolor": "black",
          "arrowhead": 2,
          "ax": 0,
          "ay": -10,
          "font": {
           "color": "black",
           "size": 12
          },
          "showarrow": true,
          "text": "373",
          "x": 30.3358268737793,
          "y": 140.36203155517575
         },
         {
          "arrowcolor": "black",
          "arrowhead": 2,
          "ax": 0,
          "ay": -10,
          "font": {
           "color": "black",
           "size": 12
          },
          "showarrow": true,
          "text": "374",
          "x": 45.50374031066895,
          "y": 140.36203155517575
         },
         {
          "arrowcolor": "black",
          "arrowhead": 2,
          "ax": 0,
          "ay": -10,
          "font": {
           "color": "black",
           "size": 12
          },
          "showarrow": true,
          "text": "375",
          "x": 60.6716537475586,
          "y": 140.36203155517575
         },
         {
          "arrowcolor": "black",
          "arrowhead": 2,
          "ax": 0,
          "ay": -10,
          "font": {
           "color": "black",
           "size": 12
          },
          "showarrow": true,
          "text": "376",
          "x": 75.83956718444826,
          "y": 140.36203155517575
         },
         {
          "arrowcolor": "black",
          "arrowhead": 2,
          "ax": 0,
          "ay": -10,
          "font": {
           "color": "black",
           "size": 12
          },
          "showarrow": true,
          "text": "377",
          "x": 91.0074806213379,
          "y": 140.36203155517575
         },
         {
          "arrowcolor": "black",
          "arrowhead": 2,
          "ax": 0,
          "ay": -10,
          "font": {
           "color": "black",
           "size": 12
          },
          "showarrow": true,
          "text": "378",
          "x": 106.17539405822755,
          "y": 140.36203155517575
         },
         {
          "arrowcolor": "black",
          "arrowhead": 2,
          "ax": 0,
          "ay": -10,
          "font": {
           "color": "black",
           "size": 12
          },
          "showarrow": true,
          "text": "379",
          "x": 121.3433074951172,
          "y": 140.36203155517575
         },
         {
          "arrowcolor": "black",
          "arrowhead": 2,
          "ax": 0,
          "ay": -10,
          "font": {
           "color": "black",
           "size": 12
          },
          "showarrow": true,
          "text": "380",
          "x": 136.51122093200686,
          "y": 140.36203155517575
         },
         {
          "arrowcolor": "black",
          "arrowhead": 2,
          "ax": 0,
          "ay": -10,
          "font": {
           "color": "black",
           "size": 12
          },
          "showarrow": true,
          "text": "381",
          "x": 0,
          "y": 144.15559997558591
         },
         {
          "arrowcolor": "black",
          "arrowhead": 2,
          "ax": 0,
          "ay": -10,
          "font": {
           "color": "black",
           "size": 12
          },
          "showarrow": true,
          "text": "382",
          "x": 15.16791343688965,
          "y": 144.15559997558591
         },
         {
          "arrowcolor": "black",
          "arrowhead": 2,
          "ax": 0,
          "ay": -10,
          "font": {
           "color": "black",
           "size": 12
          },
          "showarrow": true,
          "text": "383",
          "x": 30.3358268737793,
          "y": 144.15559997558591
         },
         {
          "arrowcolor": "black",
          "arrowhead": 2,
          "ax": 0,
          "ay": -10,
          "font": {
           "color": "black",
           "size": 12
          },
          "showarrow": true,
          "text": "384",
          "x": 45.50374031066895,
          "y": 144.15559997558591
         },
         {
          "arrowcolor": "black",
          "arrowhead": 2,
          "ax": 0,
          "ay": -10,
          "font": {
           "color": "black",
           "size": 12
          },
          "showarrow": true,
          "text": "385",
          "x": 60.6716537475586,
          "y": 144.15559997558591
         },
         {
          "arrowcolor": "black",
          "arrowhead": 2,
          "ax": 0,
          "ay": -10,
          "font": {
           "color": "black",
           "size": 12
          },
          "showarrow": true,
          "text": "386",
          "x": 75.83956718444826,
          "y": 144.15559997558591
         },
         {
          "arrowcolor": "black",
          "arrowhead": 2,
          "ax": 0,
          "ay": -10,
          "font": {
           "color": "black",
           "size": 12
          },
          "showarrow": true,
          "text": "387",
          "x": 91.0074806213379,
          "y": 144.15559997558591
         },
         {
          "arrowcolor": "black",
          "arrowhead": 2,
          "ax": 0,
          "ay": -10,
          "font": {
           "color": "black",
           "size": 12
          },
          "showarrow": true,
          "text": "388",
          "x": 106.17539405822755,
          "y": 144.15559997558591
         },
         {
          "arrowcolor": "black",
          "arrowhead": 2,
          "ax": 0,
          "ay": -10,
          "font": {
           "color": "black",
           "size": 12
          },
          "showarrow": true,
          "text": "389",
          "x": 121.3433074951172,
          "y": 144.15559997558591
         },
         {
          "arrowcolor": "black",
          "arrowhead": 2,
          "ax": 0,
          "ay": -10,
          "font": {
           "color": "black",
           "size": 12
          },
          "showarrow": true,
          "text": "390",
          "x": 136.51122093200686,
          "y": 144.15559997558591
         },
         {
          "arrowcolor": "black",
          "arrowhead": 2,
          "ax": 0,
          "ay": -10,
          "font": {
           "color": "black",
           "size": 12
          },
          "showarrow": true,
          "text": "391",
          "x": 0,
          "y": 147.94916839599608
         },
         {
          "arrowcolor": "black",
          "arrowhead": 2,
          "ax": 0,
          "ay": -10,
          "font": {
           "color": "black",
           "size": 12
          },
          "showarrow": true,
          "text": "392",
          "x": 15.16791343688965,
          "y": 147.94916839599608
         },
         {
          "arrowcolor": "black",
          "arrowhead": 2,
          "ax": 0,
          "ay": -10,
          "font": {
           "color": "black",
           "size": 12
          },
          "showarrow": true,
          "text": "393",
          "x": 30.3358268737793,
          "y": 147.94916839599608
         },
         {
          "arrowcolor": "black",
          "arrowhead": 2,
          "ax": 0,
          "ay": -10,
          "font": {
           "color": "black",
           "size": 12
          },
          "showarrow": true,
          "text": "394",
          "x": 45.50374031066895,
          "y": 147.94916839599608
         },
         {
          "arrowcolor": "black",
          "arrowhead": 2,
          "ax": 0,
          "ay": -10,
          "font": {
           "color": "black",
           "size": 12
          },
          "showarrow": true,
          "text": "395",
          "x": 60.6716537475586,
          "y": 147.94916839599608
         },
         {
          "arrowcolor": "black",
          "arrowhead": 2,
          "ax": 0,
          "ay": -10,
          "font": {
           "color": "black",
           "size": 12
          },
          "showarrow": true,
          "text": "396",
          "x": 75.83956718444826,
          "y": 147.94916839599608
         },
         {
          "arrowcolor": "black",
          "arrowhead": 2,
          "ax": 0,
          "ay": -10,
          "font": {
           "color": "black",
           "size": 12
          },
          "showarrow": true,
          "text": "397",
          "x": 91.0074806213379,
          "y": 147.94916839599608
         },
         {
          "arrowcolor": "black",
          "arrowhead": 2,
          "ax": 0,
          "ay": -10,
          "font": {
           "color": "black",
           "size": 12
          },
          "showarrow": true,
          "text": "398",
          "x": 106.17539405822755,
          "y": 147.94916839599608
         },
         {
          "arrowcolor": "black",
          "arrowhead": 2,
          "ax": 0,
          "ay": -10,
          "font": {
           "color": "black",
           "size": 12
          },
          "showarrow": true,
          "text": "399",
          "x": 121.3433074951172,
          "y": 147.94916839599608
         },
         {
          "arrowcolor": "black",
          "arrowhead": 2,
          "ax": 0,
          "ay": -10,
          "font": {
           "color": "black",
           "size": 12
          },
          "showarrow": true,
          "text": "400",
          "x": 136.51122093200686,
          "y": 147.94916839599608
         }
        ],
        "height": 800,
        "margin": {
         "b": 0,
         "l": 0,
         "r": 0,
         "t": 50
        },
        "showlegend": false,
        "template": {
         "data": {
          "bar": [
           {
            "error_x": {
             "color": "#2a3f5f"
            },
            "error_y": {
             "color": "#2a3f5f"
            },
            "marker": {
             "line": {
              "color": "#E5ECF6",
              "width": 0.5
             },
             "pattern": {
              "fillmode": "overlay",
              "size": 10,
              "solidity": 0.2
             }
            },
            "type": "bar"
           }
          ],
          "barpolar": [
           {
            "marker": {
             "line": {
              "color": "#E5ECF6",
              "width": 0.5
             },
             "pattern": {
              "fillmode": "overlay",
              "size": 10,
              "solidity": 0.2
             }
            },
            "type": "barpolar"
           }
          ],
          "carpet": [
           {
            "aaxis": {
             "endlinecolor": "#2a3f5f",
             "gridcolor": "white",
             "linecolor": "white",
             "minorgridcolor": "white",
             "startlinecolor": "#2a3f5f"
            },
            "baxis": {
             "endlinecolor": "#2a3f5f",
             "gridcolor": "white",
             "linecolor": "white",
             "minorgridcolor": "white",
             "startlinecolor": "#2a3f5f"
            },
            "type": "carpet"
           }
          ],
          "choropleth": [
           {
            "colorbar": {
             "outlinewidth": 0,
             "ticks": ""
            },
            "type": "choropleth"
           }
          ],
          "contour": [
           {
            "colorbar": {
             "outlinewidth": 0,
             "ticks": ""
            },
            "colorscale": [
             [
              0,
              "#0d0887"
             ],
             [
              0.1111111111111111,
              "#46039f"
             ],
             [
              0.2222222222222222,
              "#7201a8"
             ],
             [
              0.3333333333333333,
              "#9c179e"
             ],
             [
              0.4444444444444444,
              "#bd3786"
             ],
             [
              0.5555555555555556,
              "#d8576b"
             ],
             [
              0.6666666666666666,
              "#ed7953"
             ],
             [
              0.7777777777777778,
              "#fb9f3a"
             ],
             [
              0.8888888888888888,
              "#fdca26"
             ],
             [
              1,
              "#f0f921"
             ]
            ],
            "type": "contour"
           }
          ],
          "contourcarpet": [
           {
            "colorbar": {
             "outlinewidth": 0,
             "ticks": ""
            },
            "type": "contourcarpet"
           }
          ],
          "heatmap": [
           {
            "colorbar": {
             "outlinewidth": 0,
             "ticks": ""
            },
            "colorscale": [
             [
              0,
              "#0d0887"
             ],
             [
              0.1111111111111111,
              "#46039f"
             ],
             [
              0.2222222222222222,
              "#7201a8"
             ],
             [
              0.3333333333333333,
              "#9c179e"
             ],
             [
              0.4444444444444444,
              "#bd3786"
             ],
             [
              0.5555555555555556,
              "#d8576b"
             ],
             [
              0.6666666666666666,
              "#ed7953"
             ],
             [
              0.7777777777777778,
              "#fb9f3a"
             ],
             [
              0.8888888888888888,
              "#fdca26"
             ],
             [
              1,
              "#f0f921"
             ]
            ],
            "type": "heatmap"
           }
          ],
          "heatmapgl": [
           {
            "colorbar": {
             "outlinewidth": 0,
             "ticks": ""
            },
            "colorscale": [
             [
              0,
              "#0d0887"
             ],
             [
              0.1111111111111111,
              "#46039f"
             ],
             [
              0.2222222222222222,
              "#7201a8"
             ],
             [
              0.3333333333333333,
              "#9c179e"
             ],
             [
              0.4444444444444444,
              "#bd3786"
             ],
             [
              0.5555555555555556,
              "#d8576b"
             ],
             [
              0.6666666666666666,
              "#ed7953"
             ],
             [
              0.7777777777777778,
              "#fb9f3a"
             ],
             [
              0.8888888888888888,
              "#fdca26"
             ],
             [
              1,
              "#f0f921"
             ]
            ],
            "type": "heatmapgl"
           }
          ],
          "histogram": [
           {
            "marker": {
             "pattern": {
              "fillmode": "overlay",
              "size": 10,
              "solidity": 0.2
             }
            },
            "type": "histogram"
           }
          ],
          "histogram2d": [
           {
            "colorbar": {
             "outlinewidth": 0,
             "ticks": ""
            },
            "colorscale": [
             [
              0,
              "#0d0887"
             ],
             [
              0.1111111111111111,
              "#46039f"
             ],
             [
              0.2222222222222222,
              "#7201a8"
             ],
             [
              0.3333333333333333,
              "#9c179e"
             ],
             [
              0.4444444444444444,
              "#bd3786"
             ],
             [
              0.5555555555555556,
              "#d8576b"
             ],
             [
              0.6666666666666666,
              "#ed7953"
             ],
             [
              0.7777777777777778,
              "#fb9f3a"
             ],
             [
              0.8888888888888888,
              "#fdca26"
             ],
             [
              1,
              "#f0f921"
             ]
            ],
            "type": "histogram2d"
           }
          ],
          "histogram2dcontour": [
           {
            "colorbar": {
             "outlinewidth": 0,
             "ticks": ""
            },
            "colorscale": [
             [
              0,
              "#0d0887"
             ],
             [
              0.1111111111111111,
              "#46039f"
             ],
             [
              0.2222222222222222,
              "#7201a8"
             ],
             [
              0.3333333333333333,
              "#9c179e"
             ],
             [
              0.4444444444444444,
              "#bd3786"
             ],
             [
              0.5555555555555556,
              "#d8576b"
             ],
             [
              0.6666666666666666,
              "#ed7953"
             ],
             [
              0.7777777777777778,
              "#fb9f3a"
             ],
             [
              0.8888888888888888,
              "#fdca26"
             ],
             [
              1,
              "#f0f921"
             ]
            ],
            "type": "histogram2dcontour"
           }
          ],
          "mesh3d": [
           {
            "colorbar": {
             "outlinewidth": 0,
             "ticks": ""
            },
            "type": "mesh3d"
           }
          ],
          "parcoords": [
           {
            "line": {
             "colorbar": {
              "outlinewidth": 0,
              "ticks": ""
             }
            },
            "type": "parcoords"
           }
          ],
          "pie": [
           {
            "automargin": true,
            "type": "pie"
           }
          ],
          "scatter": [
           {
            "fillpattern": {
             "fillmode": "overlay",
             "size": 10,
             "solidity": 0.2
            },
            "type": "scatter"
           }
          ],
          "scatter3d": [
           {
            "line": {
             "colorbar": {
              "outlinewidth": 0,
              "ticks": ""
             }
            },
            "marker": {
             "colorbar": {
              "outlinewidth": 0,
              "ticks": ""
             }
            },
            "type": "scatter3d"
           }
          ],
          "scattercarpet": [
           {
            "marker": {
             "colorbar": {
              "outlinewidth": 0,
              "ticks": ""
             }
            },
            "type": "scattercarpet"
           }
          ],
          "scattergeo": [
           {
            "marker": {
             "colorbar": {
              "outlinewidth": 0,
              "ticks": ""
             }
            },
            "type": "scattergeo"
           }
          ],
          "scattergl": [
           {
            "marker": {
             "colorbar": {
              "outlinewidth": 0,
              "ticks": ""
             }
            },
            "type": "scattergl"
           }
          ],
          "scattermapbox": [
           {
            "marker": {
             "colorbar": {
              "outlinewidth": 0,
              "ticks": ""
             }
            },
            "type": "scattermapbox"
           }
          ],
          "scatterpolar": [
           {
            "marker": {
             "colorbar": {
              "outlinewidth": 0,
              "ticks": ""
             }
            },
            "type": "scatterpolar"
           }
          ],
          "scatterpolargl": [
           {
            "marker": {
             "colorbar": {
              "outlinewidth": 0,
              "ticks": ""
             }
            },
            "type": "scatterpolargl"
           }
          ],
          "scatterternary": [
           {
            "marker": {
             "colorbar": {
              "outlinewidth": 0,
              "ticks": ""
             }
            },
            "type": "scatterternary"
           }
          ],
          "surface": [
           {
            "colorbar": {
             "outlinewidth": 0,
             "ticks": ""
            },
            "colorscale": [
             [
              0,
              "#0d0887"
             ],
             [
              0.1111111111111111,
              "#46039f"
             ],
             [
              0.2222222222222222,
              "#7201a8"
             ],
             [
              0.3333333333333333,
              "#9c179e"
             ],
             [
              0.4444444444444444,
              "#bd3786"
             ],
             [
              0.5555555555555556,
              "#d8576b"
             ],
             [
              0.6666666666666666,
              "#ed7953"
             ],
             [
              0.7777777777777778,
              "#fb9f3a"
             ],
             [
              0.8888888888888888,
              "#fdca26"
             ],
             [
              1,
              "#f0f921"
             ]
            ],
            "type": "surface"
           }
          ],
          "table": [
           {
            "cells": {
             "fill": {
              "color": "#EBF0F8"
             },
             "line": {
              "color": "white"
             }
            },
            "header": {
             "fill": {
              "color": "#C8D4E3"
             },
             "line": {
              "color": "white"
             }
            },
            "type": "table"
           }
          ]
         },
         "layout": {
          "annotationdefaults": {
           "arrowcolor": "#2a3f5f",
           "arrowhead": 0,
           "arrowwidth": 1
          },
          "autotypenumbers": "strict",
          "coloraxis": {
           "colorbar": {
            "outlinewidth": 0,
            "ticks": ""
           }
          },
          "colorscale": {
           "diverging": [
            [
             0,
             "#8e0152"
            ],
            [
             0.1,
             "#c51b7d"
            ],
            [
             0.2,
             "#de77ae"
            ],
            [
             0.3,
             "#f1b6da"
            ],
            [
             0.4,
             "#fde0ef"
            ],
            [
             0.5,
             "#f7f7f7"
            ],
            [
             0.6,
             "#e6f5d0"
            ],
            [
             0.7,
             "#b8e186"
            ],
            [
             0.8,
             "#7fbc41"
            ],
            [
             0.9,
             "#4d9221"
            ],
            [
             1,
             "#276419"
            ]
           ],
           "sequential": [
            [
             0,
             "#0d0887"
            ],
            [
             0.1111111111111111,
             "#46039f"
            ],
            [
             0.2222222222222222,
             "#7201a8"
            ],
            [
             0.3333333333333333,
             "#9c179e"
            ],
            [
             0.4444444444444444,
             "#bd3786"
            ],
            [
             0.5555555555555556,
             "#d8576b"
            ],
            [
             0.6666666666666666,
             "#ed7953"
            ],
            [
             0.7777777777777778,
             "#fb9f3a"
            ],
            [
             0.8888888888888888,
             "#fdca26"
            ],
            [
             1,
             "#f0f921"
            ]
           ],
           "sequentialminus": [
            [
             0,
             "#0d0887"
            ],
            [
             0.1111111111111111,
             "#46039f"
            ],
            [
             0.2222222222222222,
             "#7201a8"
            ],
            [
             0.3333333333333333,
             "#9c179e"
            ],
            [
             0.4444444444444444,
             "#bd3786"
            ],
            [
             0.5555555555555556,
             "#d8576b"
            ],
            [
             0.6666666666666666,
             "#ed7953"
            ],
            [
             0.7777777777777778,
             "#fb9f3a"
            ],
            [
             0.8888888888888888,
             "#fdca26"
            ],
            [
             1,
             "#f0f921"
            ]
           ]
          },
          "colorway": [
           "#636efa",
           "#EF553B",
           "#00cc96",
           "#ab63fa",
           "#FFA15A",
           "#19d3f3",
           "#FF6692",
           "#B6E880",
           "#FF97FF",
           "#FECB52"
          ],
          "font": {
           "color": "#2a3f5f"
          },
          "geo": {
           "bgcolor": "white",
           "lakecolor": "white",
           "landcolor": "#E5ECF6",
           "showlakes": true,
           "showland": true,
           "subunitcolor": "white"
          },
          "hoverlabel": {
           "align": "left"
          },
          "hovermode": "closest",
          "mapbox": {
           "style": "light"
          },
          "paper_bgcolor": "white",
          "plot_bgcolor": "#E5ECF6",
          "polar": {
           "angularaxis": {
            "gridcolor": "white",
            "linecolor": "white",
            "ticks": ""
           },
           "bgcolor": "#E5ECF6",
           "radialaxis": {
            "gridcolor": "white",
            "linecolor": "white",
            "ticks": ""
           }
          },
          "scene": {
           "xaxis": {
            "backgroundcolor": "#E5ECF6",
            "gridcolor": "white",
            "gridwidth": 2,
            "linecolor": "white",
            "showbackground": true,
            "ticks": "",
            "zerolinecolor": "white"
           },
           "yaxis": {
            "backgroundcolor": "#E5ECF6",
            "gridcolor": "white",
            "gridwidth": 2,
            "linecolor": "white",
            "showbackground": true,
            "ticks": "",
            "zerolinecolor": "white"
           },
           "zaxis": {
            "backgroundcolor": "#E5ECF6",
            "gridcolor": "white",
            "gridwidth": 2,
            "linecolor": "white",
            "showbackground": true,
            "ticks": "",
            "zerolinecolor": "white"
           }
          },
          "shapedefaults": {
           "line": {
            "color": "#2a3f5f"
           }
          },
          "ternary": {
           "aaxis": {
            "gridcolor": "white",
            "linecolor": "white",
            "ticks": ""
           },
           "baxis": {
            "gridcolor": "white",
            "linecolor": "white",
            "ticks": ""
           },
           "bgcolor": "#E5ECF6",
           "caxis": {
            "gridcolor": "white",
            "linecolor": "white",
            "ticks": ""
           }
          },
          "title": {
           "x": 0.05
          },
          "xaxis": {
           "automargin": true,
           "gridcolor": "white",
           "linecolor": "white",
           "ticks": "",
           "title": {
            "standoff": 15
           },
           "zerolinecolor": "white",
           "zerolinewidth": 2
          },
          "yaxis": {
           "automargin": true,
           "gridcolor": "white",
           "linecolor": "white",
           "ticks": "",
           "title": {
            "standoff": 15
           },
           "zerolinecolor": "white",
           "zerolinewidth": 2
          }
         }
        },
        "title": {
         "text": "2D Flight Plan"
        },
        "xaxis": {
         "title": {
          "text": "X (meters)"
         }
        },
        "yaxis": {
         "title": {
          "text": "Y (meters)"
         }
        }
       }
      }
     },
     "metadata": {},
     "output_type": "display_data"
    }
   ],
   "source": [
    "camera_ = copy.deepcopy(camera_x10)\n",
    "dataset_spec_ = copy.deepcopy(dataset_spec)\n",
    "\n",
    "dataset_spec_.sidelap = 0.9\n",
    "\n",
    "print(camera_, dataset_spec_)\n",
    "\n",
    "fig = plot_photo_plan(generate_photo_plan_on_grid(camera_, dataset_spec_))\n",
    "fig.show()"
   ]
  },
  {
   "cell_type": "code",
   "execution_count": 46,
   "id": "7d389f29",
   "metadata": {},
   "outputs": [
    {
     "name": "stdout",
     "output_type": "stream",
     "text": [
      "Camera(fx=4938.56, fy=4936.49, cx=4095.5, cy=3071.5, sensor_size_x_mm=13.107, sensor_size_y_mm=9.83, image_size_x=8192, image_size_y=6144) DatasetSpec(overlap=0.7, sidelap=0.7, height=50, scan_dimension_x=150,scan_dimension_y=150,exposure_time_ms=2,camera_angle=0 \n"
     ]
    },
    {
     "data": {
      "application/vnd.plotly.v1+json": {
       "config": {
        "plotlyServerURL": "https://plot.ly"
       },
       "data": [
        {
         "line": {
          "color": "blue",
          "width": 2
         },
         "marker": {
          "color": "blue",
          "opacity": 0.8,
          "size": 6
         },
         "mode": "markers+lines",
         "name": "Flight Path",
         "type": "scatter",
         "x": [
          0,
          24.881746673583987,
          49.76349334716797,
          74.64524002075196,
          99.52698669433595,
          124.40873336791994,
          149.2904800415039,
          0,
          24.881746673583987,
          49.76349334716797,
          74.64524002075196,
          99.52698669433595,
          124.40873336791994,
          149.2904800415039,
          0,
          24.881746673583987,
          49.76349334716797,
          74.64524002075196,
          99.52698669433595,
          124.40873336791994,
          149.2904800415039,
          0,
          24.881746673583987,
          49.76349334716797,
          74.64524002075196,
          99.52698669433595,
          124.40873336791994,
          149.2904800415039,
          0,
          24.881746673583987,
          49.76349334716797,
          74.64524002075196,
          99.52698669433595,
          124.40873336791994,
          149.2904800415039,
          0,
          24.881746673583987,
          49.76349334716797,
          74.64524002075196,
          99.52698669433595,
          124.40873336791994,
          149.2904800415039,
          0,
          24.881746673583987,
          49.76349334716797,
          74.64524002075196,
          99.52698669433595,
          124.40873336791994,
          149.2904800415039,
          0,
          24.881746673583987,
          49.76349334716797,
          74.64524002075196,
          99.52698669433595,
          124.40873336791994,
          149.2904800415039,
          0,
          24.881746673583987,
          49.76349334716797,
          74.64524002075196,
          99.52698669433595,
          124.40873336791994,
          149.2904800415039
         ],
         "y": [
          0,
          0,
          0,
          0,
          0,
          0,
          0,
          18.669134902954106,
          18.669134902954106,
          18.669134902954106,
          18.669134902954106,
          18.669134902954106,
          18.669134902954106,
          18.669134902954106,
          37.33826980590821,
          37.33826980590821,
          37.33826980590821,
          37.33826980590821,
          37.33826980590821,
          37.33826980590821,
          37.33826980590821,
          56.00740470886232,
          56.00740470886232,
          56.00740470886232,
          56.00740470886232,
          56.00740470886232,
          56.00740470886232,
          56.00740470886232,
          74.67653961181642,
          74.67653961181642,
          74.67653961181642,
          74.67653961181642,
          74.67653961181642,
          74.67653961181642,
          74.67653961181642,
          93.34567451477054,
          93.34567451477054,
          93.34567451477054,
          93.34567451477054,
          93.34567451477054,
          93.34567451477054,
          93.34567451477054,
          112.01480941772463,
          112.01480941772463,
          112.01480941772463,
          112.01480941772463,
          112.01480941772463,
          112.01480941772463,
          112.01480941772463,
          130.68394432067873,
          130.68394432067873,
          130.68394432067873,
          130.68394432067873,
          130.68394432067873,
          130.68394432067873,
          130.68394432067873,
          149.35307922363285,
          149.35307922363285,
          149.35307922363285,
          149.35307922363285,
          149.35307922363285,
          149.35307922363285,
          149.35307922363285
         ]
        }
       ],
       "layout": {
        "annotations": [
         {
          "arrowcolor": "black",
          "arrowhead": 2,
          "ax": 0,
          "ay": -10,
          "font": {
           "color": "black",
           "size": 12
          },
          "showarrow": true,
          "text": "1",
          "x": 0,
          "y": 0
         },
         {
          "arrowcolor": "black",
          "arrowhead": 2,
          "ax": 0,
          "ay": -10,
          "font": {
           "color": "black",
           "size": 12
          },
          "showarrow": true,
          "text": "2",
          "x": 24.881746673583987,
          "y": 0
         },
         {
          "arrowcolor": "black",
          "arrowhead": 2,
          "ax": 0,
          "ay": -10,
          "font": {
           "color": "black",
           "size": 12
          },
          "showarrow": true,
          "text": "3",
          "x": 49.76349334716797,
          "y": 0
         },
         {
          "arrowcolor": "black",
          "arrowhead": 2,
          "ax": 0,
          "ay": -10,
          "font": {
           "color": "black",
           "size": 12
          },
          "showarrow": true,
          "text": "4",
          "x": 74.64524002075196,
          "y": 0
         },
         {
          "arrowcolor": "black",
          "arrowhead": 2,
          "ax": 0,
          "ay": -10,
          "font": {
           "color": "black",
           "size": 12
          },
          "showarrow": true,
          "text": "5",
          "x": 99.52698669433595,
          "y": 0
         },
         {
          "arrowcolor": "black",
          "arrowhead": 2,
          "ax": 0,
          "ay": -10,
          "font": {
           "color": "black",
           "size": 12
          },
          "showarrow": true,
          "text": "6",
          "x": 124.40873336791994,
          "y": 0
         },
         {
          "arrowcolor": "black",
          "arrowhead": 2,
          "ax": 0,
          "ay": -10,
          "font": {
           "color": "black",
           "size": 12
          },
          "showarrow": true,
          "text": "7",
          "x": 149.2904800415039,
          "y": 0
         },
         {
          "arrowcolor": "black",
          "arrowhead": 2,
          "ax": 0,
          "ay": -10,
          "font": {
           "color": "black",
           "size": 12
          },
          "showarrow": true,
          "text": "8",
          "x": 0,
          "y": 18.669134902954106
         },
         {
          "arrowcolor": "black",
          "arrowhead": 2,
          "ax": 0,
          "ay": -10,
          "font": {
           "color": "black",
           "size": 12
          },
          "showarrow": true,
          "text": "9",
          "x": 24.881746673583987,
          "y": 18.669134902954106
         },
         {
          "arrowcolor": "black",
          "arrowhead": 2,
          "ax": 0,
          "ay": -10,
          "font": {
           "color": "black",
           "size": 12
          },
          "showarrow": true,
          "text": "10",
          "x": 49.76349334716797,
          "y": 18.669134902954106
         },
         {
          "arrowcolor": "black",
          "arrowhead": 2,
          "ax": 0,
          "ay": -10,
          "font": {
           "color": "black",
           "size": 12
          },
          "showarrow": true,
          "text": "11",
          "x": 74.64524002075196,
          "y": 18.669134902954106
         },
         {
          "arrowcolor": "black",
          "arrowhead": 2,
          "ax": 0,
          "ay": -10,
          "font": {
           "color": "black",
           "size": 12
          },
          "showarrow": true,
          "text": "12",
          "x": 99.52698669433595,
          "y": 18.669134902954106
         },
         {
          "arrowcolor": "black",
          "arrowhead": 2,
          "ax": 0,
          "ay": -10,
          "font": {
           "color": "black",
           "size": 12
          },
          "showarrow": true,
          "text": "13",
          "x": 124.40873336791994,
          "y": 18.669134902954106
         },
         {
          "arrowcolor": "black",
          "arrowhead": 2,
          "ax": 0,
          "ay": -10,
          "font": {
           "color": "black",
           "size": 12
          },
          "showarrow": true,
          "text": "14",
          "x": 149.2904800415039,
          "y": 18.669134902954106
         },
         {
          "arrowcolor": "black",
          "arrowhead": 2,
          "ax": 0,
          "ay": -10,
          "font": {
           "color": "black",
           "size": 12
          },
          "showarrow": true,
          "text": "15",
          "x": 0,
          "y": 37.33826980590821
         },
         {
          "arrowcolor": "black",
          "arrowhead": 2,
          "ax": 0,
          "ay": -10,
          "font": {
           "color": "black",
           "size": 12
          },
          "showarrow": true,
          "text": "16",
          "x": 24.881746673583987,
          "y": 37.33826980590821
         },
         {
          "arrowcolor": "black",
          "arrowhead": 2,
          "ax": 0,
          "ay": -10,
          "font": {
           "color": "black",
           "size": 12
          },
          "showarrow": true,
          "text": "17",
          "x": 49.76349334716797,
          "y": 37.33826980590821
         },
         {
          "arrowcolor": "black",
          "arrowhead": 2,
          "ax": 0,
          "ay": -10,
          "font": {
           "color": "black",
           "size": 12
          },
          "showarrow": true,
          "text": "18",
          "x": 74.64524002075196,
          "y": 37.33826980590821
         },
         {
          "arrowcolor": "black",
          "arrowhead": 2,
          "ax": 0,
          "ay": -10,
          "font": {
           "color": "black",
           "size": 12
          },
          "showarrow": true,
          "text": "19",
          "x": 99.52698669433595,
          "y": 37.33826980590821
         },
         {
          "arrowcolor": "black",
          "arrowhead": 2,
          "ax": 0,
          "ay": -10,
          "font": {
           "color": "black",
           "size": 12
          },
          "showarrow": true,
          "text": "20",
          "x": 124.40873336791994,
          "y": 37.33826980590821
         },
         {
          "arrowcolor": "black",
          "arrowhead": 2,
          "ax": 0,
          "ay": -10,
          "font": {
           "color": "black",
           "size": 12
          },
          "showarrow": true,
          "text": "21",
          "x": 149.2904800415039,
          "y": 37.33826980590821
         },
         {
          "arrowcolor": "black",
          "arrowhead": 2,
          "ax": 0,
          "ay": -10,
          "font": {
           "color": "black",
           "size": 12
          },
          "showarrow": true,
          "text": "22",
          "x": 0,
          "y": 56.00740470886232
         },
         {
          "arrowcolor": "black",
          "arrowhead": 2,
          "ax": 0,
          "ay": -10,
          "font": {
           "color": "black",
           "size": 12
          },
          "showarrow": true,
          "text": "23",
          "x": 24.881746673583987,
          "y": 56.00740470886232
         },
         {
          "arrowcolor": "black",
          "arrowhead": 2,
          "ax": 0,
          "ay": -10,
          "font": {
           "color": "black",
           "size": 12
          },
          "showarrow": true,
          "text": "24",
          "x": 49.76349334716797,
          "y": 56.00740470886232
         },
         {
          "arrowcolor": "black",
          "arrowhead": 2,
          "ax": 0,
          "ay": -10,
          "font": {
           "color": "black",
           "size": 12
          },
          "showarrow": true,
          "text": "25",
          "x": 74.64524002075196,
          "y": 56.00740470886232
         },
         {
          "arrowcolor": "black",
          "arrowhead": 2,
          "ax": 0,
          "ay": -10,
          "font": {
           "color": "black",
           "size": 12
          },
          "showarrow": true,
          "text": "26",
          "x": 99.52698669433595,
          "y": 56.00740470886232
         },
         {
          "arrowcolor": "black",
          "arrowhead": 2,
          "ax": 0,
          "ay": -10,
          "font": {
           "color": "black",
           "size": 12
          },
          "showarrow": true,
          "text": "27",
          "x": 124.40873336791994,
          "y": 56.00740470886232
         },
         {
          "arrowcolor": "black",
          "arrowhead": 2,
          "ax": 0,
          "ay": -10,
          "font": {
           "color": "black",
           "size": 12
          },
          "showarrow": true,
          "text": "28",
          "x": 149.2904800415039,
          "y": 56.00740470886232
         },
         {
          "arrowcolor": "black",
          "arrowhead": 2,
          "ax": 0,
          "ay": -10,
          "font": {
           "color": "black",
           "size": 12
          },
          "showarrow": true,
          "text": "29",
          "x": 0,
          "y": 74.67653961181642
         },
         {
          "arrowcolor": "black",
          "arrowhead": 2,
          "ax": 0,
          "ay": -10,
          "font": {
           "color": "black",
           "size": 12
          },
          "showarrow": true,
          "text": "30",
          "x": 24.881746673583987,
          "y": 74.67653961181642
         },
         {
          "arrowcolor": "black",
          "arrowhead": 2,
          "ax": 0,
          "ay": -10,
          "font": {
           "color": "black",
           "size": 12
          },
          "showarrow": true,
          "text": "31",
          "x": 49.76349334716797,
          "y": 74.67653961181642
         },
         {
          "arrowcolor": "black",
          "arrowhead": 2,
          "ax": 0,
          "ay": -10,
          "font": {
           "color": "black",
           "size": 12
          },
          "showarrow": true,
          "text": "32",
          "x": 74.64524002075196,
          "y": 74.67653961181642
         },
         {
          "arrowcolor": "black",
          "arrowhead": 2,
          "ax": 0,
          "ay": -10,
          "font": {
           "color": "black",
           "size": 12
          },
          "showarrow": true,
          "text": "33",
          "x": 99.52698669433595,
          "y": 74.67653961181642
         },
         {
          "arrowcolor": "black",
          "arrowhead": 2,
          "ax": 0,
          "ay": -10,
          "font": {
           "color": "black",
           "size": 12
          },
          "showarrow": true,
          "text": "34",
          "x": 124.40873336791994,
          "y": 74.67653961181642
         },
         {
          "arrowcolor": "black",
          "arrowhead": 2,
          "ax": 0,
          "ay": -10,
          "font": {
           "color": "black",
           "size": 12
          },
          "showarrow": true,
          "text": "35",
          "x": 149.2904800415039,
          "y": 74.67653961181642
         },
         {
          "arrowcolor": "black",
          "arrowhead": 2,
          "ax": 0,
          "ay": -10,
          "font": {
           "color": "black",
           "size": 12
          },
          "showarrow": true,
          "text": "36",
          "x": 0,
          "y": 93.34567451477054
         },
         {
          "arrowcolor": "black",
          "arrowhead": 2,
          "ax": 0,
          "ay": -10,
          "font": {
           "color": "black",
           "size": 12
          },
          "showarrow": true,
          "text": "37",
          "x": 24.881746673583987,
          "y": 93.34567451477054
         },
         {
          "arrowcolor": "black",
          "arrowhead": 2,
          "ax": 0,
          "ay": -10,
          "font": {
           "color": "black",
           "size": 12
          },
          "showarrow": true,
          "text": "38",
          "x": 49.76349334716797,
          "y": 93.34567451477054
         },
         {
          "arrowcolor": "black",
          "arrowhead": 2,
          "ax": 0,
          "ay": -10,
          "font": {
           "color": "black",
           "size": 12
          },
          "showarrow": true,
          "text": "39",
          "x": 74.64524002075196,
          "y": 93.34567451477054
         },
         {
          "arrowcolor": "black",
          "arrowhead": 2,
          "ax": 0,
          "ay": -10,
          "font": {
           "color": "black",
           "size": 12
          },
          "showarrow": true,
          "text": "40",
          "x": 99.52698669433595,
          "y": 93.34567451477054
         },
         {
          "arrowcolor": "black",
          "arrowhead": 2,
          "ax": 0,
          "ay": -10,
          "font": {
           "color": "black",
           "size": 12
          },
          "showarrow": true,
          "text": "41",
          "x": 124.40873336791994,
          "y": 93.34567451477054
         },
         {
          "arrowcolor": "black",
          "arrowhead": 2,
          "ax": 0,
          "ay": -10,
          "font": {
           "color": "black",
           "size": 12
          },
          "showarrow": true,
          "text": "42",
          "x": 149.2904800415039,
          "y": 93.34567451477054
         },
         {
          "arrowcolor": "black",
          "arrowhead": 2,
          "ax": 0,
          "ay": -10,
          "font": {
           "color": "black",
           "size": 12
          },
          "showarrow": true,
          "text": "43",
          "x": 0,
          "y": 112.01480941772463
         },
         {
          "arrowcolor": "black",
          "arrowhead": 2,
          "ax": 0,
          "ay": -10,
          "font": {
           "color": "black",
           "size": 12
          },
          "showarrow": true,
          "text": "44",
          "x": 24.881746673583987,
          "y": 112.01480941772463
         },
         {
          "arrowcolor": "black",
          "arrowhead": 2,
          "ax": 0,
          "ay": -10,
          "font": {
           "color": "black",
           "size": 12
          },
          "showarrow": true,
          "text": "45",
          "x": 49.76349334716797,
          "y": 112.01480941772463
         },
         {
          "arrowcolor": "black",
          "arrowhead": 2,
          "ax": 0,
          "ay": -10,
          "font": {
           "color": "black",
           "size": 12
          },
          "showarrow": true,
          "text": "46",
          "x": 74.64524002075196,
          "y": 112.01480941772463
         },
         {
          "arrowcolor": "black",
          "arrowhead": 2,
          "ax": 0,
          "ay": -10,
          "font": {
           "color": "black",
           "size": 12
          },
          "showarrow": true,
          "text": "47",
          "x": 99.52698669433595,
          "y": 112.01480941772463
         },
         {
          "arrowcolor": "black",
          "arrowhead": 2,
          "ax": 0,
          "ay": -10,
          "font": {
           "color": "black",
           "size": 12
          },
          "showarrow": true,
          "text": "48",
          "x": 124.40873336791994,
          "y": 112.01480941772463
         },
         {
          "arrowcolor": "black",
          "arrowhead": 2,
          "ax": 0,
          "ay": -10,
          "font": {
           "color": "black",
           "size": 12
          },
          "showarrow": true,
          "text": "49",
          "x": 149.2904800415039,
          "y": 112.01480941772463
         },
         {
          "arrowcolor": "black",
          "arrowhead": 2,
          "ax": 0,
          "ay": -10,
          "font": {
           "color": "black",
           "size": 12
          },
          "showarrow": true,
          "text": "50",
          "x": 0,
          "y": 130.68394432067873
         },
         {
          "arrowcolor": "black",
          "arrowhead": 2,
          "ax": 0,
          "ay": -10,
          "font": {
           "color": "black",
           "size": 12
          },
          "showarrow": true,
          "text": "51",
          "x": 24.881746673583987,
          "y": 130.68394432067873
         },
         {
          "arrowcolor": "black",
          "arrowhead": 2,
          "ax": 0,
          "ay": -10,
          "font": {
           "color": "black",
           "size": 12
          },
          "showarrow": true,
          "text": "52",
          "x": 49.76349334716797,
          "y": 130.68394432067873
         },
         {
          "arrowcolor": "black",
          "arrowhead": 2,
          "ax": 0,
          "ay": -10,
          "font": {
           "color": "black",
           "size": 12
          },
          "showarrow": true,
          "text": "53",
          "x": 74.64524002075196,
          "y": 130.68394432067873
         },
         {
          "arrowcolor": "black",
          "arrowhead": 2,
          "ax": 0,
          "ay": -10,
          "font": {
           "color": "black",
           "size": 12
          },
          "showarrow": true,
          "text": "54",
          "x": 99.52698669433595,
          "y": 130.68394432067873
         },
         {
          "arrowcolor": "black",
          "arrowhead": 2,
          "ax": 0,
          "ay": -10,
          "font": {
           "color": "black",
           "size": 12
          },
          "showarrow": true,
          "text": "55",
          "x": 124.40873336791994,
          "y": 130.68394432067873
         },
         {
          "arrowcolor": "black",
          "arrowhead": 2,
          "ax": 0,
          "ay": -10,
          "font": {
           "color": "black",
           "size": 12
          },
          "showarrow": true,
          "text": "56",
          "x": 149.2904800415039,
          "y": 130.68394432067873
         },
         {
          "arrowcolor": "black",
          "arrowhead": 2,
          "ax": 0,
          "ay": -10,
          "font": {
           "color": "black",
           "size": 12
          },
          "showarrow": true,
          "text": "57",
          "x": 0,
          "y": 149.35307922363285
         },
         {
          "arrowcolor": "black",
          "arrowhead": 2,
          "ax": 0,
          "ay": -10,
          "font": {
           "color": "black",
           "size": 12
          },
          "showarrow": true,
          "text": "58",
          "x": 24.881746673583987,
          "y": 149.35307922363285
         },
         {
          "arrowcolor": "black",
          "arrowhead": 2,
          "ax": 0,
          "ay": -10,
          "font": {
           "color": "black",
           "size": 12
          },
          "showarrow": true,
          "text": "59",
          "x": 49.76349334716797,
          "y": 149.35307922363285
         },
         {
          "arrowcolor": "black",
          "arrowhead": 2,
          "ax": 0,
          "ay": -10,
          "font": {
           "color": "black",
           "size": 12
          },
          "showarrow": true,
          "text": "60",
          "x": 74.64524002075196,
          "y": 149.35307922363285
         },
         {
          "arrowcolor": "black",
          "arrowhead": 2,
          "ax": 0,
          "ay": -10,
          "font": {
           "color": "black",
           "size": 12
          },
          "showarrow": true,
          "text": "61",
          "x": 99.52698669433595,
          "y": 149.35307922363285
         },
         {
          "arrowcolor": "black",
          "arrowhead": 2,
          "ax": 0,
          "ay": -10,
          "font": {
           "color": "black",
           "size": 12
          },
          "showarrow": true,
          "text": "62",
          "x": 124.40873336791994,
          "y": 149.35307922363285
         },
         {
          "arrowcolor": "black",
          "arrowhead": 2,
          "ax": 0,
          "ay": -10,
          "font": {
           "color": "black",
           "size": 12
          },
          "showarrow": true,
          "text": "63",
          "x": 149.2904800415039,
          "y": 149.35307922363285
         }
        ],
        "height": 800,
        "margin": {
         "b": 0,
         "l": 0,
         "r": 0,
         "t": 50
        },
        "showlegend": false,
        "template": {
         "data": {
          "bar": [
           {
            "error_x": {
             "color": "#2a3f5f"
            },
            "error_y": {
             "color": "#2a3f5f"
            },
            "marker": {
             "line": {
              "color": "#E5ECF6",
              "width": 0.5
             },
             "pattern": {
              "fillmode": "overlay",
              "size": 10,
              "solidity": 0.2
             }
            },
            "type": "bar"
           }
          ],
          "barpolar": [
           {
            "marker": {
             "line": {
              "color": "#E5ECF6",
              "width": 0.5
             },
             "pattern": {
              "fillmode": "overlay",
              "size": 10,
              "solidity": 0.2
             }
            },
            "type": "barpolar"
           }
          ],
          "carpet": [
           {
            "aaxis": {
             "endlinecolor": "#2a3f5f",
             "gridcolor": "white",
             "linecolor": "white",
             "minorgridcolor": "white",
             "startlinecolor": "#2a3f5f"
            },
            "baxis": {
             "endlinecolor": "#2a3f5f",
             "gridcolor": "white",
             "linecolor": "white",
             "minorgridcolor": "white",
             "startlinecolor": "#2a3f5f"
            },
            "type": "carpet"
           }
          ],
          "choropleth": [
           {
            "colorbar": {
             "outlinewidth": 0,
             "ticks": ""
            },
            "type": "choropleth"
           }
          ],
          "contour": [
           {
            "colorbar": {
             "outlinewidth": 0,
             "ticks": ""
            },
            "colorscale": [
             [
              0,
              "#0d0887"
             ],
             [
              0.1111111111111111,
              "#46039f"
             ],
             [
              0.2222222222222222,
              "#7201a8"
             ],
             [
              0.3333333333333333,
              "#9c179e"
             ],
             [
              0.4444444444444444,
              "#bd3786"
             ],
             [
              0.5555555555555556,
              "#d8576b"
             ],
             [
              0.6666666666666666,
              "#ed7953"
             ],
             [
              0.7777777777777778,
              "#fb9f3a"
             ],
             [
              0.8888888888888888,
              "#fdca26"
             ],
             [
              1,
              "#f0f921"
             ]
            ],
            "type": "contour"
           }
          ],
          "contourcarpet": [
           {
            "colorbar": {
             "outlinewidth": 0,
             "ticks": ""
            },
            "type": "contourcarpet"
           }
          ],
          "heatmap": [
           {
            "colorbar": {
             "outlinewidth": 0,
             "ticks": ""
            },
            "colorscale": [
             [
              0,
              "#0d0887"
             ],
             [
              0.1111111111111111,
              "#46039f"
             ],
             [
              0.2222222222222222,
              "#7201a8"
             ],
             [
              0.3333333333333333,
              "#9c179e"
             ],
             [
              0.4444444444444444,
              "#bd3786"
             ],
             [
              0.5555555555555556,
              "#d8576b"
             ],
             [
              0.6666666666666666,
              "#ed7953"
             ],
             [
              0.7777777777777778,
              "#fb9f3a"
             ],
             [
              0.8888888888888888,
              "#fdca26"
             ],
             [
              1,
              "#f0f921"
             ]
            ],
            "type": "heatmap"
           }
          ],
          "heatmapgl": [
           {
            "colorbar": {
             "outlinewidth": 0,
             "ticks": ""
            },
            "colorscale": [
             [
              0,
              "#0d0887"
             ],
             [
              0.1111111111111111,
              "#46039f"
             ],
             [
              0.2222222222222222,
              "#7201a8"
             ],
             [
              0.3333333333333333,
              "#9c179e"
             ],
             [
              0.4444444444444444,
              "#bd3786"
             ],
             [
              0.5555555555555556,
              "#d8576b"
             ],
             [
              0.6666666666666666,
              "#ed7953"
             ],
             [
              0.7777777777777778,
              "#fb9f3a"
             ],
             [
              0.8888888888888888,
              "#fdca26"
             ],
             [
              1,
              "#f0f921"
             ]
            ],
            "type": "heatmapgl"
           }
          ],
          "histogram": [
           {
            "marker": {
             "pattern": {
              "fillmode": "overlay",
              "size": 10,
              "solidity": 0.2
             }
            },
            "type": "histogram"
           }
          ],
          "histogram2d": [
           {
            "colorbar": {
             "outlinewidth": 0,
             "ticks": ""
            },
            "colorscale": [
             [
              0,
              "#0d0887"
             ],
             [
              0.1111111111111111,
              "#46039f"
             ],
             [
              0.2222222222222222,
              "#7201a8"
             ],
             [
              0.3333333333333333,
              "#9c179e"
             ],
             [
              0.4444444444444444,
              "#bd3786"
             ],
             [
              0.5555555555555556,
              "#d8576b"
             ],
             [
              0.6666666666666666,
              "#ed7953"
             ],
             [
              0.7777777777777778,
              "#fb9f3a"
             ],
             [
              0.8888888888888888,
              "#fdca26"
             ],
             [
              1,
              "#f0f921"
             ]
            ],
            "type": "histogram2d"
           }
          ],
          "histogram2dcontour": [
           {
            "colorbar": {
             "outlinewidth": 0,
             "ticks": ""
            },
            "colorscale": [
             [
              0,
              "#0d0887"
             ],
             [
              0.1111111111111111,
              "#46039f"
             ],
             [
              0.2222222222222222,
              "#7201a8"
             ],
             [
              0.3333333333333333,
              "#9c179e"
             ],
             [
              0.4444444444444444,
              "#bd3786"
             ],
             [
              0.5555555555555556,
              "#d8576b"
             ],
             [
              0.6666666666666666,
              "#ed7953"
             ],
             [
              0.7777777777777778,
              "#fb9f3a"
             ],
             [
              0.8888888888888888,
              "#fdca26"
             ],
             [
              1,
              "#f0f921"
             ]
            ],
            "type": "histogram2dcontour"
           }
          ],
          "mesh3d": [
           {
            "colorbar": {
             "outlinewidth": 0,
             "ticks": ""
            },
            "type": "mesh3d"
           }
          ],
          "parcoords": [
           {
            "line": {
             "colorbar": {
              "outlinewidth": 0,
              "ticks": ""
             }
            },
            "type": "parcoords"
           }
          ],
          "pie": [
           {
            "automargin": true,
            "type": "pie"
           }
          ],
          "scatter": [
           {
            "fillpattern": {
             "fillmode": "overlay",
             "size": 10,
             "solidity": 0.2
            },
            "type": "scatter"
           }
          ],
          "scatter3d": [
           {
            "line": {
             "colorbar": {
              "outlinewidth": 0,
              "ticks": ""
             }
            },
            "marker": {
             "colorbar": {
              "outlinewidth": 0,
              "ticks": ""
             }
            },
            "type": "scatter3d"
           }
          ],
          "scattercarpet": [
           {
            "marker": {
             "colorbar": {
              "outlinewidth": 0,
              "ticks": ""
             }
            },
            "type": "scattercarpet"
           }
          ],
          "scattergeo": [
           {
            "marker": {
             "colorbar": {
              "outlinewidth": 0,
              "ticks": ""
             }
            },
            "type": "scattergeo"
           }
          ],
          "scattergl": [
           {
            "marker": {
             "colorbar": {
              "outlinewidth": 0,
              "ticks": ""
             }
            },
            "type": "scattergl"
           }
          ],
          "scattermapbox": [
           {
            "marker": {
             "colorbar": {
              "outlinewidth": 0,
              "ticks": ""
             }
            },
            "type": "scattermapbox"
           }
          ],
          "scatterpolar": [
           {
            "marker": {
             "colorbar": {
              "outlinewidth": 0,
              "ticks": ""
             }
            },
            "type": "scatterpolar"
           }
          ],
          "scatterpolargl": [
           {
            "marker": {
             "colorbar": {
              "outlinewidth": 0,
              "ticks": ""
             }
            },
            "type": "scatterpolargl"
           }
          ],
          "scatterternary": [
           {
            "marker": {
             "colorbar": {
              "outlinewidth": 0,
              "ticks": ""
             }
            },
            "type": "scatterternary"
           }
          ],
          "surface": [
           {
            "colorbar": {
             "outlinewidth": 0,
             "ticks": ""
            },
            "colorscale": [
             [
              0,
              "#0d0887"
             ],
             [
              0.1111111111111111,
              "#46039f"
             ],
             [
              0.2222222222222222,
              "#7201a8"
             ],
             [
              0.3333333333333333,
              "#9c179e"
             ],
             [
              0.4444444444444444,
              "#bd3786"
             ],
             [
              0.5555555555555556,
              "#d8576b"
             ],
             [
              0.6666666666666666,
              "#ed7953"
             ],
             [
              0.7777777777777778,
              "#fb9f3a"
             ],
             [
              0.8888888888888888,
              "#fdca26"
             ],
             [
              1,
              "#f0f921"
             ]
            ],
            "type": "surface"
           }
          ],
          "table": [
           {
            "cells": {
             "fill": {
              "color": "#EBF0F8"
             },
             "line": {
              "color": "white"
             }
            },
            "header": {
             "fill": {
              "color": "#C8D4E3"
             },
             "line": {
              "color": "white"
             }
            },
            "type": "table"
           }
          ]
         },
         "layout": {
          "annotationdefaults": {
           "arrowcolor": "#2a3f5f",
           "arrowhead": 0,
           "arrowwidth": 1
          },
          "autotypenumbers": "strict",
          "coloraxis": {
           "colorbar": {
            "outlinewidth": 0,
            "ticks": ""
           }
          },
          "colorscale": {
           "diverging": [
            [
             0,
             "#8e0152"
            ],
            [
             0.1,
             "#c51b7d"
            ],
            [
             0.2,
             "#de77ae"
            ],
            [
             0.3,
             "#f1b6da"
            ],
            [
             0.4,
             "#fde0ef"
            ],
            [
             0.5,
             "#f7f7f7"
            ],
            [
             0.6,
             "#e6f5d0"
            ],
            [
             0.7,
             "#b8e186"
            ],
            [
             0.8,
             "#7fbc41"
            ],
            [
             0.9,
             "#4d9221"
            ],
            [
             1,
             "#276419"
            ]
           ],
           "sequential": [
            [
             0,
             "#0d0887"
            ],
            [
             0.1111111111111111,
             "#46039f"
            ],
            [
             0.2222222222222222,
             "#7201a8"
            ],
            [
             0.3333333333333333,
             "#9c179e"
            ],
            [
             0.4444444444444444,
             "#bd3786"
            ],
            [
             0.5555555555555556,
             "#d8576b"
            ],
            [
             0.6666666666666666,
             "#ed7953"
            ],
            [
             0.7777777777777778,
             "#fb9f3a"
            ],
            [
             0.8888888888888888,
             "#fdca26"
            ],
            [
             1,
             "#f0f921"
            ]
           ],
           "sequentialminus": [
            [
             0,
             "#0d0887"
            ],
            [
             0.1111111111111111,
             "#46039f"
            ],
            [
             0.2222222222222222,
             "#7201a8"
            ],
            [
             0.3333333333333333,
             "#9c179e"
            ],
            [
             0.4444444444444444,
             "#bd3786"
            ],
            [
             0.5555555555555556,
             "#d8576b"
            ],
            [
             0.6666666666666666,
             "#ed7953"
            ],
            [
             0.7777777777777778,
             "#fb9f3a"
            ],
            [
             0.8888888888888888,
             "#fdca26"
            ],
            [
             1,
             "#f0f921"
            ]
           ]
          },
          "colorway": [
           "#636efa",
           "#EF553B",
           "#00cc96",
           "#ab63fa",
           "#FFA15A",
           "#19d3f3",
           "#FF6692",
           "#B6E880",
           "#FF97FF",
           "#FECB52"
          ],
          "font": {
           "color": "#2a3f5f"
          },
          "geo": {
           "bgcolor": "white",
           "lakecolor": "white",
           "landcolor": "#E5ECF6",
           "showlakes": true,
           "showland": true,
           "subunitcolor": "white"
          },
          "hoverlabel": {
           "align": "left"
          },
          "hovermode": "closest",
          "mapbox": {
           "style": "light"
          },
          "paper_bgcolor": "white",
          "plot_bgcolor": "#E5ECF6",
          "polar": {
           "angularaxis": {
            "gridcolor": "white",
            "linecolor": "white",
            "ticks": ""
           },
           "bgcolor": "#E5ECF6",
           "radialaxis": {
            "gridcolor": "white",
            "linecolor": "white",
            "ticks": ""
           }
          },
          "scene": {
           "xaxis": {
            "backgroundcolor": "#E5ECF6",
            "gridcolor": "white",
            "gridwidth": 2,
            "linecolor": "white",
            "showbackground": true,
            "ticks": "",
            "zerolinecolor": "white"
           },
           "yaxis": {
            "backgroundcolor": "#E5ECF6",
            "gridcolor": "white",
            "gridwidth": 2,
            "linecolor": "white",
            "showbackground": true,
            "ticks": "",
            "zerolinecolor": "white"
           },
           "zaxis": {
            "backgroundcolor": "#E5ECF6",
            "gridcolor": "white",
            "gridwidth": 2,
            "linecolor": "white",
            "showbackground": true,
            "ticks": "",
            "zerolinecolor": "white"
           }
          },
          "shapedefaults": {
           "line": {
            "color": "#2a3f5f"
           }
          },
          "ternary": {
           "aaxis": {
            "gridcolor": "white",
            "linecolor": "white",
            "ticks": ""
           },
           "baxis": {
            "gridcolor": "white",
            "linecolor": "white",
            "ticks": ""
           },
           "bgcolor": "#E5ECF6",
           "caxis": {
            "gridcolor": "white",
            "linecolor": "white",
            "ticks": ""
           }
          },
          "title": {
           "x": 0.05
          },
          "xaxis": {
           "automargin": true,
           "gridcolor": "white",
           "linecolor": "white",
           "ticks": "",
           "title": {
            "standoff": 15
           },
           "zerolinecolor": "white",
           "zerolinewidth": 2
          },
          "yaxis": {
           "automargin": true,
           "gridcolor": "white",
           "linecolor": "white",
           "ticks": "",
           "title": {
            "standoff": 15
           },
           "zerolinecolor": "white",
           "zerolinewidth": 2
          }
         }
        },
        "title": {
         "text": "2D Flight Plan"
        },
        "xaxis": {
         "title": {
          "text": "X (meters)"
         }
        },
        "yaxis": {
         "title": {
          "text": "Y (meters)"
         }
        }
       }
      }
     },
     "metadata": {},
     "output_type": "display_data"
    }
   ],
   "source": [
    "camera_ = copy.deepcopy(camera_x10)\n",
    "dataset_spec_ = copy.deepcopy(dataset_spec)\n",
    "\n",
    "dataset_spec_.height = 50\n",
    "\n",
    "print(camera_, dataset_spec_)\n",
    "\n",
    "fig = plot_photo_plan(generate_photo_plan_on_grid(camera_, dataset_spec_))\n",
    "fig.show()"
   ]
  }
 ],
 "metadata": {
  "kernelspec": {
   "display_name": "base",
   "language": "python",
   "name": "python3"
  },
  "language_info": {
   "codemirror_mode": {
    "name": "ipython",
    "version": 3
   },
   "file_extension": ".py",
   "mimetype": "text/x-python",
   "name": "python",
   "nbconvert_exporter": "python",
   "pygments_lexer": "ipython3",
   "version": "3.12.7"
  }
 },
 "nbformat": 4,
 "nbformat_minor": 5
}
