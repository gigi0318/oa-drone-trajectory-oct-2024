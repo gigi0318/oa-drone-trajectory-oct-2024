{
 "cells": [
  {
   "cell_type": "markdown",
   "id": "fcdcb3d0-62af-41df-9fad-fcb84f5af016",
   "metadata": {},
   "source": [
    "# Drone Trajectory Planner\n",
    "\n",
    "In this project, we will develop the drone trajectory planner. This notebook serves as the main file for the project, where we will refer to the instructions and demonstrate our code.\n",
    "\n",
    "Please follow week by week instructions, which includes writing the code in the `src/` folder."
   ]
  },
  {
   "cell_type": "code",
   "execution_count": 53,
   "id": "83a63ad4-c249-484a-99e2-d9724aa5d41e",
   "metadata": {},
   "outputs": [
    {
     "name": "stdout",
     "output_type": "stream",
     "text": [
      "The autoreload extension is already loaded. To reload it, use:\n",
      "  %reload_ext autoreload\n"
     ]
    }
   ],
   "source": [
    "# Import all the files and libraries required for the project\n",
    "%load_ext autoreload\n",
    "%autoreload 2\n",
    "import copy\n",
    "    \n",
    "import numpy as np\n",
    "\n",
    "from src.camera_utils import compute_image_footprint_on_surface, compute_ground_sampling_distance, project_world_point_to_image,reproject_image_point_to_world\n",
    "from src.data_model import Camera, DatasetSpec\n",
    "from src.plan_computation import compute_distance_between_images, compute_speed_during_photo_capture, generate_photo_plan_on_grid, compute_distance_between_images_with_angle\n",
    "from src.visualization import plot_photo_plan"
   ]
  },
  {
   "cell_type": "markdown",
   "id": "44eb7f16-9094-4bc8-8ce7-065991ea0b78",
   "metadata": {},
   "source": [
    "# Week 1: Introduction\n",
    "\n",
    "No code contribution expected this week"
   ]
  },
  {
   "cell_type": "markdown",
   "id": "0c08643e-1e37-4614-bc8f-b5636127b345",
   "metadata": {},
   "source": [
    "# Week 2: Camera System Modeling and Operations\n",
    "\n",
    "We plan to\n",
    "- Model the simple pinhole camera system\n",
    "- Write utility functions to\n",
    "    - project a 3D world point to an image\n",
    "    - Compute image footprint on a surface\n",
    "    - Compute the Ground Sampling Distance"
   ]
  },
  {
   "cell_type": "markdown",
   "id": "c65c8b8f-6f33-4cd4-8c3a-74acbdbd2c7d",
   "metadata": {},
   "source": [
    "## Model the camera parameters\n",
    "\n",
    "We want to model the following camera parameters in Python:\n",
    "- focal length along x axis (in pixels)\n",
    "- focal length along y axis (in pixels)\n",
    "- optical center of the image along the x axis (in pixels)\n",
    "- optical center of the image along the y axis (in pixels)\n",
    "- Size of the sensor along the x axis (in mm)\n",
    "- Size of the sensor along the y axis (in mm)\n",
    "- Number of pixels in the image along the x axis\n",
    "- Number of pixels in the image along the y axis\n",
    "\n",
    "I recommend to use `dataclasses` ([Python documentation](https://docs.python.org/3/library/dataclasses.html), [Blog](https://www.dataquest.io/blog/how-to-use-python-data-classes/) to model these parameters.\n",
    "\n",
    "$\\color{red}{\\text{TODO: }}$ Implement `Camera` in `src/data_model.py`"
   ]
  },
  {
   "cell_type": "code",
   "execution_count": 54,
   "id": "51f75a3f-b1b1-4087-b9ea-6d5b245ab0fc",
   "metadata": {},
   "outputs": [],
   "source": [
    "# Define the parameters for Skydio VT300L - Wide camera\n",
    "# Ref: https://support.skydio.com/hc/en-us/articles/20866347470491-Skydio-X10-camera-and-metadata-overview\n",
    "fx = 4938.56\n",
    "fy = 4936.49\n",
    "cx = 4095.5\n",
    "cy = 3071.5\n",
    "sensor_size_x_mm = 13.107 # single pixel size * number of pixels in X dimension\n",
    "sensor_size_y_mm = 9.830 # single pixel size * number of pixels in Y dimension\n",
    "image_size_x = 8192\n",
    "image_size_y = 6144\n",
    "\n",
    "camera_x10 = Camera(fx, fy, cx, cy, sensor_size_x_mm, sensor_size_y_mm, image_size_x, image_size_y)"
   ]
  },
  {
   "cell_type": "code",
   "execution_count": 55,
   "id": "d0c3834b-6ae4-49b2-8a4f-9a50a08c2cb7",
   "metadata": {},
   "outputs": [
    {
     "name": "stdout",
     "output_type": "stream",
     "text": [
      "X10 camera model: Camera(fx=4938.56, fy=4936.49, cx=4095.5, cy=3071.5, sensor_size_x_mm=13.107, sensor_size_y_mm=9.83, image_size_x=8192, image_size_y=6144)\n"
     ]
    }
   ],
   "source": [
    "print(f\"X10 camera model: {camera_x10}\")"
   ]
  },
  {
   "cell_type": "markdown",
   "id": "1f1db4d3-824e-49b9-af3a-dbeb3323625a",
   "metadata": {},
   "source": [
    "## Project 3D world points into the image\n",
    "\n",
    "\n",
    "![Camera Projection](assets/image_projection.png)\n",
    "Reference: [Robert Collins CSE483](https://www.cse.psu.edu/~rtc12/CSE486/lecture12.pdf)\n",
    "\n",
    "\n",
    "Equations to implement:\n",
    "$$ x = f_x \\frac{X}{Z} $$\n",
    "$$ y = f_y \\frac{Y}{Z} $$\n",
    "$$ u = x + c_x $$\n",
    "$$ v = y + c_y $$\n",
    "\n",
    "$\\color{red}{\\text{TODO: }}$ Implement function `project_world_point_to_image` in `src/camera_utils.py`"
   ]
  },
  {
   "cell_type": "code",
   "execution_count": 56,
   "id": "4a3bd4c0-188b-4f95-98c9-95bb351e2d59",
   "metadata": {},
   "outputs": [
    {
     "name": "stdout",
     "output_type": "stream",
     "text": [
      "[ 25. -30.  50.] projected to [6564.7803   109.60571]\n"
     ]
    }
   ],
   "source": [
    "point_3d = np.array([25, -30, 50], dtype=np.float32)\n",
    "expected_uv = np.array([6564.80, 109.60], dtype=np.float32)\n",
    "uv = project_world_point_to_image(camera_x10, point_3d)\n",
    "\n",
    "print(f\"{point_3d} projected to {uv}\")\n",
    "\n",
    "assert np.allclose(uv, expected_uv, atol=1e-2)"
   ]
  },
  {
   "cell_type": "markdown",
   "id": "cf58acce-ca40-492d-9281-791c05c92776",
   "metadata": {},
   "source": [
    "## Compute Image Footprint on the surface\n",
    "\n",
    "We have written code to *project* a 3D point into the image. The reverse operation is reprojection, where we take $(x, y)$ and compute the $(X, Y)$ for a given value of $Z$. Note that while going from 3D to 2D, the depth becomes ambiguous so we need the to specify the $Z$.\n",
    "\n",
    "An image's footprint is the area on the surface which is captured by the image. We can take the two corners of the image and reproject them at a given distance to obtain the width and length of the image.\n",
    "\n",
    "$\\color{red}{\\text{TODO: }}$ Implement function `compute_image_footprint_on_surface` in `src/camera_utils.py`"
   ]
  },
  {
   "cell_type": "code",
   "execution_count": 57,
   "id": "9d3e87ae-2123-4362-bf6e-279e6afb360c",
   "metadata": {},
   "outputs": [
    {
     "name": "stdout",
     "output_type": "stream",
     "text": [
      "Footprint at 100m = [165.87831 124.4609 ]\n"
     ]
    }
   ],
   "source": [
    "footprint_at_100m = compute_image_footprint_on_surface(camera_x10, 100)\n",
    "expected_footprint_at_100m = np.array([165.88, 124.46], dtype=np.float32)\n",
    "\n",
    "print(f\"Footprint at 100m = {footprint_at_100m}\")\n",
    "\n",
    "assert np.allclose(footprint_at_100m, expected_footprint_at_100m, atol=1e-2)\n"
   ]
  },
  {
   "cell_type": "code",
   "execution_count": 58,
   "id": "bf7af93f-e95b-40e2-b607-39020015381b",
   "metadata": {},
   "outputs": [
    {
     "name": "stdout",
     "output_type": "stream",
     "text": [
      "Footprint at 200m = [331.75662 248.9218 ]\n"
     ]
    }
   ],
   "source": [
    "footprint_at_200m = compute_image_footprint_on_surface(camera_x10, 200)\n",
    "expected_footprint_at_200m = expected_footprint_at_100m * 2\n",
    "\n",
    "print(f\"Footprint at 200m = {footprint_at_200m}\")\n",
    "\n",
    "assert np.allclose(footprint_at_200m, expected_footprint_at_200m, atol=1e-2)"
   ]
  },
  {
   "cell_type": "markdown",
   "id": "84486ad6-a4c5-4e5a-ba40-ad125ced7d3d",
   "metadata": {},
   "source": [
    "## Ground Sampling Distance\n",
    "\n",
    "Ground sampling distance is the length of the ground (in m) captured by a single pixel. We have the image footpring (the dimensions of ground captured by the whole sensor, and the number of pixels along the horizontal and vertical dimension. Can we get GSD from these two quantities?"
   ]
  },
  {
   "cell_type": "code",
   "execution_count": 59,
   "id": "f21aa3d1-08be-4bce-8554-ec834ad000bf",
   "metadata": {},
   "outputs": [
    {
     "name": "stdout",
     "output_type": "stream",
     "text": [
      "GSD at 100m: 0.020248817279934883\n"
     ]
    }
   ],
   "source": [
    "gsd_at_100m = compute_ground_sampling_distance(camera_x10, 100)\n",
    "expected_gsd_at_100m = 0.0202\n",
    "\n",
    "print(f\"GSD at 100m: {gsd_at_100m}\")\n",
    "\n",
    "assert np.allclose(gsd_at_100m, expected_gsd_at_100m, atol=1e-4)"
   ]
  },
  {
   "cell_type": "markdown",
   "id": "47477599-e78b-46d4-9cac-725bcbb5e6eb",
   "metadata": {},
   "source": [
    "## Bonus: Reprojection from 2D to 3D\n",
    "\n",
    "If we have a 2d pixel location of a point along with the camera model, can we go back to 3D?\n",
    "Do we need any additional information.\n",
    "\n",
    "\n",
    "$\\color{red}{\\text{TODO: }}$ Implement function `reproject_image_point_to_world` in `src/camera_utils.py` and demonstrate it by running it in the notebook. Confirm that your reprojection + projection function are consistent."
   ]
  },
  {
   "cell_type": "code",
   "execution_count": 9,
   "id": "a5e99e17",
   "metadata": {},
   "outputs": [
    {
     "name": "stdout",
     "output_type": "stream",
     "text": [
      "Projected 2D point: [6564.7803   109.60571]\n",
      "Reprojected 3D point: [ 25.000004 -30.000002  50.      ]\n",
      "Reprojection is consistent: True\n"
     ]
    }
   ],
   "source": [
    "point_3d = np.array([25, -30, 50], dtype=np.float32)\n",
    "projected_point_2d = project_world_point_to_image(camera_x10, point_3d)\n",
    "print(\"Projected 2D point:\", projected_point_2d)\n",
    "\n",
    "# Reproject the 2D point back to 3D\n",
    "reprojected_point_3d = reproject_image_point_to_world(camera_x10,projected_point_2d, 50.0)\n",
    "print(\"Reprojected 3D point:\", reprojected_point_3d)\n",
    "\n",
    "# Check consistency\n",
    "is_consistent = np.allclose(point_3d, reprojected_point_3d, atol=1e-5)\n",
    "print(\"Reprojection is consistent:\", is_consistent)\n"
   ]
  },
  {
   "cell_type": "markdown",
   "id": "59349449-f7ed-4e2f-aa80-17a2fabf51f1",
   "metadata": {},
   "source": [
    "# Week 3: Model the user requirements\n",
    "\n",
    "For this week, we will model the dataset specifications.\n",
    "\n",
    "- Overlap: the ratio (in 0 to 1) of scene shared between two consecutive images.\n",
    "- Sidelap: the ratio (in 0 to 1) of scene shared between two images in adjacent rows.\n",
    "- Height: the height of the scan above the ground (in meters).\n",
    "- Scan_dimension_x: the horizontal size of the rectangle to be scanned\n",
    "- Scan_dimension_y: the vertical size of the rectangle to be scanned\n",
    "- exposure_time_ms: the exposure time for each image (in milliseconds).\n",
    "\n",
    "\n",
    "$\\color{red}{\\text{TODO: }}$ Implement `DatasetSpec` in `src/data_model.py`\n"
   ]
  },
  {
   "cell_type": "code",
   "execution_count": 60,
   "id": "38206e65-458d-4d0d-b3fc-7e45039c0b64",
   "metadata": {},
   "outputs": [
    {
     "name": "stdout",
     "output_type": "stream",
     "text": [
      "Nominal specs: DatasetSpec(overlap=0.7, sidelap=0.7, height=30.48, scan_dimension_x=150,scan_dimension_y=150,exposure_time_ms=2,camera_angle=0 \n"
     ]
    }
   ],
   "source": [
    "# Model the nomimal dataset spec\n",
    "\n",
    "overlap = 0.7\n",
    "sidelap = 0.7\n",
    "height = 30.48 # 100 ft\n",
    "scan_dimension_x = 150\n",
    "scan_dimension_y = 150\n",
    "exposure_time_ms = 2 # 1/500 exposure time\n",
    "camera_angle=0 #adding as given in week 4 bonus question\n",
    "\n",
    "dataset_spec = DatasetSpec(overlap, sidelap, height, scan_dimension_x, scan_dimension_y, exposure_time_ms,camera_angle)\n",
    "\n",
    "print(f\"Nominal specs: {dataset_spec}\")"
   ]
  },
  {
   "cell_type": "markdown",
   "id": "135a5201-bcbc-4e57-9201-31d3dbb50005",
   "metadata": {},
   "source": [
    "# Week 4: Compute Distance Between Photos\n",
    "\n",
    "The overlap and sidelap are the ratio of the dimensions shared between two photos. We already know the footprint of a single image at a given distance. Can we convert the ratio into actual distances? And how does the distance on the surface relate to distance travelled by the camera?\n",
    "\n",
    "$\\color{red}{\\text{TODO: }}$ Implement `compute_distance_between_images` in `src/plan_computation.py`\n",
    "\n"
   ]
  },
  {
   "cell_type": "code",
   "execution_count": 11,
   "id": "70b32a91-2577-46ec-bb07-9a0a5fd01243",
   "metadata": {},
   "outputs": [
    {
     "name": "stdout",
     "output_type": "stream",
     "text": [
      "Computed distance for X10 camera with nominal dataset specs: (np.float32(15.167914), np.float32(11.380706))\n"
     ]
    }
   ],
   "source": [
    "computed_distances = compute_distance_between_images(camera_x10, dataset_spec)\n",
    "expected_distances = np.array([15.17, 11.38], dtype=np.float32)\n",
    "\n",
    "print(f\"Computed distance for X10 camera with nominal dataset specs: {computed_distances}\")\n",
    "\n",
    "assert np.allclose(computed_distances, expected_distances, atol=1e-2)"
   ]
  },
  {
   "cell_type": "markdown",
   "id": "5474e7ac-28bb-4ab3-ad8d-cb5398d5696b",
   "metadata": {},
   "source": [
    "$\\color{red}{\\text{TODO: }}$ define more specifications/camera parameters and check the computed distances. Does that align with your expections\n"
   ]
  },
  {
   "cell_type": "code",
   "execution_count": 61,
   "id": "f7f9334a-6ee1-4aa4-8770-d0f48b36f18b",
   "metadata": {},
   "outputs": [
    {
     "name": "stdout",
     "output_type": "stream",
     "text": [
      "Computed distance: (np.float32(15.167914), np.float32(11.380706))\n"
     ]
    }
   ],
   "source": [
    "camera_ = copy.copy(camera_x10)\n",
    "dataset_spec_ = copy.copy(dataset_spec)\n",
    "\n",
    "computed_distances_ = compute_distance_between_images(camera_, dataset_spec_)\n",
    "print(f\"Computed distance: {computed_distances_}\")"
   ]
  },
  {
   "cell_type": "markdown",
   "id": "cea6d39a-89af-42bc-bb63-2d22380dec1f",
   "metadata": {},
   "source": [
    "## Bonus: Non-Nadir photos\n",
    "\n",
    "We have solved for the distance assuming that the camera is facing straight down to the ground. This is called [Nadir scanning](https://support.esri.com/en-us/gis-dictionary/nadir). However, in practise we might want a custom gimbal angle.\n",
    "\n",
    "Your bonus task is to make the distance computation general. Introduce the `camera_angle` parameter in the dataset specification, and work out how to adapt your computation. Feel free to reach out to Ayush to discuss ideas and assumptions!"
   ]
  },
  {
   "cell_type": "markdown",
   "id": "1065c966",
   "metadata": {},
   "source": [
    "$\\color{red}{\\text{Added: }}$ compute_distance_between_images_with_angle in src/plan_computation.py and compute_image_footprint_on_surface_with_angle in src/camera_utils.py\n",
    "\n",
    "And updated dataset_spec model by adding camera_angle\n"
   ]
  },
  {
   "cell_type": "code",
   "execution_count": 63,
   "id": "fde6b0c5",
   "metadata": {},
   "outputs": [
    {
     "name": "stdout",
     "output_type": "stream",
     "text": [
      "Computed distance: (24.26829035184345, 18.20838693079496)\n"
     ]
    }
   ],
   "source": [
    "camera_ = copy.copy(camera_x10)\n",
    "dataset_spec_ = copy.copy(dataset_spec)\n",
    "\n",
    "computed_distances_ = compute_distance_between_images_with_angle(camera_, dataset_spec_)\n",
    "print(f\"Computed distance: {computed_distances_}\")"
   ]
  },
  {
   "cell_type": "markdown",
   "id": "8dfc13a5-d13d-4930-a47b-2851e5458ceb",
   "metadata": {},
   "source": [
    "# Week 5: Compute Maximum Speed For Blur Free Photos\n",
    "\n",
    "To restrict motion blur due to camera movement to tolerable limits, we need to restrict the speed such that the image contents move less than 1px away. \n",
    "\n",
    "How much does 1px of movement translate to movement of the scene on the ground? It is the ground sampling distance!\n",
    "From previous week, we know that this is the maximum movement the camera can have. \n",
    "We have the distance now. To get speed we need to divide it with time. Do we have time already in our data models?\n",
    "\n",
    "$\\color{red}{\\text{TODO: }}$ Implement `compute_speed_during_photo_capture` in `src/plan_computation.py`."
   ]
  },
  {
   "cell_type": "code",
   "execution_count": 64,
   "id": "1292957c-d66f-4ac9-bb6f-1dc783d1a5aa",
   "metadata": {},
   "outputs": [
    {
     "name": "stdout",
     "output_type": "stream",
     "text": [
      "Computed speed during photo captures: 3.09\n"
     ]
    }
   ],
   "source": [
    "computed_speed = compute_speed_during_photo_capture(camera_x10, dataset_spec, allowed_movement_px=1)\n",
    "expected_speed = 3.09\n",
    "\n",
    "print(f\"Computed speed during photo captures: {computed_speed:.2f}\")\n",
    "\n",
    "assert np.allclose(computed_speed, expected_speed, atol=1e-2)"
   ]
  },
  {
   "cell_type": "markdown",
   "id": "b7fe63d9-c416-4bbf-b0ce-8c678de681de",
   "metadata": {},
   "source": [
    "$\\color{red}{\\text{TODO: }}$ define more specifications/camera parameters and check the computed distances. Does that align with your expections\n"
   ]
  },
  {
   "cell_type": "code",
   "execution_count": 65,
   "id": "85212946-83d0-475c-9740-e04d10a1ec32",
   "metadata": {},
   "outputs": [
    {
     "name": "stdout",
     "output_type": "stream",
     "text": [
      "Computed distance: 3.09\n"
     ]
    }
   ],
   "source": [
    "camera_ = copy.copy(camera_x10)\n",
    "dataset_spec_ = copy.copy(dataset_spec)\n",
    "\n",
    "computed_speed_ = compute_speed_during_photo_capture(camera_, dataset_spec_)\n",
    "print(f\"Computed distance: {computed_speed_:.2f}\")"
   ]
  },
  {
   "cell_type": "markdown",
   "id": "26d7075d-f520-43bd-8b8b-b36e9c6a6bc2",
   "metadata": {},
   "source": [
    "# Week 6: Generate Full Flight Plans  \n",
    "\n",
    "We now have all the tools to generate the full flight plan.\n",
    "\n",
    "Steps for this week:\n",
    "1. Define the `Waypoint` data model. What attributes should the data model have?\n",
    "   1. For Nadir scans, just the position of the camera is enough as we will always look drown to the ground.\n",
    "   2. For general case (bonus), we also need to define where the drone will look at@\n",
    "3. Implement the function `generate_photo_plan_on_grid` to generate the full plan.\n",
    "   1. Compute the maximum distance between two images, horizontally and vertically.\n",
    "   2. Layer the images such that we cover the whole scan area. Note that you need to take care when the scan dimension is not a multiple of distance between images. Example: to cover 45m length with 10m between images, we would need 4.5 images. Not possible. 4 images would not satisfy the overlap, so we should go with 5. How should we arrange 5 images in the given 45m.\n",
    "   3. Assign the speed to each waypoint.\n",
    "\n",
    "$\\color{red}{\\text{TODO: }}$ Implement:\n",
    "- `Waypoint` in `src/data_model.py`\n",
    "- `generate_photo_plan_on_grid` in `src/plan_computation.py`."
   ]
  },
  {
   "cell_type": "code",
   "execution_count": 66,
   "id": "7f1e5c3e-9974-4f50-9413-1b9c5b523051",
   "metadata": {},
   "outputs": [
    {
     "name": "stdout",
     "output_type": "stream",
     "text": [
      "Computed plan with 140 waypoints\n"
     ]
    }
   ],
   "source": [
    "computed_plan = generate_photo_plan_on_grid(camera_x10, dataset_spec) \n",
    "\n",
    "print(f\"Computed plan with {len(computed_plan)} waypoints\")"
   ]
  },
  {
   "cell_type": "code",
   "execution_count": 67,
   "id": "71f3bf15-c584-44da-a789-c821acb3f9a6",
   "metadata": {},
   "outputs": [
    {
     "name": "stdout",
     "output_type": "stream",
     "text": [
      "Idx 0: Waypoint(x=np.float32(0.0), y=np.float32(0.0), z=30.48, camera_angle=0, look_at=(np.float32(0.0), np.float32(0.0), 0), speed=np.float32(3.0859199), timestamp=None)\n",
      "Idx 1: Waypoint(x=np.float32(15.167914), y=np.float32(0.0), z=30.48, camera_angle=0, look_at=(np.float32(15.167914), np.float32(0.0), 0), speed=np.float32(3.0859199), timestamp=None)\n",
      "Idx 2: Waypoint(x=np.float32(30.335829), y=np.float32(0.0), z=30.48, camera_angle=0, look_at=(np.float32(30.335829), np.float32(0.0), 0), speed=np.float32(3.0859199), timestamp=None)\n",
      "Idx 3: Waypoint(x=np.float32(45.503742), y=np.float32(0.0), z=30.48, camera_angle=0, look_at=(np.float32(45.503742), np.float32(0.0), 0), speed=np.float32(3.0859199), timestamp=None)\n",
      "Idx 4: Waypoint(x=np.float32(60.671658), y=np.float32(0.0), z=30.48, camera_angle=0, look_at=(np.float32(60.671658), np.float32(0.0), 0), speed=np.float32(3.0859199), timestamp=None)\n",
      "Idx 5: Waypoint(x=np.float32(75.83957), y=np.float32(0.0), z=30.48, camera_angle=0, look_at=(np.float32(75.83957), np.float32(0.0), 0), speed=np.float32(3.0859199), timestamp=None)\n",
      "Idx 6: Waypoint(x=np.float32(91.007484), y=np.float32(0.0), z=30.48, camera_angle=0, look_at=(np.float32(91.007484), np.float32(0.0), 0), speed=np.float32(3.0859199), timestamp=None)\n",
      "Idx 7: Waypoint(x=np.float32(106.1754), y=np.float32(0.0), z=30.48, camera_angle=0, look_at=(np.float32(106.1754), np.float32(0.0), 0), speed=np.float32(3.0859199), timestamp=None)\n",
      "Idx 8: Waypoint(x=np.float32(121.343315), y=np.float32(0.0), z=30.48, camera_angle=0, look_at=(np.float32(121.343315), np.float32(0.0), 0), speed=np.float32(3.0859199), timestamp=None)\n",
      "Idx 9: Waypoint(x=np.float32(136.51123), y=np.float32(0.0), z=30.48, camera_angle=0, look_at=(np.float32(136.51123), np.float32(0.0), 0), speed=np.float32(3.0859199), timestamp=None)\n",
      "Idx 10: Waypoint(x=np.float32(136.51123), y=np.float32(11.380706), z=30.48, camera_angle=0, look_at=(np.float32(136.51123), np.float32(11.380706), 0), speed=np.float32(3.0859199), timestamp=None)\n",
      "Idx 11: Waypoint(x=np.float32(121.343315), y=np.float32(11.380706), z=30.48, camera_angle=0, look_at=(np.float32(121.343315), np.float32(11.380706), 0), speed=np.float32(3.0859199), timestamp=None)\n",
      "Idx 12: Waypoint(x=np.float32(106.1754), y=np.float32(11.380706), z=30.48, camera_angle=0, look_at=(np.float32(106.1754), np.float32(11.380706), 0), speed=np.float32(3.0859199), timestamp=None)\n",
      "Idx 13: Waypoint(x=np.float32(91.007484), y=np.float32(11.380706), z=30.48, camera_angle=0, look_at=(np.float32(91.007484), np.float32(11.380706), 0), speed=np.float32(3.0859199), timestamp=None)\n",
      "Idx 14: Waypoint(x=np.float32(75.83957), y=np.float32(11.380706), z=30.48, camera_angle=0, look_at=(np.float32(75.83957), np.float32(11.380706), 0), speed=np.float32(3.0859199), timestamp=None)\n",
      "Idx 15: Waypoint(x=np.float32(60.671658), y=np.float32(11.380706), z=30.48, camera_angle=0, look_at=(np.float32(60.671658), np.float32(11.380706), 0), speed=np.float32(3.0859199), timestamp=None)\n",
      "Idx 16: Waypoint(x=np.float32(45.503742), y=np.float32(11.380706), z=30.48, camera_angle=0, look_at=(np.float32(45.503742), np.float32(11.380706), 0), speed=np.float32(3.0859199), timestamp=None)\n",
      "Idx 17: Waypoint(x=np.float32(30.335829), y=np.float32(11.380706), z=30.48, camera_angle=0, look_at=(np.float32(30.335829), np.float32(11.380706), 0), speed=np.float32(3.0859199), timestamp=None)\n",
      "Idx 18: Waypoint(x=np.float32(15.167914), y=np.float32(11.380706), z=30.48, camera_angle=0, look_at=(np.float32(15.167914), np.float32(11.380706), 0), speed=np.float32(3.0859199), timestamp=None)\n",
      "Idx 19: Waypoint(x=np.float32(0.0), y=np.float32(11.380706), z=30.48, camera_angle=0, look_at=(np.float32(0.0), np.float32(11.380706), 0), speed=np.float32(3.0859199), timestamp=None)\n",
      "Idx 20: Waypoint(x=np.float32(0.0), y=np.float32(22.761412), z=30.48, camera_angle=0, look_at=(np.float32(0.0), np.float32(22.761412), 0), speed=np.float32(3.0859199), timestamp=None)\n",
      "Idx 21: Waypoint(x=np.float32(15.167914), y=np.float32(22.761412), z=30.48, camera_angle=0, look_at=(np.float32(15.167914), np.float32(22.761412), 0), speed=np.float32(3.0859199), timestamp=None)\n",
      "Idx 22: Waypoint(x=np.float32(30.335829), y=np.float32(22.761412), z=30.48, camera_angle=0, look_at=(np.float32(30.335829), np.float32(22.761412), 0), speed=np.float32(3.0859199), timestamp=None)\n",
      "Idx 23: Waypoint(x=np.float32(45.503742), y=np.float32(22.761412), z=30.48, camera_angle=0, look_at=(np.float32(45.503742), np.float32(22.761412), 0), speed=np.float32(3.0859199), timestamp=None)\n",
      "Idx 24: Waypoint(x=np.float32(60.671658), y=np.float32(22.761412), z=30.48, camera_angle=0, look_at=(np.float32(60.671658), np.float32(22.761412), 0), speed=np.float32(3.0859199), timestamp=None)\n",
      "Idx 25: Waypoint(x=np.float32(75.83957), y=np.float32(22.761412), z=30.48, camera_angle=0, look_at=(np.float32(75.83957), np.float32(22.761412), 0), speed=np.float32(3.0859199), timestamp=None)\n",
      "Idx 26: Waypoint(x=np.float32(91.007484), y=np.float32(22.761412), z=30.48, camera_angle=0, look_at=(np.float32(91.007484), np.float32(22.761412), 0), speed=np.float32(3.0859199), timestamp=None)\n",
      "Idx 27: Waypoint(x=np.float32(106.1754), y=np.float32(22.761412), z=30.48, camera_angle=0, look_at=(np.float32(106.1754), np.float32(22.761412), 0), speed=np.float32(3.0859199), timestamp=None)\n",
      "Idx 28: Waypoint(x=np.float32(121.343315), y=np.float32(22.761412), z=30.48, camera_angle=0, look_at=(np.float32(121.343315), np.float32(22.761412), 0), speed=np.float32(3.0859199), timestamp=None)\n",
      "Idx 29: Waypoint(x=np.float32(136.51123), y=np.float32(22.761412), z=30.48, camera_angle=0, look_at=(np.float32(136.51123), np.float32(22.761412), 0), speed=np.float32(3.0859199), timestamp=None)\n",
      "Idx 30: Waypoint(x=np.float32(136.51123), y=np.float32(34.142117), z=30.48, camera_angle=0, look_at=(np.float32(136.51123), np.float32(34.142117), 0), speed=np.float32(3.0859199), timestamp=None)\n",
      "Idx 31: Waypoint(x=np.float32(121.343315), y=np.float32(34.142117), z=30.48, camera_angle=0, look_at=(np.float32(121.343315), np.float32(34.142117), 0), speed=np.float32(3.0859199), timestamp=None)\n",
      "Idx 32: Waypoint(x=np.float32(106.1754), y=np.float32(34.142117), z=30.48, camera_angle=0, look_at=(np.float32(106.1754), np.float32(34.142117), 0), speed=np.float32(3.0859199), timestamp=None)\n",
      "Idx 33: Waypoint(x=np.float32(91.007484), y=np.float32(34.142117), z=30.48, camera_angle=0, look_at=(np.float32(91.007484), np.float32(34.142117), 0), speed=np.float32(3.0859199), timestamp=None)\n",
      "Idx 34: Waypoint(x=np.float32(75.83957), y=np.float32(34.142117), z=30.48, camera_angle=0, look_at=(np.float32(75.83957), np.float32(34.142117), 0), speed=np.float32(3.0859199), timestamp=None)\n",
      "Idx 35: Waypoint(x=np.float32(60.671658), y=np.float32(34.142117), z=30.48, camera_angle=0, look_at=(np.float32(60.671658), np.float32(34.142117), 0), speed=np.float32(3.0859199), timestamp=None)\n",
      "Idx 36: Waypoint(x=np.float32(45.503742), y=np.float32(34.142117), z=30.48, camera_angle=0, look_at=(np.float32(45.503742), np.float32(34.142117), 0), speed=np.float32(3.0859199), timestamp=None)\n",
      "Idx 37: Waypoint(x=np.float32(30.335829), y=np.float32(34.142117), z=30.48, camera_angle=0, look_at=(np.float32(30.335829), np.float32(34.142117), 0), speed=np.float32(3.0859199), timestamp=None)\n",
      "Idx 38: Waypoint(x=np.float32(15.167914), y=np.float32(34.142117), z=30.48, camera_angle=0, look_at=(np.float32(15.167914), np.float32(34.142117), 0), speed=np.float32(3.0859199), timestamp=None)\n",
      "Idx 39: Waypoint(x=np.float32(0.0), y=np.float32(34.142117), z=30.48, camera_angle=0, look_at=(np.float32(0.0), np.float32(34.142117), 0), speed=np.float32(3.0859199), timestamp=None)\n",
      "Idx 40: Waypoint(x=np.float32(0.0), y=np.float32(45.522823), z=30.48, camera_angle=0, look_at=(np.float32(0.0), np.float32(45.522823), 0), speed=np.float32(3.0859199), timestamp=None)\n",
      "Idx 41: Waypoint(x=np.float32(15.167914), y=np.float32(45.522823), z=30.48, camera_angle=0, look_at=(np.float32(15.167914), np.float32(45.522823), 0), speed=np.float32(3.0859199), timestamp=None)\n",
      "Idx 42: Waypoint(x=np.float32(30.335829), y=np.float32(45.522823), z=30.48, camera_angle=0, look_at=(np.float32(30.335829), np.float32(45.522823), 0), speed=np.float32(3.0859199), timestamp=None)\n",
      "Idx 43: Waypoint(x=np.float32(45.503742), y=np.float32(45.522823), z=30.48, camera_angle=0, look_at=(np.float32(45.503742), np.float32(45.522823), 0), speed=np.float32(3.0859199), timestamp=None)\n",
      "Idx 44: Waypoint(x=np.float32(60.671658), y=np.float32(45.522823), z=30.48, camera_angle=0, look_at=(np.float32(60.671658), np.float32(45.522823), 0), speed=np.float32(3.0859199), timestamp=None)\n",
      "Idx 45: Waypoint(x=np.float32(75.83957), y=np.float32(45.522823), z=30.48, camera_angle=0, look_at=(np.float32(75.83957), np.float32(45.522823), 0), speed=np.float32(3.0859199), timestamp=None)\n",
      "Idx 46: Waypoint(x=np.float32(91.007484), y=np.float32(45.522823), z=30.48, camera_angle=0, look_at=(np.float32(91.007484), np.float32(45.522823), 0), speed=np.float32(3.0859199), timestamp=None)\n",
      "Idx 47: Waypoint(x=np.float32(106.1754), y=np.float32(45.522823), z=30.48, camera_angle=0, look_at=(np.float32(106.1754), np.float32(45.522823), 0), speed=np.float32(3.0859199), timestamp=None)\n",
      "Idx 48: Waypoint(x=np.float32(121.343315), y=np.float32(45.522823), z=30.48, camera_angle=0, look_at=(np.float32(121.343315), np.float32(45.522823), 0), speed=np.float32(3.0859199), timestamp=None)\n",
      "Idx 49: Waypoint(x=np.float32(136.51123), y=np.float32(45.522823), z=30.48, camera_angle=0, look_at=(np.float32(136.51123), np.float32(45.522823), 0), speed=np.float32(3.0859199), timestamp=None)\n",
      "Idx 50: Waypoint(x=np.float32(136.51123), y=np.float32(56.90353), z=30.48, camera_angle=0, look_at=(np.float32(136.51123), np.float32(56.90353), 0), speed=np.float32(3.0859199), timestamp=None)\n",
      "Idx 51: Waypoint(x=np.float32(121.343315), y=np.float32(56.90353), z=30.48, camera_angle=0, look_at=(np.float32(121.343315), np.float32(56.90353), 0), speed=np.float32(3.0859199), timestamp=None)\n",
      "Idx 52: Waypoint(x=np.float32(106.1754), y=np.float32(56.90353), z=30.48, camera_angle=0, look_at=(np.float32(106.1754), np.float32(56.90353), 0), speed=np.float32(3.0859199), timestamp=None)\n",
      "Idx 53: Waypoint(x=np.float32(91.007484), y=np.float32(56.90353), z=30.48, camera_angle=0, look_at=(np.float32(91.007484), np.float32(56.90353), 0), speed=np.float32(3.0859199), timestamp=None)\n",
      "Idx 54: Waypoint(x=np.float32(75.83957), y=np.float32(56.90353), z=30.48, camera_angle=0, look_at=(np.float32(75.83957), np.float32(56.90353), 0), speed=np.float32(3.0859199), timestamp=None)\n",
      "Idx 55: Waypoint(x=np.float32(60.671658), y=np.float32(56.90353), z=30.48, camera_angle=0, look_at=(np.float32(60.671658), np.float32(56.90353), 0), speed=np.float32(3.0859199), timestamp=None)\n",
      "Idx 56: Waypoint(x=np.float32(45.503742), y=np.float32(56.90353), z=30.48, camera_angle=0, look_at=(np.float32(45.503742), np.float32(56.90353), 0), speed=np.float32(3.0859199), timestamp=None)\n",
      "Idx 57: Waypoint(x=np.float32(30.335829), y=np.float32(56.90353), z=30.48, camera_angle=0, look_at=(np.float32(30.335829), np.float32(56.90353), 0), speed=np.float32(3.0859199), timestamp=None)\n",
      "Idx 58: Waypoint(x=np.float32(15.167914), y=np.float32(56.90353), z=30.48, camera_angle=0, look_at=(np.float32(15.167914), np.float32(56.90353), 0), speed=np.float32(3.0859199), timestamp=None)\n",
      "Idx 59: Waypoint(x=np.float32(0.0), y=np.float32(56.90353), z=30.48, camera_angle=0, look_at=(np.float32(0.0), np.float32(56.90353), 0), speed=np.float32(3.0859199), timestamp=None)\n",
      "Idx 60: Waypoint(x=np.float32(0.0), y=np.float32(68.28423), z=30.48, camera_angle=0, look_at=(np.float32(0.0), np.float32(68.28423), 0), speed=np.float32(3.0859199), timestamp=None)\n",
      "Idx 61: Waypoint(x=np.float32(15.167914), y=np.float32(68.28423), z=30.48, camera_angle=0, look_at=(np.float32(15.167914), np.float32(68.28423), 0), speed=np.float32(3.0859199), timestamp=None)\n",
      "Idx 62: Waypoint(x=np.float32(30.335829), y=np.float32(68.28423), z=30.48, camera_angle=0, look_at=(np.float32(30.335829), np.float32(68.28423), 0), speed=np.float32(3.0859199), timestamp=None)\n",
      "Idx 63: Waypoint(x=np.float32(45.503742), y=np.float32(68.28423), z=30.48, camera_angle=0, look_at=(np.float32(45.503742), np.float32(68.28423), 0), speed=np.float32(3.0859199), timestamp=None)\n",
      "Idx 64: Waypoint(x=np.float32(60.671658), y=np.float32(68.28423), z=30.48, camera_angle=0, look_at=(np.float32(60.671658), np.float32(68.28423), 0), speed=np.float32(3.0859199), timestamp=None)\n",
      "Idx 65: Waypoint(x=np.float32(75.83957), y=np.float32(68.28423), z=30.48, camera_angle=0, look_at=(np.float32(75.83957), np.float32(68.28423), 0), speed=np.float32(3.0859199), timestamp=None)\n",
      "Idx 66: Waypoint(x=np.float32(91.007484), y=np.float32(68.28423), z=30.48, camera_angle=0, look_at=(np.float32(91.007484), np.float32(68.28423), 0), speed=np.float32(3.0859199), timestamp=None)\n",
      "Idx 67: Waypoint(x=np.float32(106.1754), y=np.float32(68.28423), z=30.48, camera_angle=0, look_at=(np.float32(106.1754), np.float32(68.28423), 0), speed=np.float32(3.0859199), timestamp=None)\n",
      "Idx 68: Waypoint(x=np.float32(121.343315), y=np.float32(68.28423), z=30.48, camera_angle=0, look_at=(np.float32(121.343315), np.float32(68.28423), 0), speed=np.float32(3.0859199), timestamp=None)\n",
      "Idx 69: Waypoint(x=np.float32(136.51123), y=np.float32(68.28423), z=30.48, camera_angle=0, look_at=(np.float32(136.51123), np.float32(68.28423), 0), speed=np.float32(3.0859199), timestamp=None)\n",
      "Idx 70: Waypoint(x=np.float32(136.51123), y=np.float32(79.66494), z=30.48, camera_angle=0, look_at=(np.float32(136.51123), np.float32(79.66494), 0), speed=np.float32(3.0859199), timestamp=None)\n",
      "Idx 71: Waypoint(x=np.float32(121.343315), y=np.float32(79.66494), z=30.48, camera_angle=0, look_at=(np.float32(121.343315), np.float32(79.66494), 0), speed=np.float32(3.0859199), timestamp=None)\n",
      "Idx 72: Waypoint(x=np.float32(106.1754), y=np.float32(79.66494), z=30.48, camera_angle=0, look_at=(np.float32(106.1754), np.float32(79.66494), 0), speed=np.float32(3.0859199), timestamp=None)\n",
      "Idx 73: Waypoint(x=np.float32(91.007484), y=np.float32(79.66494), z=30.48, camera_angle=0, look_at=(np.float32(91.007484), np.float32(79.66494), 0), speed=np.float32(3.0859199), timestamp=None)\n",
      "Idx 74: Waypoint(x=np.float32(75.83957), y=np.float32(79.66494), z=30.48, camera_angle=0, look_at=(np.float32(75.83957), np.float32(79.66494), 0), speed=np.float32(3.0859199), timestamp=None)\n",
      "Idx 75: Waypoint(x=np.float32(60.671658), y=np.float32(79.66494), z=30.48, camera_angle=0, look_at=(np.float32(60.671658), np.float32(79.66494), 0), speed=np.float32(3.0859199), timestamp=None)\n",
      "Idx 76: Waypoint(x=np.float32(45.503742), y=np.float32(79.66494), z=30.48, camera_angle=0, look_at=(np.float32(45.503742), np.float32(79.66494), 0), speed=np.float32(3.0859199), timestamp=None)\n",
      "Idx 77: Waypoint(x=np.float32(30.335829), y=np.float32(79.66494), z=30.48, camera_angle=0, look_at=(np.float32(30.335829), np.float32(79.66494), 0), speed=np.float32(3.0859199), timestamp=None)\n",
      "Idx 78: Waypoint(x=np.float32(15.167914), y=np.float32(79.66494), z=30.48, camera_angle=0, look_at=(np.float32(15.167914), np.float32(79.66494), 0), speed=np.float32(3.0859199), timestamp=None)\n",
      "Idx 79: Waypoint(x=np.float32(0.0), y=np.float32(79.66494), z=30.48, camera_angle=0, look_at=(np.float32(0.0), np.float32(79.66494), 0), speed=np.float32(3.0859199), timestamp=None)\n",
      "Idx 80: Waypoint(x=np.float32(0.0), y=np.float32(91.04565), z=30.48, camera_angle=0, look_at=(np.float32(0.0), np.float32(91.04565), 0), speed=np.float32(3.0859199), timestamp=None)\n",
      "Idx 81: Waypoint(x=np.float32(15.167914), y=np.float32(91.04565), z=30.48, camera_angle=0, look_at=(np.float32(15.167914), np.float32(91.04565), 0), speed=np.float32(3.0859199), timestamp=None)\n",
      "Idx 82: Waypoint(x=np.float32(30.335829), y=np.float32(91.04565), z=30.48, camera_angle=0, look_at=(np.float32(30.335829), np.float32(91.04565), 0), speed=np.float32(3.0859199), timestamp=None)\n",
      "Idx 83: Waypoint(x=np.float32(45.503742), y=np.float32(91.04565), z=30.48, camera_angle=0, look_at=(np.float32(45.503742), np.float32(91.04565), 0), speed=np.float32(3.0859199), timestamp=None)\n",
      "Idx 84: Waypoint(x=np.float32(60.671658), y=np.float32(91.04565), z=30.48, camera_angle=0, look_at=(np.float32(60.671658), np.float32(91.04565), 0), speed=np.float32(3.0859199), timestamp=None)\n",
      "Idx 85: Waypoint(x=np.float32(75.83957), y=np.float32(91.04565), z=30.48, camera_angle=0, look_at=(np.float32(75.83957), np.float32(91.04565), 0), speed=np.float32(3.0859199), timestamp=None)\n",
      "Idx 86: Waypoint(x=np.float32(91.007484), y=np.float32(91.04565), z=30.48, camera_angle=0, look_at=(np.float32(91.007484), np.float32(91.04565), 0), speed=np.float32(3.0859199), timestamp=None)\n",
      "Idx 87: Waypoint(x=np.float32(106.1754), y=np.float32(91.04565), z=30.48, camera_angle=0, look_at=(np.float32(106.1754), np.float32(91.04565), 0), speed=np.float32(3.0859199), timestamp=None)\n",
      "Idx 88: Waypoint(x=np.float32(121.343315), y=np.float32(91.04565), z=30.48, camera_angle=0, look_at=(np.float32(121.343315), np.float32(91.04565), 0), speed=np.float32(3.0859199), timestamp=None)\n",
      "Idx 89: Waypoint(x=np.float32(136.51123), y=np.float32(91.04565), z=30.48, camera_angle=0, look_at=(np.float32(136.51123), np.float32(91.04565), 0), speed=np.float32(3.0859199), timestamp=None)\n",
      "Idx 90: Waypoint(x=np.float32(136.51123), y=np.float32(102.42635), z=30.48, camera_angle=0, look_at=(np.float32(136.51123), np.float32(102.42635), 0), speed=np.float32(3.0859199), timestamp=None)\n",
      "Idx 91: Waypoint(x=np.float32(121.343315), y=np.float32(102.42635), z=30.48, camera_angle=0, look_at=(np.float32(121.343315), np.float32(102.42635), 0), speed=np.float32(3.0859199), timestamp=None)\n",
      "Idx 92: Waypoint(x=np.float32(106.1754), y=np.float32(102.42635), z=30.48, camera_angle=0, look_at=(np.float32(106.1754), np.float32(102.42635), 0), speed=np.float32(3.0859199), timestamp=None)\n",
      "Idx 93: Waypoint(x=np.float32(91.007484), y=np.float32(102.42635), z=30.48, camera_angle=0, look_at=(np.float32(91.007484), np.float32(102.42635), 0), speed=np.float32(3.0859199), timestamp=None)\n",
      "Idx 94: Waypoint(x=np.float32(75.83957), y=np.float32(102.42635), z=30.48, camera_angle=0, look_at=(np.float32(75.83957), np.float32(102.42635), 0), speed=np.float32(3.0859199), timestamp=None)\n",
      "Idx 95: Waypoint(x=np.float32(60.671658), y=np.float32(102.42635), z=30.48, camera_angle=0, look_at=(np.float32(60.671658), np.float32(102.42635), 0), speed=np.float32(3.0859199), timestamp=None)\n",
      "Idx 96: Waypoint(x=np.float32(45.503742), y=np.float32(102.42635), z=30.48, camera_angle=0, look_at=(np.float32(45.503742), np.float32(102.42635), 0), speed=np.float32(3.0859199), timestamp=None)\n",
      "Idx 97: Waypoint(x=np.float32(30.335829), y=np.float32(102.42635), z=30.48, camera_angle=0, look_at=(np.float32(30.335829), np.float32(102.42635), 0), speed=np.float32(3.0859199), timestamp=None)\n",
      "Idx 98: Waypoint(x=np.float32(15.167914), y=np.float32(102.42635), z=30.48, camera_angle=0, look_at=(np.float32(15.167914), np.float32(102.42635), 0), speed=np.float32(3.0859199), timestamp=None)\n",
      "Idx 99: Waypoint(x=np.float32(0.0), y=np.float32(102.42635), z=30.48, camera_angle=0, look_at=(np.float32(0.0), np.float32(102.42635), 0), speed=np.float32(3.0859199), timestamp=None)\n",
      "...\n"
     ]
    }
   ],
   "source": [
    "MAX_NUM_WAYPOINTS_TO_PRINT = 20\n",
    "\n",
    "for idx, waypoint in enumerate(computed_plan[:100]):\n",
    "    print(f\"Idx {idx}: {waypoint}\")\n",
    "if len(computed_plan) >= MAX_NUM_WAYPOINTS_TO_PRINT:\n",
    "    print(\"...\")"
   ]
  },
  {
   "cell_type": "markdown",
   "id": "5544587f-fff7-406a-be65-ad99c7217e51",
   "metadata": {},
   "source": [
    "## Bonus: Time computation \n",
    "\n",
    "if you have some time, you can implement a time computation function. We can make the drone fly as fast as possible between photos, but make sure it can decelerate back to the required speed at the photos. Please use the following data: \n",
    "- Max drone speed: 16m/s.\n",
    "- Max acceleration: 3.5 m/s^2.\n",
    "\n",
    "Hint: you might need to use a trapezoidal speed profile"
   ]
  },
  {
   "cell_type": "code",
   "execution_count": 18,
   "id": "322f6cea",
   "metadata": {},
   "outputs": [
    {
     "name": "stdout",
     "output_type": "stream",
     "text": [
      "Time to travel 100 meters: 10.82 seconds\n"
     ]
    }
   ],
   "source": [
    "import math\n",
    "\n",
    "# Constants\n",
    "MAX_SPEED = 16.0  # m/s\n",
    "MAX_ACCELERATION = 3.5  # m/s^2\n",
    "\n",
    "# Function to compute the time between two waypoints\n",
    "def compute_time_between_waypoints(distance: float) -> float:\n",
    "    # Distance the drone travels during acceleration and deceleration\n",
    "    acceleration_distance = (MAX_SPEED ** 2) / (2 * MAX_ACCELERATION)\n",
    "    \n",
    "    if distance <= 2 * acceleration_distance:\n",
    "        # If the distance is smaller than twice the acceleration distance,\n",
    "        # the drone will not reach the max speed and only accelerate/decelerate.\n",
    "        # Use kinematic equation: t = sqrt(2d/a)\n",
    "        time_to_accelerate = math.sqrt(2 * distance / MAX_ACCELERATION)\n",
    "        return 2 * time_to_accelerate  # Time to accelerate and decelerate\n",
    "\n",
    "    # If the distance is large enough to reach max speed, we have three phases:\n",
    "    # 1. Acceleration\n",
    "    # 2. Constant speed\n",
    "    # 3. Deceleration\n",
    "    # Time to accelerate to max speed\n",
    "    time_to_accelerate = MAX_SPEED / MAX_ACCELERATION\n",
    "\n",
    "    # Distance covered during acceleration\n",
    "    distance_at_max_speed = distance - 2 * acceleration_distance\n",
    "\n",
    "    # Time spent at max speed\n",
    "    time_at_max_speed = distance_at_max_speed / MAX_SPEED\n",
    "\n",
    "    # Time spent decelerating (same as acceleration time)\n",
    "    time_to_decelerate = MAX_SPEED / MAX_ACCELERATION\n",
    "\n",
    "    # Total time\n",
    "    total_time = time_to_accelerate + time_at_max_speed + time_to_decelerate\n",
    "    return total_time\n",
    "\n",
    "# Test function: calculate the time for a distance\n",
    "distance = 100  # Example distance between waypoints in meters\n",
    "time = compute_time_between_waypoints(distance)\n",
    "print(f\"Time to travel {distance} meters: {time:.2f} seconds\")"
   ]
  },
  {
   "cell_type": "markdown",
   "id": "1a326c0e-86ff-443d-98ee-7a4fae0bfe81",
   "metadata": {},
   "source": [
    "# Week 7: Visualize Flight Plans\n",
    "\n",
    "This week, we will use a third party plotting framework called [Plotly](https://plotly.com/python/) to visualize our plans. Please follow this [tutorial](https://www.kaggle.com/code/kanncaa1/plotly-tutorial-for-beginners) to gain some basic experience with Plotly, and then come up with your own visualization function. You are free to choose to come up with your own visualization, and use something other than Plotly.\n",
    "\n",
    "$\\color{red}{\\text{TODO: }}$ Implement `plot_photo_plan` in `src/visualization.py`"
   ]
  },
  {
   "cell_type": "code",
   "execution_count": 70,
   "id": "3996504a-28fc-48f1-8094-94d9a6bd58f9",
   "metadata": {},
   "outputs": [
    {
     "data": {
      "application/vnd.plotly.v1+json": {
       "config": {
        "plotlyServerURL": "https://plot.ly"
       },
       "data": [
        {
         "mode": "lines+markers",
         "type": "scatter",
         "x": [
          0,
          15.167914390563965,
          30.33582878112793,
          45.50374221801758,
          60.67165756225586,
          75.83956909179688,
          91.00748443603516,
          106.17539978027344,
          121.34331512451172,
          136.51123046875,
          136.51123046875,
          121.34331512451172,
          106.17539978027344,
          91.00748443603516,
          75.83956909179688,
          60.67165756225586,
          45.50374221801758,
          30.33582878112793,
          15.167914390563965,
          0,
          0,
          15.167914390563965,
          30.33582878112793,
          45.50374221801758,
          60.67165756225586,
          75.83956909179688,
          91.00748443603516,
          106.17539978027344,
          121.34331512451172,
          136.51123046875,
          136.51123046875,
          121.34331512451172,
          106.17539978027344,
          91.00748443603516,
          75.83956909179688,
          60.67165756225586,
          45.50374221801758,
          30.33582878112793,
          15.167914390563965,
          0,
          0,
          15.167914390563965,
          30.33582878112793,
          45.50374221801758,
          60.67165756225586,
          75.83956909179688,
          91.00748443603516,
          106.17539978027344,
          121.34331512451172,
          136.51123046875,
          136.51123046875,
          121.34331512451172,
          106.17539978027344,
          91.00748443603516,
          75.83956909179688,
          60.67165756225586,
          45.50374221801758,
          30.33582878112793,
          15.167914390563965,
          0,
          0,
          15.167914390563965,
          30.33582878112793,
          45.50374221801758,
          60.67165756225586,
          75.83956909179688,
          91.00748443603516,
          106.17539978027344,
          121.34331512451172,
          136.51123046875,
          136.51123046875,
          121.34331512451172,
          106.17539978027344,
          91.00748443603516,
          75.83956909179688,
          60.67165756225586,
          45.50374221801758,
          30.33582878112793,
          15.167914390563965,
          0,
          0,
          15.167914390563965,
          30.33582878112793,
          45.50374221801758,
          60.67165756225586,
          75.83956909179688,
          91.00748443603516,
          106.17539978027344,
          121.34331512451172,
          136.51123046875,
          136.51123046875,
          121.34331512451172,
          106.17539978027344,
          91.00748443603516,
          75.83956909179688,
          60.67165756225586,
          45.50374221801758,
          30.33582878112793,
          15.167914390563965,
          0,
          0,
          15.167914390563965,
          30.33582878112793,
          45.50374221801758,
          60.67165756225586,
          75.83956909179688,
          91.00748443603516,
          106.17539978027344,
          121.34331512451172,
          136.51123046875,
          136.51123046875,
          121.34331512451172,
          106.17539978027344,
          91.00748443603516,
          75.83956909179688,
          60.67165756225586,
          45.50374221801758,
          30.33582878112793,
          15.167914390563965,
          0,
          0,
          15.167914390563965,
          30.33582878112793,
          45.50374221801758,
          60.67165756225586,
          75.83956909179688,
          91.00748443603516,
          106.17539978027344,
          121.34331512451172,
          136.51123046875,
          136.51123046875,
          121.34331512451172,
          106.17539978027344,
          91.00748443603516,
          75.83956909179688,
          60.67165756225586,
          45.50374221801758,
          30.33582878112793,
          15.167914390563965,
          0
         ],
         "y": [
          0,
          0,
          0,
          0,
          0,
          0,
          0,
          0,
          0,
          0,
          11.380705833435059,
          11.380705833435059,
          11.380705833435059,
          11.380705833435059,
          11.380705833435059,
          11.380705833435059,
          11.380705833435059,
          11.380705833435059,
          11.380705833435059,
          11.380705833435059,
          22.761411666870117,
          22.761411666870117,
          22.761411666870117,
          22.761411666870117,
          22.761411666870117,
          22.761411666870117,
          22.761411666870117,
          22.761411666870117,
          22.761411666870117,
          22.761411666870117,
          34.14211654663086,
          34.14211654663086,
          34.14211654663086,
          34.14211654663086,
          34.14211654663086,
          34.14211654663086,
          34.14211654663086,
          34.14211654663086,
          34.14211654663086,
          34.14211654663086,
          45.522823333740234,
          45.522823333740234,
          45.522823333740234,
          45.522823333740234,
          45.522823333740234,
          45.522823333740234,
          45.522823333740234,
          45.522823333740234,
          45.522823333740234,
          45.522823333740234,
          56.90353012084961,
          56.90353012084961,
          56.90353012084961,
          56.90353012084961,
          56.90353012084961,
          56.90353012084961,
          56.90353012084961,
          56.90353012084961,
          56.90353012084961,
          56.90353012084961,
          68.28423309326172,
          68.28423309326172,
          68.28423309326172,
          68.28423309326172,
          68.28423309326172,
          68.28423309326172,
          68.28423309326172,
          68.28423309326172,
          68.28423309326172,
          68.28423309326172,
          79.6649398803711,
          79.6649398803711,
          79.6649398803711,
          79.6649398803711,
          79.6649398803711,
          79.6649398803711,
          79.6649398803711,
          79.6649398803711,
          79.6649398803711,
          79.6649398803711,
          91.04564666748047,
          91.04564666748047,
          91.04564666748047,
          91.04564666748047,
          91.04564666748047,
          91.04564666748047,
          91.04564666748047,
          91.04564666748047,
          91.04564666748047,
          91.04564666748047,
          102.42635345458984,
          102.42635345458984,
          102.42635345458984,
          102.42635345458984,
          102.42635345458984,
          102.42635345458984,
          102.42635345458984,
          102.42635345458984,
          102.42635345458984,
          102.42635345458984,
          113.80706024169922,
          113.80706024169922,
          113.80706024169922,
          113.80706024169922,
          113.80706024169922,
          113.80706024169922,
          113.80706024169922,
          113.80706024169922,
          113.80706024169922,
          113.80706024169922,
          125.1877670288086,
          125.1877670288086,
          125.1877670288086,
          125.1877670288086,
          125.1877670288086,
          125.1877670288086,
          125.1877670288086,
          125.1877670288086,
          125.1877670288086,
          125.1877670288086,
          136.56846618652344,
          136.56846618652344,
          136.56846618652344,
          136.56846618652344,
          136.56846618652344,
          136.56846618652344,
          136.56846618652344,
          136.56846618652344,
          136.56846618652344,
          136.56846618652344,
          147.9491729736328,
          147.9491729736328,
          147.9491729736328,
          147.9491729736328,
          147.9491729736328,
          147.9491729736328,
          147.9491729736328,
          147.9491729736328,
          147.9491729736328,
          147.9491729736328
         ]
        }
       ],
       "layout": {
        "template": {
         "data": {
          "bar": [
           {
            "error_x": {
             "color": "#2a3f5f"
            },
            "error_y": {
             "color": "#2a3f5f"
            },
            "marker": {
             "line": {
              "color": "#E5ECF6",
              "width": 0.5
             },
             "pattern": {
              "fillmode": "overlay",
              "size": 10,
              "solidity": 0.2
             }
            },
            "type": "bar"
           }
          ],
          "barpolar": [
           {
            "marker": {
             "line": {
              "color": "#E5ECF6",
              "width": 0.5
             },
             "pattern": {
              "fillmode": "overlay",
              "size": 10,
              "solidity": 0.2
             }
            },
            "type": "barpolar"
           }
          ],
          "carpet": [
           {
            "aaxis": {
             "endlinecolor": "#2a3f5f",
             "gridcolor": "white",
             "linecolor": "white",
             "minorgridcolor": "white",
             "startlinecolor": "#2a3f5f"
            },
            "baxis": {
             "endlinecolor": "#2a3f5f",
             "gridcolor": "white",
             "linecolor": "white",
             "minorgridcolor": "white",
             "startlinecolor": "#2a3f5f"
            },
            "type": "carpet"
           }
          ],
          "choropleth": [
           {
            "colorbar": {
             "outlinewidth": 0,
             "ticks": ""
            },
            "type": "choropleth"
           }
          ],
          "contour": [
           {
            "colorbar": {
             "outlinewidth": 0,
             "ticks": ""
            },
            "colorscale": [
             [
              0,
              "#0d0887"
             ],
             [
              0.1111111111111111,
              "#46039f"
             ],
             [
              0.2222222222222222,
              "#7201a8"
             ],
             [
              0.3333333333333333,
              "#9c179e"
             ],
             [
              0.4444444444444444,
              "#bd3786"
             ],
             [
              0.5555555555555556,
              "#d8576b"
             ],
             [
              0.6666666666666666,
              "#ed7953"
             ],
             [
              0.7777777777777778,
              "#fb9f3a"
             ],
             [
              0.8888888888888888,
              "#fdca26"
             ],
             [
              1,
              "#f0f921"
             ]
            ],
            "type": "contour"
           }
          ],
          "contourcarpet": [
           {
            "colorbar": {
             "outlinewidth": 0,
             "ticks": ""
            },
            "type": "contourcarpet"
           }
          ],
          "heatmap": [
           {
            "colorbar": {
             "outlinewidth": 0,
             "ticks": ""
            },
            "colorscale": [
             [
              0,
              "#0d0887"
             ],
             [
              0.1111111111111111,
              "#46039f"
             ],
             [
              0.2222222222222222,
              "#7201a8"
             ],
             [
              0.3333333333333333,
              "#9c179e"
             ],
             [
              0.4444444444444444,
              "#bd3786"
             ],
             [
              0.5555555555555556,
              "#d8576b"
             ],
             [
              0.6666666666666666,
              "#ed7953"
             ],
             [
              0.7777777777777778,
              "#fb9f3a"
             ],
             [
              0.8888888888888888,
              "#fdca26"
             ],
             [
              1,
              "#f0f921"
             ]
            ],
            "type": "heatmap"
           }
          ],
          "heatmapgl": [
           {
            "colorbar": {
             "outlinewidth": 0,
             "ticks": ""
            },
            "colorscale": [
             [
              0,
              "#0d0887"
             ],
             [
              0.1111111111111111,
              "#46039f"
             ],
             [
              0.2222222222222222,
              "#7201a8"
             ],
             [
              0.3333333333333333,
              "#9c179e"
             ],
             [
              0.4444444444444444,
              "#bd3786"
             ],
             [
              0.5555555555555556,
              "#d8576b"
             ],
             [
              0.6666666666666666,
              "#ed7953"
             ],
             [
              0.7777777777777778,
              "#fb9f3a"
             ],
             [
              0.8888888888888888,
              "#fdca26"
             ],
             [
              1,
              "#f0f921"
             ]
            ],
            "type": "heatmapgl"
           }
          ],
          "histogram": [
           {
            "marker": {
             "pattern": {
              "fillmode": "overlay",
              "size": 10,
              "solidity": 0.2
             }
            },
            "type": "histogram"
           }
          ],
          "histogram2d": [
           {
            "colorbar": {
             "outlinewidth": 0,
             "ticks": ""
            },
            "colorscale": [
             [
              0,
              "#0d0887"
             ],
             [
              0.1111111111111111,
              "#46039f"
             ],
             [
              0.2222222222222222,
              "#7201a8"
             ],
             [
              0.3333333333333333,
              "#9c179e"
             ],
             [
              0.4444444444444444,
              "#bd3786"
             ],
             [
              0.5555555555555556,
              "#d8576b"
             ],
             [
              0.6666666666666666,
              "#ed7953"
             ],
             [
              0.7777777777777778,
              "#fb9f3a"
             ],
             [
              0.8888888888888888,
              "#fdca26"
             ],
             [
              1,
              "#f0f921"
             ]
            ],
            "type": "histogram2d"
           }
          ],
          "histogram2dcontour": [
           {
            "colorbar": {
             "outlinewidth": 0,
             "ticks": ""
            },
            "colorscale": [
             [
              0,
              "#0d0887"
             ],
             [
              0.1111111111111111,
              "#46039f"
             ],
             [
              0.2222222222222222,
              "#7201a8"
             ],
             [
              0.3333333333333333,
              "#9c179e"
             ],
             [
              0.4444444444444444,
              "#bd3786"
             ],
             [
              0.5555555555555556,
              "#d8576b"
             ],
             [
              0.6666666666666666,
              "#ed7953"
             ],
             [
              0.7777777777777778,
              "#fb9f3a"
             ],
             [
              0.8888888888888888,
              "#fdca26"
             ],
             [
              1,
              "#f0f921"
             ]
            ],
            "type": "histogram2dcontour"
           }
          ],
          "mesh3d": [
           {
            "colorbar": {
             "outlinewidth": 0,
             "ticks": ""
            },
            "type": "mesh3d"
           }
          ],
          "parcoords": [
           {
            "line": {
             "colorbar": {
              "outlinewidth": 0,
              "ticks": ""
             }
            },
            "type": "parcoords"
           }
          ],
          "pie": [
           {
            "automargin": true,
            "type": "pie"
           }
          ],
          "scatter": [
           {
            "fillpattern": {
             "fillmode": "overlay",
             "size": 10,
             "solidity": 0.2
            },
            "type": "scatter"
           }
          ],
          "scatter3d": [
           {
            "line": {
             "colorbar": {
              "outlinewidth": 0,
              "ticks": ""
             }
            },
            "marker": {
             "colorbar": {
              "outlinewidth": 0,
              "ticks": ""
             }
            },
            "type": "scatter3d"
           }
          ],
          "scattercarpet": [
           {
            "marker": {
             "colorbar": {
              "outlinewidth": 0,
              "ticks": ""
             }
            },
            "type": "scattercarpet"
           }
          ],
          "scattergeo": [
           {
            "marker": {
             "colorbar": {
              "outlinewidth": 0,
              "ticks": ""
             }
            },
            "type": "scattergeo"
           }
          ],
          "scattergl": [
           {
            "marker": {
             "colorbar": {
              "outlinewidth": 0,
              "ticks": ""
             }
            },
            "type": "scattergl"
           }
          ],
          "scattermapbox": [
           {
            "marker": {
             "colorbar": {
              "outlinewidth": 0,
              "ticks": ""
             }
            },
            "type": "scattermapbox"
           }
          ],
          "scatterpolar": [
           {
            "marker": {
             "colorbar": {
              "outlinewidth": 0,
              "ticks": ""
             }
            },
            "type": "scatterpolar"
           }
          ],
          "scatterpolargl": [
           {
            "marker": {
             "colorbar": {
              "outlinewidth": 0,
              "ticks": ""
             }
            },
            "type": "scatterpolargl"
           }
          ],
          "scatterternary": [
           {
            "marker": {
             "colorbar": {
              "outlinewidth": 0,
              "ticks": ""
             }
            },
            "type": "scatterternary"
           }
          ],
          "surface": [
           {
            "colorbar": {
             "outlinewidth": 0,
             "ticks": ""
            },
            "colorscale": [
             [
              0,
              "#0d0887"
             ],
             [
              0.1111111111111111,
              "#46039f"
             ],
             [
              0.2222222222222222,
              "#7201a8"
             ],
             [
              0.3333333333333333,
              "#9c179e"
             ],
             [
              0.4444444444444444,
              "#bd3786"
             ],
             [
              0.5555555555555556,
              "#d8576b"
             ],
             [
              0.6666666666666666,
              "#ed7953"
             ],
             [
              0.7777777777777778,
              "#fb9f3a"
             ],
             [
              0.8888888888888888,
              "#fdca26"
             ],
             [
              1,
              "#f0f921"
             ]
            ],
            "type": "surface"
           }
          ],
          "table": [
           {
            "cells": {
             "fill": {
              "color": "#EBF0F8"
             },
             "line": {
              "color": "white"
             }
            },
            "header": {
             "fill": {
              "color": "#C8D4E3"
             },
             "line": {
              "color": "white"
             }
            },
            "type": "table"
           }
          ]
         },
         "layout": {
          "annotationdefaults": {
           "arrowcolor": "#2a3f5f",
           "arrowhead": 0,
           "arrowwidth": 1
          },
          "autotypenumbers": "strict",
          "coloraxis": {
           "colorbar": {
            "outlinewidth": 0,
            "ticks": ""
           }
          },
          "colorscale": {
           "diverging": [
            [
             0,
             "#8e0152"
            ],
            [
             0.1,
             "#c51b7d"
            ],
            [
             0.2,
             "#de77ae"
            ],
            [
             0.3,
             "#f1b6da"
            ],
            [
             0.4,
             "#fde0ef"
            ],
            [
             0.5,
             "#f7f7f7"
            ],
            [
             0.6,
             "#e6f5d0"
            ],
            [
             0.7,
             "#b8e186"
            ],
            [
             0.8,
             "#7fbc41"
            ],
            [
             0.9,
             "#4d9221"
            ],
            [
             1,
             "#276419"
            ]
           ],
           "sequential": [
            [
             0,
             "#0d0887"
            ],
            [
             0.1111111111111111,
             "#46039f"
            ],
            [
             0.2222222222222222,
             "#7201a8"
            ],
            [
             0.3333333333333333,
             "#9c179e"
            ],
            [
             0.4444444444444444,
             "#bd3786"
            ],
            [
             0.5555555555555556,
             "#d8576b"
            ],
            [
             0.6666666666666666,
             "#ed7953"
            ],
            [
             0.7777777777777778,
             "#fb9f3a"
            ],
            [
             0.8888888888888888,
             "#fdca26"
            ],
            [
             1,
             "#f0f921"
            ]
           ],
           "sequentialminus": [
            [
             0,
             "#0d0887"
            ],
            [
             0.1111111111111111,
             "#46039f"
            ],
            [
             0.2222222222222222,
             "#7201a8"
            ],
            [
             0.3333333333333333,
             "#9c179e"
            ],
            [
             0.4444444444444444,
             "#bd3786"
            ],
            [
             0.5555555555555556,
             "#d8576b"
            ],
            [
             0.6666666666666666,
             "#ed7953"
            ],
            [
             0.7777777777777778,
             "#fb9f3a"
            ],
            [
             0.8888888888888888,
             "#fdca26"
            ],
            [
             1,
             "#f0f921"
            ]
           ]
          },
          "colorway": [
           "#636efa",
           "#EF553B",
           "#00cc96",
           "#ab63fa",
           "#FFA15A",
           "#19d3f3",
           "#FF6692",
           "#B6E880",
           "#FF97FF",
           "#FECB52"
          ],
          "font": {
           "color": "#2a3f5f"
          },
          "geo": {
           "bgcolor": "white",
           "lakecolor": "white",
           "landcolor": "#E5ECF6",
           "showlakes": true,
           "showland": true,
           "subunitcolor": "white"
          },
          "hoverlabel": {
           "align": "left"
          },
          "hovermode": "closest",
          "mapbox": {
           "style": "light"
          },
          "paper_bgcolor": "white",
          "plot_bgcolor": "#E5ECF6",
          "polar": {
           "angularaxis": {
            "gridcolor": "white",
            "linecolor": "white",
            "ticks": ""
           },
           "bgcolor": "#E5ECF6",
           "radialaxis": {
            "gridcolor": "white",
            "linecolor": "white",
            "ticks": ""
           }
          },
          "scene": {
           "xaxis": {
            "backgroundcolor": "#E5ECF6",
            "gridcolor": "white",
            "gridwidth": 2,
            "linecolor": "white",
            "showbackground": true,
            "ticks": "",
            "zerolinecolor": "white"
           },
           "yaxis": {
            "backgroundcolor": "#E5ECF6",
            "gridcolor": "white",
            "gridwidth": 2,
            "linecolor": "white",
            "showbackground": true,
            "ticks": "",
            "zerolinecolor": "white"
           },
           "zaxis": {
            "backgroundcolor": "#E5ECF6",
            "gridcolor": "white",
            "gridwidth": 2,
            "linecolor": "white",
            "showbackground": true,
            "ticks": "",
            "zerolinecolor": "white"
           }
          },
          "shapedefaults": {
           "line": {
            "color": "#2a3f5f"
           }
          },
          "ternary": {
           "aaxis": {
            "gridcolor": "white",
            "linecolor": "white",
            "ticks": ""
           },
           "baxis": {
            "gridcolor": "white",
            "linecolor": "white",
            "ticks": ""
           },
           "bgcolor": "#E5ECF6",
           "caxis": {
            "gridcolor": "white",
            "linecolor": "white",
            "ticks": ""
           }
          },
          "title": {
           "x": 0.05
          },
          "xaxis": {
           "automargin": true,
           "gridcolor": "white",
           "linecolor": "white",
           "ticks": "",
           "title": {
            "standoff": 15
           },
           "zerolinecolor": "white",
           "zerolinewidth": 2
          },
          "yaxis": {
           "automargin": true,
           "gridcolor": "white",
           "linecolor": "white",
           "ticks": "",
           "title": {
            "standoff": 15
           },
           "zerolinecolor": "white",
           "zerolinewidth": 2
          }
         }
        },
        "xaxis": {
         "title": {
          "text": "X(metres)"
         }
        },
        "yaxis": {
         "title": {
          "text": "Y(metres)"
         }
        }
       }
      }
     },
     "metadata": {},
     "output_type": "display_data"
    }
   ],
   "source": [
    "fig = plot_photo_plan(computed_plan)\n",
    "fig.show()"
   ]
  },
  {
   "cell_type": "markdown",
   "id": "16e1ea86",
   "metadata": {},
   "source": [
    "![flight trajectory showing waypoints](images/newplot1.png)"
   ]
  },
  {
   "cell_type": "markdown",
   "id": "74ff5833-f107-4332-974c-b9294e02a1da",
   "metadata": {},
   "source": [
    "$\\color{red}{\\text{TODO: }}$ Compute the following ablations (and any other you can think of)\n",
    "\n",
    "1. Change overlap and confirm it affects the consecutive images\n",
    "2. Change sidelap and confirm it does not affect the consecutive images\n",
    "3. Change the height of the scan and document the affect on scan plans\n",
    "4. Change exposure time"
   ]
  },
  {
   "cell_type": "code",
   "execution_count": 71,
   "id": "7dbe090a-b696-4800-8373-6f4b3be02a87",
   "metadata": {},
   "outputs": [
    {
     "name": "stdout",
     "output_type": "stream",
     "text": [
      "Camera(fx=4938.56, fy=4936.49, cx=4095.5, cy=3071.5, sensor_size_x_mm=13.107, sensor_size_y_mm=9.83, image_size_x=8192, image_size_y=6144) DatasetSpec(overlap=0.7, sidelap=0.7, height=30.48, scan_dimension_x=150,scan_dimension_y=150,exposure_time_ms=2000,camera_angle=0 \n"
     ]
    },
    {
     "data": {
      "application/vnd.plotly.v1+json": {
       "config": {
        "plotlyServerURL": "https://plot.ly"
       },
       "data": [
        {
         "mode": "lines+markers",
         "type": "scatter",
         "x": [
          0,
          15.167914390563965,
          30.33582878112793,
          45.50374221801758,
          60.67165756225586,
          75.83956909179688,
          91.00748443603516,
          106.17539978027344,
          121.34331512451172,
          136.51123046875,
          136.51123046875,
          121.34331512451172,
          106.17539978027344,
          91.00748443603516,
          75.83956909179688,
          60.67165756225586,
          45.50374221801758,
          30.33582878112793,
          15.167914390563965,
          0,
          0,
          15.167914390563965,
          30.33582878112793,
          45.50374221801758,
          60.67165756225586,
          75.83956909179688,
          91.00748443603516,
          106.17539978027344,
          121.34331512451172,
          136.51123046875,
          136.51123046875,
          121.34331512451172,
          106.17539978027344,
          91.00748443603516,
          75.83956909179688,
          60.67165756225586,
          45.50374221801758,
          30.33582878112793,
          15.167914390563965,
          0,
          0,
          15.167914390563965,
          30.33582878112793,
          45.50374221801758,
          60.67165756225586,
          75.83956909179688,
          91.00748443603516,
          106.17539978027344,
          121.34331512451172,
          136.51123046875,
          136.51123046875,
          121.34331512451172,
          106.17539978027344,
          91.00748443603516,
          75.83956909179688,
          60.67165756225586,
          45.50374221801758,
          30.33582878112793,
          15.167914390563965,
          0,
          0,
          15.167914390563965,
          30.33582878112793,
          45.50374221801758,
          60.67165756225586,
          75.83956909179688,
          91.00748443603516,
          106.17539978027344,
          121.34331512451172,
          136.51123046875,
          136.51123046875,
          121.34331512451172,
          106.17539978027344,
          91.00748443603516,
          75.83956909179688,
          60.67165756225586,
          45.50374221801758,
          30.33582878112793,
          15.167914390563965,
          0,
          0,
          15.167914390563965,
          30.33582878112793,
          45.50374221801758,
          60.67165756225586,
          75.83956909179688,
          91.00748443603516,
          106.17539978027344,
          121.34331512451172,
          136.51123046875,
          136.51123046875,
          121.34331512451172,
          106.17539978027344,
          91.00748443603516,
          75.83956909179688,
          60.67165756225586,
          45.50374221801758,
          30.33582878112793,
          15.167914390563965,
          0,
          0,
          15.167914390563965,
          30.33582878112793,
          45.50374221801758,
          60.67165756225586,
          75.83956909179688,
          91.00748443603516,
          106.17539978027344,
          121.34331512451172,
          136.51123046875,
          136.51123046875,
          121.34331512451172,
          106.17539978027344,
          91.00748443603516,
          75.83956909179688,
          60.67165756225586,
          45.50374221801758,
          30.33582878112793,
          15.167914390563965,
          0,
          0,
          15.167914390563965,
          30.33582878112793,
          45.50374221801758,
          60.67165756225586,
          75.83956909179688,
          91.00748443603516,
          106.17539978027344,
          121.34331512451172,
          136.51123046875,
          136.51123046875,
          121.34331512451172,
          106.17539978027344,
          91.00748443603516,
          75.83956909179688,
          60.67165756225586,
          45.50374221801758,
          30.33582878112793,
          15.167914390563965,
          0
         ],
         "y": [
          0,
          0,
          0,
          0,
          0,
          0,
          0,
          0,
          0,
          0,
          11.380705833435059,
          11.380705833435059,
          11.380705833435059,
          11.380705833435059,
          11.380705833435059,
          11.380705833435059,
          11.380705833435059,
          11.380705833435059,
          11.380705833435059,
          11.380705833435059,
          22.761411666870117,
          22.761411666870117,
          22.761411666870117,
          22.761411666870117,
          22.761411666870117,
          22.761411666870117,
          22.761411666870117,
          22.761411666870117,
          22.761411666870117,
          22.761411666870117,
          34.14211654663086,
          34.14211654663086,
          34.14211654663086,
          34.14211654663086,
          34.14211654663086,
          34.14211654663086,
          34.14211654663086,
          34.14211654663086,
          34.14211654663086,
          34.14211654663086,
          45.522823333740234,
          45.522823333740234,
          45.522823333740234,
          45.522823333740234,
          45.522823333740234,
          45.522823333740234,
          45.522823333740234,
          45.522823333740234,
          45.522823333740234,
          45.522823333740234,
          56.90353012084961,
          56.90353012084961,
          56.90353012084961,
          56.90353012084961,
          56.90353012084961,
          56.90353012084961,
          56.90353012084961,
          56.90353012084961,
          56.90353012084961,
          56.90353012084961,
          68.28423309326172,
          68.28423309326172,
          68.28423309326172,
          68.28423309326172,
          68.28423309326172,
          68.28423309326172,
          68.28423309326172,
          68.28423309326172,
          68.28423309326172,
          68.28423309326172,
          79.6649398803711,
          79.6649398803711,
          79.6649398803711,
          79.6649398803711,
          79.6649398803711,
          79.6649398803711,
          79.6649398803711,
          79.6649398803711,
          79.6649398803711,
          79.6649398803711,
          91.04564666748047,
          91.04564666748047,
          91.04564666748047,
          91.04564666748047,
          91.04564666748047,
          91.04564666748047,
          91.04564666748047,
          91.04564666748047,
          91.04564666748047,
          91.04564666748047,
          102.42635345458984,
          102.42635345458984,
          102.42635345458984,
          102.42635345458984,
          102.42635345458984,
          102.42635345458984,
          102.42635345458984,
          102.42635345458984,
          102.42635345458984,
          102.42635345458984,
          113.80706024169922,
          113.80706024169922,
          113.80706024169922,
          113.80706024169922,
          113.80706024169922,
          113.80706024169922,
          113.80706024169922,
          113.80706024169922,
          113.80706024169922,
          113.80706024169922,
          125.1877670288086,
          125.1877670288086,
          125.1877670288086,
          125.1877670288086,
          125.1877670288086,
          125.1877670288086,
          125.1877670288086,
          125.1877670288086,
          125.1877670288086,
          125.1877670288086,
          136.56846618652344,
          136.56846618652344,
          136.56846618652344,
          136.56846618652344,
          136.56846618652344,
          136.56846618652344,
          136.56846618652344,
          136.56846618652344,
          136.56846618652344,
          136.56846618652344,
          147.9491729736328,
          147.9491729736328,
          147.9491729736328,
          147.9491729736328,
          147.9491729736328,
          147.9491729736328,
          147.9491729736328,
          147.9491729736328,
          147.9491729736328,
          147.9491729736328
         ]
        }
       ],
       "layout": {
        "template": {
         "data": {
          "bar": [
           {
            "error_x": {
             "color": "#2a3f5f"
            },
            "error_y": {
             "color": "#2a3f5f"
            },
            "marker": {
             "line": {
              "color": "#E5ECF6",
              "width": 0.5
             },
             "pattern": {
              "fillmode": "overlay",
              "size": 10,
              "solidity": 0.2
             }
            },
            "type": "bar"
           }
          ],
          "barpolar": [
           {
            "marker": {
             "line": {
              "color": "#E5ECF6",
              "width": 0.5
             },
             "pattern": {
              "fillmode": "overlay",
              "size": 10,
              "solidity": 0.2
             }
            },
            "type": "barpolar"
           }
          ],
          "carpet": [
           {
            "aaxis": {
             "endlinecolor": "#2a3f5f",
             "gridcolor": "white",
             "linecolor": "white",
             "minorgridcolor": "white",
             "startlinecolor": "#2a3f5f"
            },
            "baxis": {
             "endlinecolor": "#2a3f5f",
             "gridcolor": "white",
             "linecolor": "white",
             "minorgridcolor": "white",
             "startlinecolor": "#2a3f5f"
            },
            "type": "carpet"
           }
          ],
          "choropleth": [
           {
            "colorbar": {
             "outlinewidth": 0,
             "ticks": ""
            },
            "type": "choropleth"
           }
          ],
          "contour": [
           {
            "colorbar": {
             "outlinewidth": 0,
             "ticks": ""
            },
            "colorscale": [
             [
              0,
              "#0d0887"
             ],
             [
              0.1111111111111111,
              "#46039f"
             ],
             [
              0.2222222222222222,
              "#7201a8"
             ],
             [
              0.3333333333333333,
              "#9c179e"
             ],
             [
              0.4444444444444444,
              "#bd3786"
             ],
             [
              0.5555555555555556,
              "#d8576b"
             ],
             [
              0.6666666666666666,
              "#ed7953"
             ],
             [
              0.7777777777777778,
              "#fb9f3a"
             ],
             [
              0.8888888888888888,
              "#fdca26"
             ],
             [
              1,
              "#f0f921"
             ]
            ],
            "type": "contour"
           }
          ],
          "contourcarpet": [
           {
            "colorbar": {
             "outlinewidth": 0,
             "ticks": ""
            },
            "type": "contourcarpet"
           }
          ],
          "heatmap": [
           {
            "colorbar": {
             "outlinewidth": 0,
             "ticks": ""
            },
            "colorscale": [
             [
              0,
              "#0d0887"
             ],
             [
              0.1111111111111111,
              "#46039f"
             ],
             [
              0.2222222222222222,
              "#7201a8"
             ],
             [
              0.3333333333333333,
              "#9c179e"
             ],
             [
              0.4444444444444444,
              "#bd3786"
             ],
             [
              0.5555555555555556,
              "#d8576b"
             ],
             [
              0.6666666666666666,
              "#ed7953"
             ],
             [
              0.7777777777777778,
              "#fb9f3a"
             ],
             [
              0.8888888888888888,
              "#fdca26"
             ],
             [
              1,
              "#f0f921"
             ]
            ],
            "type": "heatmap"
           }
          ],
          "heatmapgl": [
           {
            "colorbar": {
             "outlinewidth": 0,
             "ticks": ""
            },
            "colorscale": [
             [
              0,
              "#0d0887"
             ],
             [
              0.1111111111111111,
              "#46039f"
             ],
             [
              0.2222222222222222,
              "#7201a8"
             ],
             [
              0.3333333333333333,
              "#9c179e"
             ],
             [
              0.4444444444444444,
              "#bd3786"
             ],
             [
              0.5555555555555556,
              "#d8576b"
             ],
             [
              0.6666666666666666,
              "#ed7953"
             ],
             [
              0.7777777777777778,
              "#fb9f3a"
             ],
             [
              0.8888888888888888,
              "#fdca26"
             ],
             [
              1,
              "#f0f921"
             ]
            ],
            "type": "heatmapgl"
           }
          ],
          "histogram": [
           {
            "marker": {
             "pattern": {
              "fillmode": "overlay",
              "size": 10,
              "solidity": 0.2
             }
            },
            "type": "histogram"
           }
          ],
          "histogram2d": [
           {
            "colorbar": {
             "outlinewidth": 0,
             "ticks": ""
            },
            "colorscale": [
             [
              0,
              "#0d0887"
             ],
             [
              0.1111111111111111,
              "#46039f"
             ],
             [
              0.2222222222222222,
              "#7201a8"
             ],
             [
              0.3333333333333333,
              "#9c179e"
             ],
             [
              0.4444444444444444,
              "#bd3786"
             ],
             [
              0.5555555555555556,
              "#d8576b"
             ],
             [
              0.6666666666666666,
              "#ed7953"
             ],
             [
              0.7777777777777778,
              "#fb9f3a"
             ],
             [
              0.8888888888888888,
              "#fdca26"
             ],
             [
              1,
              "#f0f921"
             ]
            ],
            "type": "histogram2d"
           }
          ],
          "histogram2dcontour": [
           {
            "colorbar": {
             "outlinewidth": 0,
             "ticks": ""
            },
            "colorscale": [
             [
              0,
              "#0d0887"
             ],
             [
              0.1111111111111111,
              "#46039f"
             ],
             [
              0.2222222222222222,
              "#7201a8"
             ],
             [
              0.3333333333333333,
              "#9c179e"
             ],
             [
              0.4444444444444444,
              "#bd3786"
             ],
             [
              0.5555555555555556,
              "#d8576b"
             ],
             [
              0.6666666666666666,
              "#ed7953"
             ],
             [
              0.7777777777777778,
              "#fb9f3a"
             ],
             [
              0.8888888888888888,
              "#fdca26"
             ],
             [
              1,
              "#f0f921"
             ]
            ],
            "type": "histogram2dcontour"
           }
          ],
          "mesh3d": [
           {
            "colorbar": {
             "outlinewidth": 0,
             "ticks": ""
            },
            "type": "mesh3d"
           }
          ],
          "parcoords": [
           {
            "line": {
             "colorbar": {
              "outlinewidth": 0,
              "ticks": ""
             }
            },
            "type": "parcoords"
           }
          ],
          "pie": [
           {
            "automargin": true,
            "type": "pie"
           }
          ],
          "scatter": [
           {
            "fillpattern": {
             "fillmode": "overlay",
             "size": 10,
             "solidity": 0.2
            },
            "type": "scatter"
           }
          ],
          "scatter3d": [
           {
            "line": {
             "colorbar": {
              "outlinewidth": 0,
              "ticks": ""
             }
            },
            "marker": {
             "colorbar": {
              "outlinewidth": 0,
              "ticks": ""
             }
            },
            "type": "scatter3d"
           }
          ],
          "scattercarpet": [
           {
            "marker": {
             "colorbar": {
              "outlinewidth": 0,
              "ticks": ""
             }
            },
            "type": "scattercarpet"
           }
          ],
          "scattergeo": [
           {
            "marker": {
             "colorbar": {
              "outlinewidth": 0,
              "ticks": ""
             }
            },
            "type": "scattergeo"
           }
          ],
          "scattergl": [
           {
            "marker": {
             "colorbar": {
              "outlinewidth": 0,
              "ticks": ""
             }
            },
            "type": "scattergl"
           }
          ],
          "scattermapbox": [
           {
            "marker": {
             "colorbar": {
              "outlinewidth": 0,
              "ticks": ""
             }
            },
            "type": "scattermapbox"
           }
          ],
          "scatterpolar": [
           {
            "marker": {
             "colorbar": {
              "outlinewidth": 0,
              "ticks": ""
             }
            },
            "type": "scatterpolar"
           }
          ],
          "scatterpolargl": [
           {
            "marker": {
             "colorbar": {
              "outlinewidth": 0,
              "ticks": ""
             }
            },
            "type": "scatterpolargl"
           }
          ],
          "scatterternary": [
           {
            "marker": {
             "colorbar": {
              "outlinewidth": 0,
              "ticks": ""
             }
            },
            "type": "scatterternary"
           }
          ],
          "surface": [
           {
            "colorbar": {
             "outlinewidth": 0,
             "ticks": ""
            },
            "colorscale": [
             [
              0,
              "#0d0887"
             ],
             [
              0.1111111111111111,
              "#46039f"
             ],
             [
              0.2222222222222222,
              "#7201a8"
             ],
             [
              0.3333333333333333,
              "#9c179e"
             ],
             [
              0.4444444444444444,
              "#bd3786"
             ],
             [
              0.5555555555555556,
              "#d8576b"
             ],
             [
              0.6666666666666666,
              "#ed7953"
             ],
             [
              0.7777777777777778,
              "#fb9f3a"
             ],
             [
              0.8888888888888888,
              "#fdca26"
             ],
             [
              1,
              "#f0f921"
             ]
            ],
            "type": "surface"
           }
          ],
          "table": [
           {
            "cells": {
             "fill": {
              "color": "#EBF0F8"
             },
             "line": {
              "color": "white"
             }
            },
            "header": {
             "fill": {
              "color": "#C8D4E3"
             },
             "line": {
              "color": "white"
             }
            },
            "type": "table"
           }
          ]
         },
         "layout": {
          "annotationdefaults": {
           "arrowcolor": "#2a3f5f",
           "arrowhead": 0,
           "arrowwidth": 1
          },
          "autotypenumbers": "strict",
          "coloraxis": {
           "colorbar": {
            "outlinewidth": 0,
            "ticks": ""
           }
          },
          "colorscale": {
           "diverging": [
            [
             0,
             "#8e0152"
            ],
            [
             0.1,
             "#c51b7d"
            ],
            [
             0.2,
             "#de77ae"
            ],
            [
             0.3,
             "#f1b6da"
            ],
            [
             0.4,
             "#fde0ef"
            ],
            [
             0.5,
             "#f7f7f7"
            ],
            [
             0.6,
             "#e6f5d0"
            ],
            [
             0.7,
             "#b8e186"
            ],
            [
             0.8,
             "#7fbc41"
            ],
            [
             0.9,
             "#4d9221"
            ],
            [
             1,
             "#276419"
            ]
           ],
           "sequential": [
            [
             0,
             "#0d0887"
            ],
            [
             0.1111111111111111,
             "#46039f"
            ],
            [
             0.2222222222222222,
             "#7201a8"
            ],
            [
             0.3333333333333333,
             "#9c179e"
            ],
            [
             0.4444444444444444,
             "#bd3786"
            ],
            [
             0.5555555555555556,
             "#d8576b"
            ],
            [
             0.6666666666666666,
             "#ed7953"
            ],
            [
             0.7777777777777778,
             "#fb9f3a"
            ],
            [
             0.8888888888888888,
             "#fdca26"
            ],
            [
             1,
             "#f0f921"
            ]
           ],
           "sequentialminus": [
            [
             0,
             "#0d0887"
            ],
            [
             0.1111111111111111,
             "#46039f"
            ],
            [
             0.2222222222222222,
             "#7201a8"
            ],
            [
             0.3333333333333333,
             "#9c179e"
            ],
            [
             0.4444444444444444,
             "#bd3786"
            ],
            [
             0.5555555555555556,
             "#d8576b"
            ],
            [
             0.6666666666666666,
             "#ed7953"
            ],
            [
             0.7777777777777778,
             "#fb9f3a"
            ],
            [
             0.8888888888888888,
             "#fdca26"
            ],
            [
             1,
             "#f0f921"
            ]
           ]
          },
          "colorway": [
           "#636efa",
           "#EF553B",
           "#00cc96",
           "#ab63fa",
           "#FFA15A",
           "#19d3f3",
           "#FF6692",
           "#B6E880",
           "#FF97FF",
           "#FECB52"
          ],
          "font": {
           "color": "#2a3f5f"
          },
          "geo": {
           "bgcolor": "white",
           "lakecolor": "white",
           "landcolor": "#E5ECF6",
           "showlakes": true,
           "showland": true,
           "subunitcolor": "white"
          },
          "hoverlabel": {
           "align": "left"
          },
          "hovermode": "closest",
          "mapbox": {
           "style": "light"
          },
          "paper_bgcolor": "white",
          "plot_bgcolor": "#E5ECF6",
          "polar": {
           "angularaxis": {
            "gridcolor": "white",
            "linecolor": "white",
            "ticks": ""
           },
           "bgcolor": "#E5ECF6",
           "radialaxis": {
            "gridcolor": "white",
            "linecolor": "white",
            "ticks": ""
           }
          },
          "scene": {
           "xaxis": {
            "backgroundcolor": "#E5ECF6",
            "gridcolor": "white",
            "gridwidth": 2,
            "linecolor": "white",
            "showbackground": true,
            "ticks": "",
            "zerolinecolor": "white"
           },
           "yaxis": {
            "backgroundcolor": "#E5ECF6",
            "gridcolor": "white",
            "gridwidth": 2,
            "linecolor": "white",
            "showbackground": true,
            "ticks": "",
            "zerolinecolor": "white"
           },
           "zaxis": {
            "backgroundcolor": "#E5ECF6",
            "gridcolor": "white",
            "gridwidth": 2,
            "linecolor": "white",
            "showbackground": true,
            "ticks": "",
            "zerolinecolor": "white"
           }
          },
          "shapedefaults": {
           "line": {
            "color": "#2a3f5f"
           }
          },
          "ternary": {
           "aaxis": {
            "gridcolor": "white",
            "linecolor": "white",
            "ticks": ""
           },
           "baxis": {
            "gridcolor": "white",
            "linecolor": "white",
            "ticks": ""
           },
           "bgcolor": "#E5ECF6",
           "caxis": {
            "gridcolor": "white",
            "linecolor": "white",
            "ticks": ""
           }
          },
          "title": {
           "x": 0.05
          },
          "xaxis": {
           "automargin": true,
           "gridcolor": "white",
           "linecolor": "white",
           "ticks": "",
           "title": {
            "standoff": 15
           },
           "zerolinecolor": "white",
           "zerolinewidth": 2
          },
          "yaxis": {
           "automargin": true,
           "gridcolor": "white",
           "linecolor": "white",
           "ticks": "",
           "title": {
            "standoff": 15
           },
           "zerolinecolor": "white",
           "zerolinewidth": 2
          }
         }
        },
        "xaxis": {
         "title": {
          "text": "X(metres)"
         }
        },
        "yaxis": {
         "title": {
          "text": "Y(metres)"
         }
        }
       }
      }
     },
     "metadata": {},
     "output_type": "display_data"
    }
   ],
   "source": [
    "camera_ = copy.deepcopy(camera_x10)\n",
    "dataset_spec_ = copy.deepcopy(dataset_spec)\n",
    "\n",
    "dataset_spec_.exposure_time_ms = 2000\n",
    "\n",
    "print(camera_, dataset_spec_)\n",
    "\n",
    "fig = plot_photo_plan(generate_photo_plan_on_grid(camera_, dataset_spec_))\n",
    "fig.show()"
   ]
  },
  {
   "cell_type": "markdown",
   "id": "81d8c211",
   "metadata": {},
   "source": [
    "![flight trajectory showing waypoints](images/newplot2.png)"
   ]
  },
  {
   "cell_type": "code",
   "execution_count": 72,
   "id": "e55616e2",
   "metadata": {},
   "outputs": [
    {
     "name": "stdout",
     "output_type": "stream",
     "text": [
      "Camera(fx=4938.56, fy=4936.49, cx=4095.5, cy=3071.5, sensor_size_x_mm=13.107, sensor_size_y_mm=9.83, image_size_x=8192, image_size_y=6144) DatasetSpec(overlap=0.5, sidelap=0.7, height=30.48, scan_dimension_x=150,scan_dimension_y=150,exposure_time_ms=2,camera_angle=0 \n"
     ]
    },
    {
     "data": {
      "application/vnd.plotly.v1+json": {
       "config": {
        "plotlyServerURL": "https://plot.ly"
       },
       "data": [
        {
         "mode": "lines+markers",
         "type": "scatter",
         "x": [
          0,
          25.279855728149414,
          50.55971145629883,
          75.83956909179688,
          101.11942291259766,
          126.39927673339844,
          126.39927673339844,
          101.11942291259766,
          75.83956909179688,
          50.55971145629883,
          25.279855728149414,
          0,
          0,
          25.279855728149414,
          50.55971145629883,
          75.83956909179688,
          101.11942291259766,
          126.39927673339844,
          126.39927673339844,
          101.11942291259766,
          75.83956909179688,
          50.55971145629883,
          25.279855728149414,
          0,
          0,
          25.279855728149414,
          50.55971145629883,
          75.83956909179688,
          101.11942291259766,
          126.39927673339844,
          126.39927673339844,
          101.11942291259766,
          75.83956909179688,
          50.55971145629883,
          25.279855728149414,
          0,
          0,
          25.279855728149414,
          50.55971145629883,
          75.83956909179688,
          101.11942291259766,
          126.39927673339844,
          126.39927673339844,
          101.11942291259766,
          75.83956909179688,
          50.55971145629883,
          25.279855728149414,
          0,
          0,
          25.279855728149414,
          50.55971145629883,
          75.83956909179688,
          101.11942291259766,
          126.39927673339844,
          126.39927673339844,
          101.11942291259766,
          75.83956909179688,
          50.55971145629883,
          25.279855728149414,
          0,
          0,
          25.279855728149414,
          50.55971145629883,
          75.83956909179688,
          101.11942291259766,
          126.39927673339844,
          126.39927673339844,
          101.11942291259766,
          75.83956909179688,
          50.55971145629883,
          25.279855728149414,
          0,
          0,
          25.279855728149414,
          50.55971145629883,
          75.83956909179688,
          101.11942291259766,
          126.39927673339844,
          126.39927673339844,
          101.11942291259766,
          75.83956909179688,
          50.55971145629883,
          25.279855728149414,
          0
         ],
         "y": [
          0,
          0,
          0,
          0,
          0,
          0,
          11.380705833435059,
          11.380705833435059,
          11.380705833435059,
          11.380705833435059,
          11.380705833435059,
          11.380705833435059,
          22.761411666870117,
          22.761411666870117,
          22.761411666870117,
          22.761411666870117,
          22.761411666870117,
          22.761411666870117,
          34.14211654663086,
          34.14211654663086,
          34.14211654663086,
          34.14211654663086,
          34.14211654663086,
          34.14211654663086,
          45.522823333740234,
          45.522823333740234,
          45.522823333740234,
          45.522823333740234,
          45.522823333740234,
          45.522823333740234,
          56.90353012084961,
          56.90353012084961,
          56.90353012084961,
          56.90353012084961,
          56.90353012084961,
          56.90353012084961,
          68.28423309326172,
          68.28423309326172,
          68.28423309326172,
          68.28423309326172,
          68.28423309326172,
          68.28423309326172,
          79.6649398803711,
          79.6649398803711,
          79.6649398803711,
          79.6649398803711,
          79.6649398803711,
          79.6649398803711,
          91.04564666748047,
          91.04564666748047,
          91.04564666748047,
          91.04564666748047,
          91.04564666748047,
          91.04564666748047,
          102.42635345458984,
          102.42635345458984,
          102.42635345458984,
          102.42635345458984,
          102.42635345458984,
          102.42635345458984,
          113.80706024169922,
          113.80706024169922,
          113.80706024169922,
          113.80706024169922,
          113.80706024169922,
          113.80706024169922,
          125.1877670288086,
          125.1877670288086,
          125.1877670288086,
          125.1877670288086,
          125.1877670288086,
          125.1877670288086,
          136.56846618652344,
          136.56846618652344,
          136.56846618652344,
          136.56846618652344,
          136.56846618652344,
          136.56846618652344,
          147.9491729736328,
          147.9491729736328,
          147.9491729736328,
          147.9491729736328,
          147.9491729736328,
          147.9491729736328
         ]
        }
       ],
       "layout": {
        "template": {
         "data": {
          "bar": [
           {
            "error_x": {
             "color": "#2a3f5f"
            },
            "error_y": {
             "color": "#2a3f5f"
            },
            "marker": {
             "line": {
              "color": "#E5ECF6",
              "width": 0.5
             },
             "pattern": {
              "fillmode": "overlay",
              "size": 10,
              "solidity": 0.2
             }
            },
            "type": "bar"
           }
          ],
          "barpolar": [
           {
            "marker": {
             "line": {
              "color": "#E5ECF6",
              "width": 0.5
             },
             "pattern": {
              "fillmode": "overlay",
              "size": 10,
              "solidity": 0.2
             }
            },
            "type": "barpolar"
           }
          ],
          "carpet": [
           {
            "aaxis": {
             "endlinecolor": "#2a3f5f",
             "gridcolor": "white",
             "linecolor": "white",
             "minorgridcolor": "white",
             "startlinecolor": "#2a3f5f"
            },
            "baxis": {
             "endlinecolor": "#2a3f5f",
             "gridcolor": "white",
             "linecolor": "white",
             "minorgridcolor": "white",
             "startlinecolor": "#2a3f5f"
            },
            "type": "carpet"
           }
          ],
          "choropleth": [
           {
            "colorbar": {
             "outlinewidth": 0,
             "ticks": ""
            },
            "type": "choropleth"
           }
          ],
          "contour": [
           {
            "colorbar": {
             "outlinewidth": 0,
             "ticks": ""
            },
            "colorscale": [
             [
              0,
              "#0d0887"
             ],
             [
              0.1111111111111111,
              "#46039f"
             ],
             [
              0.2222222222222222,
              "#7201a8"
             ],
             [
              0.3333333333333333,
              "#9c179e"
             ],
             [
              0.4444444444444444,
              "#bd3786"
             ],
             [
              0.5555555555555556,
              "#d8576b"
             ],
             [
              0.6666666666666666,
              "#ed7953"
             ],
             [
              0.7777777777777778,
              "#fb9f3a"
             ],
             [
              0.8888888888888888,
              "#fdca26"
             ],
             [
              1,
              "#f0f921"
             ]
            ],
            "type": "contour"
           }
          ],
          "contourcarpet": [
           {
            "colorbar": {
             "outlinewidth": 0,
             "ticks": ""
            },
            "type": "contourcarpet"
           }
          ],
          "heatmap": [
           {
            "colorbar": {
             "outlinewidth": 0,
             "ticks": ""
            },
            "colorscale": [
             [
              0,
              "#0d0887"
             ],
             [
              0.1111111111111111,
              "#46039f"
             ],
             [
              0.2222222222222222,
              "#7201a8"
             ],
             [
              0.3333333333333333,
              "#9c179e"
             ],
             [
              0.4444444444444444,
              "#bd3786"
             ],
             [
              0.5555555555555556,
              "#d8576b"
             ],
             [
              0.6666666666666666,
              "#ed7953"
             ],
             [
              0.7777777777777778,
              "#fb9f3a"
             ],
             [
              0.8888888888888888,
              "#fdca26"
             ],
             [
              1,
              "#f0f921"
             ]
            ],
            "type": "heatmap"
           }
          ],
          "heatmapgl": [
           {
            "colorbar": {
             "outlinewidth": 0,
             "ticks": ""
            },
            "colorscale": [
             [
              0,
              "#0d0887"
             ],
             [
              0.1111111111111111,
              "#46039f"
             ],
             [
              0.2222222222222222,
              "#7201a8"
             ],
             [
              0.3333333333333333,
              "#9c179e"
             ],
             [
              0.4444444444444444,
              "#bd3786"
             ],
             [
              0.5555555555555556,
              "#d8576b"
             ],
             [
              0.6666666666666666,
              "#ed7953"
             ],
             [
              0.7777777777777778,
              "#fb9f3a"
             ],
             [
              0.8888888888888888,
              "#fdca26"
             ],
             [
              1,
              "#f0f921"
             ]
            ],
            "type": "heatmapgl"
           }
          ],
          "histogram": [
           {
            "marker": {
             "pattern": {
              "fillmode": "overlay",
              "size": 10,
              "solidity": 0.2
             }
            },
            "type": "histogram"
           }
          ],
          "histogram2d": [
           {
            "colorbar": {
             "outlinewidth": 0,
             "ticks": ""
            },
            "colorscale": [
             [
              0,
              "#0d0887"
             ],
             [
              0.1111111111111111,
              "#46039f"
             ],
             [
              0.2222222222222222,
              "#7201a8"
             ],
             [
              0.3333333333333333,
              "#9c179e"
             ],
             [
              0.4444444444444444,
              "#bd3786"
             ],
             [
              0.5555555555555556,
              "#d8576b"
             ],
             [
              0.6666666666666666,
              "#ed7953"
             ],
             [
              0.7777777777777778,
              "#fb9f3a"
             ],
             [
              0.8888888888888888,
              "#fdca26"
             ],
             [
              1,
              "#f0f921"
             ]
            ],
            "type": "histogram2d"
           }
          ],
          "histogram2dcontour": [
           {
            "colorbar": {
             "outlinewidth": 0,
             "ticks": ""
            },
            "colorscale": [
             [
              0,
              "#0d0887"
             ],
             [
              0.1111111111111111,
              "#46039f"
             ],
             [
              0.2222222222222222,
              "#7201a8"
             ],
             [
              0.3333333333333333,
              "#9c179e"
             ],
             [
              0.4444444444444444,
              "#bd3786"
             ],
             [
              0.5555555555555556,
              "#d8576b"
             ],
             [
              0.6666666666666666,
              "#ed7953"
             ],
             [
              0.7777777777777778,
              "#fb9f3a"
             ],
             [
              0.8888888888888888,
              "#fdca26"
             ],
             [
              1,
              "#f0f921"
             ]
            ],
            "type": "histogram2dcontour"
           }
          ],
          "mesh3d": [
           {
            "colorbar": {
             "outlinewidth": 0,
             "ticks": ""
            },
            "type": "mesh3d"
           }
          ],
          "parcoords": [
           {
            "line": {
             "colorbar": {
              "outlinewidth": 0,
              "ticks": ""
             }
            },
            "type": "parcoords"
           }
          ],
          "pie": [
           {
            "automargin": true,
            "type": "pie"
           }
          ],
          "scatter": [
           {
            "fillpattern": {
             "fillmode": "overlay",
             "size": 10,
             "solidity": 0.2
            },
            "type": "scatter"
           }
          ],
          "scatter3d": [
           {
            "line": {
             "colorbar": {
              "outlinewidth": 0,
              "ticks": ""
             }
            },
            "marker": {
             "colorbar": {
              "outlinewidth": 0,
              "ticks": ""
             }
            },
            "type": "scatter3d"
           }
          ],
          "scattercarpet": [
           {
            "marker": {
             "colorbar": {
              "outlinewidth": 0,
              "ticks": ""
             }
            },
            "type": "scattercarpet"
           }
          ],
          "scattergeo": [
           {
            "marker": {
             "colorbar": {
              "outlinewidth": 0,
              "ticks": ""
             }
            },
            "type": "scattergeo"
           }
          ],
          "scattergl": [
           {
            "marker": {
             "colorbar": {
              "outlinewidth": 0,
              "ticks": ""
             }
            },
            "type": "scattergl"
           }
          ],
          "scattermapbox": [
           {
            "marker": {
             "colorbar": {
              "outlinewidth": 0,
              "ticks": ""
             }
            },
            "type": "scattermapbox"
           }
          ],
          "scatterpolar": [
           {
            "marker": {
             "colorbar": {
              "outlinewidth": 0,
              "ticks": ""
             }
            },
            "type": "scatterpolar"
           }
          ],
          "scatterpolargl": [
           {
            "marker": {
             "colorbar": {
              "outlinewidth": 0,
              "ticks": ""
             }
            },
            "type": "scatterpolargl"
           }
          ],
          "scatterternary": [
           {
            "marker": {
             "colorbar": {
              "outlinewidth": 0,
              "ticks": ""
             }
            },
            "type": "scatterternary"
           }
          ],
          "surface": [
           {
            "colorbar": {
             "outlinewidth": 0,
             "ticks": ""
            },
            "colorscale": [
             [
              0,
              "#0d0887"
             ],
             [
              0.1111111111111111,
              "#46039f"
             ],
             [
              0.2222222222222222,
              "#7201a8"
             ],
             [
              0.3333333333333333,
              "#9c179e"
             ],
             [
              0.4444444444444444,
              "#bd3786"
             ],
             [
              0.5555555555555556,
              "#d8576b"
             ],
             [
              0.6666666666666666,
              "#ed7953"
             ],
             [
              0.7777777777777778,
              "#fb9f3a"
             ],
             [
              0.8888888888888888,
              "#fdca26"
             ],
             [
              1,
              "#f0f921"
             ]
            ],
            "type": "surface"
           }
          ],
          "table": [
           {
            "cells": {
             "fill": {
              "color": "#EBF0F8"
             },
             "line": {
              "color": "white"
             }
            },
            "header": {
             "fill": {
              "color": "#C8D4E3"
             },
             "line": {
              "color": "white"
             }
            },
            "type": "table"
           }
          ]
         },
         "layout": {
          "annotationdefaults": {
           "arrowcolor": "#2a3f5f",
           "arrowhead": 0,
           "arrowwidth": 1
          },
          "autotypenumbers": "strict",
          "coloraxis": {
           "colorbar": {
            "outlinewidth": 0,
            "ticks": ""
           }
          },
          "colorscale": {
           "diverging": [
            [
             0,
             "#8e0152"
            ],
            [
             0.1,
             "#c51b7d"
            ],
            [
             0.2,
             "#de77ae"
            ],
            [
             0.3,
             "#f1b6da"
            ],
            [
             0.4,
             "#fde0ef"
            ],
            [
             0.5,
             "#f7f7f7"
            ],
            [
             0.6,
             "#e6f5d0"
            ],
            [
             0.7,
             "#b8e186"
            ],
            [
             0.8,
             "#7fbc41"
            ],
            [
             0.9,
             "#4d9221"
            ],
            [
             1,
             "#276419"
            ]
           ],
           "sequential": [
            [
             0,
             "#0d0887"
            ],
            [
             0.1111111111111111,
             "#46039f"
            ],
            [
             0.2222222222222222,
             "#7201a8"
            ],
            [
             0.3333333333333333,
             "#9c179e"
            ],
            [
             0.4444444444444444,
             "#bd3786"
            ],
            [
             0.5555555555555556,
             "#d8576b"
            ],
            [
             0.6666666666666666,
             "#ed7953"
            ],
            [
             0.7777777777777778,
             "#fb9f3a"
            ],
            [
             0.8888888888888888,
             "#fdca26"
            ],
            [
             1,
             "#f0f921"
            ]
           ],
           "sequentialminus": [
            [
             0,
             "#0d0887"
            ],
            [
             0.1111111111111111,
             "#46039f"
            ],
            [
             0.2222222222222222,
             "#7201a8"
            ],
            [
             0.3333333333333333,
             "#9c179e"
            ],
            [
             0.4444444444444444,
             "#bd3786"
            ],
            [
             0.5555555555555556,
             "#d8576b"
            ],
            [
             0.6666666666666666,
             "#ed7953"
            ],
            [
             0.7777777777777778,
             "#fb9f3a"
            ],
            [
             0.8888888888888888,
             "#fdca26"
            ],
            [
             1,
             "#f0f921"
            ]
           ]
          },
          "colorway": [
           "#636efa",
           "#EF553B",
           "#00cc96",
           "#ab63fa",
           "#FFA15A",
           "#19d3f3",
           "#FF6692",
           "#B6E880",
           "#FF97FF",
           "#FECB52"
          ],
          "font": {
           "color": "#2a3f5f"
          },
          "geo": {
           "bgcolor": "white",
           "lakecolor": "white",
           "landcolor": "#E5ECF6",
           "showlakes": true,
           "showland": true,
           "subunitcolor": "white"
          },
          "hoverlabel": {
           "align": "left"
          },
          "hovermode": "closest",
          "mapbox": {
           "style": "light"
          },
          "paper_bgcolor": "white",
          "plot_bgcolor": "#E5ECF6",
          "polar": {
           "angularaxis": {
            "gridcolor": "white",
            "linecolor": "white",
            "ticks": ""
           },
           "bgcolor": "#E5ECF6",
           "radialaxis": {
            "gridcolor": "white",
            "linecolor": "white",
            "ticks": ""
           }
          },
          "scene": {
           "xaxis": {
            "backgroundcolor": "#E5ECF6",
            "gridcolor": "white",
            "gridwidth": 2,
            "linecolor": "white",
            "showbackground": true,
            "ticks": "",
            "zerolinecolor": "white"
           },
           "yaxis": {
            "backgroundcolor": "#E5ECF6",
            "gridcolor": "white",
            "gridwidth": 2,
            "linecolor": "white",
            "showbackground": true,
            "ticks": "",
            "zerolinecolor": "white"
           },
           "zaxis": {
            "backgroundcolor": "#E5ECF6",
            "gridcolor": "white",
            "gridwidth": 2,
            "linecolor": "white",
            "showbackground": true,
            "ticks": "",
            "zerolinecolor": "white"
           }
          },
          "shapedefaults": {
           "line": {
            "color": "#2a3f5f"
           }
          },
          "ternary": {
           "aaxis": {
            "gridcolor": "white",
            "linecolor": "white",
            "ticks": ""
           },
           "baxis": {
            "gridcolor": "white",
            "linecolor": "white",
            "ticks": ""
           },
           "bgcolor": "#E5ECF6",
           "caxis": {
            "gridcolor": "white",
            "linecolor": "white",
            "ticks": ""
           }
          },
          "title": {
           "x": 0.05
          },
          "xaxis": {
           "automargin": true,
           "gridcolor": "white",
           "linecolor": "white",
           "ticks": "",
           "title": {
            "standoff": 15
           },
           "zerolinecolor": "white",
           "zerolinewidth": 2
          },
          "yaxis": {
           "automargin": true,
           "gridcolor": "white",
           "linecolor": "white",
           "ticks": "",
           "title": {
            "standoff": 15
           },
           "zerolinecolor": "white",
           "zerolinewidth": 2
          }
         }
        },
        "xaxis": {
         "title": {
          "text": "X(metres)"
         }
        },
        "yaxis": {
         "title": {
          "text": "Y(metres)"
         }
        }
       }
      }
     },
     "metadata": {},
     "output_type": "display_data"
    }
   ],
   "source": [
    "camera_ = copy.deepcopy(camera_x10)\n",
    "dataset_spec_ = copy.deepcopy(dataset_spec)\n",
    "\n",
    "dataset_spec_.overlap = 0.5#overlap and side lap values always remain bw 0-1\n",
    "\n",
    "print(camera_, dataset_spec_)\n",
    "\n",
    "fig = plot_photo_plan(generate_photo_plan_on_grid(camera_, dataset_spec_))\n",
    "fig.show()"
   ]
  },
  {
   "cell_type": "markdown",
   "id": "3709e112",
   "metadata": {},
   "source": [
    "![flight trajectory showing waypoints](images/newplot3.png)"
   ]
  },
  {
   "cell_type": "code",
   "execution_count": 73,
   "id": "070cc371",
   "metadata": {},
   "outputs": [
    {
     "name": "stdout",
     "output_type": "stream",
     "text": [
      "Camera(fx=4938.56, fy=4936.49, cx=4095.5, cy=3071.5, sensor_size_x_mm=13.107, sensor_size_y_mm=9.83, image_size_x=8192, image_size_y=6144) DatasetSpec(overlap=0.7, sidelap=0.4, height=30.48, scan_dimension_x=150,scan_dimension_y=150,exposure_time_ms=2,camera_angle=0 \n"
     ]
    },
    {
     "data": {
      "application/vnd.plotly.v1+json": {
       "config": {
        "plotlyServerURL": "https://plot.ly"
       },
       "data": [
        {
         "mode": "lines+markers",
         "type": "scatter",
         "x": [
          0,
          15.167914390563965,
          30.33582878112793,
          45.50374221801758,
          60.67165756225586,
          75.83956909179688,
          91.00748443603516,
          106.17539978027344,
          121.34331512451172,
          136.51123046875,
          136.51123046875,
          121.34331512451172,
          106.17539978027344,
          91.00748443603516,
          75.83956909179688,
          60.67165756225586,
          45.50374221801758,
          30.33582878112793,
          15.167914390563965,
          0,
          0,
          15.167914390563965,
          30.33582878112793,
          45.50374221801758,
          60.67165756225586,
          75.83956909179688,
          91.00748443603516,
          106.17539978027344,
          121.34331512451172,
          136.51123046875,
          136.51123046875,
          121.34331512451172,
          106.17539978027344,
          91.00748443603516,
          75.83956909179688,
          60.67165756225586,
          45.50374221801758,
          30.33582878112793,
          15.167914390563965,
          0,
          0,
          15.167914390563965,
          30.33582878112793,
          45.50374221801758,
          60.67165756225586,
          75.83956909179688,
          91.00748443603516,
          106.17539978027344,
          121.34331512451172,
          136.51123046875,
          136.51123046875,
          121.34331512451172,
          106.17539978027344,
          91.00748443603516,
          75.83956909179688,
          60.67165756225586,
          45.50374221801758,
          30.33582878112793,
          15.167914390563965,
          0,
          0,
          15.167914390563965,
          30.33582878112793,
          45.50374221801758,
          60.67165756225586,
          75.83956909179688,
          91.00748443603516,
          106.17539978027344,
          121.34331512451172,
          136.51123046875
         ],
         "y": [
          0,
          0,
          0,
          0,
          0,
          0,
          0,
          0,
          0,
          0,
          22.761411666870117,
          22.761411666870117,
          22.761411666870117,
          22.761411666870117,
          22.761411666870117,
          22.761411666870117,
          22.761411666870117,
          22.761411666870117,
          22.761411666870117,
          22.761411666870117,
          45.522823333740234,
          45.522823333740234,
          45.522823333740234,
          45.522823333740234,
          45.522823333740234,
          45.522823333740234,
          45.522823333740234,
          45.522823333740234,
          45.522823333740234,
          45.522823333740234,
          68.28423309326172,
          68.28423309326172,
          68.28423309326172,
          68.28423309326172,
          68.28423309326172,
          68.28423309326172,
          68.28423309326172,
          68.28423309326172,
          68.28423309326172,
          68.28423309326172,
          91.04564666748047,
          91.04564666748047,
          91.04564666748047,
          91.04564666748047,
          91.04564666748047,
          91.04564666748047,
          91.04564666748047,
          91.04564666748047,
          91.04564666748047,
          91.04564666748047,
          113.80706024169922,
          113.80706024169922,
          113.80706024169922,
          113.80706024169922,
          113.80706024169922,
          113.80706024169922,
          113.80706024169922,
          113.80706024169922,
          113.80706024169922,
          113.80706024169922,
          136.56846618652344,
          136.56846618652344,
          136.56846618652344,
          136.56846618652344,
          136.56846618652344,
          136.56846618652344,
          136.56846618652344,
          136.56846618652344,
          136.56846618652344,
          136.56846618652344
         ]
        }
       ],
       "layout": {
        "template": {
         "data": {
          "bar": [
           {
            "error_x": {
             "color": "#2a3f5f"
            },
            "error_y": {
             "color": "#2a3f5f"
            },
            "marker": {
             "line": {
              "color": "#E5ECF6",
              "width": 0.5
             },
             "pattern": {
              "fillmode": "overlay",
              "size": 10,
              "solidity": 0.2
             }
            },
            "type": "bar"
           }
          ],
          "barpolar": [
           {
            "marker": {
             "line": {
              "color": "#E5ECF6",
              "width": 0.5
             },
             "pattern": {
              "fillmode": "overlay",
              "size": 10,
              "solidity": 0.2
             }
            },
            "type": "barpolar"
           }
          ],
          "carpet": [
           {
            "aaxis": {
             "endlinecolor": "#2a3f5f",
             "gridcolor": "white",
             "linecolor": "white",
             "minorgridcolor": "white",
             "startlinecolor": "#2a3f5f"
            },
            "baxis": {
             "endlinecolor": "#2a3f5f",
             "gridcolor": "white",
             "linecolor": "white",
             "minorgridcolor": "white",
             "startlinecolor": "#2a3f5f"
            },
            "type": "carpet"
           }
          ],
          "choropleth": [
           {
            "colorbar": {
             "outlinewidth": 0,
             "ticks": ""
            },
            "type": "choropleth"
           }
          ],
          "contour": [
           {
            "colorbar": {
             "outlinewidth": 0,
             "ticks": ""
            },
            "colorscale": [
             [
              0,
              "#0d0887"
             ],
             [
              0.1111111111111111,
              "#46039f"
             ],
             [
              0.2222222222222222,
              "#7201a8"
             ],
             [
              0.3333333333333333,
              "#9c179e"
             ],
             [
              0.4444444444444444,
              "#bd3786"
             ],
             [
              0.5555555555555556,
              "#d8576b"
             ],
             [
              0.6666666666666666,
              "#ed7953"
             ],
             [
              0.7777777777777778,
              "#fb9f3a"
             ],
             [
              0.8888888888888888,
              "#fdca26"
             ],
             [
              1,
              "#f0f921"
             ]
            ],
            "type": "contour"
           }
          ],
          "contourcarpet": [
           {
            "colorbar": {
             "outlinewidth": 0,
             "ticks": ""
            },
            "type": "contourcarpet"
           }
          ],
          "heatmap": [
           {
            "colorbar": {
             "outlinewidth": 0,
             "ticks": ""
            },
            "colorscale": [
             [
              0,
              "#0d0887"
             ],
             [
              0.1111111111111111,
              "#46039f"
             ],
             [
              0.2222222222222222,
              "#7201a8"
             ],
             [
              0.3333333333333333,
              "#9c179e"
             ],
             [
              0.4444444444444444,
              "#bd3786"
             ],
             [
              0.5555555555555556,
              "#d8576b"
             ],
             [
              0.6666666666666666,
              "#ed7953"
             ],
             [
              0.7777777777777778,
              "#fb9f3a"
             ],
             [
              0.8888888888888888,
              "#fdca26"
             ],
             [
              1,
              "#f0f921"
             ]
            ],
            "type": "heatmap"
           }
          ],
          "heatmapgl": [
           {
            "colorbar": {
             "outlinewidth": 0,
             "ticks": ""
            },
            "colorscale": [
             [
              0,
              "#0d0887"
             ],
             [
              0.1111111111111111,
              "#46039f"
             ],
             [
              0.2222222222222222,
              "#7201a8"
             ],
             [
              0.3333333333333333,
              "#9c179e"
             ],
             [
              0.4444444444444444,
              "#bd3786"
             ],
             [
              0.5555555555555556,
              "#d8576b"
             ],
             [
              0.6666666666666666,
              "#ed7953"
             ],
             [
              0.7777777777777778,
              "#fb9f3a"
             ],
             [
              0.8888888888888888,
              "#fdca26"
             ],
             [
              1,
              "#f0f921"
             ]
            ],
            "type": "heatmapgl"
           }
          ],
          "histogram": [
           {
            "marker": {
             "pattern": {
              "fillmode": "overlay",
              "size": 10,
              "solidity": 0.2
             }
            },
            "type": "histogram"
           }
          ],
          "histogram2d": [
           {
            "colorbar": {
             "outlinewidth": 0,
             "ticks": ""
            },
            "colorscale": [
             [
              0,
              "#0d0887"
             ],
             [
              0.1111111111111111,
              "#46039f"
             ],
             [
              0.2222222222222222,
              "#7201a8"
             ],
             [
              0.3333333333333333,
              "#9c179e"
             ],
             [
              0.4444444444444444,
              "#bd3786"
             ],
             [
              0.5555555555555556,
              "#d8576b"
             ],
             [
              0.6666666666666666,
              "#ed7953"
             ],
             [
              0.7777777777777778,
              "#fb9f3a"
             ],
             [
              0.8888888888888888,
              "#fdca26"
             ],
             [
              1,
              "#f0f921"
             ]
            ],
            "type": "histogram2d"
           }
          ],
          "histogram2dcontour": [
           {
            "colorbar": {
             "outlinewidth": 0,
             "ticks": ""
            },
            "colorscale": [
             [
              0,
              "#0d0887"
             ],
             [
              0.1111111111111111,
              "#46039f"
             ],
             [
              0.2222222222222222,
              "#7201a8"
             ],
             [
              0.3333333333333333,
              "#9c179e"
             ],
             [
              0.4444444444444444,
              "#bd3786"
             ],
             [
              0.5555555555555556,
              "#d8576b"
             ],
             [
              0.6666666666666666,
              "#ed7953"
             ],
             [
              0.7777777777777778,
              "#fb9f3a"
             ],
             [
              0.8888888888888888,
              "#fdca26"
             ],
             [
              1,
              "#f0f921"
             ]
            ],
            "type": "histogram2dcontour"
           }
          ],
          "mesh3d": [
           {
            "colorbar": {
             "outlinewidth": 0,
             "ticks": ""
            },
            "type": "mesh3d"
           }
          ],
          "parcoords": [
           {
            "line": {
             "colorbar": {
              "outlinewidth": 0,
              "ticks": ""
             }
            },
            "type": "parcoords"
           }
          ],
          "pie": [
           {
            "automargin": true,
            "type": "pie"
           }
          ],
          "scatter": [
           {
            "fillpattern": {
             "fillmode": "overlay",
             "size": 10,
             "solidity": 0.2
            },
            "type": "scatter"
           }
          ],
          "scatter3d": [
           {
            "line": {
             "colorbar": {
              "outlinewidth": 0,
              "ticks": ""
             }
            },
            "marker": {
             "colorbar": {
              "outlinewidth": 0,
              "ticks": ""
             }
            },
            "type": "scatter3d"
           }
          ],
          "scattercarpet": [
           {
            "marker": {
             "colorbar": {
              "outlinewidth": 0,
              "ticks": ""
             }
            },
            "type": "scattercarpet"
           }
          ],
          "scattergeo": [
           {
            "marker": {
             "colorbar": {
              "outlinewidth": 0,
              "ticks": ""
             }
            },
            "type": "scattergeo"
           }
          ],
          "scattergl": [
           {
            "marker": {
             "colorbar": {
              "outlinewidth": 0,
              "ticks": ""
             }
            },
            "type": "scattergl"
           }
          ],
          "scattermapbox": [
           {
            "marker": {
             "colorbar": {
              "outlinewidth": 0,
              "ticks": ""
             }
            },
            "type": "scattermapbox"
           }
          ],
          "scatterpolar": [
           {
            "marker": {
             "colorbar": {
              "outlinewidth": 0,
              "ticks": ""
             }
            },
            "type": "scatterpolar"
           }
          ],
          "scatterpolargl": [
           {
            "marker": {
             "colorbar": {
              "outlinewidth": 0,
              "ticks": ""
             }
            },
            "type": "scatterpolargl"
           }
          ],
          "scatterternary": [
           {
            "marker": {
             "colorbar": {
              "outlinewidth": 0,
              "ticks": ""
             }
            },
            "type": "scatterternary"
           }
          ],
          "surface": [
           {
            "colorbar": {
             "outlinewidth": 0,
             "ticks": ""
            },
            "colorscale": [
             [
              0,
              "#0d0887"
             ],
             [
              0.1111111111111111,
              "#46039f"
             ],
             [
              0.2222222222222222,
              "#7201a8"
             ],
             [
              0.3333333333333333,
              "#9c179e"
             ],
             [
              0.4444444444444444,
              "#bd3786"
             ],
             [
              0.5555555555555556,
              "#d8576b"
             ],
             [
              0.6666666666666666,
              "#ed7953"
             ],
             [
              0.7777777777777778,
              "#fb9f3a"
             ],
             [
              0.8888888888888888,
              "#fdca26"
             ],
             [
              1,
              "#f0f921"
             ]
            ],
            "type": "surface"
           }
          ],
          "table": [
           {
            "cells": {
             "fill": {
              "color": "#EBF0F8"
             },
             "line": {
              "color": "white"
             }
            },
            "header": {
             "fill": {
              "color": "#C8D4E3"
             },
             "line": {
              "color": "white"
             }
            },
            "type": "table"
           }
          ]
         },
         "layout": {
          "annotationdefaults": {
           "arrowcolor": "#2a3f5f",
           "arrowhead": 0,
           "arrowwidth": 1
          },
          "autotypenumbers": "strict",
          "coloraxis": {
           "colorbar": {
            "outlinewidth": 0,
            "ticks": ""
           }
          },
          "colorscale": {
           "diverging": [
            [
             0,
             "#8e0152"
            ],
            [
             0.1,
             "#c51b7d"
            ],
            [
             0.2,
             "#de77ae"
            ],
            [
             0.3,
             "#f1b6da"
            ],
            [
             0.4,
             "#fde0ef"
            ],
            [
             0.5,
             "#f7f7f7"
            ],
            [
             0.6,
             "#e6f5d0"
            ],
            [
             0.7,
             "#b8e186"
            ],
            [
             0.8,
             "#7fbc41"
            ],
            [
             0.9,
             "#4d9221"
            ],
            [
             1,
             "#276419"
            ]
           ],
           "sequential": [
            [
             0,
             "#0d0887"
            ],
            [
             0.1111111111111111,
             "#46039f"
            ],
            [
             0.2222222222222222,
             "#7201a8"
            ],
            [
             0.3333333333333333,
             "#9c179e"
            ],
            [
             0.4444444444444444,
             "#bd3786"
            ],
            [
             0.5555555555555556,
             "#d8576b"
            ],
            [
             0.6666666666666666,
             "#ed7953"
            ],
            [
             0.7777777777777778,
             "#fb9f3a"
            ],
            [
             0.8888888888888888,
             "#fdca26"
            ],
            [
             1,
             "#f0f921"
            ]
           ],
           "sequentialminus": [
            [
             0,
             "#0d0887"
            ],
            [
             0.1111111111111111,
             "#46039f"
            ],
            [
             0.2222222222222222,
             "#7201a8"
            ],
            [
             0.3333333333333333,
             "#9c179e"
            ],
            [
             0.4444444444444444,
             "#bd3786"
            ],
            [
             0.5555555555555556,
             "#d8576b"
            ],
            [
             0.6666666666666666,
             "#ed7953"
            ],
            [
             0.7777777777777778,
             "#fb9f3a"
            ],
            [
             0.8888888888888888,
             "#fdca26"
            ],
            [
             1,
             "#f0f921"
            ]
           ]
          },
          "colorway": [
           "#636efa",
           "#EF553B",
           "#00cc96",
           "#ab63fa",
           "#FFA15A",
           "#19d3f3",
           "#FF6692",
           "#B6E880",
           "#FF97FF",
           "#FECB52"
          ],
          "font": {
           "color": "#2a3f5f"
          },
          "geo": {
           "bgcolor": "white",
           "lakecolor": "white",
           "landcolor": "#E5ECF6",
           "showlakes": true,
           "showland": true,
           "subunitcolor": "white"
          },
          "hoverlabel": {
           "align": "left"
          },
          "hovermode": "closest",
          "mapbox": {
           "style": "light"
          },
          "paper_bgcolor": "white",
          "plot_bgcolor": "#E5ECF6",
          "polar": {
           "angularaxis": {
            "gridcolor": "white",
            "linecolor": "white",
            "ticks": ""
           },
           "bgcolor": "#E5ECF6",
           "radialaxis": {
            "gridcolor": "white",
            "linecolor": "white",
            "ticks": ""
           }
          },
          "scene": {
           "xaxis": {
            "backgroundcolor": "#E5ECF6",
            "gridcolor": "white",
            "gridwidth": 2,
            "linecolor": "white",
            "showbackground": true,
            "ticks": "",
            "zerolinecolor": "white"
           },
           "yaxis": {
            "backgroundcolor": "#E5ECF6",
            "gridcolor": "white",
            "gridwidth": 2,
            "linecolor": "white",
            "showbackground": true,
            "ticks": "",
            "zerolinecolor": "white"
           },
           "zaxis": {
            "backgroundcolor": "#E5ECF6",
            "gridcolor": "white",
            "gridwidth": 2,
            "linecolor": "white",
            "showbackground": true,
            "ticks": "",
            "zerolinecolor": "white"
           }
          },
          "shapedefaults": {
           "line": {
            "color": "#2a3f5f"
           }
          },
          "ternary": {
           "aaxis": {
            "gridcolor": "white",
            "linecolor": "white",
            "ticks": ""
           },
           "baxis": {
            "gridcolor": "white",
            "linecolor": "white",
            "ticks": ""
           },
           "bgcolor": "#E5ECF6",
           "caxis": {
            "gridcolor": "white",
            "linecolor": "white",
            "ticks": ""
           }
          },
          "title": {
           "x": 0.05
          },
          "xaxis": {
           "automargin": true,
           "gridcolor": "white",
           "linecolor": "white",
           "ticks": "",
           "title": {
            "standoff": 15
           },
           "zerolinecolor": "white",
           "zerolinewidth": 2
          },
          "yaxis": {
           "automargin": true,
           "gridcolor": "white",
           "linecolor": "white",
           "ticks": "",
           "title": {
            "standoff": 15
           },
           "zerolinecolor": "white",
           "zerolinewidth": 2
          }
         }
        },
        "xaxis": {
         "title": {
          "text": "X(metres)"
         }
        },
        "yaxis": {
         "title": {
          "text": "Y(metres)"
         }
        }
       }
      }
     },
     "metadata": {},
     "output_type": "display_data"
    }
   ],
   "source": [
    "camera_ = copy.deepcopy(camera_x10)\n",
    "dataset_spec_ = copy.deepcopy(dataset_spec)\n",
    "\n",
    "dataset_spec_.sidelap = 0.4\n",
    "\n",
    "print(camera_, dataset_spec_)\n",
    "\n",
    "fig = plot_photo_plan(generate_photo_plan_on_grid(camera_, dataset_spec_))\n",
    "fig.show()"
   ]
  },
  {
   "cell_type": "markdown",
   "id": "2a61feff",
   "metadata": {},
   "source": [
    "![flight trajectory showing waypoints](images/newplot4.png)"
   ]
  },
  {
   "cell_type": "code",
   "execution_count": 75,
   "id": "7d389f29",
   "metadata": {},
   "outputs": [
    {
     "name": "stdout",
     "output_type": "stream",
     "text": [
      "Camera(fx=4938.56, fy=4936.49, cx=4095.5, cy=3071.5, sensor_size_x_mm=13.107, sensor_size_y_mm=9.83, image_size_x=8192, image_size_y=6144) DatasetSpec(overlap=0.7, sidelap=0.7, height=55, scan_dimension_x=150,scan_dimension_y=150,exposure_time_ms=2,camera_angle=0 \n"
     ]
    },
    {
     "data": {
      "application/vnd.plotly.v1+json": {
       "config": {
        "plotlyServerURL": "https://plot.ly"
       },
       "data": [
        {
         "mode": "lines+markers",
         "type": "scatter",
         "x": [
          0,
          27.369922637939453,
          54.739845275878906,
          82.10977172851562,
          109.47969055175781,
          136.849609375,
          136.849609375,
          109.47969055175781,
          82.10977172851562,
          54.739845275878906,
          27.369922637939453,
          0,
          0,
          27.369922637939453,
          54.739845275878906,
          82.10977172851562,
          109.47969055175781,
          136.849609375,
          136.849609375,
          109.47969055175781,
          82.10977172851562,
          54.739845275878906,
          27.369922637939453,
          0,
          0,
          27.369922637939453,
          54.739845275878906,
          82.10977172851562,
          109.47969055175781,
          136.849609375,
          136.849609375,
          109.47969055175781,
          82.10977172851562,
          54.739845275878906,
          27.369922637939453,
          0,
          0,
          27.369922637939453,
          54.739845275878906,
          82.10977172851562,
          109.47969055175781,
          136.849609375,
          136.849609375,
          109.47969055175781,
          82.10977172851562,
          54.739845275878906,
          27.369922637939453,
          0
         ],
         "y": [
          0,
          0,
          0,
          0,
          0,
          0,
          20.53605079650879,
          20.53605079650879,
          20.53605079650879,
          20.53605079650879,
          20.53605079650879,
          20.53605079650879,
          41.07210159301758,
          41.07210159301758,
          41.07210159301758,
          41.07210159301758,
          41.07210159301758,
          41.07210159301758,
          61.608154296875,
          61.608154296875,
          61.608154296875,
          61.608154296875,
          61.608154296875,
          61.608154296875,
          82.14420318603516,
          82.14420318603516,
          82.14420318603516,
          82.14420318603516,
          82.14420318603516,
          82.14420318603516,
          102.68025207519531,
          102.68025207519531,
          102.68025207519531,
          102.68025207519531,
          102.68025207519531,
          102.68025207519531,
          123.21630859375,
          123.21630859375,
          123.21630859375,
          123.21630859375,
          123.21630859375,
          123.21630859375,
          143.75234985351562,
          143.75234985351562,
          143.75234985351562,
          143.75234985351562,
          143.75234985351562,
          143.75234985351562
         ]
        }
       ],
       "layout": {
        "template": {
         "data": {
          "bar": [
           {
            "error_x": {
             "color": "#2a3f5f"
            },
            "error_y": {
             "color": "#2a3f5f"
            },
            "marker": {
             "line": {
              "color": "#E5ECF6",
              "width": 0.5
             },
             "pattern": {
              "fillmode": "overlay",
              "size": 10,
              "solidity": 0.2
             }
            },
            "type": "bar"
           }
          ],
          "barpolar": [
           {
            "marker": {
             "line": {
              "color": "#E5ECF6",
              "width": 0.5
             },
             "pattern": {
              "fillmode": "overlay",
              "size": 10,
              "solidity": 0.2
             }
            },
            "type": "barpolar"
           }
          ],
          "carpet": [
           {
            "aaxis": {
             "endlinecolor": "#2a3f5f",
             "gridcolor": "white",
             "linecolor": "white",
             "minorgridcolor": "white",
             "startlinecolor": "#2a3f5f"
            },
            "baxis": {
             "endlinecolor": "#2a3f5f",
             "gridcolor": "white",
             "linecolor": "white",
             "minorgridcolor": "white",
             "startlinecolor": "#2a3f5f"
            },
            "type": "carpet"
           }
          ],
          "choropleth": [
           {
            "colorbar": {
             "outlinewidth": 0,
             "ticks": ""
            },
            "type": "choropleth"
           }
          ],
          "contour": [
           {
            "colorbar": {
             "outlinewidth": 0,
             "ticks": ""
            },
            "colorscale": [
             [
              0,
              "#0d0887"
             ],
             [
              0.1111111111111111,
              "#46039f"
             ],
             [
              0.2222222222222222,
              "#7201a8"
             ],
             [
              0.3333333333333333,
              "#9c179e"
             ],
             [
              0.4444444444444444,
              "#bd3786"
             ],
             [
              0.5555555555555556,
              "#d8576b"
             ],
             [
              0.6666666666666666,
              "#ed7953"
             ],
             [
              0.7777777777777778,
              "#fb9f3a"
             ],
             [
              0.8888888888888888,
              "#fdca26"
             ],
             [
              1,
              "#f0f921"
             ]
            ],
            "type": "contour"
           }
          ],
          "contourcarpet": [
           {
            "colorbar": {
             "outlinewidth": 0,
             "ticks": ""
            },
            "type": "contourcarpet"
           }
          ],
          "heatmap": [
           {
            "colorbar": {
             "outlinewidth": 0,
             "ticks": ""
            },
            "colorscale": [
             [
              0,
              "#0d0887"
             ],
             [
              0.1111111111111111,
              "#46039f"
             ],
             [
              0.2222222222222222,
              "#7201a8"
             ],
             [
              0.3333333333333333,
              "#9c179e"
             ],
             [
              0.4444444444444444,
              "#bd3786"
             ],
             [
              0.5555555555555556,
              "#d8576b"
             ],
             [
              0.6666666666666666,
              "#ed7953"
             ],
             [
              0.7777777777777778,
              "#fb9f3a"
             ],
             [
              0.8888888888888888,
              "#fdca26"
             ],
             [
              1,
              "#f0f921"
             ]
            ],
            "type": "heatmap"
           }
          ],
          "heatmapgl": [
           {
            "colorbar": {
             "outlinewidth": 0,
             "ticks": ""
            },
            "colorscale": [
             [
              0,
              "#0d0887"
             ],
             [
              0.1111111111111111,
              "#46039f"
             ],
             [
              0.2222222222222222,
              "#7201a8"
             ],
             [
              0.3333333333333333,
              "#9c179e"
             ],
             [
              0.4444444444444444,
              "#bd3786"
             ],
             [
              0.5555555555555556,
              "#d8576b"
             ],
             [
              0.6666666666666666,
              "#ed7953"
             ],
             [
              0.7777777777777778,
              "#fb9f3a"
             ],
             [
              0.8888888888888888,
              "#fdca26"
             ],
             [
              1,
              "#f0f921"
             ]
            ],
            "type": "heatmapgl"
           }
          ],
          "histogram": [
           {
            "marker": {
             "pattern": {
              "fillmode": "overlay",
              "size": 10,
              "solidity": 0.2
             }
            },
            "type": "histogram"
           }
          ],
          "histogram2d": [
           {
            "colorbar": {
             "outlinewidth": 0,
             "ticks": ""
            },
            "colorscale": [
             [
              0,
              "#0d0887"
             ],
             [
              0.1111111111111111,
              "#46039f"
             ],
             [
              0.2222222222222222,
              "#7201a8"
             ],
             [
              0.3333333333333333,
              "#9c179e"
             ],
             [
              0.4444444444444444,
              "#bd3786"
             ],
             [
              0.5555555555555556,
              "#d8576b"
             ],
             [
              0.6666666666666666,
              "#ed7953"
             ],
             [
              0.7777777777777778,
              "#fb9f3a"
             ],
             [
              0.8888888888888888,
              "#fdca26"
             ],
             [
              1,
              "#f0f921"
             ]
            ],
            "type": "histogram2d"
           }
          ],
          "histogram2dcontour": [
           {
            "colorbar": {
             "outlinewidth": 0,
             "ticks": ""
            },
            "colorscale": [
             [
              0,
              "#0d0887"
             ],
             [
              0.1111111111111111,
              "#46039f"
             ],
             [
              0.2222222222222222,
              "#7201a8"
             ],
             [
              0.3333333333333333,
              "#9c179e"
             ],
             [
              0.4444444444444444,
              "#bd3786"
             ],
             [
              0.5555555555555556,
              "#d8576b"
             ],
             [
              0.6666666666666666,
              "#ed7953"
             ],
             [
              0.7777777777777778,
              "#fb9f3a"
             ],
             [
              0.8888888888888888,
              "#fdca26"
             ],
             [
              1,
              "#f0f921"
             ]
            ],
            "type": "histogram2dcontour"
           }
          ],
          "mesh3d": [
           {
            "colorbar": {
             "outlinewidth": 0,
             "ticks": ""
            },
            "type": "mesh3d"
           }
          ],
          "parcoords": [
           {
            "line": {
             "colorbar": {
              "outlinewidth": 0,
              "ticks": ""
             }
            },
            "type": "parcoords"
           }
          ],
          "pie": [
           {
            "automargin": true,
            "type": "pie"
           }
          ],
          "scatter": [
           {
            "fillpattern": {
             "fillmode": "overlay",
             "size": 10,
             "solidity": 0.2
            },
            "type": "scatter"
           }
          ],
          "scatter3d": [
           {
            "line": {
             "colorbar": {
              "outlinewidth": 0,
              "ticks": ""
             }
            },
            "marker": {
             "colorbar": {
              "outlinewidth": 0,
              "ticks": ""
             }
            },
            "type": "scatter3d"
           }
          ],
          "scattercarpet": [
           {
            "marker": {
             "colorbar": {
              "outlinewidth": 0,
              "ticks": ""
             }
            },
            "type": "scattercarpet"
           }
          ],
          "scattergeo": [
           {
            "marker": {
             "colorbar": {
              "outlinewidth": 0,
              "ticks": ""
             }
            },
            "type": "scattergeo"
           }
          ],
          "scattergl": [
           {
            "marker": {
             "colorbar": {
              "outlinewidth": 0,
              "ticks": ""
             }
            },
            "type": "scattergl"
           }
          ],
          "scattermapbox": [
           {
            "marker": {
             "colorbar": {
              "outlinewidth": 0,
              "ticks": ""
             }
            },
            "type": "scattermapbox"
           }
          ],
          "scatterpolar": [
           {
            "marker": {
             "colorbar": {
              "outlinewidth": 0,
              "ticks": ""
             }
            },
            "type": "scatterpolar"
           }
          ],
          "scatterpolargl": [
           {
            "marker": {
             "colorbar": {
              "outlinewidth": 0,
              "ticks": ""
             }
            },
            "type": "scatterpolargl"
           }
          ],
          "scatterternary": [
           {
            "marker": {
             "colorbar": {
              "outlinewidth": 0,
              "ticks": ""
             }
            },
            "type": "scatterternary"
           }
          ],
          "surface": [
           {
            "colorbar": {
             "outlinewidth": 0,
             "ticks": ""
            },
            "colorscale": [
             [
              0,
              "#0d0887"
             ],
             [
              0.1111111111111111,
              "#46039f"
             ],
             [
              0.2222222222222222,
              "#7201a8"
             ],
             [
              0.3333333333333333,
              "#9c179e"
             ],
             [
              0.4444444444444444,
              "#bd3786"
             ],
             [
              0.5555555555555556,
              "#d8576b"
             ],
             [
              0.6666666666666666,
              "#ed7953"
             ],
             [
              0.7777777777777778,
              "#fb9f3a"
             ],
             [
              0.8888888888888888,
              "#fdca26"
             ],
             [
              1,
              "#f0f921"
             ]
            ],
            "type": "surface"
           }
          ],
          "table": [
           {
            "cells": {
             "fill": {
              "color": "#EBF0F8"
             },
             "line": {
              "color": "white"
             }
            },
            "header": {
             "fill": {
              "color": "#C8D4E3"
             },
             "line": {
              "color": "white"
             }
            },
            "type": "table"
           }
          ]
         },
         "layout": {
          "annotationdefaults": {
           "arrowcolor": "#2a3f5f",
           "arrowhead": 0,
           "arrowwidth": 1
          },
          "autotypenumbers": "strict",
          "coloraxis": {
           "colorbar": {
            "outlinewidth": 0,
            "ticks": ""
           }
          },
          "colorscale": {
           "diverging": [
            [
             0,
             "#8e0152"
            ],
            [
             0.1,
             "#c51b7d"
            ],
            [
             0.2,
             "#de77ae"
            ],
            [
             0.3,
             "#f1b6da"
            ],
            [
             0.4,
             "#fde0ef"
            ],
            [
             0.5,
             "#f7f7f7"
            ],
            [
             0.6,
             "#e6f5d0"
            ],
            [
             0.7,
             "#b8e186"
            ],
            [
             0.8,
             "#7fbc41"
            ],
            [
             0.9,
             "#4d9221"
            ],
            [
             1,
             "#276419"
            ]
           ],
           "sequential": [
            [
             0,
             "#0d0887"
            ],
            [
             0.1111111111111111,
             "#46039f"
            ],
            [
             0.2222222222222222,
             "#7201a8"
            ],
            [
             0.3333333333333333,
             "#9c179e"
            ],
            [
             0.4444444444444444,
             "#bd3786"
            ],
            [
             0.5555555555555556,
             "#d8576b"
            ],
            [
             0.6666666666666666,
             "#ed7953"
            ],
            [
             0.7777777777777778,
             "#fb9f3a"
            ],
            [
             0.8888888888888888,
             "#fdca26"
            ],
            [
             1,
             "#f0f921"
            ]
           ],
           "sequentialminus": [
            [
             0,
             "#0d0887"
            ],
            [
             0.1111111111111111,
             "#46039f"
            ],
            [
             0.2222222222222222,
             "#7201a8"
            ],
            [
             0.3333333333333333,
             "#9c179e"
            ],
            [
             0.4444444444444444,
             "#bd3786"
            ],
            [
             0.5555555555555556,
             "#d8576b"
            ],
            [
             0.6666666666666666,
             "#ed7953"
            ],
            [
             0.7777777777777778,
             "#fb9f3a"
            ],
            [
             0.8888888888888888,
             "#fdca26"
            ],
            [
             1,
             "#f0f921"
            ]
           ]
          },
          "colorway": [
           "#636efa",
           "#EF553B",
           "#00cc96",
           "#ab63fa",
           "#FFA15A",
           "#19d3f3",
           "#FF6692",
           "#B6E880",
           "#FF97FF",
           "#FECB52"
          ],
          "font": {
           "color": "#2a3f5f"
          },
          "geo": {
           "bgcolor": "white",
           "lakecolor": "white",
           "landcolor": "#E5ECF6",
           "showlakes": true,
           "showland": true,
           "subunitcolor": "white"
          },
          "hoverlabel": {
           "align": "left"
          },
          "hovermode": "closest",
          "mapbox": {
           "style": "light"
          },
          "paper_bgcolor": "white",
          "plot_bgcolor": "#E5ECF6",
          "polar": {
           "angularaxis": {
            "gridcolor": "white",
            "linecolor": "white",
            "ticks": ""
           },
           "bgcolor": "#E5ECF6",
           "radialaxis": {
            "gridcolor": "white",
            "linecolor": "white",
            "ticks": ""
           }
          },
          "scene": {
           "xaxis": {
            "backgroundcolor": "#E5ECF6",
            "gridcolor": "white",
            "gridwidth": 2,
            "linecolor": "white",
            "showbackground": true,
            "ticks": "",
            "zerolinecolor": "white"
           },
           "yaxis": {
            "backgroundcolor": "#E5ECF6",
            "gridcolor": "white",
            "gridwidth": 2,
            "linecolor": "white",
            "showbackground": true,
            "ticks": "",
            "zerolinecolor": "white"
           },
           "zaxis": {
            "backgroundcolor": "#E5ECF6",
            "gridcolor": "white",
            "gridwidth": 2,
            "linecolor": "white",
            "showbackground": true,
            "ticks": "",
            "zerolinecolor": "white"
           }
          },
          "shapedefaults": {
           "line": {
            "color": "#2a3f5f"
           }
          },
          "ternary": {
           "aaxis": {
            "gridcolor": "white",
            "linecolor": "white",
            "ticks": ""
           },
           "baxis": {
            "gridcolor": "white",
            "linecolor": "white",
            "ticks": ""
           },
           "bgcolor": "#E5ECF6",
           "caxis": {
            "gridcolor": "white",
            "linecolor": "white",
            "ticks": ""
           }
          },
          "title": {
           "x": 0.05
          },
          "xaxis": {
           "automargin": true,
           "gridcolor": "white",
           "linecolor": "white",
           "ticks": "",
           "title": {
            "standoff": 15
           },
           "zerolinecolor": "white",
           "zerolinewidth": 2
          },
          "yaxis": {
           "automargin": true,
           "gridcolor": "white",
           "linecolor": "white",
           "ticks": "",
           "title": {
            "standoff": 15
           },
           "zerolinecolor": "white",
           "zerolinewidth": 2
          }
         }
        },
        "xaxis": {
         "title": {
          "text": "X(metres)"
         }
        },
        "yaxis": {
         "title": {
          "text": "Y(metres)"
         }
        }
       }
      }
     },
     "metadata": {},
     "output_type": "display_data"
    }
   ],
   "source": [
    "camera_ = copy.deepcopy(camera_x10)\n",
    "dataset_spec_ = copy.deepcopy(dataset_spec)\n",
    "\n",
    "dataset_spec_.height = 55\n",
    "\n",
    "print(camera_, dataset_spec_)\n",
    "\n",
    "fig = plot_photo_plan(generate_photo_plan_on_grid(camera_, dataset_spec_))\n",
    "fig.show()"
   ]
  },
  {
   "cell_type": "markdown",
   "id": "1c749f03",
   "metadata": {},
   "source": [
    "![flight trajectory showing waypoints](images/newplot5.png)"
   ]
  }
 ],
 "metadata": {
  "kernelspec": {
   "display_name": ".venv",
   "language": "python",
   "name": "python3"
  },
  "language_info": {
   "codemirror_mode": {
    "name": "ipython",
    "version": 3
   },
   "file_extension": ".py",
   "mimetype": "text/x-python",
   "name": "python",
   "nbconvert_exporter": "python",
   "pygments_lexer": "ipython3",
   "version": "3.12.2"
  }
 },
 "nbformat": 4,
 "nbformat_minor": 5
}
